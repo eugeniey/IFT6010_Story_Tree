{
  "cells": [
    {
      "cell_type": "code",
      "metadata": {
        "tags": [],
        "cell_id": "00000-afa4d8b2-a999-4974-98db-2a74f13f0f0d",
        "deepnote_to_be_reexecuted": false,
        "source_hash": "3a070eb0",
        "execution_millis": 1,
        "execution_start": 1615518186774,
        "deepnote_cell_type": "code"
      },
      "source": "import xml.etree.ElementTree as ET\nimport pandas as pd \nimport os\nimport json",
      "execution_count": null,
      "outputs": []
    },
    {
      "cell_type": "markdown",
      "source": "# For DSK",
      "metadata": {
        "tags": [],
        "cell_id": "00001-c594252c-a0e3-4754-9052-236f1395fd4d",
        "deepnote_cell_type": "markdown"
      }
    },
    {
      "cell_type": "code",
      "metadata": {
        "tags": [],
        "cell_id": "00003-bfed68d3-a054-468a-83ad-80eb2bb8de2c",
        "deepnote_to_be_reexecuted": false,
        "source_hash": "6f9cfd75",
        "execution_millis": 1814,
        "execution_start": 1615462271893,
        "deepnote_cell_type": "code"
      },
      "source": "tree = ET.parse('nysk.xml')\nroot = tree.getroot()\n\nall_data=[]\n\nfor child in root.iter('document'):\n    all_data.append([child.find('title').text, child.find('summary').text, child.find('text').text, child.find('date').text])\n\ndf = pd.DataFrame(all_data, columns = ['title', 'summary','text','date']) \n\ndf.to_csv('dsk_articles.csv')\n    ",
      "execution_count": null,
      "outputs": []
    },
    {
      "cell_type": "markdown",
      "source": "# For Keyword Dataset",
      "metadata": {
        "tags": [],
        "cell_id": "00003-8b457b26-9f90-408b-af26-4b594f2a117c",
        "deepnote_cell_type": "markdown"
      }
    },
    {
      "cell_type": "code",
      "metadata": {
        "tags": [],
        "cell_id": "00005-dc5421a3-c26e-4ee5-a8c1-589be75faee1",
        "deepnote_to_be_reexecuted": false,
        "source_hash": "6387da1d",
        "execution_millis": 6305,
        "execution_start": 1615519458696,
        "deepnote_cell_type": "code"
      },
      "source": "directory = \"Keyword_testset/data\"\n\nall_articles = []\nfile_names = []\n\nfor filename in os.listdir(directory):\n    tree = ET.parse(directory + \"/\" + filename)\n    root = tree.getroot()\n\n    one_article = \"\"\n\n    for child in root.iter('sentences'):\n        for child_sentence in child:\n            for tokens in child_sentence:\n                for token in tokens:\n                    # tok\n                    one_article = one_article + \" \" + token.find('word').text\n                   \n    file_names.append(filename)\n    all_articles.append(one_article)\n\ndata = {'name': file_names, 'text': all_articles}\n\n#yeah it's working ... GOOD JOB teammate ! \nall_article_pd  = pd.DataFrame(data, columns = ['name', 'text']) ",
      "execution_count": null,
      "outputs": []
    },
    {
      "cell_type": "code",
      "metadata": {
        "tags": [],
        "cell_id": "00005-e4f13080-7c79-40db-9e0c-d208fb9ced12",
        "deepnote_to_be_reexecuted": false,
        "source_hash": null,
        "execution_millis": 5,
        "output_cleared": true,
        "execution_start": 1615519613327,
        "deepnote_cell_type": "code"
      },
      "source": "all_article_pd.info",
      "execution_count": null,
      "outputs": []
    },
    {
      "cell_type": "code",
      "metadata": {
        "tags": [],
        "cell_id": "00006-d0160173-def9-41b6-b53e-917bffc8e2f7",
        "deepnote_to_be_reexecuted": false,
        "source_hash": "5bbe7948",
        "execution_start": 1615519961946,
        "execution_millis": 12,
        "deepnote_cell_type": "code"
      },
      "source": "with open('Keyword_testset/train.reader.json') as json_file:\n    data = json.load(json_file)\n    new_data={}\n    for key, value in data.items() :\n        new_data[key+'.xml']= [item for sublist in value for item in sublist]",
      "execution_count": null,
      "outputs": []
    },
    {
      "cell_type": "code",
      "metadata": {
        "tags": [],
        "cell_id": "00006-6dc4ee67-c7ed-49fc-a2fc-a0614d09e54d",
        "deepnote_to_be_reexecuted": false,
        "source_hash": "dc01c7b1",
        "execution_millis": 2,
        "execution_start": 1615519963680,
        "deepnote_cell_type": "code"
      },
      "source": "all_k=[]\n\nfor i in range(len(all_article_pd)):\n    all_k.append(new_data[all_article_pd.iloc[i]['name']])\n\nall_article_pd['keywords_label']=all_k",
      "execution_count": null,
      "outputs": []
    },
    {
      "cell_type": "code",
      "metadata": {
        "tags": [],
        "cell_id": "00008-82e8c66c-dadd-4704-bffe-cf72af83ad1b",
        "deepnote_to_be_reexecuted": false,
        "source_hash": "63a0a60e",
        "execution_millis": 7,
        "execution_start": 1615519965367,
        "deepnote_cell_type": "code"
      },
      "source": "all_article_pd.info",
      "execution_count": null,
      "outputs": [
        {
          "output_type": "execute_result",
          "execution_count": 114,
          "data": {
            "text/plain": "<bound method DataFrame.info of                              name  \\\n0               tech-20943847.xml   \n1             health-20916374.xml   \n2    art_and_culture-20927904.xml   \n3            fashion-20930058.xml   \n4              crime-20934875.xml   \n..                            ...   \n445             tech-20927294.xml   \n446          fashion-20928729.xml   \n447          science-20902611.xml   \n448          fashion-20921223.xml   \n449          science-20939222.xml   \n\n                                                  text  \\\n0     The week 's top 10 videos on MarketWatch In c...   \n1     Federal court tosses NH man 's health overhau...   \n2     '' `` Mad Men '' '' Creator Says 7 Seasons Wi...   \n3     Donna Karan to release redux line of seven es...   \n4     Judge : Ex-Somali leader in US can be questio...   \n..                                                 ...   \n445   4 Reasons Why ThunderBolt Could Be Outselling...   \n446   How to dress : The return of the calf-length ...   \n447   Air Pollution Affects Troops in Iraq : As Dea...   \n448   Silk shirts prove immune to recession as sale...   \n449   Toxins in baby food might affect hormones : s...   \n\n                                        keywords_label  \n0    [commission, mozilla's firefox, bernard baumoh...  \n1    [recipient, government, health, explain, satis...  \n2    [matteroffactly on, budget and, course, rife, ...  \n3    [featured, layered, hamilton, sophisticated, c...  \n4    [2007, 2004, natasha, fairfax, us, plaintiffs,...  \n..                                                 ...  \n445  [iphones, hotspot, traditional, broadband, upd...  \n446  [sheepishly, makeup, generation, bleat, 165, c...  \n447  [apparently, higher, terrorists, university, b...  \n448  [economic fallout, collection, wearing, repres...  \n449  [metabolites, affect hormones, fungusderived h...  \n\n[450 rows x 3 columns]>"
          },
          "metadata": {}
        }
      ]
    },
    {
      "cell_type": "code",
      "metadata": {
        "tags": [],
        "cell_id": "00006-5186dfac-a412-471a-a96b-f1154b8cda40",
        "deepnote_to_be_reexecuted": false,
        "source_hash": "3c0bd40d",
        "execution_millis": 0,
        "execution_start": 1615519988102,
        "deepnote_cell_type": "code"
      },
      "source": "all_article_pd.to_pickle(\"keyword_dataset.pickle\")",
      "execution_count": null,
      "outputs": []
    },
    {
      "cell_type": "code",
      "metadata": {
        "tags": [],
        "cell_id": "00006-2d494bb9-45f9-4549-a8d4-43868953e552",
        "deepnote_cell_type": "code"
      },
      "source": "",
      "execution_count": null,
      "outputs": []
    },
    {
      "cell_type": "markdown",
      "source": "<a style='text-decoration:none;line-height:16px;display:flex;color:#5B5B62;padding:10px;justify-content:end;' href='https://deepnote.com?utm_source=created-in-deepnote-cell&projectId=902703f2-430f-48f3-ba3f-6c2fee66cf11' target=\"_blank\">\n<img style='display:inline;max-height:16px;margin:0px;margin-right:7.5px;' src='data:image/svg+xml;base64,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' > </img>\nCreated in <span style='font-weight:600;margin-left:4px;'>Deepnote</span></a>",
      "metadata": {
        "tags": [],
        "created_in_deepnote_cell": true,
        "deepnote_cell_type": "markdown"
      }
    }
  ],
  "nbformat": 4,
  "nbformat_minor": 2,
  "metadata": {
    "orig_nbformat": 2,
    "deepnote_notebook_id": "1d358963-5561-4a72-ba31-e3f3fb97fca7",
    "deepnote": {},
    "deepnote_execution_queue": []
  }
}