{
  "cells": [
    {
      "cell_type": "markdown",
      "source": "",
      "metadata": {
        "tags": [],
        "cell_id": "00000-950c9aed-0790-4545-9e6a-410ee3b5928e",
        "deepnote_cell_type": "text-cell-p"
      }
    },
    {
      "cell_type": "markdown",
      "source": "An event has a set of keywords C_e\n\nFor a existing story tree S, there is a set of different C_s that is a union of all the keywords of the events inside\n\nTo know if an event is in that Story, we use compatibility between event E and story tree S with Jaccard similarity between C_s and C_e.\n\nIf we match to no stories, we create a new one\n\nWhen we find a story that match, we apply either: Merge, Extend, Insert\n\nMerge: Merge event in the story tree (merge the event with another event) (we will never have this use this)\nExtend: append the event as a child node\nInsert: appends the event to the root node of story tree\n\nWe extend or insert if there is no overlap of event, we find the parent event node, and measure the 'connection strength' between the new event and all the events in the story tree.  'Connection strength' is defined in page page 14 of paper.",
      "metadata": {
        "tags": [],
        "cell_id": "00001-10c6ed59-d0df-4134-9b30-ec9849d6dbed",
        "deepnote_cell_type": "markdown"
      }
    },
    {
      "cell_type": "code",
      "metadata": {
        "tags": [],
        "cell_id": "00002-e60b3060-c35e-4355-9146-a79e50cab1eb",
        "deepnote_to_be_reexecuted": false,
        "source_hash": "7a207f23",
        "execution_millis": 1,
        "execution_start": 1619376011816,
        "deepnote_cell_type": "code"
      },
      "source": "import pandas as pd\nimport pickle\nimport numpy as np",
      "execution_count": 21,
      "outputs": []
    },
    {
      "cell_type": "code",
      "metadata": {
        "tags": [],
        "cell_id": "00002-fd50c143-a1f4-4736-a1d1-93764d3c576b",
        "deepnote_to_be_reexecuted": false,
        "source_hash": "3ea45476",
        "execution_millis": 55,
        "execution_start": 1619365242228,
        "deepnote_cell_type": "code"
      },
      "source": "news_dataset = pd.read_pickle(\"/work/IFT6010_Story_Tree/data/short_news_dataset_2_with_extractedkeyword.pickle\").drop_duplicates(subset=['TEXT']).drop_duplicates(subset=['TITLE'])",
      "execution_count": 5,
      "outputs": []
    },
    {
      "cell_type": "code",
      "metadata": {
        "tags": [],
        "cell_id": "00003-ddf232aa-12ba-4c9a-8dad-76b175746834",
        "deepnote_to_be_reexecuted": false,
        "source_hash": "70934878",
        "execution_millis": 8,
        "execution_start": 1619365242779,
        "deepnote_cell_type": "code"
      },
      "source": "temp_defaultdict_communities = pickle.load(open(\"extracted_communities.pickle\",'rb'))\ndict_communities = {}\nfor i,v in temp_defaultdict_communities.items():\n    if len(v)==1:\n        dict_communities[i] = v[0]\n\nkeywords_clusters = pd.DataFrame(dict_communities.items())\nkeywords_clusters.columns = ['keyword', 'cluster']",
      "execution_count": 6,
      "outputs": []
    },
    {
      "cell_type": "code",
      "metadata": {
        "tags": [],
        "cell_id": "00006-63c039af-694e-417e-b61e-f8d8920da114",
        "deepnote_to_be_reexecuted": false,
        "source_hash": "7d22376a",
        "execution_millis": 13,
        "execution_start": 1619365244573,
        "deepnote_cell_type": "code"
      },
      "source": "keywords_clusters['cluster'].value_counts()",
      "execution_count": 7,
      "outputs": [
        {
          "output_type": "execute_result",
          "execution_count": 7,
          "data": {
            "text/plain": "0    242\n1    212\n2    153\n3     66\n4     35\n5     15\nName: cluster, dtype: int64"
          },
          "metadata": {}
        }
      ]
    },
    {
      "cell_type": "markdown",
      "source": "# Define the Jaccard similarity",
      "metadata": {
        "tags": [],
        "cell_id": "00007-687b6d81-b382-41e3-a870-463d395e55f4",
        "deepnote_cell_type": "markdown"
      }
    },
    {
      "cell_type": "code",
      "metadata": {
        "tags": [],
        "cell_id": "00008-b96a31af-c686-49a7-91c8-3c4f715a8aa5",
        "deepnote_to_be_reexecuted": false,
        "source_hash": "cf16695c",
        "execution_millis": 1,
        "execution_start": 1619365246988,
        "deepnote_cell_type": "code"
      },
      "source": "def jaccard_similarity(keyword_list_1, keyword_list_2):\n    list1_as_set = set(keyword_list_1)\n    intersection = list1_as_set.intersection(keyword_list_2) \n\n    set_union = set(keyword_list_1 + keyword_list_2)\n\n    return len(intersection) / len(set_union)",
      "execution_count": 8,
      "outputs": []
    },
    {
      "cell_type": "code",
      "metadata": {
        "tags": [],
        "cell_id": "00008-35bc88f9-66cd-4fab-908a-056107ba8819",
        "deepnote_to_be_reexecuted": false,
        "source_hash": "354ec8ea",
        "execution_millis": 53135,
        "execution_start": 1619362874315,
        "deepnote_cell_type": "code"
      },
      "source": "for i in news_dataset.iterrows():\n    for j in news_dataset.iterrows():\n        similarity = jaccard_similarity(i[1][\"extracted_keywords\"], j[1][\"extracted_keywords\"])\n        if  similarity> 0.4 and similarity != 1.0:\n            print(i[1][\"TITLE\"])\n            print(j[1][\"TITLE\"])\n            print(\"---------------\")",
      "execution_count": null,
      "outputs": [
        {
          "name": "stdout",
          "text": "How to help victims of the California wildfires\nHow did Northern California fires become so devastating?\n---------------\nHow to help victims of the California wildfires\nWildfires claim at least 17 lives in Northern California\n---------------\nHow did Northern California fires become so devastating?\nHow to help victims of the California wildfires\n---------------\nHow did Northern California fires become so devastating?\nMore evacuations ordered as deadly wildfires scorch Northern California\n---------------\nHow did Northern California fires become so devastating?\nWildfires claim at least 17 lives in Northern California\n---------------\nAre these the schools of the future?\nThe power of print in a digital world\n---------------\nCryptic phone calls, lip-reading and a thumbs-down\nJohn McCain's maverick moment\n---------------\nThe power of print in a digital world\nAre these the schools of the future?\n---------------\nJohn McCain's maverick moment\nCryptic phone calls, lip-reading and a thumbs-down\n---------------\nMore evacuations ordered as deadly wildfires scorch Northern California\nHow did Northern California fires become so devastating?\n---------------\nRussia 2018: Syria's World Cup hopes ended as Australia come from behind to win\nWorld Cup 2018: Iceland become smallest nation to reach World Cup\n---------------\nConjoined twins separated, both out of surgery\nSeparated twins move to rehab after emotional farewell\n---------------\nSeparated twins move to rehab after emotional farewell\nConjoined twins separated, both out of surgery\n---------------\nWildfires claim at least 17 lives in Northern California\nHow to help victims of the California wildfires\n---------------\nWildfires claim at least 17 lives in Northern California\nHow did Northern California fires become so devastating?\n---------------\nWorld Cup 2018: Iceland become smallest nation to reach World Cup\nRussia 2018: Syria's World Cup hopes ended as Australia come from behind to win\n---------------\n",
          "output_type": "stream"
        }
      ]
    },
    {
      "cell_type": "markdown",
      "source": "# Preprocessing and creating of vector",
      "metadata": {
        "tags": [],
        "cell_id": "00009-e2c00af9-5cde-4b45-b0ba-3178d770ff3d",
        "deepnote_cell_type": "markdown"
      }
    },
    {
      "cell_type": "code",
      "source": "import sys\nsys.path.insert(1, '/work/IFT6010_Story_Tree/src/features/')",
      "metadata": {
        "tags": [],
        "cell_id": "00010-ca491995-0aad-461f-996c-5dd14b19e673",
        "deepnote_cell_type": "code"
      },
      "outputs": [],
      "execution_count": null
    },
    {
      "cell_type": "code",
      "source": "from utils_cosine_tf_idf import latest_tfidf, preprocessing",
      "metadata": {
        "tags": [],
        "cell_id": "00011-1c34db71-8c34-4b75-9fc3-40877db8f2d3",
        "deepnote_cell_type": "code"
      },
      "outputs": [],
      "execution_count": null
    },
    {
      "cell_type": "code",
      "source": "news_dataset['text_and_title'] = news_dataset[['TEXT','TITLE']].apply(lambda x :\" \".join(x), axis=1)\nnews_dataset['preprocessed_text'] = news_dataset['text_and_title'].apply(preprocessing)\n\n\ncorpus = news_dataset['preprocessed_text']\ncorpus = corpus.to_list()\n\nnews_dataset['VECTOR'] = news_dataset['preprocessed_text'].apply(latest_tfidf, allDocs=corpus)",
      "metadata": {
        "tags": [],
        "cell_id": "00011-a5a6cc05-2d7d-43b7-bdd1-edd1dbe30a78",
        "deepnote_cell_type": "code"
      },
      "outputs": [],
      "execution_count": null
    },
    {
      "cell_type": "markdown",
      "source": "# Extend and insert event in story",
      "metadata": {
        "tags": [],
        "cell_id": "00010-cf58bf4e-09ee-46d5-93cb-3ece7b766af4",
        "deepnote_cell_type": "markdown"
      }
    },
    {
      "cell_type": "markdown",
      "source": "Measure connection strength between our event X, and all the events X_s of a story. We look at:\n\n1) The time distance between both events\n\n2) The compatibility of the two events\n\n3) The storyline coherence if we append event X to story tree of X_s\n\nconnection_strength(X,X_s) = compatibility()+coherence()+time_penalty",
      "metadata": {
        "tags": [],
        "cell_id": "00011-cab48f6f-401f-49e2-a4e9-1a9a0c86786b",
        "deepnote_cell_type": "markdown"
      }
    },
    {
      "cell_type": "code",
      "metadata": {
        "tags": [],
        "cell_id": "00013-4a679be5-4a1b-49cd-ab7c-355df0fefe5f",
        "deepnote_to_be_reexecuted": false,
        "source_hash": "aa8f88a9",
        "execution_millis": 1,
        "execution_start": 1619377163526,
        "deepnote_cell_type": "code"
      },
      "source": "def compatiblity(tf_new_event, tf_event_story):\n\n    #tf_new_event = np.array(tf_new_event)\n    #tf_event_story = np.array(tf_event_story)\n\n    if len(tf_new_event) < len(tf_event_story):\n        temp = tf_new_event\n        vector_a = tf_event_story\n        vector_b = temp\n    else:\n        vector_a = tf_new_event\n        vector_b = tf_event_story\n\n    list_1={}\n    list_2={}\n\n    for elem in vector_a:\n        if elem in vector_b:\n            list_1[elem] = vector_a[elem]\n            list_2[elem] = vector_b[elem]\n        else:\n            list_1[elem] = vector_a[elem]\n            list_2[elem] = 0\n\n    for elem in vector_b:\n        if not elem in list_1:\n            list_1[elem] = 0 \n            list_2[elem] = vector_b[elem]\n\n    # turn dictionary to numpy array\n    list_1_vector = np.fromiter(list_1.values(), dtype=float)\n    list_2_vector = np.fromiter(list_2.values(), dtype=float)\n\n    prod = np.dot(list_1_vector, list_2_vector)\n\n    \n    return prod / np.linalg.norm(list_1_vector) * np.linalg.norm(list_2_vector)",
      "execution_count": 35,
      "outputs": []
    },
    {
      "cell_type": "code",
      "source": "def conherence():\n    event1 = news_dataset['VECTOR'].iloc[2]\n\n    sum_ = 0\n    \n    for event in stories:\n        event2 = news_dataset['VECTOR'].iloc[3]\n\n        sum_ += compatiblity(event1, event2)\n\n    return sum_/len(stories)",
      "metadata": {
        "tags": [],
        "cell_id": "00021-6e0e6140-c465-474e-8298-2faae86a8202",
        "deepnote_cell_type": "code"
      },
      "outputs": [],
      "execution_count": null
    },
    {
      "cell_type": "code",
      "source": "def time_penalty(delta, time1, time2):\n    if time1 < time2:\n        return math.exp(delta)\n    \n    return 0",
      "metadata": {
        "tags": [],
        "cell_id": "00019-acd8e8a5-3f1c-4ad3-b5ba-4424042a1244",
        "deepnote_cell_type": "code"
      },
      "outputs": [],
      "execution_count": null
    },
    {
      "cell_type": "markdown",
      "source": "# Create stories",
      "metadata": {
        "tags": [],
        "cell_id": "00018-e6cbeb75-ef52-444b-b13c-ef205a424a8c",
        "deepnote_cell_type": "markdown"
      }
    },
    {
      "cell_type": "code",
      "source": "compatiblity(news_dataset['VECTOR'].iloc[2], news_dataset['VECTOR'].iloc[3])",
      "metadata": {
        "tags": [],
        "cell_id": "00018-a09d80f8-f21e-4804-bc01-9b3ce1b32201",
        "deepnote_cell_type": "code"
      },
      "outputs": [],
      "execution_count": null
    },
    {
      "cell_type": "markdown",
      "source": "<a style='text-decoration:none;line-height:16px;display:flex;color:#5B5B62;padding:10px;justify-content:end;' href='https://deepnote.com?utm_source=created-in-deepnote-cell&projectId=902703f2-430f-48f3-ba3f-6c2fee66cf11' target=\"_blank\">\n<img alt='Created in deepnote.com' style='display:inline;max-height:16px;margin:0px;margin-right:7.5px;' src='data:image/svg+xml;base64,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' > </img>\nCreated in <span style='font-weight:600;margin-left:4px;'>Deepnote</span></a>",
      "metadata": {
        "tags": [],
        "created_in_deepnote_cell": true,
        "deepnote_cell_type": "markdown"
      }
    }
  ],
  "nbformat": 4,
  "nbformat_minor": 2,
  "metadata": {
    "orig_nbformat": 2,
    "deepnote": {
      "is_reactive": false
    },
    "deepnote_notebook_id": "b9a1643a-91a0-4f2d-a668-df2379bdd8b2",
    "deepnote_execution_queue": []
  }
}