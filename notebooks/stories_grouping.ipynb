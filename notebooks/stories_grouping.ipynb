{
  "cells": [
    {
      "cell_type": "markdown",
      "source": "",
      "metadata": {
        "tags": [],
        "cell_id": "00000-950c9aed-0790-4545-9e6a-410ee3b5928e",
        "deepnote_cell_type": "text-cell-p"
      }
    },
    {
      "cell_type": "markdown",
      "source": "An event has a set of keywords C_e\n\nFor a existing story tree S, there is a set of different C_s that is a union of all the keywords of the events inside\n\nTo know if an event is in that Story, we use compatibility between event E and story tree S with Jaccard similarity between C_s and C_e.\n\nIf we match to no stories, we create a new one\n\nWhen we find a story that match, we apply either: Merge, Extend, Insert\n\nMerge: Merge event in the story tree (merge the event with another event) (we will never have this use this)\nExtend: append the event as a child node\nInsert: appends the event to the root node of story tree\n\nWe extend or insert if there is no overlap of event, we find the parent event node, and measure the 'connection strength' between the new event and all the events in the story tree.  'Connection strength' is defined in page page 14 of paper.",
      "metadata": {
        "tags": [],
        "cell_id": "00001-10c6ed59-d0df-4134-9b30-ec9849d6dbed",
        "deepnote_cell_type": "markdown"
      }
    },
    {
      "cell_type": "code",
      "source": "!pip install nltk",
      "metadata": {
        "tags": [],
        "cell_id": "00002-c944fa9c-882a-443b-8928-c037eaefe918",
        "deepnote_to_be_reexecuted": false,
        "source_hash": "96307baf",
        "execution_millis": 3062,
        "execution_start": 1619472872570,
        "deepnote_cell_type": "code"
      },
      "outputs": [
        {
          "name": "stdout",
          "text": "Requirement already satisfied: nltk in /shared-libs/python3.7/py/lib/python3.7/site-packages (3.6.1)\nRequirement already satisfied: regex in /shared-libs/python3.7/py/lib/python3.7/site-packages (from nltk) (2021.4.4)\nRequirement already satisfied: joblib in /shared-libs/python3.7/py/lib/python3.7/site-packages (from nltk) (1.0.1)\nRequirement already satisfied: click in /shared-libs/python3.7/py/lib/python3.7/site-packages (from nltk) (7.1.2)\nRequirement already satisfied: tqdm in /shared-libs/python3.7/py/lib/python3.7/site-packages (from nltk) (4.60.0)\n\u001b[33mWARNING: You are using pip version 21.0.1; however, version 21.1 is available.\nYou should consider upgrading via the '/root/venv/bin/python -m pip install --upgrade pip' command.\u001b[0m\n",
          "output_type": "stream"
        }
      ],
      "execution_count": 1
    },
    {
      "cell_type": "code",
      "metadata": {
        "tags": [],
        "cell_id": "00002-e60b3060-c35e-4355-9146-a79e50cab1eb",
        "deepnote_to_be_reexecuted": false,
        "source_hash": "57ef8ff5",
        "execution_millis": 0,
        "execution_start": 1619472908108,
        "deepnote_cell_type": "code"
      },
      "source": "import pandas as pd\nimport pickle\nimport numpy as np\nimport nltk",
      "execution_count": 7,
      "outputs": []
    },
    {
      "cell_type": "code",
      "metadata": {
        "tags": [],
        "cell_id": "00002-fd50c143-a1f4-4736-a1d1-93764d3c576b",
        "deepnote_to_be_reexecuted": false,
        "source_hash": "bb23aed5",
        "execution_millis": 45,
        "execution_start": 1619472886980,
        "deepnote_cell_type": "code"
      },
      "source": "#news_dataset = pd.read_pickle(\"/work/IFT6010_Story_Tree/data/short_news_dataset_2_with_extractedkeyword.pickle\").drop_duplicates(subset=['TEXT']).drop_duplicates(subset=['TITLE'])\n#news_dataset = pd.read_pickle(\"/work/IFT6010_Story_Tree/data/news_with_extracted_keywords.pkl\")",
      "execution_count": 3,
      "outputs": []
    },
    {
      "cell_type": "code",
      "metadata": {
        "tags": [],
        "cell_id": "00003-ddf232aa-12ba-4c9a-8dad-76b175746834",
        "deepnote_to_be_reexecuted": false,
        "source_hash": "e8162af2",
        "execution_millis": 3,
        "execution_start": 1619472888535,
        "deepnote_cell_type": "code"
      },
      "source": "temp_defaultdict_communities = pickle.load(open(\"../data/extracted_communities_newset.pickle\",'rb'))\ndict_communities = {}\nfor i,v in temp_defaultdict_communities.items():\n    if len(v)==1:\n        dict_communities[i] = v[0]\n\nkeywords_clusters = pd.DataFrame(dict_communities.items())\nkeywords_clusters.columns = ['keyword', 'cluster']",
      "execution_count": 4,
      "outputs": []
    },
    {
      "cell_type": "code",
      "metadata": {
        "tags": [],
        "cell_id": "00006-63c039af-694e-417e-b61e-f8d8920da114",
        "deepnote_to_be_reexecuted": false,
        "source_hash": "7d22376a",
        "execution_millis": 10,
        "execution_start": 1619472888838,
        "deepnote_cell_type": "code"
      },
      "source": "keywords_clusters['cluster'].value_counts()",
      "execution_count": 5,
      "outputs": [
        {
          "output_type": "execute_result",
          "execution_count": 5,
          "data": {
            "text/plain": "0    358\n1    347\n2    234\nName: cluster, dtype: int64"
          },
          "metadata": {}
        }
      ]
    },
    {
      "cell_type": "markdown",
      "source": "# Define the Jaccard similarity",
      "metadata": {
        "tags": [],
        "cell_id": "00007-687b6d81-b382-41e3-a870-463d395e55f4",
        "deepnote_cell_type": "markdown"
      }
    },
    {
      "cell_type": "code",
      "metadata": {
        "tags": [],
        "cell_id": "00007-173f979b-4154-4033-96f6-f93c3404faa6",
        "deepnote_to_be_reexecuted": false,
        "source_hash": "f5b47796",
        "execution_millis": 34,
        "execution_start": 1619472910501,
        "deepnote_cell_type": "code"
      },
      "source": "from nltk.corpus import stopwords\nnltk.download('stopwords')",
      "execution_count": 8,
      "outputs": [
        {
          "name": "stderr",
          "text": "[nltk_data] Downloading package stopwords to /root/nltk_data...\n[nltk_data]   Unzipping corpora/stopwords.zip.\n",
          "output_type": "stream"
        },
        {
          "output_type": "execute_result",
          "execution_count": 8,
          "data": {
            "text/plain": "True"
          },
          "metadata": {}
        }
      ]
    },
    {
      "cell_type": "code",
      "metadata": {
        "tags": [],
        "cell_id": "00008-b96a31af-c686-49a7-91c8-3c4f715a8aa5",
        "deepnote_to_be_reexecuted": false,
        "source_hash": "ede744ab",
        "execution_millis": 0,
        "execution_start": 1619475934407,
        "deepnote_cell_type": "code"
      },
      "source": "def jaccard_similarity(keyword_list_1, keyword_list_2):\n    list1_as_set = set(keyword_list_1)\n    \n    intersection = list1_as_set.intersection(keyword_list_2) \n\n    set_union = set(keyword_list_1 + keyword_list_2)\n\n    return len(intersection) / len(set_union)",
      "execution_count": 50,
      "outputs": []
    },
    {
      "cell_type": "code",
      "metadata": {
        "tags": [],
        "cell_id": "00008-ff37e0a5-2e15-4692-af6d-3c05b669455f",
        "deepnote_to_be_reexecuted": false,
        "source_hash": "fe1545ee",
        "execution_millis": 0,
        "execution_start": 1619476169469,
        "deepnote_cell_type": "code"
      },
      "source": "def count_similar_word_in_title(title1, title2):\n\n    title1.replace(' - The New York Times','')\n    title2.replace(' - The New York Times','')\n\n    title1_low = title1.lower()\n    title2_low = title2.lower()\n\n    title1_list = title1_low.split(\" \")\n    title2_list = title2_low.split(\" \")\n\n    stop_words = stopwords.words('english')\n\n    title1_tokens = [ token for token in title1_list if token not in stop_words]\n    title2_tokens = [ token for token in title2_list if token not in stop_words]\n    \n    return len(list(set(title1_tokens)&set(title2_tokens)))",
      "execution_count": 60,
      "outputs": []
    },
    {
      "cell_type": "code",
      "metadata": {
        "tags": [],
        "cell_id": "00008-35bc88f9-66cd-4fab-908a-056107ba8819",
        "deepnote_to_be_reexecuted": false,
        "source_hash": "7e7c35fc",
        "execution_millis": 0,
        "execution_start": 1619472931114,
        "deepnote_cell_type": "code"
      },
      "source": "#for i in news_dataset.iterrows():\n#    for j in news_dataset.iterrows():\n#        similarity = jaccard_similarity(i[1][\"extracted_keywords\"], j[1][\"extracted_keywords\"])\n#        if  similarity> 0.3 and similarity != 1.0:\n#            print(i[1][\"title\"])\n#            print(j[1][\"title\"])\n#            print(\"---------------\")",
      "execution_count": 12,
      "outputs": []
    },
    {
      "cell_type": "markdown",
      "source": "# Preprocessing and creating of vector",
      "metadata": {
        "tags": [],
        "cell_id": "00009-e2c00af9-5cde-4b45-b0ba-3178d770ff3d",
        "deepnote_cell_type": "markdown"
      }
    },
    {
      "cell_type": "code",
      "metadata": {
        "tags": [],
        "cell_id": "00010-ca491995-0aad-461f-996c-5dd14b19e673",
        "deepnote_to_be_reexecuted": false,
        "source_hash": "d8e67633",
        "execution_millis": 0,
        "execution_start": 1619475938147,
        "deepnote_cell_type": "code"
      },
      "source": "import sys\nsys.path.insert(1, '/work/IFT6010_Story_Tree/src/features/')",
      "execution_count": 52,
      "outputs": []
    },
    {
      "cell_type": "code",
      "metadata": {
        "tags": [],
        "cell_id": "00011-1c34db71-8c34-4b75-9fc3-40877db8f2d3",
        "deepnote_to_be_reexecuted": false,
        "source_hash": "909acb11",
        "execution_millis": 1,
        "execution_start": 1619475938426,
        "deepnote_cell_type": "code"
      },
      "source": "from utils_cosine_tf_idf import latest_tfidf, preprocessing",
      "execution_count": 53,
      "outputs": []
    },
    {
      "cell_type": "code",
      "metadata": {
        "tags": [],
        "cell_id": "00011-a5a6cc05-2d7d-43b7-bdd1-edd1dbe30a78",
        "deepnote_to_be_reexecuted": false,
        "source_hash": "835ce433",
        "execution_millis": 9052365,
        "execution_start": 1619452208737,
        "deepnote_cell_type": "code"
      },
      "source": "#news_dataset['text_and_title'] = news_dataset[['content','title']].apply(lambda x :\" \".join(x), axis=1)\n#news_dataset['preprocessed_text'] = news_dataset['text_and_title'].apply(preprocessing)\n\n\n#corpus = news_dataset['preprocessed_text']\n#corpus = corpus.to_list()\n\n#news_dataset['vector'] = news_dataset['preprocessed_text'].apply(latest_tfidf, allDocs=corpus)\n\n#news_dataset.to_pickle(\"news_with_extracted_keywords_and_vectors.pkl\")",
      "execution_count": null,
      "outputs": []
    },
    {
      "cell_type": "code",
      "metadata": {
        "tags": [],
        "cell_id": "00015-10903170-788d-4337-a07c-6af2dbbc41b4",
        "deepnote_to_be_reexecuted": false,
        "source_hash": "85f3e5eb",
        "execution_millis": 1078,
        "execution_start": 1619475941775,
        "deepnote_cell_type": "code"
      },
      "source": "news_dataset = pd.read_pickle(\"news_with_extracted_keywords_and_vectors.pkl\")",
      "execution_count": 54,
      "outputs": []
    },
    {
      "cell_type": "code",
      "source": "dsk_dataset = pd.read_pickle(\"../data/news_dsk_with_extracted_keywords_5000_25april.pkl\")",
      "metadata": {
        "tags": [],
        "cell_id": "00017-66da2e66-7d78-465a-a42a-57ae36871574",
        "deepnote_to_be_reexecuted": false,
        "source_hash": "eb6a2400",
        "execution_millis": 263,
        "execution_start": 1619476816027,
        "deepnote_cell_type": "code"
      },
      "outputs": [],
      "execution_count": 68
    },
    {
      "cell_type": "code",
      "source": "corpus = dsk_dataset['preprocessed_text']\ncorpus = corpus.to_list()\n\ndsk_dataset['vector'] = dsk_dataset['preprocessed_text'].apply(latest_tfidf, allDocs=corpus)\n\ndsk_dataset.to_pickle(\"dsk_with_extracted_keywords_and_vectors.pkl\")",
      "metadata": {
        "tags": [],
        "cell_id": "00017-3b71c3e7-7669-4db2-8029-cc56f12bb6fd",
        "deepnote_to_be_reexecuted": false,
        "source_hash": "3ff9c20f",
        "execution_start": 1619476886906,
        "execution_millis": 123778,
        "deepnote_cell_type": "code"
      },
      "outputs": [
        {
          "output_type": "error",
          "ename": "KeyboardInterrupt",
          "evalue": "",
          "traceback": [
            "\u001b[0;31m---------------------------------------------------------------------------\u001b[0m",
            "\u001b[0;31mKeyboardInterrupt\u001b[0m                         Traceback (most recent call last)",
            "\u001b[0;32m<ipython-input-71-0c218c1f87d7>\u001b[0m in \u001b[0;36m<module>\u001b[0;34m\u001b[0m\n\u001b[1;32m      2\u001b[0m \u001b[0mcorpus\u001b[0m \u001b[0;34m=\u001b[0m \u001b[0mcorpus\u001b[0m\u001b[0;34m.\u001b[0m\u001b[0mto_list\u001b[0m\u001b[0;34m(\u001b[0m\u001b[0;34m)\u001b[0m\u001b[0;34m\u001b[0m\u001b[0;34m\u001b[0m\u001b[0m\n\u001b[1;32m      3\u001b[0m \u001b[0;34m\u001b[0m\u001b[0m\n\u001b[0;32m----> 4\u001b[0;31m \u001b[0mdsk_dataset\u001b[0m\u001b[0;34m[\u001b[0m\u001b[0;34m'vector'\u001b[0m\u001b[0;34m]\u001b[0m \u001b[0;34m=\u001b[0m \u001b[0mdsk_dataset\u001b[0m\u001b[0;34m[\u001b[0m\u001b[0;34m'preprocessed_text'\u001b[0m\u001b[0;34m]\u001b[0m\u001b[0;34m.\u001b[0m\u001b[0mapply\u001b[0m\u001b[0;34m(\u001b[0m\u001b[0mlatest_tfidf\u001b[0m\u001b[0;34m,\u001b[0m \u001b[0mallDocs\u001b[0m\u001b[0;34m=\u001b[0m\u001b[0mcorpus\u001b[0m\u001b[0;34m)\u001b[0m\u001b[0;34m\u001b[0m\u001b[0;34m\u001b[0m\u001b[0m\n\u001b[0m\u001b[1;32m      5\u001b[0m \u001b[0;34m\u001b[0m\u001b[0m\n\u001b[1;32m      6\u001b[0m \u001b[0mdsk_dataset\u001b[0m\u001b[0;34m.\u001b[0m\u001b[0mto_pickle\u001b[0m\u001b[0;34m(\u001b[0m\u001b[0;34m\"dsk_with_extracted_keywords_and_vectors.pkl\"\u001b[0m\u001b[0;34m)\u001b[0m\u001b[0;34m\u001b[0m\u001b[0;34m\u001b[0m\u001b[0m\n",
            "\u001b[0;32m/shared-libs/python3.7/py/lib/python3.7/site-packages/pandas/core/series.py\u001b[0m in \u001b[0;36mapply\u001b[0;34m(self, func, convert_dtype, args, **kwds)\u001b[0m\n\u001b[1;32m   4136\u001b[0m             \u001b[0;32melse\u001b[0m\u001b[0;34m:\u001b[0m\u001b[0;34m\u001b[0m\u001b[0;34m\u001b[0m\u001b[0m\n\u001b[1;32m   4137\u001b[0m                 \u001b[0mvalues\u001b[0m \u001b[0;34m=\u001b[0m \u001b[0mself\u001b[0m\u001b[0;34m.\u001b[0m\u001b[0mastype\u001b[0m\u001b[0;34m(\u001b[0m\u001b[0mobject\u001b[0m\u001b[0;34m)\u001b[0m\u001b[0;34m.\u001b[0m\u001b[0m_values\u001b[0m\u001b[0;34m\u001b[0m\u001b[0;34m\u001b[0m\u001b[0m\n\u001b[0;32m-> 4138\u001b[0;31m                 \u001b[0mmapped\u001b[0m \u001b[0;34m=\u001b[0m \u001b[0mlib\u001b[0m\u001b[0;34m.\u001b[0m\u001b[0mmap_infer\u001b[0m\u001b[0;34m(\u001b[0m\u001b[0mvalues\u001b[0m\u001b[0;34m,\u001b[0m \u001b[0mf\u001b[0m\u001b[0;34m,\u001b[0m \u001b[0mconvert\u001b[0m\u001b[0;34m=\u001b[0m\u001b[0mconvert_dtype\u001b[0m\u001b[0;34m)\u001b[0m\u001b[0;34m\u001b[0m\u001b[0;34m\u001b[0m\u001b[0m\n\u001b[0m\u001b[1;32m   4139\u001b[0m \u001b[0;34m\u001b[0m\u001b[0m\n\u001b[1;32m   4140\u001b[0m         \u001b[0;32mif\u001b[0m \u001b[0mlen\u001b[0m\u001b[0;34m(\u001b[0m\u001b[0mmapped\u001b[0m\u001b[0;34m)\u001b[0m \u001b[0;32mand\u001b[0m \u001b[0misinstance\u001b[0m\u001b[0;34m(\u001b[0m\u001b[0mmapped\u001b[0m\u001b[0;34m[\u001b[0m\u001b[0;36m0\u001b[0m\u001b[0;34m]\u001b[0m\u001b[0;34m,\u001b[0m \u001b[0mSeries\u001b[0m\u001b[0;34m)\u001b[0m\u001b[0;34m:\u001b[0m\u001b[0;34m\u001b[0m\u001b[0;34m\u001b[0m\u001b[0m\n",
            "\u001b[0;32mpandas/_libs/lib.pyx\u001b[0m in \u001b[0;36mpandas._libs.lib.map_infer\u001b[0;34m()\u001b[0m\n",
            "\u001b[0;32m/shared-libs/python3.7/py/lib/python3.7/site-packages/pandas/core/series.py\u001b[0m in \u001b[0;36mf\u001b[0;34m(x)\u001b[0m\n\u001b[1;32m   4121\u001b[0m \u001b[0;34m\u001b[0m\u001b[0m\n\u001b[1;32m   4122\u001b[0m             \u001b[0;32mdef\u001b[0m \u001b[0mf\u001b[0m\u001b[0;34m(\u001b[0m\u001b[0mx\u001b[0m\u001b[0;34m)\u001b[0m\u001b[0;34m:\u001b[0m\u001b[0;34m\u001b[0m\u001b[0;34m\u001b[0m\u001b[0m\n\u001b[0;32m-> 4123\u001b[0;31m                 \u001b[0;32mreturn\u001b[0m \u001b[0mfunc\u001b[0m\u001b[0;34m(\u001b[0m\u001b[0mx\u001b[0m\u001b[0;34m,\u001b[0m \u001b[0;34m*\u001b[0m\u001b[0margs\u001b[0m\u001b[0;34m,\u001b[0m \u001b[0;34m**\u001b[0m\u001b[0mkwds\u001b[0m\u001b[0;34m)\u001b[0m\u001b[0;34m\u001b[0m\u001b[0;34m\u001b[0m\u001b[0m\n\u001b[0m\u001b[1;32m   4124\u001b[0m \u001b[0;34m\u001b[0m\u001b[0m\n\u001b[1;32m   4125\u001b[0m         \u001b[0;32melse\u001b[0m\u001b[0;34m:\u001b[0m\u001b[0;34m\u001b[0m\u001b[0;34m\u001b[0m\u001b[0m\n",
            "\u001b[0;32m/work/IFT6010_Story_Tree/src/features/utils_cosine_tf_idf.py\u001b[0m in \u001b[0;36mlatest_tfidf\u001b[0;34m(doc, allDocs)\u001b[0m\n\u001b[1;32m    171\u001b[0m         \u001b[0;31m# print(num_docs_with_given_term)\u001b[0m\u001b[0;34m\u001b[0m\u001b[0;34m\u001b[0m\u001b[0;34m\u001b[0m\u001b[0m\n\u001b[1;32m    172\u001b[0m         \u001b[0;32mfor\u001b[0m \u001b[0mdocs\u001b[0m \u001b[0;32min\u001b[0m \u001b[0mallDocs\u001b[0m\u001b[0;34m:\u001b[0m\u001b[0;34m\u001b[0m\u001b[0;34m\u001b[0m\u001b[0m\n\u001b[0;32m--> 173\u001b[0;31m             \u001b[0;32mif\u001b[0m \u001b[0mterm\u001b[0m \u001b[0;32min\u001b[0m \u001b[0mdocs\u001b[0m\u001b[0;34m:\u001b[0m\u001b[0;34m\u001b[0m\u001b[0;34m\u001b[0m\u001b[0m\n\u001b[0m\u001b[1;32m    174\u001b[0m                 \u001b[0mnum_docs_with_given_term\u001b[0m \u001b[0;34m+=\u001b[0m \u001b[0;36m1\u001b[0m\u001b[0;34m\u001b[0m\u001b[0;34m\u001b[0m\u001b[0m\n\u001b[1;32m    175\u001b[0m \u001b[0;34m\u001b[0m\u001b[0m\n",
            "\u001b[0;31mKeyboardInterrupt\u001b[0m: "
          ]
        }
      ],
      "execution_count": 71
    },
    {
      "cell_type": "markdown",
      "source": "# Extend and insert event in story",
      "metadata": {
        "tags": [],
        "cell_id": "00010-cf58bf4e-09ee-46d5-93cb-3ece7b766af4",
        "deepnote_cell_type": "markdown"
      }
    },
    {
      "cell_type": "markdown",
      "source": "Measure connection strength between our event X, and all the events X_s of a story. We look at:\n\n1) The time distance between both events\n\n2) The compatibility of the two events\n\n3) The storyline coherence if we append event X to story tree of X_s\n\nconnection_strength(X,X_s) = compatibility()+coherence()+time_penalty",
      "metadata": {
        "tags": [],
        "cell_id": "00011-cab48f6f-401f-49e2-a4e9-1a9a0c86786b",
        "deepnote_cell_type": "markdown"
      }
    },
    {
      "cell_type": "code",
      "metadata": {
        "tags": [],
        "cell_id": "00013-4a679be5-4a1b-49cd-ab7c-355df0fefe5f",
        "deepnote_to_be_reexecuted": false,
        "source_hash": "bb5fe517",
        "execution_millis": 1,
        "execution_start": 1619476017858,
        "deepnote_cell_type": "code"
      },
      "source": "def compatiblity(tf_new_event, tf_event_story):\n\n    #tf_new_event = np.array(tf_new_event)\n    #tf_event_story = np.array(tf_event_story)\n\n    if len(tf_new_event) < len(tf_event_story):\n        temp = tf_new_event\n        vector_a = tf_event_story\n        vector_b = temp\n    else:\n        vector_a = tf_new_event\n        vector_b = tf_event_story\n\n    list_1={}\n    list_2={}\n\n    for elem in vector_a:\n        if elem in vector_b:\n            list_1[elem] = vector_a[elem]\n            list_2[elem] = vector_b[elem]\n        else:\n            list_1[elem] = vector_a[elem]\n            list_2[elem] = 0\n\n    for elem in vector_b:\n        if not elem in list_1:\n            list_1[elem] = 0 \n            list_2[elem] = vector_b[elem]\n\n    # turn dictionary to numpy array\n    list_1_vector = np.fromiter(list_1.values(), dtype=float)\n    list_2_vector = np.fromiter(list_2.values(), dtype=float)\n\n    prod = np.dot(list_1_vector, list_2_vector)\n\n    \n    return prod / np.linalg.norm(list_1_vector) * np.linalg.norm(list_2_vector)",
      "execution_count": 55,
      "outputs": []
    },
    {
      "cell_type": "code",
      "metadata": {
        "tags": [],
        "cell_id": "00021-6e0e6140-c465-474e-8298-2faae86a8202",
        "deepnote_to_be_reexecuted": false,
        "source_hash": "86441a39",
        "execution_millis": 0,
        "execution_start": 1619473038295,
        "deepnote_cell_type": "code"
      },
      "source": "def conherence():\n    event1 = news_dataset['VECTOR'].iloc[2]\n\n    sum_ = 0\n    \n    for event in stories:\n        event2 = news_dataset['VECTOR'].iloc[3]\n\n        sum_ += compatiblity(event1, event2)\n\n    return sum_/len(stories)",
      "execution_count": 17,
      "outputs": []
    },
    {
      "cell_type": "code",
      "metadata": {
        "tags": [],
        "cell_id": "00019-acd8e8a5-3f1c-4ad3-b5ba-4424042a1244",
        "deepnote_to_be_reexecuted": false,
        "source_hash": "136e14f8",
        "execution_millis": 2,
        "execution_start": 1619473041131,
        "deepnote_cell_type": "code"
      },
      "source": "def time_penalty(delta, time1, time2):\n    if time1 < time2:\n        return math.exp(delta)\n    \n    return 0",
      "execution_count": 18,
      "outputs": []
    },
    {
      "cell_type": "markdown",
      "source": "# Create stories",
      "metadata": {
        "tags": [],
        "cell_id": "00018-e6cbeb75-ef52-444b-b13c-ef205a424a8c",
        "deepnote_cell_type": "markdown"
      }
    },
    {
      "cell_type": "markdown",
      "source": "### Add DSK articles",
      "metadata": {
        "tags": [],
        "cell_id": "00025-46090277-1483-475b-a5a8-2e9974b3ccd0",
        "deepnote_cell_type": "markdown"
      }
    },
    {
      "cell_type": "code",
      "source": "dsk_dataset.columns",
      "metadata": {
        "tags": [],
        "cell_id": "00026-43240ef4-eff9-480f-b383-520ec13a62d9",
        "deepnote_to_be_reexecuted": false,
        "source_hash": "465aba55",
        "execution_start": 1619481706038,
        "execution_millis": 21,
        "deepnote_cell_type": "code"
      },
      "outputs": [
        {
          "output_type": "execute_result",
          "execution_count": 72,
          "data": {
            "text/plain": "Index(['Unnamed: 0', 'title', 'summary', 'text', 'date', 'text_and_title',\n       'preprocessed_text', 'extracted_keywords'],\n      dtype='object')"
          },
          "metadata": {}
        }
      ],
      "execution_count": 72
    },
    {
      "cell_type": "code",
      "source": "dsk_dataset[\"text\"]",
      "metadata": {
        "tags": [],
        "cell_id": "00027-6b2c4efa-3983-49d5-821f-c687abe7de21",
        "deepnote_to_be_reexecuted": false,
        "source_hash": "b8568830",
        "execution_start": 1619481858038,
        "execution_millis": 6,
        "deepnote_cell_type": "code"
      },
      "outputs": [
        {
          "output_type": "execute_result",
          "execution_count": 74,
          "data": {
            "text/plain": "0       The New York Post has learned that the woman a...\n1       Strauss-Kahn’s NY apartment plan falls apart A...\n2       According to a worrying CSA poll, it seems tha...\n3       Traces of Strauss-Kahn's DNA found on alleged ...\n4       Sajwert houseparty, usually I try not to answe...\n                              ...                        \n4995    DEAUVILLE, France (Reuters) - The gently slopi...\n4996    (Dominique Strauss-Kahn, Benjamin Brafman) Dom...\n4997    Dominique Strauss-Kahn resigned from his posit...\n4998    His arrest came at a crucial time for the IMF,...\n4999    IMF boss Dominique Strauss-Kahn was finally fr...\nName: text, Length: 5000, dtype: object"
          },
          "metadata": {}
        }
      ],
      "execution_count": 74
    },
    {
      "cell_type": "code",
      "source": "news_dataset.columns",
      "metadata": {
        "tags": [],
        "cell_id": "00027-fe020a1d-e4c2-40e4-87f7-b7511059f4c3",
        "deepnote_to_be_reexecuted": false,
        "source_hash": "2b382e39",
        "execution_start": 1619481713901,
        "execution_millis": 6,
        "deepnote_cell_type": "code"
      },
      "outputs": [
        {
          "output_type": "execute_result",
          "execution_count": 73,
          "data": {
            "text/plain": "Index(['Unnamed: 0', 'title', 'publication', 'author', 'date', 'content',\n       'text_and_title', 'preprocessed_text', 'extracted_keywords', 'vector'],\n      dtype='object')"
          },
          "metadata": {}
        }
      ],
      "execution_count": 73
    },
    {
      "cell_type": "code",
      "source": "dsk_dataset[\"vector\"]",
      "metadata": {
        "tags": [],
        "cell_id": "00026-c4319211-3611-48d1-a68d-4e7b168555e1",
        "deepnote_cell_type": "code"
      },
      "outputs": [],
      "execution_count": null
    },
    {
      "cell_type": "code",
      "source": "news_dataset\ndsk_dataset",
      "metadata": {
        "tags": [],
        "cell_id": "00026-70acbcba-4e89-457a-b34a-0c09fb36551e",
        "deepnote_cell_type": "code"
      },
      "outputs": [],
      "execution_count": null
    },
    {
      "cell_type": "markdown",
      "source": "### Identifying the related story tree",
      "metadata": {
        "tags": [],
        "cell_id": "00020-dd494081-37e5-43ca-882d-137521d4acdd",
        "deepnote_cell_type": "markdown"
      }
    },
    {
      "cell_type": "code",
      "metadata": {
        "tags": [],
        "cell_id": "00020-cef02454-6814-4569-8b40-9c25608408ad",
        "deepnote_to_be_reexecuted": false,
        "source_hash": "5a1c0bdc",
        "execution_millis": 3,
        "execution_start": 1619476177396,
        "deepnote_cell_type": "code"
      },
      "source": "# Needs to be true with at least 1 event in the story\n# event_keyword: keywords of the event\n# event_title: title of the event\n# story: Story object\ndef is_event_in_story(event_keyword, event_title, story):\n    similarity = jaccard_similarity(event_keyword, story.get_list_of_keywords())\n\n    one_event_common_title = False\n\n    for event_of_story in story.get_list_of_events():\n        common_words_title = count_similar_word_in_title(event_title, event_of_story.get_title())\n        if common_words_title >= 1:\n            one_event_common_title = True\n            break\n\n    if  similarity > 0.25 and one_event_common_title:\n        return True\n    \n    return False",
      "execution_count": 61,
      "outputs": []
    },
    {
      "cell_type": "markdown",
      "source": "### Update the related story tree",
      "metadata": {
        "tags": [],
        "cell_id": "00023-f344cf62-5d12-49b4-ab55-d26a588d6dea",
        "deepnote_cell_type": "markdown"
      }
    },
    {
      "cell_type": "markdown",
      "source": "We calculate the connection strength between the new event E and each existing event Ej ∈ S based on the following three factors: \n\n(1) the time distance between E and Ej\n\n(2) the compatibility of the two events\n\n(3) the storyline coherence if E is appended to Ej in the tree",
      "metadata": {
        "tags": [],
        "cell_id": "00024-5f57ace8-e703-41b5-b194-0e08d38c8ae4",
        "deepnote_cell_type": "markdown"
      }
    },
    {
      "cell_type": "code",
      "metadata": {
        "tags": [],
        "cell_id": "00024-709b7079-05eb-4691-b774-0a839674c789",
        "deepnote_to_be_reexecuted": false,
        "source_hash": "450b62e8",
        "execution_millis": 3,
        "execution_start": 1619476179313,
        "deepnote_cell_type": "code"
      },
      "source": "class Event:\n    def __init__(self, title, content, keywords, date, vector):\n        self.title = title\n        self.content = content\n        self.keywords = keywords\n        self.date = date\n        self.vector = vector\n\n    def get_title(self):\n        return self.title\n    \n    def get_content(self):\n        return self.content\n\n    def get_keywords(self):\n        return self.keywords\n\n    def get_vector(self):\n        return self.vector\n\n\n\nclass Story:\n    def __init__(self, event):\n        self.list_of_events = [event]\n        self.list_keywords = event.get_keywords()\n\n    def add_event(self, new_event):\n        self.list_of_events.append(new_event)\n        # A story keywords, is the union of all keywords\n        self.list_keywords.extend(new_event.get_keywords())\n\n    def get_list_of_keywords(self):\n        return self.list_keywords\n\n    def get_list_of_events(self):\n        return self.list_of_events",
      "execution_count": 62,
      "outputs": []
    },
    {
      "cell_type": "code",
      "metadata": {
        "tags": [],
        "cell_id": "00027-3f5c67bf-cdbe-4903-a453-89fee8faa892",
        "deepnote_to_be_reexecuted": false,
        "source_hash": "82b6f8a",
        "execution_millis": 90150,
        "execution_start": 1619476182805,
        "deepnote_cell_type": "code"
      },
      "source": "list_of_stories = []\n\n# Go through events to add to stories \nfor i in range(len(news_dataset)):\n    \n    if i%100 == 0:\n        print(i)\n\n    row = news_dataset.iloc[i]\n    title    = row[\"title\"]\n    content  = row[\"content\"]\n    keywords = row[\"extracted_keywords\"]\n    date     = row[\"date\"]\n    vector   = row[\"vector\"]\n\n    new_event = Event(title, content, keywords, date, vector)\n\n    # We create the first story\n    if i==0:\n        list_of_stories.append(Story(new_event))\n\n    # Do we add the event to an existing story, or create a new one ?\n    else:\n\n        found_a_story_for_event = False\n\n        # Iterate through the story to associate an event to a story\n        for story in list_of_stories:\n            # if the event is the story, we append it to the story\n            if is_event_in_story(keywords, title, story):\n                found_a_story_for_event = True\n                story.add_event(new_event)\n\n        # If we found no story to associate the event, we create a new story\n        if not found_a_story_for_event:\n            list_of_stories.append(Story(new_event))",
      "execution_count": 63,
      "outputs": [
        {
          "name": "stdout",
          "text": "0\n100\n200\n300\n400\n500\n600\n700\n800\n900\n",
          "output_type": "stream"
        }
      ]
    },
    {
      "cell_type": "code",
      "source": "len(list_of_stories)",
      "metadata": {
        "tags": [],
        "cell_id": "00030-abd1ddf6-d4d8-42d3-a6fb-5167474ec38c",
        "deepnote_to_be_reexecuted": false,
        "source_hash": "5d725104",
        "execution_millis": 12,
        "execution_start": 1619476312170,
        "deepnote_cell_type": "code"
      },
      "outputs": [
        {
          "output_type": "execute_result",
          "execution_count": 64,
          "data": {
            "text/plain": "970"
          },
          "metadata": {}
        }
      ],
      "execution_count": 64
    },
    {
      "cell_type": "code",
      "source": "for story in list_of_stories:\n    events = story.get_list_of_events()\n    if(len(events) > 1):\n        for event in events:\n            print(event.get_title())\n        print(\"=======================================\")",
      "metadata": {
        "tags": [],
        "cell_id": "00031-1ed59b43-9cb2-4ff9-8e2c-eadd5e4be8fe",
        "deepnote_to_be_reexecuted": false,
        "source_hash": "cdb3e2e3",
        "execution_millis": 11,
        "execution_start": 1619476314530,
        "deepnote_cell_type": "code"
      },
      "outputs": [
        {
          "name": "stdout",
          "text": "Kim Jong-un Says North Korea Is Preparing to Test Long-Range Missile - The New York Times\nNorth Korea, Rebuking Trump, Says It Can Test Long-Range Missile ‘Anytime’ - The New York Times\n=======================================\nThe Parliamentary Tactic That Could Obliterate Obamacare - The New York Times\nRepublicans’ 4-Step Plan to Repeal the Affordable Care Act - The New York Times\nSenators Propose Giving States Option to Keep Affordable Care Act - The New York Times\n=======================================\nFlorida Airport Assailant May Have Heard Voices Urging Violence, Officials Say - The New York Times\nIn Year Before Florida Shooting, Suspect’s Problems Multiplied - The New York Times\n=======================================\nFour Movies You Should Know About Before the Golden Globes - The New York Times\nObama’s Last Battle: His Legacy - The New York Times\n=======================================\nSenate Confirmation Hearings to Begin Without All Background Checks - The New York Times\nG.O.P. Senators Hope to Speed Trump Cabinet Confirmations - The New York Times\nMike Pompeo Is Confirmed to Lead C.I.A., as Rex Tillerson Advances - The New York Times\n=======================================\nF.B.I. Arrests Volkswagen Executive on Conspiracy Charge in Emissions Scandal - The New York Times\nVolkswagen Executive’s Trip to U.S. Allowed F.B.I. to Pounce - The New York Times\n=======================================\nRussian Hackers Gained ‘Limited’ Access to R.N.C., Comey Says - The New York Times\nDemocrats Confront F.B.I. Chief at Closed-Door Intelligence Briefing - The New York Times\n=======================================\nWhat We Know and Don’t Know About the Trump-Russia Dossier - The New York Times\nTrump Received Unsubstantiated Report That Russia Had Damaging Information About Him - The New York Times\n=======================================\nSamsung Group Leader Is Named a Suspect in South Korean Bribery Inquiry - The New York Times\nIn a Blow to Prosecutor, South Korean Court Blocks Arrest of Samsung Group Leader - The New York Times\n=======================================\nHouse Clears Path for Repeal of Health Law - The New York Times\nRepublicans Now Marching With Trump on Ideas They Had Opposed - The New York Times\n=======================================\nTranscript: President Obama on What Books Mean to Him - The New York Times\nObama’s Secret to Surviving the White House Years: Books - The New York Times\n=======================================\nF.B.I. Arrests Wife of Killer in Orlando Mass Shooting - The New York Times\nWife of Orlando Gunman Is Charged Under Antiterrorism Laws - The New York Times\n=======================================\nBetsy DeVos’s Education Hearing Erupts Into Partisan Debate - The New York Times\nBetsy DeVos Confirmed as Education Secretary Pence Breaks Tie - The New York Times\n=======================================\n‘Gambia Is Back Again,’ but Its New Leader Is Still in Senegal - The New York Times\nHis Predecessor Gone, Gambia’s New President Finally Comes Home - The New York Times\n=======================================\nFirst Day of Syria Peace Talks Quickly Descends Into Quarreling - The New York Times\nIran, Russia and Turkey Agree to Enforce Syria Cease-Fire, but Don’t Explain How - The New York Times\n=======================================\nEmboldened by Trump, Israel Approves a Wave of West Bank Settlement Expansion - The New York Times\nIsrael Passes Provocative Law to Retroactively Legalize Settlements - The New York Times\n=======================================\nTrump Orders Mexican Border Wall to Be Built and Plans to Block Syrian Refugees - The New York Times\nTrump Clashes Early With Courts, Portending Years of Legal Battles - The New York Times\n=======================================\nAs Trump Orders Wall, Mexico’s President Considers Canceling U.S. Trip - The New York Times\nMexico’s President Cancels Meeting With Trump Over Wall - The New York Times\n=======================================\nTrump Poised to Lift Ban on C.I.A. ‘Black Site’ Prisons - The New York Times\nWhite House Pulls Back From Bid to Reopen C.I.A. ‘Black Site’ Prisons - The New York Times\n=======================================\nTrump Fires Acting Attorney General Who Defied Him - The New York Times\nTrump’s Talk About Muslims Led Acting Attorney General to Defy Ban - The New York Times\n=======================================\nIn a Week, Trump Reshapes Decades of Perceptions About America - The New York Times\nRex Tillerson Is Confirmed as Secretary of State Amid Record Opposition - The New York Times\n=======================================\nScience Will Suffer Under Trump’s Travel Ban, Researchers Say - The New York Times\nCourt Temporarily Blocks Trump’s Travel Ban, and Airlines Are Told to Allow Passengers - The New York Times\n=======================================\nUnable to Enter U.S., and Still Stranded Abroad - The New York Times\nLifting of Travel Ban Sets Off Rush to Reach U.S. - The New York Times\n=======================================\nTrump Threatens Europe’s Stability, a Top Leader Warns - The New York Times\nFor Europe, There’s a New Threat in Town: The U.S. - The New York Times\n=======================================\nU.N. Leader Says Trump Visa Bans ‘Violate Our Basic Principles’ - The New York Times\nLifting of Travel Ban Sets Off Rush to Reach U.S. - The New York Times\n=======================================\n‘The Daily’: Making Sense of the Gorsuch Pick - The New York Times\n‘The Daily’: President Trump’s Foreign Policy Muse - The New York Times\n‘The Daily’: Trump Trumps the Super Bowl - The New York Times\n=======================================\nJim Mattis Says U.S. Is ‘Shoulder to Shoulder’ With Japan - The New York Times\nChina Assails U.S. Pledge to Defend Disputed Islands Controlled by Japan - The New York Times\n=======================================\nJustice Department Urges Appeals Court to Reinstate Trump’s Travel Ban - The New York Times\nThe President Has Much Power Over Immigration, but How Much? - The New York Times\n=======================================\n",
          "output_type": "stream"
        }
      ],
      "execution_count": 65
    },
    {
      "cell_type": "code",
      "source": "",
      "metadata": {
        "tags": [],
        "cell_id": "00031-c844f351-7b2f-4f1c-bcd9-be990732d89d",
        "deepnote_cell_type": "code"
      },
      "outputs": [],
      "execution_count": null
    },
    {
      "cell_type": "markdown",
      "source": "<a style='text-decoration:none;line-height:16px;display:flex;color:#5B5B62;padding:10px;justify-content:end;' href='https://deepnote.com?utm_source=created-in-deepnote-cell&projectId=902703f2-430f-48f3-ba3f-6c2fee66cf11' target=\"_blank\">\n<img alt='Created in deepnote.com' style='display:inline;max-height:16px;margin:0px;margin-right:7.5px;' src='data:image/svg+xml;base64,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' > </img>\nCreated in <span style='font-weight:600;margin-left:4px;'>Deepnote</span></a>",
      "metadata": {
        "tags": [],
        "created_in_deepnote_cell": true,
        "deepnote_cell_type": "markdown"
      }
    }
  ],
  "nbformat": 4,
  "nbformat_minor": 2,
  "metadata": {
    "orig_nbformat": 2,
    "deepnote": {
      "is_reactive": false
    },
    "deepnote_notebook_id": "b9a1643a-91a0-4f2d-a668-df2379bdd8b2",
    "deepnote_execution_queue": []
  }
}