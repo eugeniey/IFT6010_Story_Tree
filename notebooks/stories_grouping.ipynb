{
  "cells": [
    {
      "cell_type": "markdown",
      "source": "",
      "metadata": {
        "tags": [],
        "cell_id": "00000-950c9aed-0790-4545-9e6a-410ee3b5928e",
        "deepnote_cell_type": "text-cell-p"
      }
    },
    {
      "cell_type": "markdown",
      "source": "An event has a set of keywords C_e\n\nFor a existing story tree S, there is a set of different C_s that is a union of all the keywords of the events inside\n\nTo know if an event is in that Story, we use compatibility between event E and story tree S with Jaccard similarity between C_s and C_e.\n\nIf we match to no stories, we create a new one\n\nWhen we find a story that match, we apply either: Merge, Extend, Insert\n\nMerge: Merge event in the story tree (merge the event with another event) (we will never have this use this)\nExtend: append the event as a child node\nInsert: appends the event to the root node of story tree\n\nWe extend or insert if there is no overlap of event, we find the parent event node, and measure the 'connection strength' between the new event and all the events in the story tree.  'Connection strength' is defined in page page 14 of paper.",
      "metadata": {
        "tags": [],
        "cell_id": "00001-10c6ed59-d0df-4134-9b30-ec9849d6dbed",
        "deepnote_cell_type": "markdown"
      }
    },
    {
      "cell_type": "code",
      "metadata": {
        "tags": [],
        "cell_id": "00002-e60b3060-c35e-4355-9146-a79e50cab1eb",
        "deepnote_to_be_reexecuted": false,
        "source_hash": "7a207f23",
        "execution_millis": 2,
        "execution_start": 1619452179864,
        "deepnote_cell_type": "code"
      },
      "source": "import pandas as pd\nimport pickle\nimport numpy as np",
      "execution_count": 1,
      "outputs": []
    },
    {
      "cell_type": "code",
      "metadata": {
        "tags": [],
        "cell_id": "00002-fd50c143-a1f4-4736-a1d1-93764d3c576b",
        "deepnote_to_be_reexecuted": false,
        "source_hash": "bb23aed5",
        "execution_millis": 99,
        "execution_start": 1619452181058,
        "deepnote_cell_type": "code"
      },
      "source": "#news_dataset = pd.read_pickle(\"/work/IFT6010_Story_Tree/data/short_news_dataset_2_with_extractedkeyword.pickle\").drop_duplicates(subset=['TEXT']).drop_duplicates(subset=['TITLE'])\nnews_dataset = pd.read_pickle(\"/work/IFT6010_Story_Tree/data/news_with_extracted_keywords.pkl\")",
      "execution_count": 2,
      "outputs": []
    },
    {
      "cell_type": "code",
      "metadata": {
        "tags": [],
        "cell_id": "00003-ddf232aa-12ba-4c9a-8dad-76b175746834",
        "deepnote_to_be_reexecuted": false,
        "source_hash": "e8162af2",
        "execution_millis": 16,
        "execution_start": 1619452188133,
        "deepnote_cell_type": "code"
      },
      "source": "temp_defaultdict_communities = pickle.load(open(\"../data/extracted_communities_newset.pickle\",'rb'))\ndict_communities = {}\nfor i,v in temp_defaultdict_communities.items():\n    if len(v)==1:\n        dict_communities[i] = v[0]\n\nkeywords_clusters = pd.DataFrame(dict_communities.items())\nkeywords_clusters.columns = ['keyword', 'cluster']",
      "execution_count": 3,
      "outputs": []
    },
    {
      "cell_type": "code",
      "metadata": {
        "tags": [],
        "cell_id": "00006-63c039af-694e-417e-b61e-f8d8920da114",
        "deepnote_to_be_reexecuted": false,
        "source_hash": "7d22376a",
        "execution_millis": 4,
        "execution_start": 1619452194233,
        "deepnote_cell_type": "code"
      },
      "source": "keywords_clusters['cluster'].value_counts()",
      "execution_count": 4,
      "outputs": []
    },
    {
      "cell_type": "markdown",
      "source": "# Define the Jaccard similarity",
      "metadata": {
        "tags": [],
        "cell_id": "00007-687b6d81-b382-41e3-a870-463d395e55f4",
        "deepnote_cell_type": "markdown"
      }
    },
    {
      "cell_type": "code",
      "source": "from nltk.corpus import stopwords\nnltk.download('stopwords')",
      "metadata": {
        "tags": [],
        "cell_id": "00007-173f979b-4154-4033-96f6-f93c3404faa6",
        "deepnote_cell_type": "code"
      },
      "outputs": [],
      "execution_count": null
    },
    {
      "cell_type": "code",
      "metadata": {
        "tags": [],
        "cell_id": "00008-b96a31af-c686-49a7-91c8-3c4f715a8aa5",
        "deepnote_to_be_reexecuted": false,
        "source_hash": "cf16695c",
        "execution_millis": 1,
        "execution_start": 1619452197539,
        "deepnote_cell_type": "code"
      },
      "source": "def jaccard_similarity(keyword_list_1, keyword_list_2):\n    list1_as_set = set(keyword_list_1)\n    intersection = list1_as_set.intersection(keyword_list_2) \n\n    set_union = set(keyword_list_1 + keyword_list_2)\n\n    return len(intersection) / len(set_union)",
      "execution_count": 5,
      "outputs": []
    },
    {
      "cell_type": "code",
      "source": "def count_similar_word_in_title(title1, title2):\n    title1_low = title1.lower()\n    title2_low = title2.lower()\n\n    title1_list = title1_low.split(\" \")\n    title2_list = title2_low.split(\" \")\n\n    stop_words = stopwords.words('english')\n\n    title1_tokens = [ token for token in title1_list if token not in stop_words]\n    title2_tokens = [ token for token in title2_list if token not in stop_words]\n    \n   return len(list(set(title1_tokens)&set(title2_tokens)))",
      "metadata": {
        "tags": [],
        "cell_id": "00008-ff37e0a5-2e15-4692-af6d-3c05b669455f",
        "deepnote_cell_type": "code"
      },
      "outputs": [],
      "execution_count": null
    },
    {
      "cell_type": "code",
      "metadata": {
        "tags": [],
        "cell_id": "00008-35bc88f9-66cd-4fab-908a-056107ba8819",
        "deepnote_to_be_reexecuted": false,
        "source_hash": "ac5b7617",
        "execution_millis": 84726,
        "execution_start": 1619451255734,
        "deepnote_cell_type": "code"
      },
      "source": "for i in news_dataset.iterrows():\n    for j in news_dataset.iterrows():\n        similarity = jaccard_similarity(i[1][\"extracted_keywords\"], j[1][\"extracted_keywords\"])\n        if  similarity> 0.3 and similarity != 1.0:\n            print(i[1][\"title\"])\n            print(j[1][\"title\"])\n            print(\"---------------\")",
      "outputs": [
        {
          "name": "stdout",
          "text": "The Parliamentary Tactic That Could Obliterate Obamacare - The New York Times\nRepublicans’ 4-Step Plan to Repeal the Affordable Care Act - The New York Times\n---------------\nRepublicans’ 4-Step Plan to Repeal the Affordable Care Act - The New York Times\nThe Parliamentary Tactic That Could Obliterate Obamacare - The New York Times\n---------------\nRepublicans’ 4-Step Plan to Repeal the Affordable Care Act - The New York Times\nSenators Propose Giving States Option to Keep Affordable Care Act - The New York Times\n---------------\nFour Movies You Should Know About Before the Golden Globes - The New York Times\nObama’s Last Battle: His Legacy - The New York Times\n---------------\nSenate Confirmation Hearings to Begin Without All Background Checks - The New York Times\nMike Pompeo Is Confirmed to Lead C.I.A., as Rex Tillerson Advances - The New York Times\n---------------\nWhat We Know and Don’t Know About the Trump-Russia Dossier - The New York Times\nTrump Received Unsubstantiated Report That Russia Had Damaging Information About Him - The New York Times\n---------------\nTrump Received Unsubstantiated Report That Russia Had Damaging Information About Him - The New York Times\nWhat We Know and Don’t Know About the Trump-Russia Dossier - The New York Times\n---------------\nSamsung Group Leader Is Named a Suspect in South Korean Bribery Inquiry - The New York Times\nIn a Blow to Prosecutor, South Korean Court Blocks Arrest of Samsung Group Leader - The New York Times\n---------------\nTranscript: President Obama on What Books Mean to Him - The New York Times\nObama’s Secret to Surviving the White House Years: Books - The New York Times\n---------------\nF.B.I. Arrests Wife of Killer in Orlando Mass Shooting - The New York Times\nWife of Orlando Gunman Is Charged Under Antiterrorism Laws - The New York Times\n---------------\nObama’s Secret to Surviving the White House Years: Books - The New York Times\nTranscript: President Obama on What Books Mean to Him - The New York Times\n---------------\nObama’s Last Battle: His Legacy - The New York Times\nFour Movies You Should Know About Before the Golden Globes - The New York Times\n---------------\nWife of Orlando Gunman Is Charged Under Antiterrorism Laws - The New York Times\nF.B.I. Arrests Wife of Killer in Orlando Mass Shooting - The New York Times\n---------------\nIn a Blow to Prosecutor, South Korean Court Blocks Arrest of Samsung Group Leader - The New York Times\nSamsung Group Leader Is Named a Suspect in South Korean Bribery Inquiry - The New York Times\n---------------\nG.O.P. Senators Hope to Speed Trump Cabinet Confirmations - The New York Times\nMike Pompeo Is Confirmed to Lead C.I.A., as Rex Tillerson Advances - The New York Times\n---------------\nSenators Propose Giving States Option to Keep Affordable Care Act - The New York Times\nRepublicans’ 4-Step Plan to Repeal the Affordable Care Act - The New York Times\n---------------\nMike Pompeo Is Confirmed to Lead C.I.A., as Rex Tillerson Advances - The New York Times\nSenate Confirmation Hearings to Begin Without All Background Checks - The New York Times\n---------------\nMike Pompeo Is Confirmed to Lead C.I.A., as Rex Tillerson Advances - The New York Times\nG.O.P. Senators Hope to Speed Trump Cabinet Confirmations - The New York Times\n---------------\nTrump Poised to Lift Ban on C.I.A. ‘Black Site’ Prisons - The New York Times\nWhite House Pulls Back From Bid to Reopen C.I.A. ‘Black Site’ Prisons - The New York Times\n---------------\nIn a Week, Trump Reshapes Decades of Perceptions About America - The New York Times\nRex Tillerson Is Confirmed as Secretary of State Amid Record Opposition - The New York Times\n---------------\nRex Tillerson Is Confirmed as Secretary of State Amid Record Opposition - The New York Times\nIn a Week, Trump Reshapes Decades of Perceptions About America - The New York Times\n---------------\n‘The Daily’: Making Sense of the Gorsuch Pick - The New York Times\n‘The Daily’: President Trump’s Foreign Policy Muse - The New York Times\n---------------\n‘The Daily’: Making Sense of the Gorsuch Pick - The New York Times\n‘The Daily’: Trump Trumps the Super Bowl - The New York Times\n---------------\n‘The Daily’: President Trump’s Foreign Policy Muse - The New York Times\n‘The Daily’: Making Sense of the Gorsuch Pick - The New York Times\n---------------\n‘The Daily’: President Trump’s Foreign Policy Muse - The New York Times\n‘The Daily’: Trump Trumps the Super Bowl - The New York Times\n---------------\n‘The Daily’: Trump Trumps the Super Bowl - The New York Times\n‘The Daily’: Making Sense of the Gorsuch Pick - The New York Times\n---------------\n‘The Daily’: Trump Trumps the Super Bowl - The New York Times\n‘The Daily’: President Trump’s Foreign Policy Muse - The New York Times\n---------------\nWhite House Pulls Back From Bid to Reopen C.I.A. ‘Black Site’ Prisons - The New York Times\nTrump Poised to Lift Ban on C.I.A. ‘Black Site’ Prisons - The New York Times\n---------------\n",
          "output_type": "stream"
        }
      ],
      "execution_count": null
    },
    {
      "cell_type": "markdown",
      "source": "# Preprocessing and creating of vector",
      "metadata": {
        "tags": [],
        "cell_id": "00009-e2c00af9-5cde-4b45-b0ba-3178d770ff3d",
        "deepnote_cell_type": "markdown"
      }
    },
    {
      "cell_type": "code",
      "source": "import sys\nsys.path.insert(1, '/work/IFT6010_Story_Tree/src/features/')",
      "metadata": {
        "tags": [],
        "cell_id": "00010-ca491995-0aad-461f-996c-5dd14b19e673",
        "deepnote_to_be_reexecuted": false,
        "source_hash": "d8e67633",
        "execution_millis": 1,
        "execution_start": 1619452204218,
        "deepnote_cell_type": "code"
      },
      "outputs": [],
      "execution_count": 6
    },
    {
      "cell_type": "code",
      "source": "from utils_cosine_tf_idf import latest_tfidf, preprocessing",
      "metadata": {
        "tags": [],
        "cell_id": "00011-1c34db71-8c34-4b75-9fc3-40877db8f2d3",
        "deepnote_to_be_reexecuted": false,
        "source_hash": "909acb11",
        "execution_millis": 2981,
        "execution_start": 1619452205749,
        "deepnote_cell_type": "code"
      },
      "outputs": [
        {
          "name": "stderr",
          "text": "[nltk_data] Downloading package stopwords to /root/nltk_data...\n[nltk_data]   Unzipping corpora/stopwords.zip.\n[nltk_data] Downloading package punkt to /root/nltk_data...\n[nltk_data]   Unzipping tokenizers/punkt.zip.\n[nltk_data] Downloading package wordnet to /root/nltk_data...\n[nltk_data]   Unzipping corpora/wordnet.zip.\n",
          "output_type": "stream"
        }
      ],
      "execution_count": 7
    },
    {
      "cell_type": "code",
      "source": "news_dataset['text_and_title'] = news_dataset[['content','title']].apply(lambda x :\" \".join(x), axis=1)\nnews_dataset['preprocessed_text'] = news_dataset['text_and_title'].apply(preprocessing)\n\n\ncorpus = news_dataset['preprocessed_text']\ncorpus = corpus.to_list()\n\nnews_dataset['vector'] = news_dataset['preprocessed_text'].apply(latest_tfidf, allDocs=corpus)",
      "metadata": {
        "tags": [],
        "cell_id": "00011-a5a6cc05-2d7d-43b7-bdd1-edd1dbe30a78",
        "deepnote_to_be_reexecuted": false,
        "source_hash": "835ce433",
        "execution_millis": 9052365,
        "execution_start": 1619452208737,
        "deepnote_cell_type": "code"
      },
      "outputs": [],
      "execution_count": 8
    },
    {
      "cell_type": "code",
      "source": "news_dataset.to_pickle(\"news_with_extracted_keywords_and_vectors.pkl\")",
      "metadata": {
        "tags": [],
        "cell_id": "00015-10903170-788d-4337-a07c-6af2dbbc41b4",
        "deepnote_to_be_reexecuted": false,
        "source_hash": "f22c2ca7",
        "execution_millis": 5932,
        "execution_start": 1619461361682,
        "deepnote_cell_type": "code"
      },
      "outputs": [],
      "execution_count": 12
    },
    {
      "cell_type": "markdown",
      "source": "# Extend and insert event in story",
      "metadata": {
        "tags": [],
        "cell_id": "00010-cf58bf4e-09ee-46d5-93cb-3ece7b766af4",
        "deepnote_cell_type": "markdown"
      }
    },
    {
      "cell_type": "markdown",
      "source": "Measure connection strength between our event X, and all the events X_s of a story. We look at:\n\n1) The time distance between both events\n\n2) The compatibility of the two events\n\n3) The storyline coherence if we append event X to story tree of X_s\n\nconnection_strength(X,X_s) = compatibility()+coherence()+time_penalty",
      "metadata": {
        "tags": [],
        "cell_id": "00011-cab48f6f-401f-49e2-a4e9-1a9a0c86786b",
        "deepnote_cell_type": "markdown"
      }
    },
    {
      "cell_type": "code",
      "metadata": {
        "tags": [],
        "cell_id": "00013-4a679be5-4a1b-49cd-ab7c-355df0fefe5f",
        "deepnote_to_be_reexecuted": false,
        "source_hash": "bb5fe517",
        "execution_millis": 1,
        "execution_start": 1619462239826,
        "deepnote_cell_type": "code"
      },
      "source": "def compatiblity(tf_new_event, tf_event_story):\n\n    #tf_new_event = np.array(tf_new_event)\n    #tf_event_story = np.array(tf_event_story)\n\n    if len(tf_new_event) < len(tf_event_story):\n        temp = tf_new_event\n        vector_a = tf_event_story\n        vector_b = temp\n    else:\n        vector_a = tf_new_event\n        vector_b = tf_event_story\n\n    list_1={}\n    list_2={}\n\n    for elem in vector_a:\n        if elem in vector_b:\n            list_1[elem] = vector_a[elem]\n            list_2[elem] = vector_b[elem]\n        else:\n            list_1[elem] = vector_a[elem]\n            list_2[elem] = 0\n\n    for elem in vector_b:\n        if not elem in list_1:\n            list_1[elem] = 0 \n            list_2[elem] = vector_b[elem]\n\n    # turn dictionary to numpy array\n    list_1_vector = np.fromiter(list_1.values(), dtype=float)\n    list_2_vector = np.fromiter(list_2.values(), dtype=float)\n\n    prod = np.dot(list_1_vector, list_2_vector)\n\n    \n    return prod / np.linalg.norm(list_1_vector) * np.linalg.norm(list_2_vector)",
      "execution_count": 13,
      "outputs": []
    },
    {
      "cell_type": "code",
      "source": "def conherence():\n    event1 = news_dataset['VECTOR'].iloc[2]\n\n    sum_ = 0\n    \n    for event in stories:\n        event2 = news_dataset['VECTOR'].iloc[3]\n\n        sum_ += compatiblity(event1, event2)\n\n    return sum_/len(stories)",
      "metadata": {
        "tags": [],
        "cell_id": "00021-6e0e6140-c465-474e-8298-2faae86a8202",
        "deepnote_to_be_reexecuted": false,
        "source_hash": "86441a39",
        "execution_start": 1619462240128,
        "execution_millis": 2,
        "deepnote_cell_type": "code"
      },
      "outputs": [],
      "execution_count": 14
    },
    {
      "cell_type": "code",
      "source": "def time_penalty(delta, time1, time2):\n    if time1 < time2:\n        return math.exp(delta)\n    \n    return 0",
      "metadata": {
        "tags": [],
        "cell_id": "00019-acd8e8a5-3f1c-4ad3-b5ba-4424042a1244",
        "deepnote_to_be_reexecuted": false,
        "source_hash": "136e14f8",
        "execution_start": 1619462241353,
        "execution_millis": 2,
        "deepnote_cell_type": "code"
      },
      "outputs": [],
      "execution_count": 15
    },
    {
      "cell_type": "markdown",
      "source": "# Create stories",
      "metadata": {
        "tags": [],
        "cell_id": "00018-e6cbeb75-ef52-444b-b13c-ef205a424a8c",
        "deepnote_cell_type": "markdown"
      }
    },
    {
      "cell_type": "markdown",
      "source": "### Identifying the related story tree",
      "metadata": {
        "tags": [],
        "cell_id": "00020-dd494081-37e5-43ca-882d-137521d4acdd",
        "deepnote_cell_type": "markdown"
      }
    },
    {
      "cell_type": "code",
      "source": "# Needs to be true with at least 1 event in the story\ndef is_event_in_story(keywords_of_event, keyword_of_stories):\n    similarity = jaccard_similarity(keywords_of_event, keyword_of_stories)\n    common_words_title = count_similar_word_in_title(title1, title2)\n\n    if  similarity > 0.3 and common_words_title >= 1:\n        return True\n    \n    return False",
      "metadata": {
        "tags": [],
        "cell_id": "00020-cef02454-6814-4569-8b40-9c25608408ad",
        "deepnote_cell_type": "code"
      },
      "outputs": [],
      "execution_count": null
    },
    {
      "cell_type": "markdown",
      "source": "### Update the related story tree",
      "metadata": {
        "tags": [],
        "cell_id": "00023-f344cf62-5d12-49b4-ab55-d26a588d6dea",
        "deepnote_cell_type": "markdown"
      }
    },
    {
      "cell_type": "markdown",
      "source": "We calculate the connection strength between the new event E and each existing event Ej ∈ S based on the following three factors: \n\n(1) the time distance between E and Ej\n\n(2) the compatibility of the two events\n\n(3) the storyline coherence if E is appended to Ej in the tree",
      "metadata": {
        "tags": [],
        "cell_id": "00024-5f57ace8-e703-41b5-b194-0e08d38c8ae4",
        "deepnote_cell_type": "markdown"
      }
    },
    {
      "cell_type": "code",
      "source": "class Event:\n    def __init__(self, title, content, keywords, date, vector):\n        self.title = title\n        self.content = content\n        self.keywords = keywords\n        self.date = date\n        self.vector = vector\n\n    def get_title():\n        return self.title\n    \n    def get_content():\n        return self.content\n\n    def get_keywords():\n        return self.keywords\n\n    def get_vector():\n        return self.vector\n\n\n\nclass Story:\n    def __init__(self, event):\n        self.list_of_event = [event]\n        self.list_keywords = event.get_keywords()\n\n    def add_event(new_event):\n        list_of_event.append(event)\n\n        # A story keywords, is the union of all keywords\n        list_of_keywords.extend(new_event.get_keywords())\n\n    def get_list_of_keywords():\n        return list_keywords",
      "metadata": {
        "tags": [],
        "cell_id": "00024-709b7079-05eb-4691-b774-0a839674c789",
        "deepnote_to_be_reexecuted": false,
        "source_hash": "f016d9c0",
        "execution_millis": 8,
        "execution_start": 1619464668939,
        "deepnote_cell_type": "code"
      },
      "outputs": [],
      "execution_count": 18
    },
    {
      "cell_type": "code",
      "source": "list_of_stories = []\n\n# Go through events to add to stories \nfor i in range(len(news_dataset)):\n\n    row = news_dataset.iloc[i]\n    title    = row[\"title\"]\n    content  = row[\"content\"]\n    keywords = row[\"extracted_keywords\"]\n    date     = row[\"date\"]\n    vector   = row[\"vector\"]\n\n    # We create the first story\n    if i==0:\n        list_of_stories.append(Story(Event(title, content, keywords, date, vector)))\n\n\n    # Do we add the event to an existing story, or create a new one ?\n    else:\n        for story in list_of_stories:\n            is_event_in_story\n",
      "metadata": {
        "tags": [],
        "cell_id": "00027-3f5c67bf-cdbe-4903-a453-89fee8faa892",
        "deepnote_cell_type": "code"
      },
      "outputs": [],
      "execution_count": null
    },
    {
      "cell_type": "markdown",
      "source": "<a style='text-decoration:none;line-height:16px;display:flex;color:#5B5B62;padding:10px;justify-content:end;' href='https://deepnote.com?utm_source=created-in-deepnote-cell&projectId=902703f2-430f-48f3-ba3f-6c2fee66cf11' target=\"_blank\">\n<img alt='Created in deepnote.com' style='display:inline;max-height:16px;margin:0px;margin-right:7.5px;' src='data:image/svg+xml;base64,PD94bWwgdmVyc2lvbj0iMS4wIiBlbmNvZGluZz0iVVRGLTgiPz4KPHN2ZyB3aWR0aD0iODBweCIgaGVpZ2h0PSI4MHB4IiB2aWV3Qm94PSIwIDAgODAgODAiIHZlcnNpb249IjEuMSIgeG1sbnM9Imh0dHA6Ly93d3cudzMub3JnLzIwMDAvc3ZnIiB4bWxuczp4bGluaz0iaHR0cDovL3d3dy53My5vcmcvMTk5OS94bGluayI+CiAgICA8IS0tIEdlbmVyYXRvcjogU2tldGNoIDU0LjEgKDc2NDkwKSAtIGh0dHBzOi8vc2tldGNoYXBwLmNvbSAtLT4KICAgIDx0aXRsZT5Hcm91cCAzPC90aXRsZT4KICAgIDxkZXNjPkNyZWF0ZWQgd2l0aCBTa2V0Y2guPC9kZXNjPgogICAgPGcgaWQ9IkxhbmRpbmciIHN0cm9rZT0ibm9uZSIgc3Ryb2tlLXdpZHRoPSIxIiBmaWxsPSJub25lIiBmaWxsLXJ1bGU9ImV2ZW5vZGQiPgogICAgICAgIDxnIGlkPSJBcnRib2FyZCIgdHJhbnNmb3JtPSJ0cmFuc2xhdGUoLTEyMzUuMDAwMDAwLCAtNzkuMDAwMDAwKSI+CiAgICAgICAgICAgIDxnIGlkPSJHcm91cC0zIiB0cmFuc2Zvcm09InRyYW5zbGF0ZSgxMjM1LjAwMDAwMCwgNzkuMDAwMDAwKSI+CiAgICAgICAgICAgICAgICA8cG9seWdvbiBpZD0iUGF0aC0yMCIgZmlsbD0iIzAyNjVCNCIgcG9pbnRzPSIyLjM3NjIzNzYyIDgwIDM4LjA0NzY2NjcgODAgNTcuODIxNzgyMiA3My44MDU3NTkyIDU3LjgyMTc4MjIgMzIuNzU5MjczOSAzOS4xNDAyMjc4IDMxLjY4MzE2ODMiPjwvcG9seWdvbj4KICAgICAgICAgICAgICAgIDxwYXRoIGQ9Ik0zNS4wMDc3MTgsODAgQzQyLjkwNjIwMDcsNzYuNDU0OTM1OCA0Ny41NjQ5MTY3LDcxLjU0MjI2NzEgNDguOTgzODY2LDY1LjI2MTk5MzkgQzUxLjExMjI4OTksNTUuODQxNTg0MiA0MS42NzcxNzk1LDQ5LjIxMjIyODQgMjUuNjIzOTg0Niw0OS4yMTIyMjg0IEMyNS40ODQ5Mjg5LDQ5LjEyNjg0NDggMjkuODI2MTI5Niw0My4yODM4MjQ4IDM4LjY0NzU4NjksMzEuNjgzMTY4MyBMNzIuODcxMjg3MSwzMi41NTQ0MjUgTDY1LjI4MDk3Myw2Ny42NzYzNDIxIEw1MS4xMTIyODk5LDc3LjM3NjE0NCBMMzUuMDA3NzE4LDgwIFoiIGlkPSJQYXRoLTIyIiBmaWxsPSIjMDAyODY4Ij48L3BhdGg+CiAgICAgICAgICAgICAgICA8cGF0aCBkPSJNMCwzNy43MzA0NDA1IEwyNy4xMTQ1MzcsMC4yNTcxMTE0MzYgQzYyLjM3MTUxMjMsLTEuOTkwNzE3MDEgODAsMTAuNTAwMzkyNyA4MCwzNy43MzA0NDA1IEM4MCw2NC45NjA0ODgyIDY0Ljc3NjUwMzgsNzkuMDUwMzQxNCAzNC4zMjk1MTEzLDgwIEM0Ny4wNTUzNDg5LDc3LjU2NzA4MDggNTMuNDE4MjY3Nyw3MC4zMTM2MTAzIDUzLjQxODI2NzcsNTguMjM5NTg4NSBDNTMuNDE4MjY3Nyw0MC4xMjg1NTU3IDM2LjMwMzk1NDQsMzcuNzMwNDQwNSAyNS4yMjc0MTcsMzcuNzMwNDQwNSBDMTcuODQzMDU4NiwzNy43MzA0NDA1IDkuNDMzOTE5NjYsMzcuNzMwNDQwNSAwLDM3LjczMDQ0MDUgWiIgaWQ9IlBhdGgtMTkiIGZpbGw9IiMzNzkzRUYiPjwvcGF0aD4KICAgICAgICAgICAgPC9nPgogICAgICAgIDwvZz4KICAgIDwvZz4KPC9zdmc+' > </img>\nCreated in <span style='font-weight:600;margin-left:4px;'>Deepnote</span></a>",
      "metadata": {
        "tags": [],
        "created_in_deepnote_cell": true,
        "deepnote_cell_type": "markdown"
      }
    }
  ],
  "nbformat": 4,
  "nbformat_minor": 2,
  "metadata": {
    "orig_nbformat": 2,
    "deepnote": {
      "is_reactive": false
    },
    "deepnote_notebook_id": "b9a1643a-91a0-4f2d-a668-df2379bdd8b2",
    "deepnote_execution_queue": []
  }
}