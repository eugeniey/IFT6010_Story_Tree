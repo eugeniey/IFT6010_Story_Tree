{
  "cells": [
    {
      "cell_type": "code",
      "metadata": {
        "tags": [],
        "cell_id": "00000-df97d379-af00-49ef-96ac-07e5840e55b3",
        "deepnote_to_be_reexecuted": false,
        "source_hash": "615dd094",
        "execution_millis": 0,
        "execution_start": 1616285973966,
        "deepnote_cell_type": "code"
      },
      "source": "import pandas as pd\nfrom collections import OrderedDict",
      "outputs": [],
      "execution_count": null
    },
    {
      "cell_type": "code",
      "metadata": {
        "tags": [],
        "cell_id": "00000-b0af14b4-65b3-4891-ac16-3aa79df28726",
        "deepnote_to_be_reexecuted": false,
        "source_hash": "2bf4b6a7",
        "execution_millis": 15,
        "execution_start": 1616285976712,
        "deepnote_cell_type": "code"
      },
      "source": "news_dataset = pd.read_pickle(\"/work/News_dataset/short_news_dataset_2_with_extractedkeyword.pickle\")",
      "outputs": [],
      "execution_count": null
    },
    {
      "cell_type": "code",
      "metadata": {
        "tags": [],
        "cell_id": "00002-e604dec2-6cf5-4333-ad31-ab3a7ad03193",
        "deepnote_to_be_reexecuted": false,
        "source_hash": "4208985b",
        "execution_millis": 9,
        "execution_start": 1616285978077,
        "deepnote_cell_type": "code"
      },
      "source": "news_dataset.head()",
      "outputs": [
        {
          "output_type": "execute_result",
          "execution_count": 68,
          "data": {
            "application/vnd.deepnote.dataframe.v2+json": {
              "row_count": 5,
              "column_count": 7,
              "columns": [
                {
                  "name": "Unnamed: 0",
                  "dtype": "object",
                  "stats": {
                    "unique_count": 5,
                    "nan_count": 0,
                    "categories": [
                      {
                        "name": "1",
                        "count": 1
                      },
                      {
                        "name": "2",
                        "count": 1
                      },
                      {
                        "name": "3 others",
                        "count": 3
                      }
                    ]
                  }
                },
                {
                  "name": "KEYWORDS",
                  "dtype": "object",
                  "stats": {
                    "unique_count": 5,
                    "nan_count": 0,
                    "categories": [
                      {
                        "name": "['facebook', 'whats', 'world', 'unfolds', 'tamagotchi', 'chat', 'messenger', 'happening']",
                        "count": 1
                      },
                      {
                        "name": "['jedi', 'shots', 'rey', 'force', 'wars', 'star', 'film', 'football', 'skywalker', 'trailer', 'night', 'trailers', 'debuts']",
                        "count": 1
                      },
                      {
                        "name": "3 others",
                        "count": 3
                      }
                    ]
                  }
                },
                {
                  "name": "SUMMARY",
                  "dtype": "object",
                  "stats": {
                    "unique_count": 5,
                    "nan_count": 0,
                    "categories": [
                      {
                        "name": "Chat with us in Facebook Messenger.\nFind out what's happening in the world as it unfolds.",
                        "count": 1
                      },
                      {
                        "name": "ESPN's \"Monday Night Football\" had bears, vikings and Jedi on Monday night.\nThe official trailer for \"Star Wars: The Last Jedi\" debuted during halftime of the Monday night match up between the Chicago Bears and Minnesota Vikings.\nCheck out the brand new poster for Star Wars: #TheLastJedi and watch the trailer tonight.\npic.twitter.com/A4UGpYqoeW — Star Wars (@starwars) October 10, 2017\"Last Jedi\" is the eighth episode in the \"Star Wars\" saga and is a direct sequel to the 2015 blockbuster, \"Star Wars: The Force Awakens.\"\nDisney acquired Lucasfilm and the \"Star Wars\" franchise from creator George Lucas in 2012 for $4 billion.",
                        "count": 1
                      },
                      {
                        "name": "3 others",
                        "count": 3
                      }
                    ]
                  }
                },
                {
                  "name": "TEXT",
                  "dtype": "object",
                  "stats": {
                    "unique_count": 5,
                    "nan_count": 0,
                    "categories": [
                      {
                        "name": "Chat with us in Facebook Messenger. Find out what's happening in the world as it unfolds.",
                        "count": 1
                      },
                      {
                        "name": "ESPN's \"Monday Night Football\" had bears, vikings and Jedi on Monday night.\n\nThe official trailer for \"Star Wars: The Last Jedi\" debuted during halftime of the Monday night match up between the Chicago Bears and Minnesota Vikings.\n\nThe new trailer gives us our latest look at the most anticipated film of the year, which brings us back to the galaxy far, far away.\n\nIt focused on the two new main characters of the series in Adam Driver's Kylo Ren and Daisy Ridley's Rey as well as old favorites like Mark Hamill's Luke Skywalker and Carrie Fisher's Princess Leia.\n\n\"I've seen this raw strength only once before. It didn't scare me enough then,\" Skywalker says as shots of Rey using the Force are shown. \"It does now.\"\n\nThe trailer also includes shots of battles taking place on new planets and in space, and ends with the evil Ren seemingly reaching out his hand to Rey.\n\n\"I need someone to show me my place in all this,\" Rey says as the trailer closes.\n\nThe trailer garnered a big reaction on social media and racked up more than 300,000 views on YouTube in roughly 30 minutes.\n\nTickets to \"Last Jedi\" went on sale following the trailer's debut, leaving fans scrambling to nab a ticket to the film -- which opens on December 15.\n\nBefore the trailer's premiere, Disney released a new poster for the film. The print had a red hue and included characters like Rey wielding a blue lightsaber as well as a bearded Skywalker shrouded in a black hood in the center.\n\nCheck out the brand new poster for Star Wars: #TheLastJedi and watch the trailer tonight. pic.twitter.com/A4UGpYqoeW — Star Wars (@starwars) October 10, 2017\n\n\"Last Jedi\" is the eighth episode in the \"Star Wars\" saga and is a direct sequel to the 2015 blockbuster, \"Star Wars: The Force Awakens.\"\n\nIt stars Ridley, John Boyega and Hamill. It is also the last film role of Fisher, who died last year.\n\nDisney acquired Lucasfilm and the \"Star Wars\" franchise from creator George Lucas in 2012 for $4 billion.\n\nThe company has already seen a windfall at the box office with \"Force Awakens\" bringing in more than $2 billion worldwide and \"Rogue One: A Star Wars Story,\" the franchise's first spinoff, which made more than $1 billion.",
                        "count": 1
                      },
                      {
                        "name": "3 others",
                        "count": 3
                      }
                    ]
                  }
                },
                {
                  "name": "TITLE",
                  "dtype": "object",
                  "stats": {
                    "unique_count": 5,
                    "nan_count": 0,
                    "categories": [
                      {
                        "name": "Tamagotchi is back",
                        "count": 1
                      },
                      {
                        "name": "'Star Wars: The Last Jedi' trailer debuts on 'Monday Night Football'",
                        "count": 1
                      },
                      {
                        "name": "3 others",
                        "count": 3
                      }
                    ]
                  }
                },
                {
                  "name": "date",
                  "dtype": "object",
                  "stats": {
                    "unique_count": 1,
                    "nan_count": 0,
                    "categories": [
                      {
                        "name": "10-06-2017",
                        "count": 5
                      }
                    ]
                  }
                },
                {
                  "name": "extracted_keywords",
                  "dtype": "object",
                  "stats": {
                    "unique_count": 5,
                    "nan_count": 0,
                    "categories": [
                      {
                        "name": "['messenger', 'facebook', 'chat', 'find', 'unfolds', 'happening', 'world']",
                        "count": 1
                      },
                      {
                        "name": "['monday', 'trailer', 'night', 'rey', 'jedi', 'espn', 'football', 'bears', 'new', 'disney', 'skywalker', 'stars', 'like', 'ren', 'youtube', 'lucasfilm', 'halftime', 'minnesota vikings', 'adam', 'fisher']",
                        "count": 1
                      },
                      {
                        "name": "3 others",
                        "count": 3
                      }
                    ]
                  }
                },
                {
                  "name": "_deepnote_index_column",
                  "dtype": "int64"
                }
              ],
              "rows_top": [
                {
                  "Unnamed: 0": 1,
                  "KEYWORDS": "['facebook', 'whats', 'world', 'unfolds', 'tamagotchi', 'chat', 'messenger', 'happening']",
                  "SUMMARY": "Chat with us in Facebook Messenger.\nFind out what's happening in the world as it unfolds.",
                  "TEXT": "Chat with us in Facebook Messenger. Find out what's happening in the world as it unfolds.",
                  "TITLE": "Tamagotchi is back",
                  "date": "10-06-2017",
                  "extracted_keywords": "['messenger', 'facebook', 'chat', 'find', 'unfolds', 'happening', 'world']",
                  "_deepnote_index_column": 1
                },
                {
                  "Unnamed: 0": 2,
                  "KEYWORDS": "['jedi', 'shots', 'rey', 'force', 'wars', 'star', 'film', 'football', 'skywalker', 'trailer', 'night', 'trailers', 'debuts']",
                  "SUMMARY": "ESPN's \"Monday Night Football\" had bears, vikings and Jedi on Monday night.\nThe official trailer for \"Star Wars: The Last Jedi\" debuted during halftime of the Monday night match up between the Chicago Bears and Minnesota Vikings.\nCheck out the brand new poster for Star Wars: #TheLastJedi and watch the trailer tonight.\npic.twitter.com/A4UGpYqoeW — Star Wars (@starwars) October 10, 2017\"Last Jedi\" is the eighth episode in the \"Star Wars\" saga and is a direct sequel to the 2015 blockbuster, \"Star Wars: The Force Awakens.\"\nDisney acquired Lucasfilm and the \"Star Wars\" franchise from creator George Lucas in 2012 for $4 billion.",
                  "TEXT": "ESPN's \"Monday Night Football\" had bears, vikings and Jedi on Monday night.\n\nThe official trailer for \"Star Wars: The Last Jedi\" debuted during halftime of the Monday night match up between the Chicago Bears and Minnesota Vikings.\n\nThe new trailer gives us our latest look at the most anticipated film of the year, which brings us back to the galaxy far, far away.\n\nIt focused on the two new main characters of the series in Adam Driver's Kylo Ren and Daisy Ridley's Rey as well as old favorites like Mark Hamill's Luke Skywalker and Carrie Fisher's Princess Leia.\n\n\"I've seen this raw strength only once before. It didn't scare me enough then,\" Skywalker says as shots of Rey using the Force are shown. \"It does now.\"\n\nThe trailer also includes shots of battles taking place on new planets and in space, and ends with the evil Ren seemingly reaching out his hand to Rey.\n\n\"I need someone to show me my place in all this,\" Rey says as the trailer closes.\n\nThe trailer garnered a big reaction on social media and racked up more than 300,000 views on YouTube in roughly 30 minutes.\n\nTickets to \"Last Jedi\" went on sale following the trailer's debut, leaving fans scrambling to nab a ticket to the film -- which opens on December 15.\n\nBefore the trailer's premiere, Disney released a new poster for the film. The print had a red hue and included characters like Rey wielding a blue lightsaber as well as a bearded Skywalker shrouded in a black hood in the center.\n\nCheck out the brand new poster for Star Wars: #TheLastJedi and watch the trailer tonight. pic.twitter.com/A4UGpYqoeW — Star Wars (@starwars) October 10, 2017\n\n\"Last Jedi\" is the eighth episode in the \"Star Wars\" saga and is a direct sequel to the 2015 blockbuster, \"Star Wars: The Force Awakens.\"\n\nIt stars Ridley, John Boyega and Hamill. It is also the last film role of Fisher, who died last year.\n\nDisney acquired Lucasfilm and the \"Star Wars\" franchise from creator George Lucas in 2012 for $4 billion.\n\nThe company has already seen a windfall at the box office with \"Force Awakens\" bringing in more than $2 billion worldwide and \"Rogue One: A Star Wars Story,\" the franchise's first spinoff, which made more than $1 billion.",
                  "TITLE": "'Star Wars: The Last Jedi' trailer debuts on 'Monday Night Football'",
                  "date": "10-06-2017",
                  "extracted_keywords": "['monday', 'trailer', 'night', 'rey', 'jedi', 'espn', 'football', 'bears', 'new', 'disney', 'skywalker', 'stars', 'like', 'ren', 'youtube', 'lucasfilm', 'halftime', 'minnesota vikings', 'adam', 'fisher']",
                  "_deepnote_index_column": 2
                },
                {
                  "Unnamed: 0": 3,
                  "KEYWORDS": "['clients', 'art', 'science', 'scent', 'collide', 'uniquein', 'world', 'h', 'oneofakind', 'worlds', 'quite', 'perfumer', 'scents', 'harris']",
                  "SUMMARY": "Lyn Harris' independent space, Perfumer H , in Marylebone, London doubles as a shopfront and laboratory.\nHere, the seasoned perfumer creates her own seasonal scents and concocts bespoke perfumes for clients who are after something truly unique.\nIn these instances, clients own the rights to their formula, guaranteeing there's no one else in the world with quite the same scent.\nPerfumer H, founded in 2015, is a more experimental and creative expression of Harris' craft.\n\"Like any art form, it's as complicated as you want it to be,\" says Harris of the art of perfume.",
                  "TEXT": "This feature is part of ' Details ,' a new series that captures the creation of some of the world's most intricately made objects.\n\nLyn Harris' independent space, Perfumer H , in Marylebone, London doubles as a shopfront and laboratory. Here, the seasoned perfumer creates her own seasonal scents and concocts bespoke perfumes for clients who are after something truly unique.\n\nIn these instances, clients own the rights to their formula, guaranteeing there's no one else in the world with quite the same scent. But customization comes with a price: Harris' tailor-made scents can cost up to £15,000 (around $20,000).\n\nAfter training her nose in both Paris and Grasse, Harris co-founded the successful Miller Harris brand with business partner Christophe Michel in 2000. Perfumer H, founded in 2015, is a more experimental and creative expression of Harris' craft.\n\n\"Like any art form, it's as complicated as you want it to be,\" says Harris of the art of perfume. \"I see things quite simply ... It's about making a beautiful smell that really sings on somebody's skin.\"",
                  "TITLE": "Art and science collide in this one-of-a-kind scent",
                  "date": "10-06-2017",
                  "extracted_keywords": "['details', 'perfumer', \"harris'\", 'objects', 'feature', 'series', 'captures', 'creation', 'london', 'partner', 'christophe', 'seasonal', 'bespoke', 'miller', 'craft', 'lyn', 'business', 'doubles', 'shopfront', 'customization', 'tailor', 'perfumes', 'marylebone', 'paris', 'grasse, harris']",
                  "_deepnote_index_column": 3
                },
                {
                  "Unnamed: 0": 4,
                  "KEYWORDS": "['akufoaddo', 'tanker', 'incidents', 'dozens', 'streetsgovernment', 'work', 'station', 'seven', 'explosion', 'gas', 'ghana', 'nana', 'injured', 'ensure', 'killed']",
                  "SUMMARY": "(CNN) A tanker exploded near a gas station in Accra on Saturday killing seven people, officials in Ghana said.\nDozens of others were injured in the blast, said presidential spokesman Eugene Arhin.\nThe fire quickly spread to a nearby gas station.\n— Nana Akufo-Addo (@NAkufoAddo) October 8, 2017President Nana Akufo-Addo issued condolences to the relatives of those killed and said the government would work to ensure such incidents don't happen again.\n\"... We are going to have to come out with a clear policy on how to prevent such incidents.\"",
                  "TEXT": "(CNN) A tanker exploded near a gas station in Accra on Saturday killing seven people, officials in Ghana said.\n\nDozens of others were injured in the blast, said presidential spokesman Eugene Arhin.\n\nResidents fled when the explosion rocked the capital and sent massive fireballs into the sky. The fire quickly spread to a nearby gas station. Images from the scene showed charred cars and deserted streets.\n\nGovernment is resolved, now more than ever, to ensure such an incident does not occur again. — Nana Akufo-Addo (@NAkufoAddo) October 8, 2017\n\nPresident Nana Akufo-Addo issued condolences to the relatives of those killed and said the government would work to ensure such incidents don't happen again.\n\n\"It is time these incidents came to a stop in Ghana,\" he said. \"... We are going to have to come out with a clear policy on how to prevent such incidents.\"",
                  "TITLE": "Seven killed, dozens injured in Ghana tanker explosion",
                  "date": "10-06-2017",
                  "extracted_keywords": "['cnn', 'accra', 'saturday', 'ghana', 'people', 'officials', 'incidents', 'tanker', 'exploded', 'said', 'massive', 'streets', 'showed charred', 'gas station', 'killed', 'injured', 'october', 'president', 'killing', 'explosion', '@nakufoaddo']",
                  "_deepnote_index_column": 4
                },
                {
                  "Unnamed: 0": 5,
                  "KEYWORDS": "['spanish', 'independence', 'regions', 'meets', 'parliament', 'minister', 'catalan', 'spain', 'future', 'independent', 'puigdemont', 'line', 'catalonia', 'catalans']",
                  "SUMMARY": "Carles Puigdemont, the President of Catalonia, was due to address a specially convened session of the region's parliament.\nPuigdemont was under intense pressure to back down from plans to declare independence from Spain following a disputed referendum.\nThe Parc de la Ciutadella, which houses the Catalan parliament building, was sealed off to the public for safety reasons, with the Catalan police Mossos guarding the entrances and exits.\n\"Diversity should not lead to conflict whose consequences would be bad for Catalonia, Spain and the whole of Europe.\"\nNeighboring France said Monday it would not recognize an independent Catalonia -- and independence would result in automatic expulsion from the European Union.",
                  "TEXT": "(CNN) Pro-independence Catalans gathered on the streets of Barcelona Tuesday ahead of a hotly anticipated speech by the region's leader on the status of the restive province.\n\nCarles Puigdemont, the President of Catalonia, was due to address a specially convened session of the region's parliament. But the session, due to begin at 12 p.m. ET (6p.m. local time) was delayed amid reports of international mediation to end the crisis.\n\nPuigdemont requested the delay \"given the contacts for an international mediation,\" his spokesman Joan Maria Pique told CNN. He did not immediately provide additional details on the mediation.\n\nThe anti-independence Ciutadans party and the Catalan branch of Spanish Prime Minister Mariano Rajoy's Popular Party (PPC) had also requested a suspension of Tuesday' rsession, according to a document seen by CNN.\n\nPuigdemont was under intense pressure to back down from plans to declare independence from Spain following a disputed referendum.\n\nThe Parc de la Ciutadella, which houses the Catalan parliament building, was sealed off to the public for safety reasons, with the Catalan police Mossos guarding the entrances and exits.\n\nNational police and the Guardia Civil kept a low profile, according to CNN reporters.\n\nOfficers of Catalonia's regional police force stand guard outside the Parliament of Catalonia.\n\nEuropean Council President Donald Tusk urged Puigdemont to back down. \"The force of arguments is always better than the argument of force,\" he said in Brussels.\n\n\"Today I ask you to respect in your attentions the constitutional order and not announce a decision that would make such a dialogue impossible,\" he said. \"Diversity should not lead to conflict whose consequences would be bad for Catalonia, Spain and the whole of Europe.\"\n\nMayor of Barcelona Ada Colau, an influential figure who has been critical of both sides, called for de-escalation. She urged Puigdemont not to make a unilateral declaration of independence, and also called on the government of Prime Minister Rajoy not to impose direct rule from Madrid. \"Now is the time for dialogue,\" she said in address from in Barcelona.\n\nBarcelona mayor Ada Colau delivers a speech at the City Council in Barcelona.\n\nColau said Spain was experiencing its \"worst institutional crisis since democracy began\" and said Spain's political elected representatives should \"find a solution that is inclusive and up to standards we have been living.\"\n\nNeighboring France said Monday it would not recognize an independent Catalonia -- and independence would result in automatic expulsion from the European Union.\n\nPolitical uncertainty\n\nHowever thousands of supporters of independence are expected to show up at the parliament in Barcelona to show support for the plan, and to call on Puigdemont to honor his commitments to the separatist movement.\n\nThe political uncertainty began with a divisive and controversial referendum on October 1 that found a majority of Catalan voters in favor of independence for the wealthy, northeastern region of Spain.\n\nMadrid declared the referendum illegal and Spanish police tried to shut the vote down by firing rubber bullets and pulling voters from polling booths in scenes that shocked many across Europe.\n\nJUST WATCHED Catalonia: We want to talk, 'nobody' listening Replay More Videos ... MUST WATCH Catalonia: We want to talk, 'nobody' listening 08:36\n\nCatalonia's Minister of Foreign Affairs, Raul Romeva Rueda, told CNN's Nima Elbagir that the Catalan side has long wanted to negotiate a fair bargain with the Spanish state.\n\n\"What we have always demanded is a political dialogue. The opportunity to (practice) democracy, to allow everybody to express themselves ... We want to talk, we need to negotiate. The problem is nobody's listening from the Spanish state side.\"\n\nHe said that the Catalan government has invited international mediation and called for dialogue.\n\n\"We say, 'we are ready, we want to go to the negotiating table. We are ready to start talks' ... If (the central government has) an offer to make we are very much keen to listen to them.\"\n\nPM: 'Spain will not be divided'\n\nPrime Minister Rajoy is determined to prevent a breakaway by the northeastern province in the wake of the October 1 vote.\n\n\"Spain will not be divided, and the national unity will be preserved. To this end we will employ all the means we have within the law. It is up to the government to make decisions, and to do so at the right moment,\" Rajoy said in an interview with German newspaper Die Welt on Monday.\n\nCatalan authorities said 90% of voters chose independence from Madrid, but the result was not as decisive as it appeared -- turnout was only 43%.\n\nJUST WATCHED Catalan leaders threaten independence Replay More Videos ... MUST WATCH Catalan leaders threaten independence 01:56\n\nWhat's at stake?\n\nThe stakes are high for both Spain and Europe if Catalonia chooses to break away.\n\nCatalonia accounts for nearly a fifth of Spain's economy, and leads all regions in producing 25% of the country's exports, CNNMoney reports. It contributes much more in taxes (21% of the country's total) than it gets back from the central government.\n\nThe prospect of an independent Catalonia has already prompted two major banks and some other businesses to move their registered headquarters to other parts of Spain.\n\nThere is more at stake for Madrid than losing wealth. The country has 17 regions with varying degrees of autonomy, and losing one may inspire others to begin, or revive, separatist movements.\n\nBut there are many other unanswered questions, including continued membership in the European Union.\n\nIf forced to apply independently for EU membership, Catalonia would have to convince all of the bloc's current members, including Spain, to agree.\n\nAnd if Catalonia became an independent state, it would not automatically be a World Trade Organization member, so would likely face stiff trade barriers that would hurt its economy.\n\nJUST WATCHED How Catalonia's independence crisis unfolded Replay More Videos ... MUST WATCH How Catalonia's independence crisis unfolded 01:49\n\nSpeaking on French TV Monday, Nathalie Loiseau, France's minister of European affairs, said the French government would not recognize an independent Catalonia.\n\n\"If independence were to be recognized -- which is not something that's being discussed -- the most immediate consequence would be that (Catalonia) automatically left the European Union,\" said Loiseau.\n\nSpanish Deputy Prime Minister Soraya Sáenz de Santamaría said in an interview on Spanish radio that the government would invoke powers to take control of the regional government if Catalonia went ahead and declared independence.",
                  "TITLE": "Catalans' future on line as parliament meets",
                  "date": "10-06-2017",
                  "extracted_keywords": "['spain', 'catalan', 'independence', 'puigdemont', 'barcelona', 'minister', 'spanish', 'government', 'independently', 'police', 'referendum', 'mayor', 'october', 'monday', 'president', 'cnnmoney', 'tuesday', 'ciutadans party', 'popular party', 'ppc', 'the parc de la ciutadella', 'the parliament of catalonia', 'european council', 'brussels', 'barcelona ada colau', 'madrid', 'the city council', 'france', 'the european union', 'foreign affairs', 'world trade organization']",
                  "_deepnote_index_column": 5
                }
              ],
              "rows_bottom": null
            },
            "text/plain": "  Unnamed: 0                                           KEYWORDS  \\\n1          1  ['facebook', 'whats', 'world', 'unfolds', 'tam...   \n2          2  ['jedi', 'shots', 'rey', 'force', 'wars', 'sta...   \n3          3  ['clients', 'art', 'science', 'scent', 'collid...   \n4          4  ['akufoaddo', 'tanker', 'incidents', 'dozens',...   \n5          5  ['spanish', 'independence', 'regions', 'meets'...   \n\n                                             SUMMARY  \\\n1  Chat with us in Facebook Messenger.\\nFind out ...   \n2  ESPN's \"Monday Night Football\" had bears, viki...   \n3  Lyn Harris' independent space, Perfumer H , in...   \n4  (CNN) A tanker exploded near a gas station in ...   \n5  Carles Puigdemont, the President of Catalonia,...   \n\n                                                TEXT  \\\n1  Chat with us in Facebook Messenger. Find out w...   \n2  ESPN's \"Monday Night Football\" had bears, viki...   \n3  This feature is part of ' Details ,' a new ser...   \n4  (CNN) A tanker exploded near a gas station in ...   \n5  (CNN) Pro-independence Catalans gathered on th...   \n\n                                               TITLE        date  \\\n1                                 Tamagotchi is back  10-06-2017   \n2  'Star Wars: The Last Jedi' trailer debuts on '...  10-06-2017   \n3  Art and science collide in this one-of-a-kind ...  10-06-2017   \n4  Seven killed, dozens injured in Ghana tanker e...  10-06-2017   \n5       Catalans' future on line as parliament meets  10-06-2017   \n\n                                  extracted_keywords  \n1  [messenger, facebook, chat, find, unfolds, hap...  \n2  [monday, trailer, night, rey, jedi, espn, foot...  \n3  [details, perfumer, harris', objects, feature,...  \n4  [cnn, accra, saturday, ghana, people, official...  \n5  [spain, catalan, independence, puigdemont, bar...  ",
            "text/html": "<div>\n<style scoped>\n    .dataframe tbody tr th:only-of-type {\n        vertical-align: middle;\n    }\n\n    .dataframe tbody tr th {\n        vertical-align: top;\n    }\n\n    .dataframe thead th {\n        text-align: right;\n    }\n</style>\n<table border=\"1\" class=\"dataframe\">\n  <thead>\n    <tr style=\"text-align: right;\">\n      <th></th>\n      <th>Unnamed: 0</th>\n      <th>KEYWORDS</th>\n      <th>SUMMARY</th>\n      <th>TEXT</th>\n      <th>TITLE</th>\n      <th>date</th>\n      <th>extracted_keywords</th>\n    </tr>\n  </thead>\n  <tbody>\n    <tr>\n      <th>1</th>\n      <td>1</td>\n      <td>['facebook', 'whats', 'world', 'unfolds', 'tam...</td>\n      <td>Chat with us in Facebook Messenger.\\nFind out ...</td>\n      <td>Chat with us in Facebook Messenger. Find out w...</td>\n      <td>Tamagotchi is back</td>\n      <td>10-06-2017</td>\n      <td>[messenger, facebook, chat, find, unfolds, hap...</td>\n    </tr>\n    <tr>\n      <th>2</th>\n      <td>2</td>\n      <td>['jedi', 'shots', 'rey', 'force', 'wars', 'sta...</td>\n      <td>ESPN's \"Monday Night Football\" had bears, viki...</td>\n      <td>ESPN's \"Monday Night Football\" had bears, viki...</td>\n      <td>'Star Wars: The Last Jedi' trailer debuts on '...</td>\n      <td>10-06-2017</td>\n      <td>[monday, trailer, night, rey, jedi, espn, foot...</td>\n    </tr>\n    <tr>\n      <th>3</th>\n      <td>3</td>\n      <td>['clients', 'art', 'science', 'scent', 'collid...</td>\n      <td>Lyn Harris' independent space, Perfumer H , in...</td>\n      <td>This feature is part of ' Details ,' a new ser...</td>\n      <td>Art and science collide in this one-of-a-kind ...</td>\n      <td>10-06-2017</td>\n      <td>[details, perfumer, harris', objects, feature,...</td>\n    </tr>\n    <tr>\n      <th>4</th>\n      <td>4</td>\n      <td>['akufoaddo', 'tanker', 'incidents', 'dozens',...</td>\n      <td>(CNN) A tanker exploded near a gas station in ...</td>\n      <td>(CNN) A tanker exploded near a gas station in ...</td>\n      <td>Seven killed, dozens injured in Ghana tanker e...</td>\n      <td>10-06-2017</td>\n      <td>[cnn, accra, saturday, ghana, people, official...</td>\n    </tr>\n    <tr>\n      <th>5</th>\n      <td>5</td>\n      <td>['spanish', 'independence', 'regions', 'meets'...</td>\n      <td>Carles Puigdemont, the President of Catalonia,...</td>\n      <td>(CNN) Pro-independence Catalans gathered on th...</td>\n      <td>Catalans' future on line as parliament meets</td>\n      <td>10-06-2017</td>\n      <td>[spain, catalan, independence, puigdemont, bar...</td>\n    </tr>\n  </tbody>\n</table>\n</div>"
          },
          "metadata": {}
        }
      ],
      "execution_count": null
    },
    {
      "cell_type": "code",
      "source": "len(news_dataset)",
      "metadata": {
        "tags": [],
        "cell_id": "00003-c9eaa861-b1ab-400e-850e-f0fe8608d662",
        "deepnote_to_be_reexecuted": false,
        "source_hash": "a16b8f16",
        "execution_millis": 6,
        "execution_start": 1616285980533,
        "deepnote_cell_type": "code"
      },
      "outputs": [
        {
          "output_type": "execute_result",
          "execution_count": 69,
          "data": {
            "text/plain": "1000"
          },
          "metadata": {}
        }
      ],
      "execution_count": null
    },
    {
      "cell_type": "code",
      "metadata": {
        "tags": [],
        "cell_id": "00003-d1730d73-8487-427b-a0d4-b20dba493709",
        "deepnote_to_be_reexecuted": false,
        "source_hash": "5f75e9d",
        "execution_millis": 2,
        "execution_start": 1616285984229,
        "deepnote_cell_type": "code"
      },
      "source": "co_occurence_graph = {}",
      "outputs": [],
      "execution_count": null
    },
    {
      "cell_type": "code",
      "metadata": {
        "tags": [],
        "cell_id": "00003-e215d336-88b8-4a95-85a3-5572f0e72168",
        "deepnote_to_be_reexecuted": false,
        "source_hash": "4a620bef",
        "execution_millis": 3,
        "execution_start": 1616285990737,
        "deepnote_cell_type": "code"
      },
      "source": "def do_co_occueance_graph (all_key_of_articles):\n\n    # loop in list of keywords of 1 row\n    for keyword in all_key_of_articles:\n            # remove the keyword we are looking at from the list\n            list_keyword = [x for x in all_key_of_articles if x != keyword]\n            # if key is in graph\n            if keyword in co_occurence_graph:\n                # co_occurence_graph[keyword] : the list of nodes for that keyword\n                # (all_key_of_articles) add all the rest of the list with, because they all co occure\n                co_occurence_graph[keyword]=list(OrderedDict.fromkeys(co_occurence_graph[keyword]+(list_keyword)))\n                # co_occurence_graph[keyword]=co_occurence_graph[keyword]+(all_key_of_articles)\n            else:\n                co_occurence_graph[keyword] = list_keyword\n    \n    return all_key_of_articles\n",
      "outputs": [],
      "execution_count": null
    },
    {
      "cell_type": "code",
      "source": "# news_dataset.iloc[:50]['extracted_keywords'].apply(do_co_occueance_graph)\nnews_dataset.iloc[0:5]['extracted_keywords'].apply(do_co_occueance_graph)",
      "metadata": {
        "tags": [],
        "cell_id": "00008-74154fb7-f788-4a2d-8d8a-5946c6efea92",
        "deepnote_to_be_reexecuted": false,
        "source_hash": "4534281f",
        "execution_millis": 5,
        "execution_start": 1616285994155,
        "deepnote_cell_type": "code"
      },
      "outputs": [
        {
          "output_type": "execute_result",
          "execution_count": 72,
          "data": {
            "text/plain": "1    [messenger, facebook, chat, find, unfolds, hap...\n2    [monday, trailer, night, rey, jedi, espn, foot...\n3    [details, perfumer, harris', objects, feature,...\n4    [cnn, accra, saturday, ghana, people, official...\n5    [spain, catalan, independence, puigdemont, bar...\nName: extracted_keywords, dtype: object"
          },
          "metadata": {}
        }
      ],
      "execution_count": null
    },
    {
      "cell_type": "code",
      "source": "len(co_occurence_graph)",
      "metadata": {
        "tags": [],
        "cell_id": "00010-51df463e-bd0c-4ac0-80d8-9b2e7db320e9",
        "deepnote_to_be_reexecuted": false,
        "source_hash": "b35f296d",
        "execution_millis": 4,
        "execution_start": 1616285996730,
        "deepnote_cell_type": "code"
      },
      "outputs": [
        {
          "output_type": "execute_result",
          "execution_count": 73,
          "data": {
            "text/plain": "101"
          },
          "metadata": {}
        }
      ],
      "execution_count": null
    },
    {
      "cell_type": "code",
      "source": "co_occurence_graph['facebook']",
      "metadata": {
        "tags": [],
        "cell_id": "00008-f669bd96-b47a-49a3-87a7-866087f9ea3e",
        "deepnote_to_be_reexecuted": false,
        "source_hash": "b7fbb94b",
        "execution_millis": 5,
        "execution_start": 1616286027810,
        "deepnote_cell_type": "code"
      },
      "outputs": [
        {
          "output_type": "execute_result",
          "execution_count": 76,
          "data": {
            "text/plain": "['messenger', 'facebook', 'chat', 'find', 'unfolds', 'happening', 'world']"
          },
          "metadata": {}
        }
      ],
      "execution_count": null
    },
    {
      "cell_type": "code",
      "source": "co_occurence_graph",
      "metadata": {
        "tags": [],
        "cell_id": "00009-08e54e1c-05e2-41ef-b50d-704e9d0fe406",
        "deepnote_to_be_reexecuted": false,
        "source_hash": "703163d9",
        "execution_millis": 26,
        "execution_start": 1616286015734,
        "deepnote_cell_type": "code"
      },
      "outputs": [
        {
          "output_type": "execute_result",
          "execution_count": 75,
          "data": {
            "text/plain": "{'messenger': ['messenger',\n  'facebook',\n  'chat',\n  'find',\n  'unfolds',\n  'happening',\n  'world'],\n 'facebook': ['messenger',\n  'facebook',\n  'chat',\n  'find',\n  'unfolds',\n  'happening',\n  'world'],\n 'chat': ['messenger',\n  'facebook',\n  'chat',\n  'find',\n  'unfolds',\n  'happening',\n  'world'],\n 'find': ['messenger',\n  'facebook',\n  'chat',\n  'find',\n  'unfolds',\n  'happening',\n  'world'],\n 'unfolds': ['messenger',\n  'facebook',\n  'chat',\n  'find',\n  'unfolds',\n  'happening',\n  'world'],\n 'happening': ['messenger',\n  'facebook',\n  'chat',\n  'find',\n  'unfolds',\n  'happening',\n  'world'],\n 'world': ['messenger',\n  'facebook',\n  'chat',\n  'find',\n  'unfolds',\n  'happening',\n  'world'],\n 'monday': ['monday',\n  'trailer',\n  'night',\n  'rey',\n  'jedi',\n  'espn',\n  'football',\n  'bears',\n  'new',\n  'disney',\n  'skywalker',\n  'stars',\n  'like',\n  'ren',\n  'youtube',\n  'lucasfilm',\n  'halftime',\n  'minnesota vikings',\n  'adam',\n  'fisher',\n  'spain',\n  'catalan',\n  'independence',\n  'puigdemont',\n  'barcelona',\n  'minister',\n  'spanish',\n  'government',\n  'independently',\n  'police',\n  'referendum',\n  'mayor',\n  'october',\n  'president',\n  'cnnmoney',\n  'tuesday',\n  'ciutadans party',\n  'popular party',\n  'ppc',\n  'the parc de la ciutadella',\n  'the parliament of catalonia',\n  'european council',\n  'brussels',\n  'barcelona ada colau',\n  'madrid',\n  'the city council',\n  'france',\n  'the european union',\n  'foreign affairs',\n  'world trade organization'],\n 'trailer': ['monday',\n  'trailer',\n  'night',\n  'rey',\n  'jedi',\n  'espn',\n  'football',\n  'bears',\n  'new',\n  'disney',\n  'skywalker',\n  'stars',\n  'like',\n  'ren',\n  'youtube',\n  'lucasfilm',\n  'halftime',\n  'minnesota vikings',\n  'adam',\n  'fisher'],\n 'night': ['monday',\n  'trailer',\n  'night',\n  'rey',\n  'jedi',\n  'espn',\n  'football',\n  'bears',\n  'new',\n  'disney',\n  'skywalker',\n  'stars',\n  'like',\n  'ren',\n  'youtube',\n  'lucasfilm',\n  'halftime',\n  'minnesota vikings',\n  'adam',\n  'fisher'],\n 'rey': ['monday',\n  'trailer',\n  'night',\n  'rey',\n  'jedi',\n  'espn',\n  'football',\n  'bears',\n  'new',\n  'disney',\n  'skywalker',\n  'stars',\n  'like',\n  'ren',\n  'youtube',\n  'lucasfilm',\n  'halftime',\n  'minnesota vikings',\n  'adam',\n  'fisher'],\n 'jedi': ['monday',\n  'trailer',\n  'night',\n  'rey',\n  'jedi',\n  'espn',\n  'football',\n  'bears',\n  'new',\n  'disney',\n  'skywalker',\n  'stars',\n  'like',\n  'ren',\n  'youtube',\n  'lucasfilm',\n  'halftime',\n  'minnesota vikings',\n  'adam',\n  'fisher'],\n 'espn': ['monday',\n  'trailer',\n  'night',\n  'rey',\n  'jedi',\n  'espn',\n  'football',\n  'bears',\n  'new',\n  'disney',\n  'skywalker',\n  'stars',\n  'like',\n  'ren',\n  'youtube',\n  'lucasfilm',\n  'halftime',\n  'minnesota vikings',\n  'adam',\n  'fisher'],\n 'football': ['monday',\n  'trailer',\n  'night',\n  'rey',\n  'jedi',\n  'espn',\n  'football',\n  'bears',\n  'new',\n  'disney',\n  'skywalker',\n  'stars',\n  'like',\n  'ren',\n  'youtube',\n  'lucasfilm',\n  'halftime',\n  'minnesota vikings',\n  'adam',\n  'fisher'],\n 'bears': ['monday',\n  'trailer',\n  'night',\n  'rey',\n  'jedi',\n  'espn',\n  'football',\n  'bears',\n  'new',\n  'disney',\n  'skywalker',\n  'stars',\n  'like',\n  'ren',\n  'youtube',\n  'lucasfilm',\n  'halftime',\n  'minnesota vikings',\n  'adam',\n  'fisher'],\n 'new': ['monday',\n  'trailer',\n  'night',\n  'rey',\n  'jedi',\n  'espn',\n  'football',\n  'bears',\n  'new',\n  'disney',\n  'skywalker',\n  'stars',\n  'like',\n  'ren',\n  'youtube',\n  'lucasfilm',\n  'halftime',\n  'minnesota vikings',\n  'adam',\n  'fisher'],\n 'disney': ['monday',\n  'trailer',\n  'night',\n  'rey',\n  'jedi',\n  'espn',\n  'football',\n  'bears',\n  'new',\n  'disney',\n  'skywalker',\n  'stars',\n  'like',\n  'ren',\n  'youtube',\n  'lucasfilm',\n  'halftime',\n  'minnesota vikings',\n  'adam',\n  'fisher'],\n 'skywalker': ['monday',\n  'trailer',\n  'night',\n  'rey',\n  'jedi',\n  'espn',\n  'football',\n  'bears',\n  'new',\n  'disney',\n  'skywalker',\n  'stars',\n  'like',\n  'ren',\n  'youtube',\n  'lucasfilm',\n  'halftime',\n  'minnesota vikings',\n  'adam',\n  'fisher'],\n 'stars': ['monday',\n  'trailer',\n  'night',\n  'rey',\n  'jedi',\n  'espn',\n  'football',\n  'bears',\n  'new',\n  'disney',\n  'skywalker',\n  'stars',\n  'like',\n  'ren',\n  'youtube',\n  'lucasfilm',\n  'halftime',\n  'minnesota vikings',\n  'adam',\n  'fisher'],\n 'like': ['monday',\n  'trailer',\n  'night',\n  'rey',\n  'jedi',\n  'espn',\n  'football',\n  'bears',\n  'new',\n  'disney',\n  'skywalker',\n  'stars',\n  'like',\n  'ren',\n  'youtube',\n  'lucasfilm',\n  'halftime',\n  'minnesota vikings',\n  'adam',\n  'fisher'],\n 'ren': ['monday',\n  'trailer',\n  'night',\n  'rey',\n  'jedi',\n  'espn',\n  'football',\n  'bears',\n  'new',\n  'disney',\n  'skywalker',\n  'stars',\n  'like',\n  'ren',\n  'youtube',\n  'lucasfilm',\n  'halftime',\n  'minnesota vikings',\n  'adam',\n  'fisher'],\n 'youtube': ['monday',\n  'trailer',\n  'night',\n  'rey',\n  'jedi',\n  'espn',\n  'football',\n  'bears',\n  'new',\n  'disney',\n  'skywalker',\n  'stars',\n  'like',\n  'ren',\n  'youtube',\n  'lucasfilm',\n  'halftime',\n  'minnesota vikings',\n  'adam',\n  'fisher'],\n 'lucasfilm': ['monday',\n  'trailer',\n  'night',\n  'rey',\n  'jedi',\n  'espn',\n  'football',\n  'bears',\n  'new',\n  'disney',\n  'skywalker',\n  'stars',\n  'like',\n  'ren',\n  'youtube',\n  'lucasfilm',\n  'halftime',\n  'minnesota vikings',\n  'adam',\n  'fisher'],\n 'halftime': ['monday',\n  'trailer',\n  'night',\n  'rey',\n  'jedi',\n  'espn',\n  'football',\n  'bears',\n  'new',\n  'disney',\n  'skywalker',\n  'stars',\n  'like',\n  'ren',\n  'youtube',\n  'lucasfilm',\n  'halftime',\n  'minnesota vikings',\n  'adam',\n  'fisher'],\n 'minnesota vikings': ['monday',\n  'trailer',\n  'night',\n  'rey',\n  'jedi',\n  'espn',\n  'football',\n  'bears',\n  'new',\n  'disney',\n  'skywalker',\n  'stars',\n  'like',\n  'ren',\n  'youtube',\n  'lucasfilm',\n  'halftime',\n  'minnesota vikings',\n  'adam',\n  'fisher'],\n 'adam': ['monday',\n  'trailer',\n  'night',\n  'rey',\n  'jedi',\n  'espn',\n  'football',\n  'bears',\n  'new',\n  'disney',\n  'skywalker',\n  'stars',\n  'like',\n  'ren',\n  'youtube',\n  'lucasfilm',\n  'halftime',\n  'minnesota vikings',\n  'adam',\n  'fisher'],\n 'fisher': ['monday',\n  'trailer',\n  'night',\n  'rey',\n  'jedi',\n  'espn',\n  'football',\n  'bears',\n  'new',\n  'disney',\n  'skywalker',\n  'stars',\n  'like',\n  'ren',\n  'youtube',\n  'lucasfilm',\n  'halftime',\n  'minnesota vikings',\n  'adam',\n  'fisher'],\n 'details': ['details',\n  'perfumer',\n  \"harris'\",\n  'objects',\n  'feature',\n  'series',\n  'captures',\n  'creation',\n  'london',\n  'partner',\n  'christophe',\n  'seasonal',\n  'bespoke',\n  'miller',\n  'craft',\n  'lyn',\n  'business',\n  'doubles',\n  'shopfront',\n  'customization',\n  'tailor',\n  'perfumes',\n  'marylebone',\n  'paris',\n  'grasse, harris'],\n 'perfumer': ['details',\n  'perfumer',\n  \"harris'\",\n  'objects',\n  'feature',\n  'series',\n  'captures',\n  'creation',\n  'london',\n  'partner',\n  'christophe',\n  'seasonal',\n  'bespoke',\n  'miller',\n  'craft',\n  'lyn',\n  'business',\n  'doubles',\n  'shopfront',\n  'customization',\n  'tailor',\n  'perfumes',\n  'marylebone',\n  'paris',\n  'grasse, harris'],\n \"harris'\": ['details',\n  'perfumer',\n  \"harris'\",\n  'objects',\n  'feature',\n  'series',\n  'captures',\n  'creation',\n  'london',\n  'partner',\n  'christophe',\n  'seasonal',\n  'bespoke',\n  'miller',\n  'craft',\n  'lyn',\n  'business',\n  'doubles',\n  'shopfront',\n  'customization',\n  'tailor',\n  'perfumes',\n  'marylebone',\n  'paris',\n  'grasse, harris'],\n 'objects': ['details',\n  'perfumer',\n  \"harris'\",\n  'objects',\n  'feature',\n  'series',\n  'captures',\n  'creation',\n  'london',\n  'partner',\n  'christophe',\n  'seasonal',\n  'bespoke',\n  'miller',\n  'craft',\n  'lyn',\n  'business',\n  'doubles',\n  'shopfront',\n  'customization',\n  'tailor',\n  'perfumes',\n  'marylebone',\n  'paris',\n  'grasse, harris'],\n 'feature': ['details',\n  'perfumer',\n  \"harris'\",\n  'objects',\n  'feature',\n  'series',\n  'captures',\n  'creation',\n  'london',\n  'partner',\n  'christophe',\n  'seasonal',\n  'bespoke',\n  'miller',\n  'craft',\n  'lyn',\n  'business',\n  'doubles',\n  'shopfront',\n  'customization',\n  'tailor',\n  'perfumes',\n  'marylebone',\n  'paris',\n  'grasse, harris'],\n 'series': ['details',\n  'perfumer',\n  \"harris'\",\n  'objects',\n  'feature',\n  'series',\n  'captures',\n  'creation',\n  'london',\n  'partner',\n  'christophe',\n  'seasonal',\n  'bespoke',\n  'miller',\n  'craft',\n  'lyn',\n  'business',\n  'doubles',\n  'shopfront',\n  'customization',\n  'tailor',\n  'perfumes',\n  'marylebone',\n  'paris',\n  'grasse, harris'],\n 'captures': ['details',\n  'perfumer',\n  \"harris'\",\n  'objects',\n  'feature',\n  'series',\n  'captures',\n  'creation',\n  'london',\n  'partner',\n  'christophe',\n  'seasonal',\n  'bespoke',\n  'miller',\n  'craft',\n  'lyn',\n  'business',\n  'doubles',\n  'shopfront',\n  'customization',\n  'tailor',\n  'perfumes',\n  'marylebone',\n  'paris',\n  'grasse, harris'],\n 'creation': ['details',\n  'perfumer',\n  \"harris'\",\n  'objects',\n  'feature',\n  'series',\n  'captures',\n  'creation',\n  'london',\n  'partner',\n  'christophe',\n  'seasonal',\n  'bespoke',\n  'miller',\n  'craft',\n  'lyn',\n  'business',\n  'doubles',\n  'shopfront',\n  'customization',\n  'tailor',\n  'perfumes',\n  'marylebone',\n  'paris',\n  'grasse, harris'],\n 'london': ['details',\n  'perfumer',\n  \"harris'\",\n  'objects',\n  'feature',\n  'series',\n  'captures',\n  'creation',\n  'london',\n  'partner',\n  'christophe',\n  'seasonal',\n  'bespoke',\n  'miller',\n  'craft',\n  'lyn',\n  'business',\n  'doubles',\n  'shopfront',\n  'customization',\n  'tailor',\n  'perfumes',\n  'marylebone',\n  'paris',\n  'grasse, harris'],\n 'partner': ['details',\n  'perfumer',\n  \"harris'\",\n  'objects',\n  'feature',\n  'series',\n  'captures',\n  'creation',\n  'london',\n  'partner',\n  'christophe',\n  'seasonal',\n  'bespoke',\n  'miller',\n  'craft',\n  'lyn',\n  'business',\n  'doubles',\n  'shopfront',\n  'customization',\n  'tailor',\n  'perfumes',\n  'marylebone',\n  'paris',\n  'grasse, harris'],\n 'christophe': ['details',\n  'perfumer',\n  \"harris'\",\n  'objects',\n  'feature',\n  'series',\n  'captures',\n  'creation',\n  'london',\n  'partner',\n  'christophe',\n  'seasonal',\n  'bespoke',\n  'miller',\n  'craft',\n  'lyn',\n  'business',\n  'doubles',\n  'shopfront',\n  'customization',\n  'tailor',\n  'perfumes',\n  'marylebone',\n  'paris',\n  'grasse, harris'],\n 'seasonal': ['details',\n  'perfumer',\n  \"harris'\",\n  'objects',\n  'feature',\n  'series',\n  'captures',\n  'creation',\n  'london',\n  'partner',\n  'christophe',\n  'seasonal',\n  'bespoke',\n  'miller',\n  'craft',\n  'lyn',\n  'business',\n  'doubles',\n  'shopfront',\n  'customization',\n  'tailor',\n  'perfumes',\n  'marylebone',\n  'paris',\n  'grasse, harris'],\n 'bespoke': ['details',\n  'perfumer',\n  \"harris'\",\n  'objects',\n  'feature',\n  'series',\n  'captures',\n  'creation',\n  'london',\n  'partner',\n  'christophe',\n  'seasonal',\n  'bespoke',\n  'miller',\n  'craft',\n  'lyn',\n  'business',\n  'doubles',\n  'shopfront',\n  'customization',\n  'tailor',\n  'perfumes',\n  'marylebone',\n  'paris',\n  'grasse, harris'],\n 'miller': ['details',\n  'perfumer',\n  \"harris'\",\n  'objects',\n  'feature',\n  'series',\n  'captures',\n  'creation',\n  'london',\n  'partner',\n  'christophe',\n  'seasonal',\n  'bespoke',\n  'miller',\n  'craft',\n  'lyn',\n  'business',\n  'doubles',\n  'shopfront',\n  'customization',\n  'tailor',\n  'perfumes',\n  'marylebone',\n  'paris',\n  'grasse, harris'],\n 'craft': ['details',\n  'perfumer',\n  \"harris'\",\n  'objects',\n  'feature',\n  'series',\n  'captures',\n  'creation',\n  'london',\n  'partner',\n  'christophe',\n  'seasonal',\n  'bespoke',\n  'miller',\n  'craft',\n  'lyn',\n  'business',\n  'doubles',\n  'shopfront',\n  'customization',\n  'tailor',\n  'perfumes',\n  'marylebone',\n  'paris',\n  'grasse, harris'],\n 'lyn': ['details',\n  'perfumer',\n  \"harris'\",\n  'objects',\n  'feature',\n  'series',\n  'captures',\n  'creation',\n  'london',\n  'partner',\n  'christophe',\n  'seasonal',\n  'bespoke',\n  'miller',\n  'craft',\n  'lyn',\n  'business',\n  'doubles',\n  'shopfront',\n  'customization',\n  'tailor',\n  'perfumes',\n  'marylebone',\n  'paris',\n  'grasse, harris'],\n 'business': ['details',\n  'perfumer',\n  \"harris'\",\n  'objects',\n  'feature',\n  'series',\n  'captures',\n  'creation',\n  'london',\n  'partner',\n  'christophe',\n  'seasonal',\n  'bespoke',\n  'miller',\n  'craft',\n  'lyn',\n  'business',\n  'doubles',\n  'shopfront',\n  'customization',\n  'tailor',\n  'perfumes',\n  'marylebone',\n  'paris',\n  'grasse, harris'],\n 'doubles': ['details',\n  'perfumer',\n  \"harris'\",\n  'objects',\n  'feature',\n  'series',\n  'captures',\n  'creation',\n  'london',\n  'partner',\n  'christophe',\n  'seasonal',\n  'bespoke',\n  'miller',\n  'craft',\n  'lyn',\n  'business',\n  'doubles',\n  'shopfront',\n  'customization',\n  'tailor',\n  'perfumes',\n  'marylebone',\n  'paris',\n  'grasse, harris'],\n 'shopfront': ['details',\n  'perfumer',\n  \"harris'\",\n  'objects',\n  'feature',\n  'series',\n  'captures',\n  'creation',\n  'london',\n  'partner',\n  'christophe',\n  'seasonal',\n  'bespoke',\n  'miller',\n  'craft',\n  'lyn',\n  'business',\n  'doubles',\n  'shopfront',\n  'customization',\n  'tailor',\n  'perfumes',\n  'marylebone',\n  'paris',\n  'grasse, harris'],\n 'customization': ['details',\n  'perfumer',\n  \"harris'\",\n  'objects',\n  'feature',\n  'series',\n  'captures',\n  'creation',\n  'london',\n  'partner',\n  'christophe',\n  'seasonal',\n  'bespoke',\n  'miller',\n  'craft',\n  'lyn',\n  'business',\n  'doubles',\n  'shopfront',\n  'customization',\n  'tailor',\n  'perfumes',\n  'marylebone',\n  'paris',\n  'grasse, harris'],\n 'tailor': ['details',\n  'perfumer',\n  \"harris'\",\n  'objects',\n  'feature',\n  'series',\n  'captures',\n  'creation',\n  'london',\n  'partner',\n  'christophe',\n  'seasonal',\n  'bespoke',\n  'miller',\n  'craft',\n  'lyn',\n  'business',\n  'doubles',\n  'shopfront',\n  'customization',\n  'tailor',\n  'perfumes',\n  'marylebone',\n  'paris',\n  'grasse, harris'],\n 'perfumes': ['details',\n  'perfumer',\n  \"harris'\",\n  'objects',\n  'feature',\n  'series',\n  'captures',\n  'creation',\n  'london',\n  'partner',\n  'christophe',\n  'seasonal',\n  'bespoke',\n  'miller',\n  'craft',\n  'lyn',\n  'business',\n  'doubles',\n  'shopfront',\n  'customization',\n  'tailor',\n  'perfumes',\n  'marylebone',\n  'paris',\n  'grasse, harris'],\n 'marylebone': ['details',\n  'perfumer',\n  \"harris'\",\n  'objects',\n  'feature',\n  'series',\n  'captures',\n  'creation',\n  'london',\n  'partner',\n  'christophe',\n  'seasonal',\n  'bespoke',\n  'miller',\n  'craft',\n  'lyn',\n  'business',\n  'doubles',\n  'shopfront',\n  'customization',\n  'tailor',\n  'perfumes',\n  'marylebone',\n  'paris',\n  'grasse, harris'],\n 'paris': ['details',\n  'perfumer',\n  \"harris'\",\n  'objects',\n  'feature',\n  'series',\n  'captures',\n  'creation',\n  'london',\n  'partner',\n  'christophe',\n  'seasonal',\n  'bespoke',\n  'miller',\n  'craft',\n  'lyn',\n  'business',\n  'doubles',\n  'shopfront',\n  'customization',\n  'tailor',\n  'perfumes',\n  'marylebone',\n  'paris',\n  'grasse, harris'],\n 'grasse, harris': ['details',\n  'perfumer',\n  \"harris'\",\n  'objects',\n  'feature',\n  'series',\n  'captures',\n  'creation',\n  'london',\n  'partner',\n  'christophe',\n  'seasonal',\n  'bespoke',\n  'miller',\n  'craft',\n  'lyn',\n  'business',\n  'doubles',\n  'shopfront',\n  'customization',\n  'tailor',\n  'perfumes',\n  'marylebone',\n  'paris',\n  'grasse, harris'],\n 'cnn': ['cnn',\n  'accra',\n  'saturday',\n  'ghana',\n  'people',\n  'officials',\n  'incidents',\n  'tanker',\n  'exploded',\n  'said',\n  'massive',\n  'streets',\n  'showed charred',\n  'gas station',\n  'killed',\n  'injured',\n  'october',\n  'president',\n  'killing',\n  'explosion',\n  '@nakufoaddo'],\n 'accra': ['cnn',\n  'accra',\n  'saturday',\n  'ghana',\n  'people',\n  'officials',\n  'incidents',\n  'tanker',\n  'exploded',\n  'said',\n  'massive',\n  'streets',\n  'showed charred',\n  'gas station',\n  'killed',\n  'injured',\n  'october',\n  'president',\n  'killing',\n  'explosion',\n  '@nakufoaddo'],\n 'saturday': ['cnn',\n  'accra',\n  'saturday',\n  'ghana',\n  'people',\n  'officials',\n  'incidents',\n  'tanker',\n  'exploded',\n  'said',\n  'massive',\n  'streets',\n  'showed charred',\n  'gas station',\n  'killed',\n  'injured',\n  'october',\n  'president',\n  'killing',\n  'explosion',\n  '@nakufoaddo'],\n 'ghana': ['cnn',\n  'accra',\n  'saturday',\n  'ghana',\n  'people',\n  'officials',\n  'incidents',\n  'tanker',\n  'exploded',\n  'said',\n  'massive',\n  'streets',\n  'showed charred',\n  'gas station',\n  'killed',\n  'injured',\n  'october',\n  'president',\n  'killing',\n  'explosion',\n  '@nakufoaddo'],\n 'people': ['cnn',\n  'accra',\n  'saturday',\n  'ghana',\n  'people',\n  'officials',\n  'incidents',\n  'tanker',\n  'exploded',\n  'said',\n  'massive',\n  'streets',\n  'showed charred',\n  'gas station',\n  'killed',\n  'injured',\n  'october',\n  'president',\n  'killing',\n  'explosion',\n  '@nakufoaddo'],\n 'officials': ['cnn',\n  'accra',\n  'saturday',\n  'ghana',\n  'people',\n  'officials',\n  'incidents',\n  'tanker',\n  'exploded',\n  'said',\n  'massive',\n  'streets',\n  'showed charred',\n  'gas station',\n  'killed',\n  'injured',\n  'october',\n  'president',\n  'killing',\n  'explosion',\n  '@nakufoaddo'],\n 'incidents': ['cnn',\n  'accra',\n  'saturday',\n  'ghana',\n  'people',\n  'officials',\n  'incidents',\n  'tanker',\n  'exploded',\n  'said',\n  'massive',\n  'streets',\n  'showed charred',\n  'gas station',\n  'killed',\n  'injured',\n  'october',\n  'president',\n  'killing',\n  'explosion',\n  '@nakufoaddo'],\n 'tanker': ['cnn',\n  'accra',\n  'saturday',\n  'ghana',\n  'people',\n  'officials',\n  'incidents',\n  'tanker',\n  'exploded',\n  'said',\n  'massive',\n  'streets',\n  'showed charred',\n  'gas station',\n  'killed',\n  'injured',\n  'october',\n  'president',\n  'killing',\n  'explosion',\n  '@nakufoaddo'],\n 'exploded': ['cnn',\n  'accra',\n  'saturday',\n  'ghana',\n  'people',\n  'officials',\n  'incidents',\n  'tanker',\n  'exploded',\n  'said',\n  'massive',\n  'streets',\n  'showed charred',\n  'gas station',\n  'killed',\n  'injured',\n  'october',\n  'president',\n  'killing',\n  'explosion',\n  '@nakufoaddo'],\n 'said': ['cnn',\n  'accra',\n  'saturday',\n  'ghana',\n  'people',\n  'officials',\n  'incidents',\n  'tanker',\n  'exploded',\n  'said',\n  'massive',\n  'streets',\n  'showed charred',\n  'gas station',\n  'killed',\n  'injured',\n  'october',\n  'president',\n  'killing',\n  'explosion',\n  '@nakufoaddo'],\n 'massive': ['cnn',\n  'accra',\n  'saturday',\n  'ghana',\n  'people',\n  'officials',\n  'incidents',\n  'tanker',\n  'exploded',\n  'said',\n  'massive',\n  'streets',\n  'showed charred',\n  'gas station',\n  'killed',\n  'injured',\n  'october',\n  'president',\n  'killing',\n  'explosion',\n  '@nakufoaddo'],\n 'streets': ['cnn',\n  'accra',\n  'saturday',\n  'ghana',\n  'people',\n  'officials',\n  'incidents',\n  'tanker',\n  'exploded',\n  'said',\n  'massive',\n  'streets',\n  'showed charred',\n  'gas station',\n  'killed',\n  'injured',\n  'october',\n  'president',\n  'killing',\n  'explosion',\n  '@nakufoaddo'],\n 'showed charred': ['cnn',\n  'accra',\n  'saturday',\n  'ghana',\n  'people',\n  'officials',\n  'incidents',\n  'tanker',\n  'exploded',\n  'said',\n  'massive',\n  'streets',\n  'showed charred',\n  'gas station',\n  'killed',\n  'injured',\n  'october',\n  'president',\n  'killing',\n  'explosion',\n  '@nakufoaddo'],\n 'gas station': ['cnn',\n  'accra',\n  'saturday',\n  'ghana',\n  'people',\n  'officials',\n  'incidents',\n  'tanker',\n  'exploded',\n  'said',\n  'massive',\n  'streets',\n  'showed charred',\n  'gas station',\n  'killed',\n  'injured',\n  'october',\n  'president',\n  'killing',\n  'explosion',\n  '@nakufoaddo'],\n 'killed': ['cnn',\n  'accra',\n  'saturday',\n  'ghana',\n  'people',\n  'officials',\n  'incidents',\n  'tanker',\n  'exploded',\n  'said',\n  'massive',\n  'streets',\n  'showed charred',\n  'gas station',\n  'killed',\n  'injured',\n  'october',\n  'president',\n  'killing',\n  'explosion',\n  '@nakufoaddo'],\n 'injured': ['cnn',\n  'accra',\n  'saturday',\n  'ghana',\n  'people',\n  'officials',\n  'incidents',\n  'tanker',\n  'exploded',\n  'said',\n  'massive',\n  'streets',\n  'showed charred',\n  'gas station',\n  'killed',\n  'injured',\n  'october',\n  'president',\n  'killing',\n  'explosion',\n  '@nakufoaddo'],\n 'october': ['cnn',\n  'accra',\n  'saturday',\n  'ghana',\n  'people',\n  'officials',\n  'incidents',\n  'tanker',\n  'exploded',\n  'said',\n  'massive',\n  'streets',\n  'showed charred',\n  'gas station',\n  'killed',\n  'injured',\n  'october',\n  'president',\n  'killing',\n  'explosion',\n  '@nakufoaddo',\n  'spain',\n  'catalan',\n  'independence',\n  'puigdemont',\n  'barcelona',\n  'minister',\n  'spanish',\n  'government',\n  'independently',\n  'police',\n  'referendum',\n  'mayor',\n  'monday',\n  'cnnmoney',\n  'tuesday',\n  'ciutadans party',\n  'popular party',\n  'ppc',\n  'the parc de la ciutadella',\n  'the parliament of catalonia',\n  'european council',\n  'brussels',\n  'barcelona ada colau',\n  'madrid',\n  'the city council',\n  'france',\n  'the european union',\n  'foreign affairs',\n  'world trade organization'],\n 'president': ['cnn',\n  'accra',\n  'saturday',\n  'ghana',\n  'people',\n  'officials',\n  'incidents',\n  'tanker',\n  'exploded',\n  'said',\n  'massive',\n  'streets',\n  'showed charred',\n  'gas station',\n  'killed',\n  'injured',\n  'october',\n  'president',\n  'killing',\n  'explosion',\n  '@nakufoaddo',\n  'spain',\n  'catalan',\n  'independence',\n  'puigdemont',\n  'barcelona',\n  'minister',\n  'spanish',\n  'government',\n  'independently',\n  'police',\n  'referendum',\n  'mayor',\n  'monday',\n  'cnnmoney',\n  'tuesday',\n  'ciutadans party',\n  'popular party',\n  'ppc',\n  'the parc de la ciutadella',\n  'the parliament of catalonia',\n  'european council',\n  'brussels',\n  'barcelona ada colau',\n  'madrid',\n  'the city council',\n  'france',\n  'the european union',\n  'foreign affairs',\n  'world trade organization'],\n 'killing': ['cnn',\n  'accra',\n  'saturday',\n  'ghana',\n  'people',\n  'officials',\n  'incidents',\n  'tanker',\n  'exploded',\n  'said',\n  'massive',\n  'streets',\n  'showed charred',\n  'gas station',\n  'killed',\n  'injured',\n  'october',\n  'president',\n  'killing',\n  'explosion',\n  '@nakufoaddo'],\n 'explosion': ['cnn',\n  'accra',\n  'saturday',\n  'ghana',\n  'people',\n  'officials',\n  'incidents',\n  'tanker',\n  'exploded',\n  'said',\n  'massive',\n  'streets',\n  'showed charred',\n  'gas station',\n  'killed',\n  'injured',\n  'october',\n  'president',\n  'killing',\n  'explosion',\n  '@nakufoaddo'],\n '@nakufoaddo': ['cnn',\n  'accra',\n  'saturday',\n  'ghana',\n  'people',\n  'officials',\n  'incidents',\n  'tanker',\n  'exploded',\n  'said',\n  'massive',\n  'streets',\n  'showed charred',\n  'gas station',\n  'killed',\n  'injured',\n  'october',\n  'president',\n  'killing',\n  'explosion',\n  '@nakufoaddo'],\n 'spain': ['spain',\n  'catalan',\n  'independence',\n  'puigdemont',\n  'barcelona',\n  'minister',\n  'spanish',\n  'government',\n  'independently',\n  'police',\n  'referendum',\n  'mayor',\n  'october',\n  'monday',\n  'president',\n  'cnnmoney',\n  'tuesday',\n  'ciutadans party',\n  'popular party',\n  'ppc',\n  'the parc de la ciutadella',\n  'the parliament of catalonia',\n  'european council',\n  'brussels',\n  'barcelona ada colau',\n  'madrid',\n  'the city council',\n  'france',\n  'the european union',\n  'foreign affairs',\n  'world trade organization'],\n 'catalan': ['spain',\n  'catalan',\n  'independence',\n  'puigdemont',\n  'barcelona',\n  'minister',\n  'spanish',\n  'government',\n  'independently',\n  'police',\n  'referendum',\n  'mayor',\n  'october',\n  'monday',\n  'president',\n  'cnnmoney',\n  'tuesday',\n  'ciutadans party',\n  'popular party',\n  'ppc',\n  'the parc de la ciutadella',\n  'the parliament of catalonia',\n  'european council',\n  'brussels',\n  'barcelona ada colau',\n  'madrid',\n  'the city council',\n  'france',\n  'the european union',\n  'foreign affairs',\n  'world trade organization'],\n 'independence': ['spain',\n  'catalan',\n  'independence',\n  'puigdemont',\n  'barcelona',\n  'minister',\n  'spanish',\n  'government',\n  'independently',\n  'police',\n  'referendum',\n  'mayor',\n  'october',\n  'monday',\n  'president',\n  'cnnmoney',\n  'tuesday',\n  'ciutadans party',\n  'popular party',\n  'ppc',\n  'the parc de la ciutadella',\n  'the parliament of catalonia',\n  'european council',\n  'brussels',\n  'barcelona ada colau',\n  'madrid',\n  'the city council',\n  'france',\n  'the european union',\n  'foreign affairs',\n  'world trade organization'],\n 'puigdemont': ['spain',\n  'catalan',\n  'independence',\n  'puigdemont',\n  'barcelona',\n  'minister',\n  'spanish',\n  'government',\n  'independently',\n  'police',\n  'referendum',\n  'mayor',\n  'october',\n  'monday',\n  'president',\n  'cnnmoney',\n  'tuesday',\n  'ciutadans party',\n  'popular party',\n  'ppc',\n  'the parc de la ciutadella',\n  'the parliament of catalonia',\n  'european council',\n  'brussels',\n  'barcelona ada colau',\n  'madrid',\n  'the city council',\n  'france',\n  'the european union',\n  'foreign affairs',\n  'world trade organization'],\n 'barcelona': ['spain',\n  'catalan',\n  'independence',\n  'puigdemont',\n  'barcelona',\n  'minister',\n  'spanish',\n  'government',\n  'independently',\n  'police',\n  'referendum',\n  'mayor',\n  'october',\n  'monday',\n  'president',\n  'cnnmoney',\n  'tuesday',\n  'ciutadans party',\n  'popular party',\n  'ppc',\n  'the parc de la ciutadella',\n  'the parliament of catalonia',\n  'european council',\n  'brussels',\n  'barcelona ada colau',\n  'madrid',\n  'the city council',\n  'france',\n  'the european union',\n  'foreign affairs',\n  'world trade organization'],\n 'minister': ['spain',\n  'catalan',\n  'independence',\n  'puigdemont',\n  'barcelona',\n  'minister',\n  'spanish',\n  'government',\n  'independently',\n  'police',\n  'referendum',\n  'mayor',\n  'october',\n  'monday',\n  'president',\n  'cnnmoney',\n  'tuesday',\n  'ciutadans party',\n  'popular party',\n  'ppc',\n  'the parc de la ciutadella',\n  'the parliament of catalonia',\n  'european council',\n  'brussels',\n  'barcelona ada colau',\n  'madrid',\n  'the city council',\n  'france',\n  'the european union',\n  'foreign affairs',\n  'world trade organization'],\n 'spanish': ['spain',\n  'catalan',\n  'independence',\n  'puigdemont',\n  'barcelona',\n  'minister',\n  'spanish',\n  'government',\n  'independently',\n  'police',\n  'referendum',\n  'mayor',\n  'october',\n  'monday',\n  'president',\n  'cnnmoney',\n  'tuesday',\n  'ciutadans party',\n  'popular party',\n  'ppc',\n  'the parc de la ciutadella',\n  'the parliament of catalonia',\n  'european council',\n  'brussels',\n  'barcelona ada colau',\n  'madrid',\n  'the city council',\n  'france',\n  'the european union',\n  'foreign affairs',\n  'world trade organization'],\n 'government': ['spain',\n  'catalan',\n  'independence',\n  'puigdemont',\n  'barcelona',\n  'minister',\n  'spanish',\n  'government',\n  'independently',\n  'police',\n  'referendum',\n  'mayor',\n  'october',\n  'monday',\n  'president',\n  'cnnmoney',\n  'tuesday',\n  'ciutadans party',\n  'popular party',\n  'ppc',\n  'the parc de la ciutadella',\n  'the parliament of catalonia',\n  'european council',\n  'brussels',\n  'barcelona ada colau',\n  'madrid',\n  'the city council',\n  'france',\n  'the european union',\n  'foreign affairs',\n  'world trade organization'],\n 'independently': ['spain',\n  'catalan',\n  'independence',\n  'puigdemont',\n  'barcelona',\n  'minister',\n  'spanish',\n  'government',\n  'independently',\n  'police',\n  'referendum',\n  'mayor',\n  'october',\n  'monday',\n  'president',\n  'cnnmoney',\n  'tuesday',\n  'ciutadans party',\n  'popular party',\n  'ppc',\n  'the parc de la ciutadella',\n  'the parliament of catalonia',\n  'european council',\n  'brussels',\n  'barcelona ada colau',\n  'madrid',\n  'the city council',\n  'france',\n  'the european union',\n  'foreign affairs',\n  'world trade organization'],\n 'police': ['spain',\n  'catalan',\n  'independence',\n  'puigdemont',\n  'barcelona',\n  'minister',\n  'spanish',\n  'government',\n  'independently',\n  'police',\n  'referendum',\n  'mayor',\n  'october',\n  'monday',\n  'president',\n  'cnnmoney',\n  'tuesday',\n  'ciutadans party',\n  'popular party',\n  'ppc',\n  'the parc de la ciutadella',\n  'the parliament of catalonia',\n  'european council',\n  'brussels',\n  'barcelona ada colau',\n  'madrid',\n  'the city council',\n  'france',\n  'the european union',\n  'foreign affairs',\n  'world trade organization'],\n 'referendum': ['spain',\n  'catalan',\n  'independence',\n  'puigdemont',\n  'barcelona',\n  'minister',\n  'spanish',\n  'government',\n  'independently',\n  'police',\n  'referendum',\n  'mayor',\n  'october',\n  'monday',\n  'president',\n  'cnnmoney',\n  'tuesday',\n  'ciutadans party',\n  'popular party',\n  'ppc',\n  'the parc de la ciutadella',\n  'the parliament of catalonia',\n  'european council',\n  'brussels',\n  'barcelona ada colau',\n  'madrid',\n  'the city council',\n  'france',\n  'the european union',\n  'foreign affairs',\n  'world trade organization'],\n 'mayor': ['spain',\n  'catalan',\n  'independence',\n  'puigdemont',\n  'barcelona',\n  'minister',\n  'spanish',\n  'government',\n  'independently',\n  'police',\n  'referendum',\n  'mayor',\n  'october',\n  'monday',\n  'president',\n  'cnnmoney',\n  'tuesday',\n  'ciutadans party',\n  'popular party',\n  'ppc',\n  'the parc de la ciutadella',\n  'the parliament of catalonia',\n  'european council',\n  'brussels',\n  'barcelona ada colau',\n  'madrid',\n  'the city council',\n  'france',\n  'the european union',\n  'foreign affairs',\n  'world trade organization'],\n 'cnnmoney': ['spain',\n  'catalan',\n  'independence',\n  'puigdemont',\n  'barcelona',\n  'minister',\n  'spanish',\n  'government',\n  'independently',\n  'police',\n  'referendum',\n  'mayor',\n  'october',\n  'monday',\n  'president',\n  'cnnmoney',\n  'tuesday',\n  'ciutadans party',\n  'popular party',\n  'ppc',\n  'the parc de la ciutadella',\n  'the parliament of catalonia',\n  'european council',\n  'brussels',\n  'barcelona ada colau',\n  'madrid',\n  'the city council',\n  'france',\n  'the european union',\n  'foreign affairs',\n  'world trade organization'],\n 'tuesday': ['spain',\n  'catalan',\n  'independence',\n  'puigdemont',\n  'barcelona',\n  'minister',\n  'spanish',\n  'government',\n  'independently',\n  'police',\n  'referendum',\n  'mayor',\n  'october',\n  'monday',\n  'president',\n  'cnnmoney',\n  'tuesday',\n  'ciutadans party',\n  'popular party',\n  'ppc',\n  'the parc de la ciutadella',\n  'the parliament of catalonia',\n  'european council',\n  'brussels',\n  'barcelona ada colau',\n  'madrid',\n  'the city council',\n  'france',\n  'the european union',\n  'foreign affairs',\n  'world trade organization'],\n 'ciutadans party': ['spain',\n  'catalan',\n  'independence',\n  'puigdemont',\n  'barcelona',\n  'minister',\n  'spanish',\n  'government',\n  'independently',\n  'police',\n  'referendum',\n  'mayor',\n  'october',\n  'monday',\n  'president',\n  'cnnmoney',\n  'tuesday',\n  'ciutadans party',\n  'popular party',\n  'ppc',\n  'the parc de la ciutadella',\n  'the parliament of catalonia',\n  'european council',\n  'brussels',\n  'barcelona ada colau',\n  'madrid',\n  'the city council',\n  'france',\n  'the european union',\n  'foreign affairs',\n  'world trade organization'],\n 'popular party': ['spain',\n  'catalan',\n  'independence',\n  'puigdemont',\n  'barcelona',\n  'minister',\n  'spanish',\n  'government',\n  'independently',\n  'police',\n  'referendum',\n  'mayor',\n  'october',\n  'monday',\n  'president',\n  'cnnmoney',\n  'tuesday',\n  'ciutadans party',\n  'popular party',\n  'ppc',\n  'the parc de la ciutadella',\n  'the parliament of catalonia',\n  'european council',\n  'brussels',\n  'barcelona ada colau',\n  'madrid',\n  'the city council',\n  'france',\n  'the european union',\n  'foreign affairs',\n  'world trade organization'],\n 'ppc': ['spain',\n  'catalan',\n  'independence',\n  'puigdemont',\n  'barcelona',\n  'minister',\n  'spanish',\n  'government',\n  'independently',\n  'police',\n  'referendum',\n  'mayor',\n  'october',\n  'monday',\n  'president',\n  'cnnmoney',\n  'tuesday',\n  'ciutadans party',\n  'popular party',\n  'ppc',\n  'the parc de la ciutadella',\n  'the parliament of catalonia',\n  'european council',\n  'brussels',\n  'barcelona ada colau',\n  'madrid',\n  'the city council',\n  'france',\n  'the european union',\n  'foreign affairs',\n  'world trade organization'],\n 'the parc de la ciutadella': ['spain',\n  'catalan',\n  'independence',\n  'puigdemont',\n  'barcelona',\n  'minister',\n  'spanish',\n  'government',\n  'independently',\n  'police',\n  'referendum',\n  'mayor',\n  'october',\n  'monday',\n  'president',\n  'cnnmoney',\n  'tuesday',\n  'ciutadans party',\n  'popular party',\n  'ppc',\n  'the parc de la ciutadella',\n  'the parliament of catalonia',\n  'european council',\n  'brussels',\n  'barcelona ada colau',\n  'madrid',\n  'the city council',\n  'france',\n  'the european union',\n  'foreign affairs',\n  'world trade organization'],\n 'the parliament of catalonia': ['spain',\n  'catalan',\n  'independence',\n  'puigdemont',\n  'barcelona',\n  'minister',\n  'spanish',\n  'government',\n  'independently',\n  'police',\n  'referendum',\n  'mayor',\n  'october',\n  'monday',\n  'president',\n  'cnnmoney',\n  'tuesday',\n  'ciutadans party',\n  'popular party',\n  'ppc',\n  'the parc de la ciutadella',\n  'the parliament of catalonia',\n  'european council',\n  'brussels',\n  'barcelona ada colau',\n  'madrid',\n  'the city council',\n  'france',\n  'the european union',\n  'foreign affairs',\n  'world trade organization'],\n 'european council': ['spain',\n  'catalan',\n  'independence',\n  'puigdemont',\n  'barcelona',\n  'minister',\n  'spanish',\n  'government',\n  'independently',\n  'police',\n  'referendum',\n  'mayor',\n  'october',\n  'monday',\n  'president',\n  'cnnmoney',\n  'tuesday',\n  'ciutadans party',\n  'popular party',\n  'ppc',\n  'the parc de la ciutadella',\n  'the parliament of catalonia',\n  'european council',\n  'brussels',\n  'barcelona ada colau',\n  'madrid',\n  'the city council',\n  'france',\n  'the european union',\n  'foreign affairs',\n  'world trade organization'],\n 'brussels': ['spain',\n  'catalan',\n  'independence',\n  'puigdemont',\n  'barcelona',\n  'minister',\n  'spanish',\n  'government',\n  'independently',\n  'police',\n  'referendum',\n  'mayor',\n  'october',\n  'monday',\n  'president',\n  'cnnmoney',\n  'tuesday',\n  'ciutadans party',\n  'popular party',\n  'ppc',\n  'the parc de la ciutadella',\n  'the parliament of catalonia',\n  'european council',\n  'brussels',\n  'barcelona ada colau',\n  'madrid',\n  'the city council',\n  'france',\n  'the european union',\n  'foreign affairs',\n  'world trade organization'],\n 'barcelona ada colau': ['spain',\n  'catalan',\n  'independence',\n  'puigdemont',\n  'barcelona',\n  'minister',\n  'spanish',\n  'government',\n  'independently',\n  'police',\n  'referendum',\n  'mayor',\n  'october',\n  'monday',\n  'president',\n  'cnnmoney',\n  'tuesday',\n  'ciutadans party',\n  'popular party',\n  'ppc',\n  'the parc de la ciutadella',\n  'the parliament of catalonia',\n  'european council',\n  'brussels',\n  'barcelona ada colau',\n  'madrid',\n  'the city council',\n  'france',\n  'the european union',\n  'foreign affairs',\n  'world trade organization'],\n 'madrid': ['spain',\n  'catalan',\n  'independence',\n  'puigdemont',\n  'barcelona',\n  'minister',\n  'spanish',\n  'government',\n  'independently',\n  'police',\n  'referendum',\n  'mayor',\n  'october',\n  'monday',\n  'president',\n  'cnnmoney',\n  'tuesday',\n  'ciutadans party',\n  'popular party',\n  'ppc',\n  'the parc de la ciutadella',\n  'the parliament of catalonia',\n  'european council',\n  'brussels',\n  'barcelona ada colau',\n  'madrid',\n  'the city council',\n  'france',\n  'the european union',\n  'foreign affairs',\n  'world trade organization'],\n 'the city council': ['spain',\n  'catalan',\n  'independence',\n  'puigdemont',\n  'barcelona',\n  'minister',\n  'spanish',\n  'government',\n  'independently',\n  'police',\n  'referendum',\n  'mayor',\n  'october',\n  'monday',\n  'president',\n  'cnnmoney',\n  'tuesday',\n  'ciutadans party',\n  'popular party',\n  'ppc',\n  'the parc de la ciutadella',\n  'the parliament of catalonia',\n  'european council',\n  'brussels',\n  'barcelona ada colau',\n  'madrid',\n  'the city council',\n  'france',\n  'the european union',\n  'foreign affairs',\n  'world trade organization'],\n 'france': ['spain',\n  'catalan',\n  'independence',\n  'puigdemont',\n  'barcelona',\n  'minister',\n  'spanish',\n  'government',\n  'independently',\n  'police',\n  'referendum',\n  'mayor',\n  'october',\n  'monday',\n  'president',\n  'cnnmoney',\n  'tuesday',\n  'ciutadans party',\n  'popular party',\n  'ppc',\n  'the parc de la ciutadella',\n  'the parliament of catalonia',\n  'european council',\n  'brussels',\n  'barcelona ada colau',\n  'madrid',\n  'the city council',\n  'france',\n  'the european union',\n  'foreign affairs',\n  'world trade organization'],\n 'the european union': ['spain',\n  'catalan',\n  'independence',\n  'puigdemont',\n  'barcelona',\n  'minister',\n  'spanish',\n  'government',\n  'independently',\n  'police',\n  'referendum',\n  'mayor',\n  'october',\n  'monday',\n  'president',\n  'cnnmoney',\n  'tuesday',\n  'ciutadans party',\n  'popular party',\n  'ppc',\n  'the parc de la ciutadella',\n  'the parliament of catalonia',\n  'european council',\n  'brussels',\n  'barcelona ada colau',\n  'madrid',\n  'the city council',\n  'france',\n  'the european union',\n  'foreign affairs',\n  'world trade organization'],\n 'foreign affairs': ['spain',\n  'catalan',\n  'independence',\n  'puigdemont',\n  'barcelona',\n  'minister',\n  'spanish',\n  'government',\n  'independently',\n  'police',\n  'referendum',\n  'mayor',\n  'october',\n  'monday',\n  'president',\n  'cnnmoney',\n  'tuesday',\n  'ciutadans party',\n  'popular party',\n  'ppc',\n  'the parc de la ciutadella',\n  'the parliament of catalonia',\n  'european council',\n  'brussels',\n  'barcelona ada colau',\n  'madrid',\n  'the city council',\n  'france',\n  'the european union',\n  'foreign affairs',\n  'world trade organization'],\n 'world trade organization': ['spain',\n  'catalan',\n  'independence',\n  'puigdemont',\n  'barcelona',\n  'minister',\n  'spanish',\n  'government',\n  'independently',\n  'police',\n  'referendum',\n  'mayor',\n  'october',\n  'monday',\n  'president',\n  'cnnmoney',\n  'tuesday',\n  'ciutadans party',\n  'popular party',\n  'ppc',\n  'the parc de la ciutadella',\n  'the parliament of catalonia',\n  'european council',\n  'brussels',\n  'barcelona ada colau',\n  'madrid',\n  'the city council',\n  'france',\n  'the european union',\n  'foreign affairs',\n  'world trade organization']}"
          },
          "metadata": {}
        }
      ],
      "execution_count": null
    },
    {
      "cell_type": "code",
      "source": "",
      "metadata": {
        "tags": [],
        "cell_id": "00010-53b81177-bcf1-4ad9-a899-580504ea3568",
        "deepnote_cell_type": "code"
      },
      "outputs": [],
      "execution_count": null
    },
    {
      "cell_type": "markdown",
      "source": "<a style='text-decoration:none;line-height:16px;display:flex;color:#5B5B62;padding:10px;justify-content:end;' href='https://deepnote.com?utm_source=created-in-deepnote-cell&projectId=902703f2-430f-48f3-ba3f-6c2fee66cf11' target=\"_blank\">\n<img style='display:inline;max-height:16px;margin:0px;margin-right:7.5px;' src='data:image/svg+xml;base64,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' > </img>\nCreated in <span style='font-weight:600;margin-left:4px;'>Deepnote</span></a>",
      "metadata": {
        "tags": [],
        "created_in_deepnote_cell": true,
        "deepnote_cell_type": "markdown"
      }
    }
  ],
  "nbformat": 4,
  "nbformat_minor": 2,
  "metadata": {
    "orig_nbformat": 2,
    "deepnote_notebook_id": "397c1371-ecf8-422e-b561-59d0b2160754",
    "deepnote": {},
    "deepnote_execution_queue": []
  }
}