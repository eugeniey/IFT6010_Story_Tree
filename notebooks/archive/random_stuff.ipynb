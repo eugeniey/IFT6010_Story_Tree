{
  "cells": [
    {
      "cell_type": "markdown",
      "source": "Google doc for the plan\n\nhttps://docs.google.com/document/d/1Blv7YcRjNe_QuOfNGaQCoR9JN8CkooW2xq5PipLgCno/edit",
      "metadata": {
        "tags": [],
        "cell_id": "00001-a9ac0a6f-aac3-4d69-8cd7-269c4bc93358",
        "deepnote_cell_type": "markdown"
      }
    },
    {
      "cell_type": "code",
      "metadata": {
        "tags": [],
        "cell_id": "00001-a3f18ddb-abb5-4781-a0c3-112438fd39c3",
        "deepnote_to_be_reexecuted": false,
        "source_hash": "5ef3d1a5",
        "execution_millis": 858,
        "execution_start": 1614014352588,
        "deepnote_cell_type": "code"
      },
      "source": "!ls /datasets/facebook_data",
      "execution_count": null,
      "outputs": [
        {
          "name": "stdout",
          "text": "facebook-recruiting-iii-keyword-extraction.zip\r\n",
          "output_type": "stream"
        }
      ]
    },
    {
      "cell_type": "code",
      "metadata": {
        "tags": [],
        "cell_id": "00002-af2098ae-2d81-495d-8549-a26a84d88654",
        "deepnote_to_be_reexecuted": false,
        "source_hash": "bd630d92",
        "execution_millis": 1,
        "execution_start": 1613936769741,
        "deepnote_cell_type": "code"
      },
      "source": "from zipfile import ZipFile \nimport pandas as pd",
      "execution_count": null,
      "outputs": []
    },
    {
      "cell_type": "markdown",
      "source": "This extracted the zip file directly in our files",
      "metadata": {
        "tags": [],
        "cell_id": "00003-2fce6f18-c2af-4acc-8c8c-f87b161aafc6",
        "deepnote_cell_type": "markdown"
      }
    },
    {
      "cell_type": "code",
      "metadata": {
        "tags": [],
        "cell_id": "00003-d898cfb1-1768-4d5e-9c31-4212b403e155",
        "deepnote_to_be_reexecuted": false,
        "source_hash": "216890cc",
        "execution_start": 1613936349491,
        "execution_millis": 56538,
        "deepnote_cell_type": "code"
      },
      "source": "#from zipfile import ZipFile \n  \n# # specifying the zip file name \n#file_name = \"/datasets/facebook_data/facebook-recruiting-iii-keyword-extraction.zip\"\n  \n# # opening the zip file in READ mode \n# with ZipFile(file_name, 'r') as zip: \n#    # printing all the contents of the zip file \n#    zip.printdir() \n  \n#    # extracting all the files \n#    print('Extracting all the files now...') \n#    zip.extractall() \n#    print('Done!') ",
      "execution_count": null,
      "outputs": [
        {
          "name": "stdout",
          "text": "File Name                                             Modified             Size\nSampleSubmission.csv                           2019-12-11 23:27:44     82546830\nTest.zip                                       2019-12-11 23:27:54    760327055\nTrain.zip                                      2019-12-11 23:29:10   2347110159\nExtracting all the files now...\nDone!\n",
          "output_type": "stream"
        }
      ]
    },
    {
      "cell_type": "markdown",
      "source": "TRAIN is too big to into a pandas frame :(",
      "metadata": {
        "tags": [],
        "cell_id": "00005-a25b8b06-2083-4fd8-9098-7867feb94424",
        "deepnote_cell_type": "markdown"
      }
    },
    {
      "cell_type": "code",
      "metadata": {
        "tags": [],
        "cell_id": "00006-0148bb46-5432-41c8-b03b-455374b6d8d9",
        "deepnote_to_be_reexecuted": false,
        "source_hash": "9b3e07f0",
        "execution_millis": 350,
        "execution_start": 1614043717177,
        "deepnote_cell_type": "code"
      },
      "source": "import pickle\nimport pandas as pd\nimport numpy as np\nimport re\n# import warnings\n# warnings.filterwarnings(\"ignore\")\n# import matplotlib.pyplot as plt\n# import seaborn as sns\n# from sklearn.feature_extraction.text import CountVectorizer\n# from sklearn.feature_extraction.text import TfidfVectorizer\n# from nltk.corpus import stopwords\nfrom nltk.tokenize import word_tokenize\n# from sklearn.model_selection import train_test_split\n# from sklearn.multiclass import OneVsRestClassifier\n# from sklearn.linear_model import SGDClassifier\n# from sklearn.linear_model import LogisticRegression\n# from sklearn import metrics\n# from sklearn.metrics import f1_score,precision_score,recall_score\nimport nltk\nfrom nltk.corpus import stopwords\nfrom nltk.stem.snowball import SnowballStemmer\nnltk.download('stopwords')\nnltk.download('punkt')",
      "execution_count": null,
      "outputs": [
        {
          "name": "stderr",
          "text": "[nltk_data] Downloading package stopwords to /root/nltk_data...\n[nltk_data]   Package stopwords is already up-to-date!\n[nltk_data] Downloading package punkt to /root/nltk_data...\n[nltk_data]   Unzipping tokenizers/punkt.zip.\n",
          "output_type": "stream"
        },
        {
          "output_type": "execute_result",
          "execution_count": 28,
          "data": {
            "text/plain": "True"
          },
          "metadata": {}
        }
      ]
    },
    {
      "cell_type": "code",
      "metadata": {
        "tags": [],
        "cell_id": "00006-bcbe1eb4-c750-428a-9e1c-46d72c32f117",
        "deepnote_to_be_reexecuted": false,
        "source_hash": "5305b051",
        "execution_millis": 142,
        "execution_start": 1614043124558,
        "deepnote_cell_type": "code"
      },
      "source": "train_set = pickle.load(open(\"shorter_train_set.pickle\", \"rb\"))",
      "execution_count": null,
      "outputs": []
    },
    {
      "cell_type": "code",
      "metadata": {
        "tags": [],
        "cell_id": "00003-520b154d-f983-4352-b712-823091b3322d",
        "deepnote_to_be_reexecuted": false,
        "source_hash": "88873ab3",
        "execution_millis": 8,
        "execution_start": 1614043126059,
        "deepnote_cell_type": "code"
      },
      "source": "train_set.head()",
      "execution_count": null,
      "outputs": [
        {
          "output_type": "execute_result",
          "execution_count": 10,
          "data": {
            "application/vnd.deepnote.dataframe.v2+json": {
              "row_count": 5,
              "column_count": 5,
              "columns": [
                {
                  "name": "Unnamed: 0",
                  "dtype": "int64",
                  "stats": {
                    "unique_count": 5,
                    "nan_count": 0,
                    "min": 0,
                    "max": 4,
                    "histogram": [
                      {
                        "bin_start": 0,
                        "bin_end": 0.4,
                        "count": 1
                      },
                      {
                        "bin_start": 0.4,
                        "bin_end": 0.8,
                        "count": 0
                      },
                      {
                        "bin_start": 0.8,
                        "bin_end": 1.2000000000000002,
                        "count": 1
                      },
                      {
                        "bin_start": 1.2000000000000002,
                        "bin_end": 1.6,
                        "count": 0
                      },
                      {
                        "bin_start": 1.6,
                        "bin_end": 2,
                        "count": 0
                      },
                      {
                        "bin_start": 2,
                        "bin_end": 2.4000000000000004,
                        "count": 1
                      },
                      {
                        "bin_start": 2.4000000000000004,
                        "bin_end": 2.8000000000000003,
                        "count": 0
                      },
                      {
                        "bin_start": 2.8000000000000003,
                        "bin_end": 3.2,
                        "count": 1
                      },
                      {
                        "bin_start": 3.2,
                        "bin_end": 3.6,
                        "count": 0
                      },
                      {
                        "bin_start": 3.6,
                        "bin_end": 4,
                        "count": 1
                      }
                    ]
                  }
                },
                {
                  "name": "Id",
                  "dtype": "int64",
                  "stats": {
                    "unique_count": 5,
                    "nan_count": 0,
                    "min": 1,
                    "max": 5,
                    "histogram": [
                      {
                        "bin_start": 1,
                        "bin_end": 1.4,
                        "count": 1
                      },
                      {
                        "bin_start": 1.4,
                        "bin_end": 1.8,
                        "count": 0
                      },
                      {
                        "bin_start": 1.8,
                        "bin_end": 2.2,
                        "count": 1
                      },
                      {
                        "bin_start": 2.2,
                        "bin_end": 2.6,
                        "count": 0
                      },
                      {
                        "bin_start": 2.6,
                        "bin_end": 3,
                        "count": 0
                      },
                      {
                        "bin_start": 3,
                        "bin_end": 3.4000000000000004,
                        "count": 1
                      },
                      {
                        "bin_start": 3.4000000000000004,
                        "bin_end": 3.8000000000000003,
                        "count": 0
                      },
                      {
                        "bin_start": 3.8000000000000003,
                        "bin_end": 4.2,
                        "count": 1
                      },
                      {
                        "bin_start": 4.2,
                        "bin_end": 4.6,
                        "count": 0
                      },
                      {
                        "bin_start": 4.6,
                        "bin_end": 5,
                        "count": 1
                      }
                    ]
                  }
                },
                {
                  "name": "Title",
                  "dtype": "object",
                  "stats": {
                    "unique_count": 5,
                    "nan_count": 0,
                    "categories": [
                      {
                        "name": "How to check if an uploaded file is an image without mime type?",
                        "count": 1
                      },
                      {
                        "name": "How can I prevent firefox from closing when I press ctrl-w",
                        "count": 1
                      },
                      {
                        "name": "3 others",
                        "count": 3
                      }
                    ]
                  }
                },
                {
                  "name": "Body",
                  "dtype": "object",
                  "stats": {
                    "unique_count": 5,
                    "nan_count": 0,
                    "categories": [
                      {
                        "name": "<p>I'd like to check if an uploaded file is an image file (e.g png, jpg, jpeg, gif, bmp) or another file. The problem is that I'm using Uploadify to upload the files, which changes the mime type and gives a 'text/octal' or something as the mime type, no matter which file type you upload.</p>\n\n<p>Is there a way to check if the uploaded file is an image apart from checking the file extension using PHP?</p>\n",
                        "count": 1
                      },
                      {
                        "name": "<p>In my favorite editor (vim), I regularly use ctrl-w to execute a certain action. Now, it quite often happens to me that firefox is the active window (on windows) while I still look at vim (thinking vim is the active window) and press ctrl-w which closes firefox. This is not what I want. Is there a way to stop ctrl-w from closing firefox?</p>\n\n<p>Rene</p>\n",
                        "count": 1
                      },
                      {
                        "name": "3 others",
                        "count": 3
                      }
                    ]
                  }
                },
                {
                  "name": "Tags",
                  "dtype": "object",
                  "stats": {
                    "unique_count": 5,
                    "nan_count": 0,
                    "categories": [
                      {
                        "name": "php image-processing file-upload upload mime-types",
                        "count": 1
                      },
                      {
                        "name": "firefox",
                        "count": 1
                      },
                      {
                        "name": "3 others",
                        "count": 3
                      }
                    ]
                  }
                },
                {
                  "name": "_deepnote_index_column",
                  "dtype": "int64"
                }
              ],
              "rows_top": [
                {
                  "Unnamed: 0": 0,
                  "Id": 1,
                  "Title": "How to check if an uploaded file is an image without mime type?",
                  "Body": "<p>I'd like to check if an uploaded file is an image file (e.g png, jpg, jpeg, gif, bmp) or another file. The problem is that I'm using Uploadify to upload the files, which changes the mime type and gives a 'text/octal' or something as the mime type, no matter which file type you upload.</p>\n\n<p>Is there a way to check if the uploaded file is an image apart from checking the file extension using PHP?</p>\n",
                  "Tags": "php image-processing file-upload upload mime-types",
                  "_deepnote_index_column": 0
                },
                {
                  "Unnamed: 0": 1,
                  "Id": 2,
                  "Title": "How can I prevent firefox from closing when I press ctrl-w",
                  "Body": "<p>In my favorite editor (vim), I regularly use ctrl-w to execute a certain action. Now, it quite often happens to me that firefox is the active window (on windows) while I still look at vim (thinking vim is the active window) and press ctrl-w which closes firefox. This is not what I want. Is there a way to stop ctrl-w from closing firefox?</p>\n\n<p>Rene</p>\n",
                  "Tags": "firefox",
                  "_deepnote_index_column": 1
                },
                {
                  "Unnamed: 0": 2,
                  "Id": 3,
                  "Title": "R Error Invalid type (list) for variable",
                  "Body": "<p>I am import matlab file and construct a data frame, matlab file contains two columns with and each row maintain a cell that has a matrix, I construct a dataframe to run random forest. But I am getting following error. </p>\n\n<pre><code>Error in model.frame.default(formula = expert_data_frame$t_labels ~ .,  : \n  invalid type (list) for variable 'expert_data_frame$t_labels'\n</code></pre>\n\n<p>Here is the code how I import the matlab file and construct the dataframe:</p>\n\n<pre><code>all_exp_traintest &lt;- readMat(all_exp_filepath);\nlen = length(all_exp_traintest$exp.traintest)/2;\n    for (i in 1:len) {\n      expert_train_df &lt;- data.frame(all_exp_traintest$exp.traintest[i]);\n      labels = data.frame(all_exp_traintest$exp.traintest[i+302]);\n      names(labels)[1] &lt;- \"t_labels\";\n      expert_train_df$t_labels &lt;- labels;\n      expert_data_frame &lt;- data.frame(expert_train_df);\n      rf_model = randomForest(expert_data_frame$t_labels ~., data=expert_data_frame, importance=TRUE, do.trace=100);\n    }\n</code></pre>\n\n<p>Structure of the Matlab input file</p>\n\n<pre><code>[56x12 double]    [56x1 double]\n[62x12 double]    [62x1 double]\n[62x12 double]    [62x1 double]\n[62x12 double]    [62x1 double]\n[62x12 double]    [62x1 double]\n[74x12 double]    [74x1 double]\n\n\n&gt; str(all_exp_traintest)\nList of 1\n $ exp.traintest:List of 604\n  ..$ NA: num [1:56, 1:12] 0 0 0 0 8 1 1 0 0 0 ...\n  ..$ NA: num [1:62, 1:12] 2 10 11 13 5 10 13 8 11 8 ...\n  ..$ NA: num [1:62, 1:12] 0 0 1 0 0 0 0 0 1 1 ...\n  ..$ NA: num [1:62, 1:12] 4 2 1 3 3 20 6 3 2 2 ...\n  ..$ NA: num [1:62, 1:12] 2731 2362 2937 1229 1898 ...\n  ..$ NA: num [1:74, 1:12] 27 33 34 38 33 35 36 35 47 46 ...\n  ..$ NA: num [1:74, 1:12] 106 79 99 94 153 104 146 105 125 146 ...\n  ..$ NA: num [1:74, 1:12] 3 9 3 0 1 26 0 4 0 0 ...\n  ..$ NA: num [1:51, 1:12] 5 7 3 30 0 0 0 0 0 0 ...\n  ..$ NA: num [1:66, 1:12] 0 0 13 0 0 3 2 2 0 2 ...\n  ..$ NA: num [1:73, 1:12] 1 0 1 0 0 0 2 1 2 5 ...\n  ..$ NA: num [1:73, 1:12] 23 14 20 14 24 22 32 61 84 278 ...\n  ..$ NA: num [1:75, 1:12] 1 7 0 1 2 3 3 0 16 10 ...\n  ..$ NA: num [1:90, 1:12] 10 7 8 15 25 12 37 31 18 48 ...\n  ..$ NA: num [1:90, 1:12] 0 6 3 1 5 7 8 6 1 1 ...\n  ..$ NA: num [1:90, 1:12] 0 1 1 2 0 4 9 6 3 4 ...\n  ..$ NA: num [1:90, 1:12] 6 0 5 27 11 50 22 8 10 4 ...\n  ..$ NA: num [1:90, 1:12] 3 9 13 12 4 0 5 0 5 0 ...\n  ..$ NA: num [1:90, 1:12] 1 0 1 0 1 2 1 0 1 2 ...\n  ..$ NA: num [1:90, 1:12] 3395 3400 3360 3770 3533 ...\n  ..$ NA: num [1:84, 1:12] 0 0 0 0 5 0 0 5 4 2 ...\n  ..$ NA: num [1:80, 1:12] 2 3 3 3 4 28 61 26 8 1 ...\n  ..$ NA: num [1:81, 1:12] 4 28 22 9 16 43 80 21 19 18 ...\n  ..$ NA: num [1:76, 1:12] 1 0 0 1 49 64 60 230 222 267 ...\n  ..$ NA: num [1:76, 1:12] 4786 4491 2510 1144 2071 ...\n  ..$ NA: num [1:76, 1:12] 80 128 254 109 114 267 152 139 368 363 ...\n  ..$ NA: num [1:76, 1:12] 1 5 8 2 14 5 3 13 8 2 ...\n  ..$ NA: num [1:76, 1:12] 10 3 8 79 4 4 11 30 2 0 ...\n  ..$ NA: num [1:68, 1:12] 0 0 2 0 0 2 6 0 0 4 ...\n  ..$ NA: num [1:68, 1:12] 1 4 5 2 2 3 3 1 3 0 ...\n  ..$ NA: num [1:68, 1:12] 0 0 1 0 0 0 0 0 0 1 ...\n  ..$ NA: num [1:69, 1:12] 39 45 2 0 1 4 3 0 13 0 ...\n  ..$ NA: num [1:69, 1:12] 0 4 6 0 0 4 1 6 10 1 ...\n  ..$ NA: num [1:69, 1:12] 0 2 5 2 2 2 0 0 3 6 ...\n  ..$ NA: num [1:69, 1:12] 3 0 1 1 1 4 7 5 5 1 ...\n  ..$ NA: num [1:66, 1:12] 5 0 0 0 0 0 0 1 3 5 ...\n  ..$ NA: num [1:66, 1:12] 4 3 3 0 0 4 0 0 0 0 ...\n  ..$ NA: num [1:65, 1:12] 0 0 1 0 0 0 5 8 4 1 ...\n  ..$ NA: num [1:65, 1:12] 0 5 6 0 2 0 0 1 1 2 ...\n  ..$ NA: num [1:69, 1:12] 0 16 5 1 14 0 1 0 0 16 ...\n  ..$ NA: num [1:69, 1:12] 0 0 0 0 0 25 2 3 0 0 ...\n  ..$ NA: num [1:64, 1:12] 2 0 0 0 0 0 0 0 0 0 ...\n  ..$ NA: num [1:42, 1:12] 0 0 0 0 0 0 0 0 0 0 ...\n  ..$ NA: num [1:67, 1:12] 0 2 4 10 15 4 1 43 1 7 ...\n  ..$ NA: num [1:63, 1:12] 32 6 12 5 92 8 29 7 21 20 ...\n  ..$ NA: num [1:63, 1:12] 2 5 12 8 10 13 6 11 10 14 ...\n  ..$ NA: num [1:63, 1:12] 3 5 10 9 0 1 8 13 2 14 ...\n  ..$ NA: num [1:54, 1:12] 0 0 14 0 0 0 0 0 0 1 ...\n  ..$ NA: num [1:82, 1:12] 152 99 63 57 105 44 28 33 43 49 ...\n  ..$ NA: num [1:81, 1:12] 0 1 0 0 0 0 0 0 0 0 ...\n  ..$ NA: num [1:75, 1:12] 0 1 3 0 0 0 0 0 0 0 ...\n  ..$ NA: num [1:75, 1:12] 1 0 0 2 0 1 0 0 0 0 ...\n  ..$ NA: num [1:75, 1:12] 1 6 5 5 3 8 1 3 1 0 ...\n  ..$ NA: num [1:72, 1:12] 0 0 0 0 1 0 1 2 0 0 ...\n  ..$ NA: num [1:62, 1:12] 310 91 4 4 9 0 0 1 0 0 ...\n  ..$ NA: num [1:62, 1:12] 239 374 1060 599 805 808 139 150 490 326 ...\n  ..$ NA: num [1:49, 1:12] 9 18 10 12 19 5 13 10 2 3 ...\n  ..$ NA: num [1:61, 1:12] 2 0 0 0 1 0 0 0 0 0 ...\n  ..$ NA: num [1:61, 1:12] 4 10 16 15 8 14 10 23 11 5 ...\n  ..$ NA: num [1:61, 1:12] 0 1 4 4 5 3 0 1 1 1 ...\n  ..$ NA: num [1:65, 1:12] 165 100 177 65 148 58 188 55 59 62 ...\n  ..$ NA: num [1:65, 1:12] 13 0 0 2 2 3 0 0 0 0 ...\n  ..$ NA: num [1:66, 1:12] 157 58 101 92 15 21 73 80 78 75 ...\n  ..$ NA: num [1:66, 1:12] 8 6 1 0 6 2 2 6 10 9 ...\n  ..$ NA: num [1:87, 1:12] 1 2 5 6 8 3 3 3 2 3 ...\n  ..$ NA: num [1:83, 1:12] 0 0 0 0 0 0 2 13 0 0 ...\n  ..$ NA: num [1:81, 1:12] 0 0 1 0 3 5 3 0 2 7 ...\n  ..$ NA: num [1:81, 1:12] 33 81 94 30 5 36 16 90 121 182 ...\n  ..$ NA: num [1:81, 1:12] 10 11 16 6 0 0 0 1 0 0 ...\n  ..$ NA: num [1:81, 1:12] 7 0 0 2 1 3 1 4 0 0 ...\n  ..$ NA: num [1:81, 1:12] 1 0 5 0 2 3 1 0 1 1 ...\n  ..$ NA: num [1:95, 1:12] 30 160 116 130 444 515 225 135 108 175 ...\n  ..$ NA: num [1:95, 1:12] 12 1 0 10 3 3 0 4 0 0 ...\n  ..$ NA: num [1:95, 1:12] 1 0 0 0 3 3 1 0 0 0 ...\n  ..$ NA: num [1:95, 1:12] 11 42 61 23 41 56 81 6 83 82 ...\n  ..$ NA: num [1:95, 1:12] 1 2 5 3 6 4 2 8 28 1 ...\n  ..$ NA: num [1:95, 1:12] 283 192 377 216 207 261 394 262 262 554 ...\n  ..$ NA: num [1:94, 1:12] 0 0 0 0 0 0 0 0 0 0 ...\n  ..$ NA: num [1:72, 1:12] 0 0 0 0 0 0 0 0 0 0 ...\n  ..$ NA: num [1:72, 1:12] 5 3 0 2 13 27 6 2 12 36 ...\n  ..$ NA: num [1:72, 1:12] 0 2 2 0 1 0 1 4 2 2 ...\n  ..$ NA: num [1:72, 1:12] 0 0 1 0 3 1 0 4 1 0 ...\n  ..$ NA: num [1:67, 1:12] 27 7 18 1 2 0 0 0 0 0 ...\n  ..$ NA: num [1:67, 1:12] 10 2 1 10 7 0 0 1 1 4 ...\n  ..$ NA: num [1:67, 1:12] 14 17 9 20 13 20 18 13 10 7 ...\n  ..$ NA: num [1:64, 1:12] 0 0 0 0 4 0 0 0 3 0 ...\n  ..$ NA: num [1:64, 1:12] 3 0 1 0 2 7 13 14 4 2 ...\n  ..$ NA: num [1:64, 1:12] 0 0 0 0 0 0 0 0 2 0 ...\n  ..$ NA: num [1:72, 1:12] 59 61 55 120 49 202 325 244 377 551 ...\n  ..$ NA: num [1:72, 1:12] 0 0 0 0 0 0 0 0 1 0 ...\n  ..$ NA: num [1:72, 1:12] 0 3 1 0 1 0 0 0 4 0 ...\n  ..$ NA: num [1:72, 1:12] 5 12 6 9 15 10 15 27 15 9 ...\n  ..$ NA: num [1:72, 1:12] 7 0 3 0 0 1 1 1 1 0 ...\n  ..$ NA: num [1:72, 1:12] 0 0 0 0 89 0 19 3 3 2 ...\n  ..$ NA: num [1:61, 1:12] 5 3 5 3 3 29 46 140 49 24 ...\n  ..$ NA: num [1:63, 1:12] 23 0 0 0 0 60 7 73 13 19 ...\n  ..$ NA: num [1:95, 1:12] 7 96 28 2 9 5 8 190 166 1 ...\n  ..$ NA: num [1:95, 1:12] 0 0 1 1 0 0 0 0 0 0 ...\n  ..$ NA: num [1:95, 1:12] 4 0 2 6 6 11 6 5 6 9 ...\n  .. [list output truncated]\n - attr(*, \"header\")=List of 3\n  ..$ description: chr \"MATLAB 5.0 MAT-file, Platform: MACI64, Created on: Sun Dec  9 17:35:24 2012                                         \"\n  ..$ version    : chr \"5\"\n  ..$ endian     : chr \"little\"\n</code></pre>\n\n<p>After loading the matlab file into R</p>\n\n<pre><code>all_exp_traintest$exp.traintest[1]\n$&lt;NA&gt;\n      [,1] [,2]  [,3]   [,4]   [,5]    [,6]     [,7]      [,8]       [,9]       [,10]        [,11]        [,12]\n [1,]    0  0.0  0.00  0.000 0.5000 0.03125 0.015625 0.0000000 0.00000000 0.000000000 0.0000000000 0.0000000000\n [2,]    0  0.0  0.00  1.000 0.0625 0.03125 0.000000 0.0000000 0.00000000 0.000000000 0.0000000000 0.0000000000\n [3,]    0  0.0  2.00  0.125 0.0625 0.00000 0.000000 0.0000000 0.00000000 0.000000000 0.0000000000 0.0000000000\n [4,]    0  4.0  0.25  0.125 0.0000 0.00000 0.000000 0.0000000 0.00000000 0.000000000 0.0000000000 0.0009765625\n [5,]    8  0.5  0.25  0.000 0.0000 0.00000 0.000000 0.0000000 0.00000000 0.000000000 0.0019531250 0.0000000000\n [6,]    1  0.5  0.00  0.000 0.0000 0.00000 0.000000 0.0000000 0.00000000 0.003906250 0.0000000000 0.0004882812\n [7,]    1  0.0  0.00  0.000 0.0000 0.00000 0.000000 0.0000000 0.00781250 0.000000000 0.0009765625 0.0009765625\n [8,]    0  0.0  0.00  0.000 0.0000 0.00000 0.000000 0.0156250 0.00000000 0.001953125 0.0019531250 0.0000000000\n [9,]    0  0.0  0.00  0.000 0.0000 0.00000 0.031250 0.0000000 0.00390625 0.003906250 0.0000000000 0.0004882812\n[10,]    0  0.0  0.00  0.000 0.0000 0.06250 0.000000 0.0078125 0.00781250 0.000000000 0.0009765625 0.0000000000\n[11,]    0  0.0  0.00  0.000 0.1250 0.00000 0.015625 0.0156250 0.00000000 0.001953125 0.0000000000 0.0000000000\n[12,]    0  0.0  0.00  0.250 0.0000 0.03125 0.031250 0.0000000 0.00390625 0.000000000 0.0000000000 0.0004882812\n[13,]    0  0.0  0.50  0.000 0.0625 0.06250 0.000000 0.0078125 0.00000000 0.000000000 0.0009765625 0.0000000000\n[14,]    0  1.0  0.00  0.125 0.1250 0.00000 0.015625 0.0000000 0.00000000 0.001953125 0.0000000000 0.0024414062\n[15,]    2  0.0  0.25  0.250 0.0000 0.03125 0.000000 0.0000000 0.00390625 0.000000000 0.0048828125 0.0014648438\n[16,]    0  0.5  0.50  0.000 0.0625 0.00000 0.000000 0.0078125 0.00000000 0.009765625 0.0029296875 0.0039062500\n[17,]    1  1.0  0.00  0.125 0.0000 0.00000 0.015625 0.0000000 0.01953125 0.005859375 0.0078125000 0.0151367188\n[18,]    2  0.0  0.25  0.000 0.0000 0.03125 0.000000 0.0390625 0.01171875 0.015625000 0.0302734375 0.0019531250\n[19,]    0  0.5  0.00  0.000 0.0625 0.00000 0.078125 0.0234375 0.03125000 0.060546875 0.0039062500 0.0029296875\n[20,]    1  0.0  0.00  0.125 0.0000 0.15625 0.046875 0.0625000 0.12109375 0.007812500 0.0058593750 0.0253906250\n[21,]    0  0.0  0.25  0.000 0.3125 0.09375 0.125000 0.2421875 0.01562500 0.011718750 0.0507812500 0.0253906250\n[22,]    0  0.5  0.00  0.625 0.1875 0.25000 0.484375 0.0312500 0.02343750 0.101562500 0.0507812500 0.0063476562\n[23,]    1  0.0  1.25  0.375 0.5000 0.96875 0.062500 0.0468750 0.20312500 0.101562500 0.0126953125 0.0009765625\n[24,]    0  2.5  0.75  1.000 1.9375 0.12500 0.093750 0.4062500 0.20312500 0.025390625 0.0019531250 0.0000000000\n[25,]    5  1.5  2.00  3.875 0.2500 0.18750 0.812500 0.4062500 0.05078125 0.003906250 0.0000000000 0.0019531250\n[26,]    3  4.0  7.75  0.500 0.3750 1.62500 0.812500 0.1015625 0.00781250 0.000000000 0.0039062500 0.0029296875\n[27,]    8 15.5  1.00  0.750 3.2500 1.62500 0.203125 0.0156250 0.00000000 0.007812500 0.0058593750 0.0009765625\n[28,]   31  2.0  1.50  6.500 3.2500 0.40625 0.031250 0.0000000 0.01562500 0.011718750 0.0019531250 0.0000000000\n[29,]    4  3.0 13.00  6.500 0.8125 0.06250 0.000000 0.0312500 0.02343750 0.003906250 0.0000000000 0.0083007812\n[30,]    6 26.0 13.00  1.625 0.1250 0.00000 0.062500 0.0468750 0.00781250 0.000000000 0.0166015625 0.0000000000\n[31,]   52 26.0  3.25  0.250 0.0000 0.12500 0.093750 0.0156250 0.00000000 0.033203125 0.0000000000 0.0048828125\n[32,]   52  6.5  0.50  0.000 0.2500 0.18750 0.031250 0.0000000 0.06640625 0.000000000 0.0097656250 0.0034179688\n[33,]   13  1.0  0.00  0.500 0.3750 0.06250 0.000000 0.1328125 0.00000000 0.019531250 0.0068359375 0.0229492188\n[34,]    2  0.0  1.00  0.750 0.1250 0.00000 0.265625 0.0000000 0.03906250 0.013671875 0.0458984375 0.0297851562\n[35,]    0  2.0  1.50  0.250 0.0000 0.53125 0.000000 0.0781250 0.02734375 0.091796875 0.0595703125 0.0771484375\n[36,]    4  3.0  0.50  0.000 1.0625 0.00000 0.156250 0.0546875 0.18359375 0.119140625 0.1542968750 0.0004882812\n[37,]    6  1.0  0.00  2.125 0.0000 0.31250 0.109375 0.3671875 0.23828125 0.308593750 0.0009765625 0.0000000000\n[38,]    2  0.0  4.25  0.000 0.6250 0.21875 0.734375 0.4765625 0.61718750 0.001953125 0.0000000000 0.0048828125\n[39,]    0  8.5  0.00  1.250 0.4375 1.46875 0.953125 1.2343750 0.00390625 0.000000000 0.0097656250 0.0000000000\n[40,]   17  0.0  2.50  0.875 2.9375 1.90625 2.468750 0.0078125 0.00000000 0.019531250 0.0000000000 0.0000000000\n[41,]    0  5.0  1.75  5.875 3.8125 4.93750 0.015625 0.0000000 0.03906250 0.000000000 0.0000000000 0.0000000000\n[42,]   10  3.5 11.75  7.625 9.8750 0.03125 0.000000 0.0781250 0.00000000 0.000000000 0.0000000000 0.0004882812\n[43,]    7 23.5 15.25 19.750 0.0625 0.00000 0.156250 0.0000000 0.00000000 0.000000000 0.0009765625 0.0078125000\n[44,]   47 30.5 39.50  0.125 0.0000 0.31250 0.000000 0.0000000 0.00000000 0.001953125 0.0156250000 0.0000000000\n[45,]   61 79.0  0.25  0.000 0.6250 0.00000 0.000000 0.0000000 0.00390625 0.031250000 0.0000000000 0.0000000000\n[46,]  158  0.5  0.00  1.250 0.0000 0.00000 0.000000 0.0078125 0.06250000 0.000000000 0.0000000000 0.0004882812\n[47,]    1  0.0  2.50  0.000 0.0000 0.00000 0.015625 0.1250000 0.00000000 0.000000000 0.0009765625 0.0000000000\n[48,]    0  5.0  0.00  0.000 0.0000 0.03125 0.250000 0.0000000 0.00000000 0.001953125 0.0000000000 0.0000000000\n[49,]   10  0.0  0.00  0.000 0.0625 0.50000 0.000000 0.0000000 0.00390625 0.000000000 0.0000000000 0.0000000000\n[50,]    0  0.0  0.00  0.125 1.0000 0.00000 0.000000 0.0078125 0.00000000 0.000000000 0.0000000000 0.0000000000\n[51,]    0  0.0  0.25  2.000 0.0000 0.00000 0.015625 0.0000000 0.00000000 0.000000000 0.0000000000 0.0000000000\n[52,]    0  0.5  4.00  0.000 0.0000 0.03125 0.000000 0.0000000 0.00000000 0.000000000 0.0000000000 0.0000000000\n[53,]    1  8.0  0.00  0.000 0.0625 0.00000 0.000000 0.0000000 0.00000000 0.000000000 0.0000000000 0.0000000000\n[54,]   16  0.0  0.00  0.125 0.0000 0.00000 0.000000 0.0000000 0.00000000 0.000000000 0.0000000000 0.0000000000\n[55,]    0  0.0  0.25  0.000 0.0000 0.00000 0.000000 0.0000000 0.00000000 0.000000000 0.0000000000 0.0000000000\n[56,]    0  0.5  0.00  0.000 0.0000 0.00000 0.000000 0.0000000 0.00000000 0.000000000 0.0000000000 0.0000000000\n</code></pre>\n",
                  "Tags": "r matlab machine-learning",
                  "_deepnote_index_column": 2
                },
                {
                  "Unnamed: 0": 3,
                  "Id": 4,
                  "Title": "How do I replace special characters in a URL?",
                  "Body": "<p>This is probably very simple, but I simply cannot find the answer myself :( </p>\n\n<p>Basicaly, what I want is, given this string:</p>\n\n<p>\"http://www.google.com/search?hl=en&amp;q=c# objects\"</p>\n\n<p>I want this output:</p>\n\n<p><a href=\"http://www.google.com/search?hl=en&amp;q=c%23+objects\">http://www.google.com/search?hl=en&amp;q=c%23+objects</a></p>\n\n<p>I'm sure there's some helper class somewhere buried in the Framework that takes care of that for me, but I'm having trouble finding it.</p>\n\n<p>EDIT: I should add, that this is for a Winforms App.</p>\n",
                  "Tags": "c# url encoding",
                  "_deepnote_index_column": 3
                },
                {
                  "Unnamed: 0": 4,
                  "Id": 5,
                  "Title": "How to modify whois contact details?",
                  "Body": "<pre><code>function modify(.......)\n{\n  $mcontact = file_get_contents( \"https://test.httpapi.com/api/contacts/modify.json?auth-userid=$uid&amp;auth-password=$pass&amp;contact-id=$cid&amp;name=$name &amp;company=$company&amp;email=$email&amp;address-line-1=$street&amp;city=$city&amp;country=$country&amp;zipcode=$pincode&amp;phone-cc=$countryCodeList[$phc]&amp;phone=$phone\" );\n\n  $mdetails = json_decode( $mcontact, true );\n\n  return $mdetails;\n}\n</code></pre>\n\n<p>using this modify function, displays warning mesage\n</p>\n\n<pre class=\"lang-none prettyprint-override\"><code>Warning: file_get_contents(https://...@hihfg.com&amp;address-line-1=3,dfgdf,fgdf&amp;city=dfgfd&amp;country=India&amp;zipcode=641005&amp;phone-cc=91&amp;phone=756657) \n  [function.file-get-contents]: failed to open stream: HTTP request failed!\n  HTTP/1.0 400 Bad request in /home/gfdgfd/public_html/new_one/customer/account/class.whois.php\n  on line 49\n</code></pre>\n\n<p>Please help me, modify contact details..</p>\n",
                  "Tags": "php api file-get-contents",
                  "_deepnote_index_column": 4
                }
              ],
              "rows_bottom": null
            },
            "text/plain": "   Unnamed: 0  Id                                              Title  \\\n0           0   1  How to check if an uploaded file is an image w...   \n1           1   2  How can I prevent firefox from closing when I ...   \n2           2   3           R Error Invalid type (list) for variable   \n3           3   4      How do I replace special characters in a URL?   \n4           4   5               How to modify whois contact details?   \n\n                                                Body  \\\n0  <p>I'd like to check if an uploaded file is an...   \n1  <p>In my favorite editor (vim), I regularly us...   \n2  <p>I am import matlab file and construct a dat...   \n3  <p>This is probably very simple, but I simply ...   \n4  <pre><code>function modify(.......)\\n{\\n  $mco...   \n\n                                                Tags  \n0  php image-processing file-upload upload mime-t...  \n1                                            firefox  \n2                          r matlab machine-learning  \n3                                    c# url encoding  \n4                          php api file-get-contents  ",
            "text/html": "<div>\n<style scoped>\n    .dataframe tbody tr th:only-of-type {\n        vertical-align: middle;\n    }\n\n    .dataframe tbody tr th {\n        vertical-align: top;\n    }\n\n    .dataframe thead th {\n        text-align: right;\n    }\n</style>\n<table border=\"1\" class=\"dataframe\">\n  <thead>\n    <tr style=\"text-align: right;\">\n      <th></th>\n      <th>Unnamed: 0</th>\n      <th>Id</th>\n      <th>Title</th>\n      <th>Body</th>\n      <th>Tags</th>\n    </tr>\n  </thead>\n  <tbody>\n    <tr>\n      <th>0</th>\n      <td>0</td>\n      <td>1</td>\n      <td>How to check if an uploaded file is an image w...</td>\n      <td>&lt;p&gt;I'd like to check if an uploaded file is an...</td>\n      <td>php image-processing file-upload upload mime-t...</td>\n    </tr>\n    <tr>\n      <th>1</th>\n      <td>1</td>\n      <td>2</td>\n      <td>How can I prevent firefox from closing when I ...</td>\n      <td>&lt;p&gt;In my favorite editor (vim), I regularly us...</td>\n      <td>firefox</td>\n    </tr>\n    <tr>\n      <th>2</th>\n      <td>2</td>\n      <td>3</td>\n      <td>R Error Invalid type (list) for variable</td>\n      <td>&lt;p&gt;I am import matlab file and construct a dat...</td>\n      <td>r matlab machine-learning</td>\n    </tr>\n    <tr>\n      <th>3</th>\n      <td>3</td>\n      <td>4</td>\n      <td>How do I replace special characters in a URL?</td>\n      <td>&lt;p&gt;This is probably very simple, but I simply ...</td>\n      <td>c# url encoding</td>\n    </tr>\n    <tr>\n      <th>4</th>\n      <td>4</td>\n      <td>5</td>\n      <td>How to modify whois contact details?</td>\n      <td>&lt;pre&gt;&lt;code&gt;function modify(.......)\\n{\\n  $mco...</td>\n      <td>php api file-get-contents</td>\n    </tr>\n  </tbody>\n</table>\n</div>"
          },
          "metadata": {}
        }
      ]
    },
    {
      "cell_type": "code",
      "metadata": {
        "tags": [],
        "cell_id": "00004-052d80ec-458f-478c-8ba8-c181aa71da56",
        "deepnote_to_be_reexecuted": false,
        "source_hash": "1165ef97",
        "execution_millis": 383,
        "execution_start": 1614043128727,
        "deepnote_cell_type": "code"
      },
      "source": "train_set = train_set.drop_duplicates(['Title', 'Body', 'Tags'])\ntrain_set[\"tag_count\"] = train_set[\"Tags\"].apply(lambda row : len(str(row).split(\" \")))",
      "execution_count": null,
      "outputs": []
    },
    {
      "cell_type": "code",
      "metadata": {
        "tags": [],
        "cell_id": "00008-3a54ec5a-9bce-45f5-9631-3f25fc3b428d",
        "deepnote_to_be_reexecuted": false,
        "source_hash": "70e33c5e",
        "execution_millis": 3,
        "execution_start": 1614043147213,
        "deepnote_cell_type": "code"
      },
      "source": "train_set[\"tag_count\"] = train_set[\"Tags\"].apply(lambda x : len(x.split()))",
      "execution_count": null,
      "outputs": []
    },
    {
      "cell_type": "code",
      "metadata": {
        "tags": [],
        "cell_id": "00011-f3a0dc69-951f-4723-a41d-1ebd77ab587b",
        "deepnote_to_be_reexecuted": false,
        "source_hash": "22fa07fa",
        "execution_millis": 16,
        "execution_start": 1614043665862,
        "deepnote_cell_type": "code"
      },
      "source": "nltk.download('stopwords')",
      "execution_count": null,
      "outputs": [
        {
          "name": "stderr",
          "text": "[nltk_data] Downloading package stopwords to /root/nltk_data...\n[nltk_data]   Package stopwords is already up-to-date!\n",
          "output_type": "stream"
        },
        {
          "output_type": "execute_result",
          "execution_count": 23,
          "data": {
            "text/plain": "True"
          },
          "metadata": {}
        }
      ]
    },
    {
      "cell_type": "code",
      "metadata": {
        "tags": [],
        "cell_id": "00011-34e08b7d-94dc-4122-a72f-df2f5fc80315",
        "deepnote_to_be_reexecuted": false,
        "source_hash": "a88507a2",
        "execution_millis": 1,
        "execution_start": 1614043694178,
        "deepnote_cell_type": "code"
      },
      "source": "stop_words = set(stopwords.words('english'))\nstemmer = SnowballStemmer(\"english\")",
      "execution_count": null,
      "outputs": []
    },
    {
      "cell_type": "markdown",
      "source": "Code and weird character in the text, we take that off",
      "metadata": {
        "tags": [],
        "cell_id": "00013-56b40234-b6c3-42cd-96e5-902368b5fef8",
        "deepnote_cell_type": "markdown"
      }
    },
    {
      "cell_type": "code",
      "metadata": {
        "tags": [],
        "cell_id": "00012-6bcaa010-70b5-4a32-aebe-da33a0e9a058",
        "deepnote_to_be_reexecuted": false,
        "source_hash": null,
        "execution_millis": 139168,
        "execution_start": 1614043721922,
        "output_cleared": false,
        "deepnote_cell_type": "code"
      },
      "source": "qus_list = []\nqus_with_code = 0\nlen_before_preprocessing = 0 \nlen_after_preprocessing = 0 \nfor index,row in train_set.iterrows():\n    title, body, tags = row[\"Title\"], row[\"Body\"], row[\"Tags\"]\n    if '<code>' in body:\n        qus_with_code+=1\n    len_before_preprocessing+=len(title) + len(body)\n    body=re.sub('<code>(.*?)</code>', '', body, flags=re.MULTILINE|re.DOTALL)\n    body = re.sub('<.*?>', ' ', str(body.encode('utf-8')))\n    title=title.encode('utf-8')\n    question=str(title)+\" \"+str(body)\n    question=re.sub(r'[^A-Za-z]+',' ',question)\n    words=word_tokenize(str(question.lower()))\n    question=' '.join(str(stemmer.stem(j)) for j in words if j not in stop_words and (len(j)!=1 or j=='c'))\n    qus_list.append(question)\n    len_after_preprocessing += len(question)\ntrain_set[\"question\"] = qus_list\navg_len_before_preprocessing=(len_before_preprocessing*1.0)/train_set.shape[0]\navg_len_after_preprocessing=(len_after_preprocessing*1.0)/train_set.shape[0]\nprint( \"Avg. length of questions(Title+Body) before preprocessing: \", avg_len_before_preprocessing)\nprint( \"Avg. length of questions(Title+Body) after preprocessing: \", avg_len_after_preprocessing)\nprint (\"% of questions containing code: \", (qus_with_code*100.0)/train_set.shape[0])",
      "execution_count": null,
      "outputs": [
        {
          "name": "stdout",
          "text": "Avg. length of questions(Title+Body) before preprocessing:  1150.20596\nAvg. length of questions(Title+Body) after preprocessing:  327.51725\n% of questions containing code:  56.084\n",
          "output_type": "stream"
        }
      ]
    },
    {
      "cell_type": "code",
      "metadata": {
        "tags": [],
        "cell_id": "00015-34df50aa-3c57-49c0-928f-f98302e1da72",
        "deepnote_to_be_reexecuted": false,
        "source_hash": "7aec958c",
        "execution_millis": 212,
        "execution_start": 1614044278478,
        "deepnote_cell_type": "code"
      },
      "source": "train_set[['question','Tags']]",
      "execution_count": null,
      "outputs": [
        {
          "output_type": "execute_result",
          "execution_count": 39,
          "data": {
            "application/vnd.deepnote.dataframe.v2+json": {
              "row_count": 100000,
              "column_count": 2,
              "columns": [
                {
                  "name": "question",
                  "dtype": "object",
                  "stats": {
                    "unique_count": 99979,
                    "nan_count": 0,
                    "categories": [
                      {
                        "name": "remov node xml file use c program use libxml xmlparser librari program pars xml file function librari remov node xml file want complet remov node attribut properti also",
                        "count": 2
                      },
                      {
                        "name": "svn ssl certif valid error run redhat enterpris linux subvers server instal apach configur apach run https ssl certif geotrust apach part thing run fine access site via https without warn issu howev run get follow error also subvers server configur file attempt access subvers find error log everyon read access file download straight geotrust websit someth miss",
                        "count": 2
                      },
                      {
                        "name": "99977 others",
                        "count": 99996
                      }
                    ]
                  }
                },
                {
                  "name": "Tags",
                  "dtype": "object"
                },
                {
                  "name": "_deepnote_index_column",
                  "dtype": "int64"
                }
              ],
              "rows_top": [
                {
                  "question": "check upload file imag without mime type like check upload file imag file png jpg jpeg gif bmp anoth file problem use uploadifi upload file chang mime type give text octal someth mime type matter file type upload way check upload file imag apart check file extens use php",
                  "Tags": "php image-processing file-upload upload mime-types",
                  "_deepnote_index_column": 0
                },
                {
                  "question": "prevent firefox close press ctrl favorit editor vim regular use ctrl execut certain action quit often happen firefox activ window window still look vim think vim activ window press ctrl close firefox want way stop ctrl close firefox rene",
                  "Tags": "firefox",
                  "_deepnote_index_column": 1
                },
                {
                  "question": "error invalid type list variabl import matlab file construct data frame matlab file contain two column row maintain cell matrix construct datafram run random forest get follow error code import matlab file construct datafram structur matlab input file load matlab file",
                  "Tags": "r matlab machine-learning",
                  "_deepnote_index_column": 2
                },
                {
                  "question": "replac special charact url probabl simpl simpli find answer basicali want given string http www googl com search hl en amp c object want output http www googl com search hl en amp c object sure helper class somewher buri framework take care troubl find edit add winform app",
                  "Tags": "c# url encoding",
                  "_deepnote_index_column": 3
                },
                {
                  "question": "modifi whoi contact detail use modifi function display warn mesag pleas help modifi contact detail",
                  "Tags": "php api file-get-contents",
                  "_deepnote_index_column": 4
                },
                {
                  "question": "set proxi activ directori environ use machin activ directori configur develop applic machin want perform test applic use jmeter start jmeter proxi server set browser tri brows applic get error internet explor display webpag miss anyth",
                  "Tags": "proxy active-directory jmeter",
                  "_deepnote_index_column": 5
                },
                {
                  "question": "draw barplot way coreplot imag post link pictur want draw chart like imag io app use coreplot help make question draw barplot whit kind color draw barplot cptxyaxi upsid way help would appreci thank",
                  "Tags": "core-plot",
                  "_deepnote_index_column": 6
                },
                {
                  "question": "fetch xml feed use asp net decid convert window phone app fetch xml feed pars asp net web app use visual web develop express figur sinc code alreadi work wp matter most copi past c code behind first line code wp app fetch xml feed even get httpwebrequest work visual web develop like intellisens show creat createdefault createhttp like window phone need figur fetch page assum pars phone app help thank amanda",
                  "Tags": "c# asp.net windows-phone-7",
                  "_deepnote_index_column": 7
                },
                {
                  "question": "net librari generat javascript know net librari generat javascript code want generat javascript code base inform net applic would like abl creat ast like datastructur use c turn valid javascript need abl creat function statement express etc need someth json serial guess could think general json serial librari exist could recommend thank",
                  "Tags": ".net javascript code-generation",
                  "_deepnote_index_column": 8
                },
                {
                  "question": "sql server procedur call inlin concaten imposs use sql server wonder anoth way write someth like procedur call actual work without put whole stuff variabl first",
                  "Tags": "sql variables parameters procedure calls",
                  "_deepnote_index_column": 9
                },
                {
                  "question": "commerci obfusc achiev crash net reflector ildasm commerci obfusc claim crash ildasm similar tool reflector idea achiev state numer thread someon enough motiv time skill alway find way read code aka runnabl decompil seem casual code reader bother decompil code reflector level protect ip ie protect anybodi hardcor guy would probabl find way around everi singl trick would throw anyway would definit enough",
                  "Tags": ".net obfuscation reflector",
                  "_deepnote_index_column": 10
                },
                {
                  "question": "crappi random number generat may sound like odd question find random number generat work c c good context creat tree graph plot softwar test use multi digit random number digit becom node tree random number generat use one come gnu c compil give nice spread valu good want see tabl look number clump togeth less homogen anyon suggest random number generat proven random oh anyon link xkcd suggest return get sarcasm respons",
                  "Tags": "algorithm language-agnostic random",
                  "_deepnote_index_column": 11
                },
                {
                  "question": "migrat mdaemon postfix move inbox sent draft mdaemon postfix nis automat way",
                  "Tags": "postfix migration mdaemon",
                  "_deepnote_index_column": 12
                },
                {
                  "question": "find latex manual month ago saw big pdf manual latex packag new syntax think bigger page find web anyon link",
                  "Tags": "documentation latex3 expl3",
                  "_deepnote_index_column": 13
                },
                {
                  "question": "stop window fade window alt tab hit alt tab window stop second window hide window way tell window use old classic behavior",
                  "Tags": "windows-7",
                  "_deepnote_index_column": 14
                },
                {
                  "question": "php framework url convent lot framework use url convent like great need configur beyond write rout would handl url like backend list user friend think control someth like would appropri would follow map want put friend class insid user class appar php best could come thought url would use edit list friend could work seem appropri sinc never edit someon els friend list would better choic would put correspond code friend control user control special account control bonus question prefer answer gather answer thing complic like friend control give one without model stuff whatev close relat url influenc put code peopl seem think stick whever possibl peopl familiar one realli comment extend class asid say awkward perhap friendlist would appropri class case realli want separ thank answer",
                  "Tags": "php url-routing conventions",
                  "_deepnote_index_column": 15
                },
                {
                  "question": "creat rds temporari file run server process restart often use mani packag right restart creat temporari directori contain coupl file rds extens realli like know packag featur caus rds file creat disabl thank filenam look like libloc fusr flib fr flibraryvers prioriti depend import linkingto suggest enhanc os type licens arch built rds begin content look like",
                  "Tags": "r temporary-files",
                  "_deepnote_index_column": 16
                },
                {
                  "question": "wpf multipl control bind properti hello ni tri chang sever control properti accord environ variabl want avoid creat properti control datacontext thought use convert set properti accord control name goal use one properti control sure better eleg way idea",
                  "Tags": "wpf binding",
                  "_deepnote_index_column": 17
                },
                {
                  "question": "play framework auto javascript css minifi anyon know good play plugin automat minifi javascript css attach product play server found one guess https github com greenlaw play greenscript main problem see javascript generat play side plugin would detect js code get generat fli main write valu direct javascript like",
                  "Tags": "javascript code-generation playframework minify",
                  "_deepnote_index_column": 18
                },
                {
                  "question": "creat repetit node hash array simplexml load string cycl variabl need kind help accomplish simpl task search find need difficult probabl matter syntax creat string repres xml insid function like content variabl plain string like variabl obtain hash way save xml got someth similar fine new requir need result similar creat repetit node ni tri concaten php function insid string variabl seem possibl cours syntax wrong want creat repetit node somehow mayb cycl mayb use hash array direct instead pass string somebodi pleas help nthank lot",
                  "Tags": "php xml hash multidimensional-array simplexml-load-string",
                  "_deepnote_index_column": 19
                },
                {
                  "question": "cancer recoveri rate relat xe ccure xe invent sinc ran across movi cut poison burn abstract follow cut poison burn controversi eye open sometim heartbreak documentari put busi cancer treatment microscop follow frustrat journey critic ill cancer patient tri navig confus danger maze treatment encount formid obstacl xe ccancer industri complex xe compel critiqu influenc medic monopoli power pharmaceut compani govern agenc cut poison burn essenti view anyon everyon touch cancer movi may advoc watch whole thing kind new penni per session treatment la burzynski least dr mercola use myriad claim movi sure watch first min like address one particular struck occur start min mark made charl simon ms founder simon protect cancer center transcript may contain small error present time made littl progress treatment adult cancer person get prostat cancer breast cancer today live long person got big chang radiat therapi began combin chemotherapi immunotherapi began pet scan mri scan name billion billion billion research dollar thrown whole area cancer research treatment littl signific progress treatment adult cancer case treatment sinc done anyth increas chanc long term surviv adult cancer",
                  "Tags": "medical-science cancer healthcare",
                  "_deepnote_index_column": 20
                },
                {
                  "question": "get number count linq use follow thing get valu get instead someon pleas guid",
                  "Tags": "c# .net linq",
                  "_deepnote_index_column": 21
                },
                {
                  "question": "tabnavig content width equal tabnavig content vbox align tab put anoth way content stretch one pixel red border wider tab show follow pic solv issu code snippet",
                  "Tags": "actionscript-3 flex flex3",
                  "_deepnote_index_column": 22
                },
                {
                  "question": "ii file size report configur ii report file size browser download stand download site report null file size therefor show file size progress use version",
                  "Tags": "iis",
                  "_deepnote_index_column": 23
                },
                {
                  "question": "c convert set flag variabl type flag enumer array integ came piec code convert set flag variabl type flag enumer return set flag integ ni like know best approach exampl enumer extens method convert set flag array int came use output see get done follow convert variabl string output someth like suspend cancel split string array string suspend cancel convert string enumer valu enum pars cast valu integ convert ienumer int work think best approach suggest improv bit code",
                  "Tags": "c# linq string enumeration",
                  "_deepnote_index_column": 24
                },
                {
                  "question": "use printf io monad stoploss function caus follow error funtion suggest appreci",
                  "Tags": "haskell",
                  "_deepnote_index_column": 25
                },
                {
                  "question": "understand make correct take gnu make applic exampl creat makefil liken visual studio project file contain list file item need compil applic makefil contain path compil well path file could possibl use compil oper make applic read makefil combin sourc file compil read convert relev assembl machin code includ direct direct tell make file includ content file point larger file make feed compil resum current file make applic also tell compil emit result compil oper compil complet regard visual studio csproj file technic xml base makefil microsoft specif make applic understand makefil correct",
                  "Tags": "visual-studio makefile gnu",
                  "_deepnote_index_column": 26
                },
                {
                  "question": "instead br wonder use space paragraph instead love keep code semant thought right bother seen wysiwsg editor tinymc use still rather ask wrong",
                  "Tags": "html semantic line-breaks",
                  "_deepnote_index_column": 27
                },
                {
                  "question": "gcc stl bound check enabl bound check iter",
                  "Tags": "c++ gcc stl bounds-checker",
                  "_deepnote_index_column": 28
                },
                {
                  "question": "sharepoint caml queri queri custom field use freetext predic sharepoint document librari custom column ad new column new column yes type text queri specif column use freetext predic use want search content tri microsoft offic server search queri invalidpropertyexcept microsoft offic server search queri invalidpropertyexcept microsoft offic server search queri invalidpropertyexcept even queri malform pleas rephras queri specifi column predic eg queri work fine full caml queri",
                  "Tags": "sharepoint caml custom-fields",
                  "_deepnote_index_column": 29
                },
                {
                  "question": "mvc stylebundl resolv imag question similar asp net mvc minif amp background imag except want stick mvc bundl brain crash tri figur correct pattern specifi style bundl standalon css imag set jqueri ui work typic mvc site structur contain base css within css folder also subfold contain css file plus folder imag path jqueri ui css relat folder want mess understand specifi need specifi virtual path also match real content path assum ignor rout content ii would tri resolv path physic file specifi render use see request go return correct minifi css respons nbut browser send request relat link imag understand last part url extensionless url handler bundl see relat request imag simpli question correct way handl situat",
                  "Tags": "css jquery-ui asp.net-mvc-4 bundle asp.net-optimization",
                  "_deepnote_index_column": 30
                },
                {
                  "question": "entityframework groupbi entiti type base entiti deriv entiti aa ab ac ad cours get error linq entiti recogn method system type gettyp method method translat store express group deriv entiti type",
                  "Tags": "c# entity-framework-4",
                  "_deepnote_index_column": 31
                },
                {
                  "question": "default paramet specifi permit c desktop applic got default paramet specifi permit error",
                  "Tags": "c# visual-studio-2008 .net-2.0",
                  "_deepnote_index_column": 32
                },
                {
                  "question": "monodroid give apk sent email softwar develop c world ni develop app use java eclip look littl beyond fenc nnow plane use monodroid develop app major question monodroid give apk forward friend without go web store regard nrainer",
                  "Tags": "monodroid apk",
                  "_deepnote_index_column": 33
                },
                {
                  "question": "prevent user control get datacontext hidden wpf mvvm applic base class baseviewmodel two class inherit base class anoth class main viewmodel bind main view also xaml file view two user control data context public properti currentviewsourc type baseviewmodel need display one user control time hide user control uc use data context variabl currentviewsourc uc visibl uc hidden currentviewsourc type avm uc even though hidden use datacontext abl see string visual studio show bind issu pleas help",
                  "Tags": "wpf mvvm",
                  "_deepnote_index_column": 34
                },
                {
                  "question": "find length curv find length follow curv sin sin leq leq idea",
                  "Tags": "homework calculus polar-coordinates",
                  "_deepnote_index_column": 35
                },
                {
                  "question": "download url internet netcat use transfer file two comput use download url internet like",
                  "Tags": "netcat",
                  "_deepnote_index_column": 36
                },
                {
                  "question": "mmorpg server mainten seem mmorpg game regular server mainten everi day week actual necessari start project avoid",
                  "Tags": "maintenance",
                  "_deepnote_index_column": 37
                },
                {
                  "question": "imag path longer work compil java file jar file relat basic java program use system tray icon path use write code follow howev compil jar file imag show system tray instead chang path imag show system tray jar file form test major issu howev curious know inconsist occur",
                  "Tags": "java path system",
                  "_deepnote_index_column": 38
                },
                {
                  "question": "creat c c java strong type version python weak type structur python follow structur repres graph find nice structur one one node use direct initi search depth first print version use like curious know would one implement c c java without resort object trick would fill code ugli cast c think templatemeta program would generat finit data type need someth like",
                  "Tags": "c# java c++ python strong-typing",
                  "_deepnote_index_column": 39
                },
                {
                  "question": "implement static librari new iphon app creat static librari libtest ad librari new project ad header search path librari search path ad objc load otherlinkerflag simul everyth work fine devic face error objc class test referenc nhow fix issu pls help",
                  "Tags": "iphone xcode",
                  "_deepnote_index_column": 40
                },
                {
                  "question": "safari display php code firefox ask app display aloha everyon class assign task build mysql databas use php retriev content tabl databas attempt open safari output html php code firefox hand pop window ask select applic work code code anyon see error lie point right direct get actual interpret display correct assist great appreci",
                  "Tags": "php firefox safari",
                  "_deepnote_index_column": 41
                },
                {
                  "question": "high load quad core linux apach server serious need help site near imposs use massiv load server alreadi month late mortgag realli help situat work fix intermitt load problem month never bad suspect kind attack sinc ddos attack lot tri figur caus load afraid experi knowledg understand data look even know begin test larg array attack data might find use server xeon quad core ghz linux freebsd gb hd gig ram run cento releas nserver version apach unix mod ssl openssl fip rhel mod auth passthrough mod bwlimit frontpag mod qos warn site softcor adult site most fantasi art like elv amazon site may run fine week day less load start jump load idea site mod amount traffic wham get email almost everi day say larg number fail login attempt ip differ time webhost almost never help told udp flood someth chang port mysql default ever put back default get load must constant mysql port flood reconfigur mysql link http www deadlyamazon com log mycnf txt joomla jomsoci network spent coupl week turn mod plugin wait day turn back next day later chang exampl thursday turn video friday turn chat etc noth chang load appreci joomla info sef turn sh sef complet disabl remov compon joomla jomsoci kunena hwdmediashar jbolo chat comet chat envolv chat page compress cach min pleas click forum see link report http forum joomla org viewtop php amp amp ad part hi guy ni back info poor server server current limp along load averag add incent solv problem via paypal answer solv load problem without suggest buy extra server site work fine even higher traffic lower power server recompil apach ad eacceler zend optim chang mod includ qos keep connect lower level qos work awhil suggest request yes turn port mysql mention traffic stat march bandwidth kbyte mar dec visit mar dec page mar dec file mar dec hit mar dec video top c high load nhere avi top c took server run load download minut clip http www mediafir com yk xota download second clip http www mediafir com c gmd video mysql processlist high load nhere avi show processlist insid cpanel server run load download minut clip http www mediafir com ymmfe bx ho download second clip http www mediafir com jt dstat stat sceeencap taken row nlink http www deadlyamazon com log dstat jpg http www deadlyamazon com log dstat jpg http www deadlyamazon com log dstat jpg http www deadlyamazon com log dstat jpg stat place joomla board seen earlier netstat alntp grep wc netstat grep grep syn wc netstat anp grep tcp udp awk print cut sort uniq c sort noth netstat alntp awk print cut sort uniq c sort report http www deadlyamazon com log netstat alntp awk print txt netstat alntp grep http www deadlyamazon com log netstat alntp grep txt top command line http www deadlyamazon com log top cli jpg ntop command line http www deadlyamazon com log top cli jpg ntop whm http www deadlyamazon com log top whm jpg ntop whm http www deadlyamazon com log top whm jpg niostat command line http www deadlyamazon com log iostat jpg ndaili process log whm http www deadlyamazon com log daili process log jpg nprocess trace mysql txt huge http www deadlyamazon com log trace mysql txt nprocess trace mysql rtf http www deadlyamazon com log trace mysql rtf nprocess trace sxyamzn txt http www deadlyamazon com log sexyamazonscom indexphp txt nprocess trace sxyamzn rtf http www deadlyamazon com log sexyamazonscom indexphp rtf nprocess trace sleepp txt http www deadlyamazon com log sleeppeepscom indexphp txt nprocess trace sleepp rtf http www deadlyamazon com log sleeppeepscom indexphp rtf help would appreci",
                  "Tags": "linux apache2 joomla",
                  "_deepnote_index_column": 42
                },
                {
                  "question": "jqueri add titl attribut data json call tri dynam add titl number imag use valu obtain json call far work stop process ad unwant alert guess code execut retriev data json call alert enabl catch imagin need anoth function execut json call code go success function sure keep hold element case help advic great appreci thank chris",
                  "Tags": "jquery json attributes each",
                  "_deepnote_index_column": 43
                },
                {
                  "question": "technolog net winform c midi mfc base best use read write com port data need solv problem read write com port data midi applic softwar must abl handl multipl midi midi port simultan send receiv midi data without choke perform applic includ audio well use modifi version old mabri midiio alreadi mfc com server share dll written c current compil ocx requir com registr work visual studio environ total rewrit differ solut viabl option cours fastest inexpens easiest maintain solut question direct would recommend com control net control dll multi thread someth els anybodi idea mabri control think mabri control could rework new solut would better take total differ direct recommend unmanag manag solut regard nusman",
                  "Tags": ".net mfc midi comm",
                  "_deepnote_index_column": 44
                },
                {
                  "question": "data uri cach read wikipedia data uri separ cach contain document css html file data download everi time contain document redownload mean code download everi singl time page refresh whenev user click navig link cach data uri ps talk small png file most silk icon kb file well",
                  "Tags": "css data-uri",
                  "_deepnote_index_column": 45
                },
                {
                  "question": "ssl secur way know certif sent server cant fake still md collis costi fake client nin man middl attack ncant tell server legitim client take data server manipul encrypt legitim client public key client sure data came realli server theori inject data respons sent server client",
                  "Tags": "ssl https",
                  "_deepnote_index_column": 46
                },
                {
                  "question": "loadabl kernel modul notif manag success creat instal loadabl kernel modul develop phone anyon know make status bar notif user notif notificationmanag kernel understand creat servic use notif notificationmanag generat status bar notif make notif event kernel problem bridg gap similar function tri achiev like connect phone via usb phone detect usb connect status bar notif produc debug enabl tell done point kernel send signal notif generat approach go tri implement use ndk creat librari listen wait signal lkm use creat app background servic notifi signal receiv eleg solut like recompil aosp thank",
                  "Tags": "android android-ndk android-source",
                  "_deepnote_index_column": 47
                },
                {
                  "question": "upgrad iphon gs io hi folk iphon gs want upgrad test read articl seem old work anyon experi appl provid tutori develop lot thank",
                  "Tags": "iphone ios upgrade ios4.3 iphone-3gs",
                  "_deepnote_index_column": 48
                },
                {
                  "question": "control error key use modelstatewrapp xe use servic layer modelstatewrapp shown xe proper way control error key use valid servic layer correspond input name view follow viewmodel custom follow viewmodel use case xe view user creat two custom fli use case enter name use view like custom servic xe follow valid method get call creat custom note differ custom class domain class see problem depend view error ad key eventu two error one key instead xe cname xe otherwis framework xe proper highlight field show error proper way solv situat neat want pass error key prefix servic layer ui concern servic layer concern right",
                  "Tags": "asp.net-mvc design modelstate service-layer",
                  "_deepnote_index_column": 49
                },
                {
                  "question": "avoid page break theorem theorem half anoth page automat without get full theorem next page left need right automat without",
                  "Tags": "page-breaking theorems",
                  "_deepnote_index_column": 50
                },
                {
                  "question": "unit test use databas read articl evil unit test exact sure unit test never use db network file system network app",
                  "Tags": "unit-testing testing theory",
                  "_deepnote_index_column": 51
                },
                {
                  "question": "show lim infti hate admit know begin solv problem let mathbb let displaystyl frac nx geqslant displaystyl lim infti almost everi mathbb pleas home problem hint full solut much appreci",
                  "Tags": "real-analysis analysis measure-theory",
                  "_deepnote_index_column": 52
                },
                {
                  "question": "tell emac open file c mode line add emac window file open file c mode default c mode thank kris",
                  "Tags": "emacs",
                  "_deepnote_index_column": 53
                },
                {
                  "question": "modifi keyboard shortcut firefox recent start use firefox primari web browser would like chang default keyboard shortcut especi one use switch tab done took peek firefox directori applic support well applic bundl noth jump googl search also prove fruitless help appreci updat run firefox version mac os",
                  "Tags": "mac firefox keyboard-shortcuts customization",
                  "_deepnote_index_column": 54
                },
                {
                  "question": "creat name exist directori machin initi filenam creation disabl howev caus issu legaci softwar enabl wonder possibl go back add filenam certain exist directori exampl say directori name c name space get follow output run dir like somehow add name directori without recreat get follow tri renam command trick",
                  "Tags": "ntfs filenames",
                  "_deepnote_index_column": 55
                },
                {
                  "question": "textarea tag swallow html strang problem struggl day first thought relat someth applic strip simplest html page still happen basic anytim add tag page html get render valu fix issu understand loss someth realli simpl know follow exampl paragraph tag show valu textarea use ie",
                  "Tags": "html",
                  "_deepnote_index_column": 56
                },
                {
                  "question": "ssrs limit length text keep full word tabl essenti column mani obvious left side right side one field field left side come lookupset id two item field use join lookupset vbcrlf abl get valu id put one cell tabl work vbcrlf row height increas caus problem data right side addit space split join lookupset getvalu first row row valu iif statement check error etc work one problem solv valu field longer width cell take two abl substr magic oracl like use sort abl get row data per id abl split lookupset get valu tabl last problem hope someon help ge substr cut word next row start rest word nis way possibl use regex make sure keep word tact also ensur total length return lt number charact happi abandon part approach current take track",
                  "Tags": "oracle reporting-services plsql",
                  "_deepnote_index_column": 57
                },
                {
                  "question": "play rtsp vlc vs bit machin tri play rtsp stream win form applic bit window machin ad vlc player com compon even tri play store video file play miss anyth",
                  "Tags": "c# visual-studio-2010 plugins rtsp vlc",
                  "_deepnote_index_column": 58
                },
                {
                  "question": "get annot tfs use powershel document describ get annot file tfs http msdn microsoft com en us librari bb aspx interest obtain annot file use powershel idea possibl one would go",
                  "Tags": "powershell tfs annotations",
                  "_deepnote_index_column": 59
                },
                {
                  "question": "read modifi data xml file pleas give simplest way read modifi xml file data current tri throw except current code xml except nullrefer except object refer set instanc object",
                  "Tags": "c# .net xml exception-handling",
                  "_deepnote_index_column": 60
                },
                {
                  "question": "align tab control right way align tab control right nbi default tab left chang right centr",
                  "Tags": ".net winforms",
                  "_deepnote_index_column": 61
                },
                {
                  "question": "get twitter pictur user make websit peopl put twitter usernam want load twitterimag name put search internet alreadi find good easi way implement need use fanci twitter api someth simpl api simpl site url name variabl",
                  "Tags": "twitter twitter-api",
                  "_deepnote_index_column": 62
                },
                {
                  "question": "assist backup solut current need creat backup someth server zip entir folder gb big back everi hour alright size backup get bigger bigger everi day need way backup better like suggest think everi day third day backup delet one kept would mean backup total gb day backup want keep third day backup week th day delet gb total data back ever hour day hour everi day time think easiest way would move hour backup third day new folder separ script run daili howev sure would go pick one other delet one older day would like run script cronjob set daili use cento bit tip would great increment backup option also easi way sync home pc websit download newest file particular time want backup seen nice php webpag make simpl filemanag download file perhap someth like",
                  "Tags": "centos backup shell cron",
                  "_deepnote_index_column": 63
                },
                {
                  "question": "custom provid except member usernam xxxxxxx exist tri creat new member websit use system web profil class keep get except member usernam xxxxxxx exist structur code receiv except thank advanc",
                  "Tags": "asp.net asp.net-profiles",
                  "_deepnote_index_column": 64
                },
                {
                  "question": "parenthes mean declar call properti exampl exampl parenthes mean case",
                  "Tags": "javascript",
                  "_deepnote_index_column": 65
                },
                {
                  "question": "remov left pad wpf listboxitem groupstyl defin listbox wpf listbox sever head acheiv groupstyl defin header look somehow caus individu listboxitem slight indent respect header remov groupstyl remov indent along header though sort see would want indent default anyway remov small left pad tri defin style listboxitem set pad outcom",
                  "Tags": "c# .net wpf listbox",
                  "_deepnote_index_column": 66
                },
                {
                  "question": "forc caller class catch except insid class privat variabl method use except caught forc calle handl except code mongo throw handl someth better way pleas tell also want know forc calle class handl except thought would compil",
                  "Tags": "java exception-handling",
                  "_deepnote_index_column": 67
                },
                {
                  "question": "entiti framework model first design let edit tabl map use entiti framework model time eventu want switch under databas differ vendor product say sql server mysql simpl adjust tabl column map entiti model without need updat entiti class code tri design code databas agnost possibl like know advanc much troubl ever switch databas around ideal like touch applic use entiti class seem find way entiti design xml editor adjust under databas column name without give error howev edit entiti properti name design leav databas column name alon opposit need thank",
                  "Tags": "entity-framework",
                  "_deepnote_index_column": 68
                },
                {
                  "question": "chang order option run menu eclips main develop android eclips use run app shortcut ctrl click run android applic menu nthen instal eclips plugin webservic press ctrl call run server first option run menu chang default option run would run android applic",
                  "Tags": "eclipse keyboard-shortcuts run",
                  "_deepnote_index_column": 69
                },
                {
                  "question": "mvc wizard via javascript unsaf step follow tutori http afana post creat wizard aspnet mvc aspx sinc look pretti nice ask make complet wizard javascript like good safe idea",
                  "Tags": "javascript asp.net-mvc-3 security mvc",
                  "_deepnote_index_column": 70
                },
                {
                  "question": "silverlight isol storag best practic start realli get silverlight develop certain use case need store coupl collect object string specif user session ni want user specif access throughout silverlight applic first thought add static properti app xaml user login retriev list object user access api call store static properti app xaml access properti throughout xaml page question truli user specif nis best practic nshould use isol storag case instead nwhat limit isol storag nisol storag natur user specif correct thank",
                  "Tags": "c# silverlight session isolatedstorage",
                  "_deepnote_index_column": 71
                },
                {
                  "question": "jqueri mobil clickhand work instanc custom object set click handler anchor tag jqueri mobil via refer handler function insid anchor tag need way reason cumbersom get approach work fine use string integ function paramet tri input instanc object illustr work advic may wrong would great appreci",
                  "Tags": "jquery-mobile event-handling click anchor",
                  "_deepnote_index_column": 72
                },
                {
                  "question": "compar tempor sequenc tri wrap head around task wonder standard way librari would use certain event track time sever data sourc sn record inform event type timestamp may sever event type sequenti may intermitt could miss event one sourc miss vice versa sourc introduc fals posit typic time differ observ event differ sourc time differ constant compon due physic locat sourc may also vari compon introduc network latenc factor need find algorithm would find optim maximum time interv use group observ sourc singl observ event allow detect miss event fals posit wonder solut realli somewher statist field rather algoritghm input would much appreci",
                  "Tags": "temporal-database temporal temporal-difference",
                  "_deepnote_index_column": 73
                },
                {
                  "question": "session object return null creat login page project student inform system contain text field usernam userid password tri store valu usernam userid session object use anoth page return null valu",
                  "Tags": "java jsp session-state",
                  "_deepnote_index_column": 74
                },
                {
                  "question": "refer valid facebook user profil site set wordpress annex widget facebook wordpress later chang name facebook user profil get error need refer valid facebook user profil chang make data href correct new facebook user profil guid",
                  "Tags": "facebook wordpress",
                  "_deepnote_index_column": 75
                },
                {
                  "question": "observ meta meta safari pleas refer jsfiddl far tell appli safari mac use someth feel free tri probabl notic issu applic creat need observ command meta amp command meta make text either bold ital work fine chrome observ key combin safari bug safari overlook someth help would appreci thank edit jsfiddl link give result describ copi past code fresh jsfiddl tri experi way ensur observ work regardless way appli applic refus observ keystrok",
                  "Tags": "javascript javascript-events prototypejs",
                  "_deepnote_index_column": 76
                },
                {
                  "question": "creat variabl index use counter way add index command exampl becom variabl background need get data extern file store variabl later use creat document normal everi everi need check whether realli case return warn error solut first problem comment second problem suppos wrote valu defin valu moment ad seem work reason",
                  "Tags": "counters loops",
                  "_deepnote_index_column": 77
                },
                {
                  "question": "mercuri hook find current directori commit tri creat hook mercuri scm hg use c net launch custom c applic commit pre commit proof concept prototyp ad locat custom exe mercuri ini file hook section pre commit anoth exe commit nthose exe app open pre commit commit expect howev execut stub far nto make need know current directori commit occur occur nmercuri ini locat user profil directori window nfor exampl commit hg repositori locat c myproject testproject execut need know work done c myproject testproject find programmat runtim hook execut mercuri command execut local machin",
                  "Tags": "version-control mercurial",
                  "_deepnote_index_column": 78
                },
                {
                  "question": "good two way encrypt librari implement python authent system applic use right use two way hash basic littl glorifi caesar cypher without go much detail go like replac secur encrypt algorithm need done server side unfortun need two way algorithm hashlib one way good encrypt librari includ algorithm kind thing",
                  "Tags": "python encryption",
                  "_deepnote_index_column": 79
                },
                {
                  "question": "way creat cmakelist txt visual studio c solut know possibl creat visual studio solut cmake project wonder program way around aka creat cmakelist txt visual studio solut",
                  "Tags": "visual-studio cmake",
                  "_deepnote_index_column": 80
                },
                {
                  "question": "secur ubuntu lucid web server ubuntu lucid server public face realli configur much except instal ssh sshd apach httpd firewal anyth common rule follow secur system follow articl secur apach",
                  "Tags": "linux ubuntu security ubuntu-10.04 internet-security",
                  "_deepnote_index_column": 81
                },
                {
                  "question": "tomcat start got tomcat kept time start tomcat sec also run fine older version tomcat nbut run get follow error resolv error look similar post find use",
                  "Tags": "servlets tomcat7",
                  "_deepnote_index_column": 82
                },
                {
                  "question": "rubi savon compar java axi tri use yodle soap api give exampl apach axi nani perspect use rubi savon versus java axi rubi savon seem best thing skip use wsdl file generat request base exampl java axi program tri use wsdl featur savon could get work mani embed type namespac complex wsdls look java axi code huge amount generat code isol java develop know xml anybodi ever tri replic axi rubi world thank",
                  "Tags": "java ruby wsdl axis2 savon",
                  "_deepnote_index_column": 83
                },
                {
                  "question": "linux bash set iptabl rule allow activ passiv ftp pc ftp server instal want set iptabl rule allow activ passiv ftp tri follow code peopl report work seem block traffic page load anymor etc",
                  "Tags": "linux bash ftp iptables",
                  "_deepnote_index_column": 84
                },
                {
                  "question": "enumer instal applic os basic problem look solut enumer applic instal mac os system applic bundl regist launchservic simpl approach work pleas note found current use output problem bundl newlin valid unix handl correct issu would fixabl write proper parser handl correct weird filenam contain rtl mark seem ignor file rtl mark name nif want creat file rtl name run follow command reveal right click text file go open launchservic finder still support file simpli enumer file directori work launchservic awar applic bundl arbitrari folder also need app approch get work appar privat api function call exact need get work find inoffici document internet proof exist",
                  "Tags": "osx application osx-mountain-lion launch-services",
                  "_deepnote_index_column": 85
                },
                {
                  "question": "scrambl webkit scrollbar tri reproduc googl scrollbar tri reproduc googl scrollbar site reason figur sometim scrollbar scrambl appear scrambl mean scrollbar multi color black line span visibl screenshot show mean jsfiddl unfortun scrollbar look normal abl reproduc problem use twitter bootstrap help think exist css could screw",
                  "Tags": "css css3 webkit scrollbar pseudo-class",
                  "_deepnote_index_column": 86
                },
                {
                  "question": "creat block transit jqueri best way creat block transit jqueri plugin provid transit transit want imag galleri transit look someth like http mitya co uk script blockster transit effect diagon expand block transit http codecanyon net item jqueri banner rotat slideshow full screen preview problem first link slow use bit block figur transit creat second link",
                  "Tags": "javascript jquery transition effect",
                  "_deepnote_index_column": 87
                },
                {
                  "question": "ssh client return error appli option get appli option connect ssh server check sourc code librari found follow code client c nwhich return error anyon pleas tell possibl could result error",
                  "Tags": "libssh",
                  "_deepnote_index_column": 88
                },
                {
                  "question": "unit test control make sure windsor resolv depend use perwebrequestlifestyl follow unit test applic point make sure windsor configur issu realiz access action control problem object registr regist get issu entiti framwork data context share across web request caus error multipl action run howev whenev run unit test get follow except system invalidoperationexcept httpcontext current null perwebrequestlifestyl use asp net go test scenario without chang lifestyl object registr command",
                  "Tags": "c# unit-testing castle-windsor",
                  "_deepnote_index_column": 89
                },
                {
                  "question": "work loop dataread want return collect row read book like day abl find best way normal c way use tri achiev tri valu get collect valu could dictinari tupl collect yield use loop tri could best way achiev",
                  "Tags": "f#",
                  "_deepnote_index_column": 90
                },
                {
                  "question": "show newli ad row submit error come use javascript add row tabl alreadi contain row problem add row use javascript row ad proper form error come form form reload newli ad row visibl also want enter text within row visibl html code",
                  "Tags": "php javascript html",
                  "_deepnote_index_column": 91
                },
                {
                  "question": "jqueri masonri access intern method var advic access intern method var jqueri masoni ni look consol log properti insid method line queri masonri js need retriev masonri init",
                  "Tags": "jquery",
                  "_deepnote_index_column": 92
                },
                {
                  "question": "java dimension boolean array valu problem dimension boolean array may logic print valu set valu array fals begin later print valu screen print come true",
                  "Tags": "java multidimensional-array boolean",
                  "_deepnote_index_column": 93
                },
                {
                  "question": "fail open stream directori get follow warn tri move upload file temp folder desir one use php warn move upload file test function move upload file fail open stream directori home filenam php line warn move upload file function move upload file unabl move tmp phpkrcpqw test home filenam php line follow line nos give error",
                  "Tags": "php file-upload warnings",
                  "_deepnote_index_column": 94
                },
                {
                  "question": "foo foo may undefin set current charact next charact exampl get follow error anyon explain valid c syntax",
                  "Tags": "c pointers gcc",
                  "_deepnote_index_column": 95
                },
                {
                  "question": "perform use document repeat xslt accept call document throughout xslt file like imagin cach avoid produc overhead read file time time store doc xm variabl use variabl queri case use sort librari like xsle sinc use xslt solut note part xpath dynam like",
                  "Tags": "xslt",
                  "_deepnote_index_column": 96
                },
                {
                  "question": "find gnu c librari thread safe current receiv weird segment violat runn matlab mex file parall lot debug sure segment violat noth mex file fact run parallel one possibl reason segment violat suggest c librari function malloc free may thread safe realli possibl way make sure compil mex file use gnu c develop c librari guess look websit distribut type question answer",
                  "Tags": "c matlab thread-safety mex",
                  "_deepnote_index_column": 97
                },
                {
                  "question": "jsp link submit data strut form bean make jsp page link page pull list data databas depend user log use datasourcerealm type authent pull usernam want submit form click link figur link code form need usernam run anyway get send usernam along forward",
                  "Tags": "jsp struts-1",
                  "_deepnote_index_column": 98
                },
                {
                  "question": "limit function satisfi inequ leq mathbb mathbb find lim frac sure whether question correct thank tri idea ge ge impli leq seem hit roadblock thank advanc",
                  "Tags": "calculus inequality limit functional-equations",
                  "_deepnote_index_column": 99
                },
                {
                  "question": "c fail import cell excel spreadsheet use legaci code return excel worksheet dataset howev iter result data set seem cell excel sheet read merg cell wonder problem code code malfunct advic appreci regard",
                  "Tags": "c# asp.net excel table",
                  "_deepnote_index_column": 100
                },
                {
                  "question": "reliabl detect line break php go build wee batch search field someon enter past bunch keyword separ linebreak might copi excel word ever plan use php explod input loop sql search need anyth special reliabl detect line break understand charact differ depend past",
                  "Tags": "php",
                  "_deepnote_index_column": 101
                },
                {
                  "question": "frequent access file usag curious perform standpoint advantag store file one directori versus file separ directori concern organ also assum file access often usag high directori list involv file pull absolut path system environ linux cento",
                  "Tags": "linux centos disk directory io",
                  "_deepnote_index_column": 102
                },
                {
                  "question": "backend frontend program backend frontend program",
                  "Tags": "java-ee application",
                  "_deepnote_index_column": 103
                },
                {
                  "question": "regex convert file path packag namespac given follow file path would like generat follow use singl regex replac root constant purpos generat snippet sublim text automat insert correct packag namespac header scala java class sublim text use follow syntax regex replac pattern aka substitut henc iter approach taken done one pass also substitut nest",
                  "Tags": "regex sublimetext2 sublimetext sublimetext3",
                  "_deepnote_index_column": 104
                },
                {
                  "question": "ui thread get stuck use blockingcollect rapid write applic get stream data tcp port doin real time calcul good far user interfac marque progress bar get stuck irregular short time period produc thread start packag data chunk see code lot thest found access blockingcollect bcport seem problem bcport get constant chunk anoth data adder thread also suppos influnc ui thread dont understand follow gui get stuck use differ thread ad npackag chunk happen use bc store data arent thread safe collect certain purpos way window resourcemanag show cpu usag stream chunk contain float valu rush per second also disabl logger effect consum evalu thread disabl besid ui thread thread call receiveandsav make chunk incom float val see code method add thread produc packag enqeu chunk consum deactiv nthe produc start mythread new thread produc mythread name produc mythread start",
                  "Tags": ".net multithreading c#-4.0 thread-safety blockingcollection",
                  "_deepnote_index_column": 105
                },
                {
                  "question": "svgfigur scale vectorfigur graphiti play demo draw graphiti curious know possibl scale chang width height editor svgfigur exampl opamp like basic shape scale thank",
                  "Tags": "raphael graphiti",
                  "_deepnote_index_column": 106
                },
                {
                  "question": "tough rout problem linux quagga openvpn setup openvpn server act central router configur topolog subnet command client debian linux node one subnet direct connect object client connect vpn abl access subnet connect behind client order spread rout inform instal quagga client server work fine use ospf daemon rout enabl client server well rout tabl rout tabl server follow subnet want access gateway question respond perfect fine connect alright think use part client rout tabl thing start go south ping server host includ vpn client interfac subnet fail tcpdump tun interfac vpn client see relev packag tcpdump tun interfac vpn server see packag question sent real edgi thing tracerout valid ip subnet discov hop one tracerout direct next hop respond fine realli hope clear quit complex problem happi provid extra inform request",
                  "Tags": "linux routing openvpn ospf quagga",
                  "_deepnote_index_column": 107
                },
                {
                  "question": "android download file without pfd png end link tri download file browser work perfect string pdfurl www mylink com document test pdf intent intent new intent intent action view intent setdata uri pars pdfurl startact intent howev link string pdfurl www mylink com document test odd work browser chrome download file",
                  "Tags": "android pdf browser types file-download",
                  "_deepnote_index_column": 108
                },
                {
                  "question": "minimum sql login permiss ad domain group creat web applic use sql server databas background applic use integr secur sspi connect databas user need grant access databas server user use app member particular ad domain group done ad new secur login sql server level provid ad domain group name get display group base icon open server login properti dialog open user map set check particular databas want user ad domain group access see imag list display databas role membership public check creat object databas separ sql server user securityadmin permiss provid schema dbo everi object databas manipul done via store procedur tabl direct access applic base fact dbo schema object ad domain group secur login store procedur execut wonder role membership set ad domain group server login use databas user permiss execut store procedur hand everyth els crud oper tabl execut user defin function call well question set db dataread db datawrit seen suffici impli error screen user get store procedur suppos exist set secur permiss ad domain group abl see object execut store procedur",
                  "Tags": "security permissions sql-server-2008-r2",
                  "_deepnote_index_column": 109
                },
                {
                  "question": "mule cxf client receiv unmarsh object tri use cxf jaxw client conjunct http outbound endpoint consum web servic use mule read number sourc mule cxf marshal respons indic want receiv unmarshal java object return oper cxf jaxw client element place insid outbound endpoint someth like howev tri get schema error mule studio state jax ws client allow child element http allow get hold unmarshal object return oper",
                  "Tags": "jaxb cxf mule",
                  "_deepnote_index_column": 110
                },
                {
                  "question": "get around lack isnumer function sql ce sql server ce appear support function altern achiev function specif would test whether string datatyp succeed sqlce without",
                  "Tags": "sql-server-ce",
                  "_deepnote_index_column": 111
                },
                {
                  "question": "make sens valu decres less less distanc increas tri come formula translat signal loss distanc distanc transmitt nsignal loss nx nx nx see linear loss signal travel meter step away transmitt kind equat plug signal loss give rough estim distanc away transmitt mani thank ncode",
                  "Tags": "calculus real-analysis general-topology",
                  "_deepnote_index_column": 112
                },
                {
                  "question": "jfreechart get index dataset mouseev coordin work make interact jfreechart thing tri achiev get index valu rang domain click mous anoth word want use mous event get index data set domain rang valu anoth thing data get xyplot getdomaincrosshairvalu number like could get exact time infom thank lot",
                  "Tags": "jfreechart",
                  "_deepnote_index_column": 113
                },
                {
                  "question": "differ linear search binari search differ linear search binari search",
                  "Tags": "algorithm search binary-search linear",
                  "_deepnote_index_column": 114
                },
                {
                  "question": "advic cms commerc build estim potenti client research get project need idea tri figur good solut take sever month develop still provid good flexibl futur enhanc option believ site similar etsi user item sell portfolio page client want add mani custom featur well also site serv lot imag audio concern use strict commerc platform give lot obstacl overcom rather use cart framework know magento written zend use magento familiar zend seem take quit learn never use ubercart wp commerc virtuemart sure limit product need configur need store financi inform think braintre vault author net cim like framework ecommerc platform rout client would also like lower price option lean toward drupal ubercart would like opinion person experi thank",
                  "Tags": "wordpress drupal e-commerce ubercart virtuemart",
                  "_deepnote_index_column": 115
                },
                {
                  "question": "send whole form data delet click ni delet button edit form mode ni want send whole form data control button click edit mode viewmodel view data display user input field user click delet whole data need sent control delet method control done user click delet button use jqueri post whole data give error stack overflow line anyon idea accomplish thing thank",
                  "Tags": "c# post delete",
                  "_deepnote_index_column": 116
                },
                {
                  "question": "need help error java lang nosuchmethoderror java code jpa know wrong queri give error njava lang nosuchmethoderror org hibern hql antlr hqlbasepars recov lantlr recognitionexcept lantlr collect impl bitset org hibern hql antlr hqlbasepars fromjoin hqlbasepars java org hibern hql antlr hqlbasepars fromclaus hqlbasepars java org hibern hql antlr hqlbasepars selectfrom hqlbasepars java org hibern hql antlr hqlbasepars queryrul hqlbasepars java org hibern hql antlr hqlbasepars selectstat hqlbasepars java org hibern hql antlr hqlbasepars statement hqlbasepars java org hibern hql ast querytranslatorimpl pars querytranslatorimpl java org hibern hql ast querytranslatorimpl docompil querytranslatorimpl java org hibern hql ast querytranslatorimpl compil querytranslatorimpl java org hibern engin queri hqlqueryplan hqlqueryplan java org hibern engin queri hqlqueryplan hqlqueryplan java org hibern engin queri queryplancach gethqlqueryplan queryplancach java org hibern impl abstractsessionimpl gethqlqueryplan abstractsessionimpl java org hibern impl abstractsessionimpl createqueri abstractsessionimpl java org hibern impl sessionimpl createqueri sessionimpl java thank",
                  "Tags": "java hibernate reflection nosuchmethoderror",
                  "_deepnote_index_column": 117
                },
                {
                  "question": "check chang sound card sampl rate play around xaudio send pcm format wave soundcard encount problem made think question creat csv file matlab sine wave hz first sampl khz second c program would load file send buffer soundcard problem output distort clip sound like sine wave thought mayb sound card like khz sampl rate doubl sudden everyth fine way confirm realli problem",
                  "Tags": "c++ soundcard xaudio2",
                  "_deepnote_index_column": 118
                },
                {
                  "question": "postgresql public standard way fulli qualifi tabl name postgresql qualifi public account categori tabl account categori conflict account categori tabl name public also work rdbms",
                  "Tags": "postgresql namespaces",
                  "_deepnote_index_column": 119
                },
                {
                  "question": "unload view call presentmodalviewcontrol view control call follow method use app time get memori warn app freez second think reason switch view discharg old one set outlet nil releas unload old view switch new one thank advanc",
                  "Tags": "iphone memory-management sdk view switch",
                  "_deepnote_index_column": 120
                },
                {
                  "question": "export rail site phonegap want use phonegap creat light cellular version site way save html asset merg partial creat entir asset pipelin item convert haml coffe html javascript want use rail write client side code save thank",
                  "Tags": "ruby-on-rails phonegap",
                  "_deepnote_index_column": 121
                },
                {
                  "question": "algorithm determin node descend anoth node multiway tree imagin follow tree look way queri exampl descend note need direct descend particular case would true limit amount potenti parent node need test larger potenti descend node pool updat test whether node descend node potenti parent pool need test potenti parent node came convert multiway tree trie assign follow prefix everi node tree reserv bit array everi possibl prefix size add parent node test c ad potenti parent node pool test node descend potenti parent node take trie prefix lookup first charact first prefix array see present lookup second prefix charact second prefix array test lead yes descend c test seem worst case maximum prefix length maximum tree depth worst case exact equal obvious way go tree compar node howev perform much better test node near bottom tree potenti parent node somewher top combin algorithm would mitig worst case scenario howev memori overhead concern anoth way pointer great appreci",
                  "Tags": "algorithm tree trie descendant",
                  "_deepnote_index_column": 122
                },
                {
                  "question": "regex pars command line argument fail tri use regex pars key valu pair command line switch got far seem pars everyth proper almost hyphen valu crap match tweak work test exampl test exampl valid regex fail valu part someth like due hyphen therein seen start new switch ps want use can option librari like getop interest get regex right thank updat sorri miss detail net regex",
                  "Tags": ".net regex command-line",
                  "_deepnote_index_column": 123
                },
                {
                  "question": "c directx set shader someon know fast way invok shader process via directx right set shader use call creat shader runtim per shader file render part everi object everi patch case see mean someth like okay profil show weird thing see code take time render terrain object patch everi patch contain vertic actual geometri render take postprocess total render time seem pretti strang guess interfac may best solut sort thing got question need implement shader control wrapper probabl low level start would compil shader help somehow improv paramet set perform mayb somebodi know solv kind problem implement shader interfac could give advic kind problem solv modern game engin thank",
                  "Tags": "c++ performance directx shader",
                  "_deepnote_index_column": 124
                },
                {
                  "question": "outlook keyboard shortcut move messag differ folder tri organ inbox move messag certain folder keyboard shortcut set like crtl person folder crtl task folder crtl task folder",
                  "Tags": "outlook organization",
                  "_deepnote_index_column": 125
                },
                {
                  "question": "way know check make come net http request way know check make come net http request use rubi rail",
                  "Tags": "ruby-on-rails http web-applications request",
                  "_deepnote_index_column": 126
                },
                {
                  "question": "creat virtual nic window creat virtual nic window need devic driver instal virtual nic list devic manag enabl connect comput want share internet connect virtual lan use",
                  "Tags": "networking",
                  "_deepnote_index_column": 127
                },
                {
                  "question": "fix php beautifi empti line problem current use php beautifi format code follow command like option work great except fact strip blank line bit search found post bug open sinc tri look codebas unabl locat specif code appreci help get right direct thank",
                  "Tags": "php beautifier php-beautifier",
                  "_deepnote_index_column": 128
                },
                {
                  "question": "sql express like databas use mysql creat sql express like databas use mysql mean databas file resid project directori work machin sql express instal mysql provid facil done thank",
                  "Tags": "mysql",
                  "_deepnote_index_column": 129
                },
                {
                  "question": "want get header respons url use proxi usernam password host port want get header respons url use proxi usernam password host port linux command get respons",
                  "Tags": "linux proxy authentication http",
                  "_deepnote_index_column": 130
                },
                {
                  "question": "pipelin within process group current read advanc program unix environ steven rago within process group section book author discuss process group util common shell pipelin exampl argument shown could generat shell command form proc proc amp proc proc proc lot resourc also discuss relationship process group pipelin howev one thing find explan pipelin portion implement know linux shell like boun shell bash process pipelin execut parallel previous exampl show three process simultan execut stdin proc connect stdin proc also know ms dos use temporari file execut pipe parallel let ignor moment got proc proc proc process group fantast actual help creat pipelin far tell need follow enabl pipelin shell build creat pipelin number process npipelin statement fork shell process time fork process need use dup proper set nshare pipelin fork process confirm nhave final set pipe like via ipc via nshare memori space run exec actual launch ntheir respect process howev text keep read act process group provid magic function creat pipelin simpli neglect mention procedur outlin comment advic alway appreci",
                  "Tags": "c linux shell process operating-system",
                  "_deepnote_index_column": 131
                },
                {
                  "question": "error differ screen size android gifview class load gif function screen size way problem tri galaxi ii imag taken anim cerca ldpi gif small size one help find could error",
                  "Tags": "android size screen",
                  "_deepnote_index_column": 132
                },
                {
                  "question": "rail xe select current menu item made small helper add primarili use investig present path current menu item select layout applic html erb big flaw approach select work like charm subpag etc think approach may flaw limit method idea either enhanc script accept similar url smarter way achiev",
                  "Tags": "ruby-on-rails",
                  "_deepnote_index_column": 133
                },
                {
                  "question": "php mysql check row exist id script correct nwhat want check id exist updat exist insert test work like confirm process correct thank",
                  "Tags": "php mysql",
                  "_deepnote_index_column": 134
                },
                {
                  "question": "nlog custom level know log level builtin nlog like trace info fatal etc etc want defin new one dblog abl configur log dblog target certain target way defin custom log",
                  "Tags": "c# nlog logging",
                  "_deepnote_index_column": 135
                },
                {
                  "question": "popupscreen show push push pop screen use follow code pop screen display npleas tell miss",
                  "Tags": "blackberry",
                  "_deepnote_index_column": 136
                },
                {
                  "question": "separ project multipl class file namespac best practic c creat librari use applic build build name space structur similar would best practic creat solut multipl project sub namespac one project multipl class file sub namespac thank",
                  "Tags": "c# namespaces projects-and-solutions",
                  "_deepnote_index_column": 137
                },
                {
                  "question": "jsp form drop databas ive got sever tabl show valu databas add edit delet sever tabl fk relat add tabl must correct align valu alreadi exist tabl say tabl c want add someth must relat c need form popul drop down tabl exist valu user may select creat entri far havent much luck dao queri server generat list valu tabl c control right handl display valu go edit form tabl aka cmsattribut sever field one one need popul exist valu databas call cmsgroup specif id entri right im stuck tie togeth right form page show dropdown cmsgroup id valu noth im quit sure im miss method call simpli tie everyth thank",
                  "Tags": "database forms jsp mvc",
                  "_deepnote_index_column": 138
                },
                {
                  "question": "relationship integr integr infti rightarrow infti strict increas int dx int dx must correct equal area bound gt lt lt impli lt ab gt gt impli gt ab attempt sinc invers function reflect line point correct point follow point",
                  "Tags": "calculus integration",
                  "_deepnote_index_column": 139
                },
                {
                  "question": "access ssl site mechan window fail mac work code use connect ssl site use use rubi mechan pre depend mac code work return page window run version give follow error revert mechan seem solv problem get plagu problem thus solut tri anyth read turn ssl verif use turn mechan get error window",
                  "Tags": "ruby mechanize",
                  "_deepnote_index_column": 140
                },
                {
                  "question": "php form process join tabl use multipl user input got form take multipl paramet input user use search retriev record queri need join multipl tabl paramet valu come user code current creat multipl record cross product individu multipl address code",
                  "Tags": "php mysql sql",
                  "_deepnote_index_column": 141
                },
                {
                  "question": "microsoft chart null except work microsoft chart pie chart axi valu databas null empti chart error minimum maximum xaxi yaxi solut",
                  "Tags": "microsoft char",
                  "_deepnote_index_column": 142
                },
                {
                  "question": "setup facebook app languag creat facebook app english howev need display german possibl default went facebook manual unfortun find thought updat let show want author need display absolut german even standard facebook label alreadi set local deutsch still english",
                  "Tags": "facebook",
                  "_deepnote_index_column": 143
                },
                {
                  "question": "linq sql mani datacontext sql server databas tabl applic design window form app net c best way work linq sql intend make datacontext busi entiti problem need know way work linq sql disadvantag creat perform issu thank",
                  "Tags": "c# sql sql-server linq-to-sql",
                  "_deepnote_index_column": 144
                },
                {
                  "question": "generat lower frequenc version signal matlab sine input tri modifi frequenc cut lower frequenc spectrum shift main frequenc toward zero signal fftshift tri elimin sampl begin end fft vector work expect also tri remov center part spectrum wield higher frequenc sine wave make right",
                  "Tags": "math matlab signal-processing frequency fft",
                  "_deepnote_index_column": 145
                },
                {
                  "question": "upgrad lion desktop snow leopard server mac mini sls instal use server servic place upgrad lion desktop come thank",
                  "Tags": "upgrade snow-leopard-server",
                  "_deepnote_index_column": 146
                },
                {
                  "question": "retriev multipl type entiti azur tabl storag store multipl entiti azur tabl need know way retriev multipl entiti map origin model partit key would row key would differ queri partit key figur retriev everyth paramet tri convert type call linq queri suggest separ differ type entiti",
                  "Tags": "linq-to-sql azure-storage-tables",
                  "_deepnote_index_column": 147
                },
                {
                  "question": "http request web auth port need perform request follow url http usernam password server ip port path file final generat url treat invalid contain charact twice nis solut tri",
                  "Tags": "php http curl basic-authentication",
                  "_deepnote_index_column": 148
                },
                {
                  "question": "includegraph fail use tikz extern tri use packag convert import ep file enabl tikz librari fail error messag tri prevent extern offend pictur get result way use tikz librari time independ one anoth",
                  "Tags": "tikz-pgf external-files tikz-external auto-pst-pdf",
                  "_deepnote_index_column": 149
                },
                {
                  "question": "advanc imag crop imag resiz flex creat imag crop tool flex use core copypixel method croppedbitmapdata copypixel croppedbitmapdata clipcan new point crope area dement show crop area imag dement everi thing go well nmi problem imag distort even use method smooth imag content complet want get result site http www yourplayingcard com builder pleas help get ride imag distort",
                  "Tags": "flex resize bitmapdata smooth cropping",
                  "_deepnote_index_column": 150
                },
                {
                  "question": "convert qr code number creat qr code site http qrcode kaywa com creat qr code want read convert number provid one url qr code imag url http qrcode kaywa com img php amp alt qrcode nhow convert qr code number use url pleas help",
                  "Tags": "android",
                  "_deepnote_index_column": 151
                },
                {
                  "question": "tightvnc rout host get error tri connect remot pc nwhich window vista machin run tightvnc server port output last tracerout result think mean timeout nthat make think could firewal ad except window firewal instal could problem",
                  "Tags": "networking route tightvnc",
                  "_deepnote_index_column": 152
                },
                {
                  "question": "bound continu function certain integr converg uniform zero follow question reason question bound function unbound bound negat answer nso like post origin problem tri find continu bound function mathbb mathbb nsuch int infti infti frac sqrt pi dy frac sqrt pi int infti infti sqrt dy uniform converg complet sure actual one fair certain ni play around function like text sin far without luck thank comment",
                  "Tags": "calculus real-analysis",
                  "_deepnote_index_column": 153
                },
                {
                  "question": "grace degrad ajax actionlink unabl get work pleas check syntax mvc specifi action method use async request url action unlik specifi ajax option form store pass ajaxopt ajax beginform unabl store ajax option variabl pass ajax actionlink pleas see syntax attempt whilst someth like without tri use grace degrad work fine cours jscript turn emit partialview without rest page understand specifi url form instead use ajaxopt paramet jscript turn form default post back action render page someth similar possibl actionlink",
                  "Tags": "asp.net-mvc asp.net-mvc-3 jquery-ajax asp.net-ajax",
                  "_deepnote_index_column": 154
                },
                {
                  "question": "possibl display imag text field html display imag insid text field edit want area want add object insid button imag etc",
                  "Tags": "javascript jquery html css web",
                  "_deepnote_index_column": 155
                },
                {
                  "question": "repair corupt acl friend run window vista work run diagnost found three file c window system folder corrupt acl system repair fail window access file overwrit repair file suspect antivirus program accident quarantin comput boot read file access startup recoveri tool vista disk command prompt way manual automat repair replac damag file said window repair thus far prove inadequ",
                  "Tags": "windows-vista recovery repair acl",
                  "_deepnote_index_column": 156
                },
                {
                  "question": "java resiz imag gpu applic need resiz lot big grayscal imag ni want use java graphic work cpu way perform resiz gpu similar directx stretchrect nin stretchrect get resiz render singl step thank",
                  "Tags": "java image directx rendering gpu",
                  "_deepnote_index_column": 157
                },
                {
                  "question": "ef dbcontext mvc objectcontext instanc dispos longer use oper requir connect learn make simpl mvc ef page suppos get list countri dropdownlist run error objectdisposedexcept unhandl user code objectcontext instanc dispos longer use oper requir connect thought awar dbcontext dispos pull valu string array string still get issu view cshtml control cs dataaccesslay",
                  "Tags": "c# entity-framework",
                  "_deepnote_index_column": 158
                },
                {
                  "question": "black screen setcontentview execut sometim load observ black screen second ni measur time oper method discov one second spent ni prefer show previous screen case splash screen instead black screen execut rid black screen seem android way preload layout problem occur sometim kill process start app alway see black screen",
                  "Tags": "android layout activity",
                  "_deepnote_index_column": 159
                },
                {
                  "question": "enabl window authent revers proxi sorri duplic secur network expert may miss correct lingo find inform work applic intercept modifi http request respons web browser web server see intercept modifi http respons server side background decid implement revers proxi asp net forward client request back end http server translat link header respons proper proxifi url send respons client extract relev inform respons work expect except authent part web server use ntlm authent default forward request respons revers proxi allow user authent remot applic revers proxi web applic physic machin execut ii server window server ii matter tri enabl disabl authent revers proxi app luck look inform seem relat doubl hop problem understand question way authent user remot applic revers proxi use ntlm none altern authent method could use even solut problem point relev inform help get confus would great",
                  "Tags": "iis authentication ntlm reverse-proxy",
                  "_deepnote_index_column": 160
                },
                {
                  "question": "confirm deni xmlserial serial follow array arraylist array list document xmlserial serial method state follow serial follow array array howev tri follow code work use document defect new featur net made way document suspect could abbrevi messag serialis unless type object graph make sens arraylist",
                  "Tags": "c# .net serialization documentation xmlserializer",
                  "_deepnote_index_column": 161
                },
                {
                  "question": "variabl defin want know test model zend framework give error run test code follow model want test extend base class test code run test give error tabl defin actual defin creat object could fix",
                  "Tags": "unit-testing zend-framework phpunit",
                  "_deepnote_index_column": 162
                },
                {
                  "question": "issu and or cobol homework assign need turn tomorrow seem get one part right see given input file bunch name need skip extra info one tri use and or skip name need came got rid one person tri add anoth set and or program start act like stipul even make complex compil easier way skip thing",
                  "Tags": "cobol logical-operators",
                  "_deepnote_index_column": 163
                },
                {
                  "question": "asymptot valu math term mean use asymptot notat context algorithm complex analog guess say return valu great anoth term least degre give much info could order make term highest degre thank advanc edit would also appreci sound refer topic",
                  "Tags": "notation asymptotics",
                  "_deepnote_index_column": 164
                },
                {
                  "question": "obtain locat area code window phone way api avail obtain locat area code wp",
                  "Tags": "c# windows-phone-7",
                  "_deepnote_index_column": 165
                },
                {
                  "question": "insert imag grayscal wipe transit c develop window applic c nthis app three button open save grayscal nand pictur box display pictur applic problem doesnt make wipe transit",
                  "Tags": "c# windows application",
                  "_deepnote_index_column": 166
                },
                {
                  "question": "save doubl minvalu sqlserver use tsql updat command sqlserver databas updat column type float smallest possibl doubl valu smallest possibl doubl valu hex notat ff http en wikipedia org wiki doubl fprecis",
                  "Tags": "sql sql-server tsql double",
                  "_deepnote_index_column": 167
                },
                {
                  "question": "mvc jqueri page size chang call action rebind list view realli stuck page size drop page need write jqueri call action rebind grid view got follow call action correct page size valu call rest servic correct valu never rebind page miss thank advanc",
                  "Tags": "jquery ajax mvc",
                  "_deepnote_index_column": 168
                },
                {
                  "question": "ironrubi perform issu use variabl code simpl express evalu use ironrubi problem vs first time slower second suggest string replac solut",
                  "Tags": "c#-3.0 performance ironruby evaluation",
                  "_deepnote_index_column": 169
                },
                {
                  "question": "anyon generat ef code first seed statement convert applic use code first approach tabl hundr record want write seed statement hand anyon written templat generat statement go dbcontext seed method tabl need seed foreign key tabl popul parent tabl thank",
                  "Tags": "entity-framework ef-code-first seed",
                  "_deepnote_index_column": 170
                },
                {
                  "question": "get net time work across domain window run command window xp without issu net time servernam domain set domain current domain window receiv pop net exe system error program start nwprovau dll miss comput tri reinstal program fix problem command prompt system error occur access deni need synchron clock one system domain one altern option would appreci",
                  "Tags": "windows-7 command-line",
                  "_deepnote_index_column": 171
                },
                {
                  "question": "cyclic call event receiv delet event receiv say list also delet event receiv list delet method receiv delet item item delet list event receiv list also rise delet item list cyclic call event receiv appear escap situat need delet item list list wherev event receiv call",
                  "Tags": "development event-receivers",
                  "_deepnote_index_column": 172
                },
                {
                  "question": "fetch data extren excel file thorugh jqueri without use mysql extern excel file rate xls row sl item code item desc unit item rate want put html interact form connect extern excel file php bodi click item html form know rate kind help furnish sourc code fetch requir data excel sheet php form jqueri jsonn script also mysql",
                  "Tags": "php javascript jquery json",
                  "_deepnote_index_column": 173
                },
                {
                  "question": "cmake custom clean command cmake project like custom behavior happen clean target run howev fail even possibl custom clean behavior edit run extern tool part build tool generat lot file clean simpli ask tool ideal could add custom target clean target call tool cleanup",
                  "Tags": "command cmake",
                  "_deepnote_index_column": 174
                },
                {
                  "question": "use getselectionstart getselectionend textviewwhen user touch want get text like phone number insid textview parc want use getselectionstart dosen work someon give exampl pleas",
                  "Tags": "android parsing text textview",
                  "_deepnote_index_column": 175
                },
                {
                  "question": "best excel book non programm ask help friend non programm understand excel formula particular less linear one vlookup book could recommend",
                  "Tags": "excel books",
                  "_deepnote_index_column": 176
                },
                {
                  "question": "dojo reload grid data use jsonreststor reload data grid use normal store could call close set url properti url target also tri set store grid use kill grid complet",
                  "Tags": "javascript dojo grid store",
                  "_deepnote_index_column": 177
                },
                {
                  "question": "eclips indigo allow overrid non activ overwritten method use eclips indigo android develop problem face allow overrid non activ overwritten method exampl implement onerrorlistn mediaplay set attribut overrid give follow compil time error fix problem suggest follow tough remov overrid fix issu complain also remov may caus stop function parent etc download mani exampl use overrid attribut non activ method prove use might miss obvious thing run exampl eclips indigo without remov overrid attribut class help great appreci",
                  "Tags": "android eclipse",
                  "_deepnote_index_column": 178
                },
                {
                  "question": "googl analyt simpl visitor count new ga follow scenario ni websit requir ga servic except one page nthis page url someth like http exampl com event eventid tri achiev count visitor differ event specifi paramet later retriev inform show mani peopl visit particular event site look https www googl com analyt howev could figur make ga distinguish paramet far regist ga uniqu code includ page addit web applic implement play framework thank advanc",
                  "Tags": "google-analytics google-analytics-api",
                  "_deepnote_index_column": 179
                },
                {
                  "question": "use php compos clone git repo tri use compos automat clone git repositori github packagist figur wrong thing includ among repositori like probabl list requir section similar emampl work throw anyon tri someth like alreadi",
                  "Tags": "php composer-php packagist",
                  "_deepnote_index_column": 180
                },
                {
                  "question": "add titl attribut option tag use jthml joomla option tag titl attribut display extra inform element nbut creat select joomla jhtml exampl add titl attribut element way could add titl attribut select option use jhtml thank answer",
                  "Tags": "joomla",
                  "_deepnote_index_column": 181
                },
                {
                  "question": "click multipl link multipl page webbrows iam unabl past one week want click multipl link multipl web page use webbrows c follow code pleas help regard",
                  "Tags": "c#",
                  "_deepnote_index_column": 182
                },
                {
                  "question": "merg queri take hour execut optimis follow queri take hrs execut possibl optimis tabl datatyp convert input valu help",
                  "Tags": "sql oracle query optimization",
                  "_deepnote_index_column": 183
                },
                {
                  "question": "method ibact stuck infinit loop still success may sound like earlier problem question chang tri thing answer question tri make work still got problem observ core data properti within nsmanagedobject sub class method get call properti chang call anoth method method add core data object trigger kvo method trigger method forth seem sure someth differ seem happen seri event xe xa click button sync ical ibact exact code that method synckvo sync work fine add object outlin view well chang name trigger kvo declar chang name properti sync ical work fine delet object ad somehow trigger kvo declar thus trigger method put infinit loop code code insid nsmanagedobject subclass call jgmanagedobject xe xa kvo declar insid app deleg xe xa method also insid app deleg xe xa tri xe xa filter keypath call kvo declar detach reattach observ work first time stop method second time say remov observ observ make sens ad observ first time left code actual method els would stop second sync sure what go think tri everyth what gone wrong help would great appreci",
                  "Tags": "objective-c cocoa core-data infinite-loop",
                  "_deepnote_index_column": 184
                },
                {
                  "question": "make folder app like io anyon know make io folder app talk kind folder put app iphon ipad",
                  "Tags": "iphone objective-c ios xcode",
                  "_deepnote_index_column": 185
                },
                {
                  "question": "generat class diagram java code use creat new sequenc diagram want generat class diagram import open class diagram uml editor classa method foo classb creat creat new sequenc diagram manual leverag data import class diagram classb call foo classa accomplish",
                  "Tags": "java uml class-design reverse-engineering sequence-diagram",
                  "_deepnote_index_column": 186
                },
                {
                  "question": "access count anoth tabl work post tabl postcom tabl blog system want count sort post comment count queri work also tri error tri execut queri includ specifi express postid part aggreg function",
                  "Tags": "sql ms-access join left-join",
                  "_deepnote_index_column": 187
                },
                {
                  "question": "list member facebook group via api possibl list member facebook group use facebook api yes",
                  "Tags": "facebook facebook-graph-api",
                  "_deepnote_index_column": 188
                },
                {
                  "question": "anyon kown open sourc stock control system asp net asp net mvc anyon kown open sourc stock control system asp net asp net mvc plan help friend build websit manag product work basic function contain membership low stock notic best notic would love tri asp net mvc applic someon interest applic could set project open sourc project work togeth also plan use repositori pattern castl windsor compon sql linq nhibern way junior c develop uk",
                  "Tags": "asp.net asp.net-mvc",
                  "_deepnote_index_column": 189
                },
                {
                  "question": "creat nest tabl sqlite databas android want creat nest sqlite databas android nie want particular field tabl whole new set valu form distinct tabl",
                  "Tags": "android database sqlite nesting",
                  "_deepnote_index_column": 190
                },
                {
                  "question": "possibl add first latest post link use follow code show one post page blog page show set post got prev next link front page would like know possibl add first latest post link edit first latest post mean instanc sinc allow one post per page one post shown would like link post number exampl",
                  "Tags": "posts links",
                  "_deepnote_index_column": 191
                },
                {
                  "question": "sql server ce support synchron spatial data type sql server support replic sql server ce document sql server ce seem support st geometri type",
                  "Tags": "sql-server sql-server-ce geospatial spatial",
                  "_deepnote_index_column": 192
                },
                {
                  "question": "better catch except high callstack rather soon handl read coupl place better catch except higher callstack havent abl find justif statement scott hanselman rememb applic error exist catch except high low believ except caught handl high low matter true pleas add exampl answer possibl thank",
                  "Tags": "architecture exception-handling",
                  "_deepnote_index_column": 193
                },
                {
                  "question": "delet heap object python wrapper generat swig develop python modul along c librari c code function return heap object follow use function python side delet return object could anyon tell delet return object python code pleas chang type return valu myclass myclass avoid memori leak want touch c code c librari alreadi use anoth place",
                  "Tags": "c++ python swig",
                  "_deepnote_index_column": 194
                },
                {
                  "question": "remov empti valu multidimension array php look lot answer none work array quantiti variabl print got im look way remov empti valu like keep everyth els thank sorri look kinda simpl im newbi dont know tri lot function offici php doc none work use one get array array almost want would like remov array",
                  "Tags": "php multidimensional-array empty-string",
                  "_deepnote_index_column": 195
                },
                {
                  "question": "calculus leibniz notat current integr part find notat make tough look found int dx int dx wikipedia said equal int dv uv int du think locat problem see equal could exampl know int dx int udv realli see equival",
                  "Tags": "notation",
                  "_deepnote_index_column": 196
                },
                {
                  "question": "critic issu logic tag strut session expir use strut set session expiri time session expir redirect login page use tag login page session live work well session expir still display data although handl repli high appric thank advanc laxman chowdari",
                  "Tags": "jsp session struts",
                  "_deepnote_index_column": 197
                },
                {
                  "question": "android webview loaddatawithbaseurl load page load page use system load page subsequ call work call function second time new data chang fix destroy webview creat new one",
                  "Tags": "android webview loaddata",
                  "_deepnote_index_column": 198
                },
                {
                  "question": "java code pmd complain cyclomat complex ran pmd java code one error messag show class stweb cyclomat complex ntypic java class way see per busi requir need code class nwith mani els reason cyclocomplex ncreas pleas tell nwhat feasibl approach per standard",
                  "Tags": "java performance tuning pmd",
                  "_deepnote_index_column": 199
                },
                {
                  "question": "find log file log port error messag freebsd look var log log file record port log found person ask thing forum get answer state file case read error messag",
                  "Tags": "freebsd ports",
                  "_deepnote_index_column": 200
                },
                {
                  "question": "custom one menu item background joomla tri custom one menu item joomla templat current use nsome menu use normal display item id view sourc code templat display anyhow creat css code hope meet goal work tri accomplish make appli item administr main menu panel column turn background red hover activ could view temp link getvm net home realli appreci could help thank code",
                  "Tags": "menu joomla menuitem",
                  "_deepnote_index_column": 201
                },
                {
                  "question": "find maximum sum element array element adjac duplic remov billboard given one read answer question other care still cant wrap head around soulcheck mean answer dont want code want algorithm explain plain english nand exampl provid great appreci",
                  "Tags": "algorithm",
                  "_deepnote_index_column": 202
                },
                {
                  "question": "best way posit div css tri place menu left hand side page problem use absolut fix valu ndiffer screen size render navig bar differ also second div contain main content also need move right far use relat valu seem work matter screen size",
                  "Tags": "css layout",
                  "_deepnote_index_column": 203
                },
                {
                  "question": "plot specif row gnuplot two column file entri row howev want plot data want plot point everi line gnuplot also possibl specifi particular row plot gnuplot",
                  "Tags": "gnuplot",
                  "_deepnote_index_column": 204
                },
                {
                  "question": "split list scour various resourc figur rather simpl oper right list follow want transform understand appli string type equival method list pardon simplic question dan",
                  "Tags": "python",
                  "_deepnote_index_column": 205
                },
                {
                  "question": "iphon ipad rotat detect start rotat end rotat devic edit nso answer detect begin end orient chang",
                  "Tags": "iphone objective-c ipad",
                  "_deepnote_index_column": 206
                },
                {
                  "question": "android chang local within app affect first run use code bellow setcontentview main activ first run app appear devic local rotat app appear select lang help tell wrong",
                  "Tags": "java android",
                  "_deepnote_index_column": 207
                },
                {
                  "question": "find time durat two date field time find differ two date format hour minut second method get result sql",
                  "Tags": "sql sql-server tsql datetime",
                  "_deepnote_index_column": 208
                },
                {
                  "question": "javascript parser generat seen javascript parser generat jison http zaach github com jison peg js http pegj majda cz antlr http www antlr org js cc http jscc jmksf com one experi pros con librari readi product perform edit ni want pars run differ languag javascript",
                  "Tags": "javascript parsing compiler",
                  "_deepnote_index_column": 209
                },
                {
                  "question": "custom wordpress instal wonder whether updat version method describ post customis wordpress instal http wpbit wordpress com autom wordpress custom installphp way",
                  "Tags": "installation",
                  "_deepnote_index_column": 210
                },
                {
                  "question": "use form remot tag togeth valid would like ajax form rail use form remot tag field ni would like submit email address use rail valid togeth nwith form remot tag",
                  "Tags": "ruby-on-rails ajax validation",
                  "_deepnote_index_column": 211
                },
                {
                  "question": "tfs unifi diff file generat header line mismatch patch command tri generat diff file patch file appli patch alreadi deploy folder run follow command generat diff file generat someth like version asp local text file name version asp server problem appear line bold unix patch applic recogn file name line contain file name without addit info nif remov text file name line patch run success nso question possibl generat diff file tf diff without inform header compat patch altern like appli regex replac line would last attempt make work nthank",
                  "Tags": "tfs tfs2010 diff tfs2008 differences",
                  "_deepnote_index_column": 212
                },
                {
                  "question": "id url hide div im build script hide div base upon id url far howev still show even id append url idea",
                  "Tags": "jquery html5",
                  "_deepnote_index_column": 213
                },
                {
                  "question": "integr iad iphon integr iad iphon app navig deploy iphon os deploy target chang valu iphon os",
                  "Tags": "iphone iphone-sdk-4.0 iadstsuserex",
                  "_deepnote_index_column": 214
                },
                {
                  "question": "linq distinct work correct strang problem linq queri use linqpad make queri use regular express use linqtosql linqpad driver queri tri make see tri extract data text descript log tabl use group queri work distinct want work return line match read distinct work anonym type match properti even strang distinct actual someth order valu alphabet familycod productprefix etc someon idea work nthank display sql tab linqpad",
                  "Tags": "c# linq linqpad",
                  "_deepnote_index_column": 215
                },
                {
                  "question": "jqueri show fadein visibl ie jqueri code attempt use work well firefox opera chrome safari ie first suspici hidden selector support ie tri simpli show fadein element without condit see comment area howev proven success even without selector condit still unabl get element appear ie know interpret code result enter data alert thrown xhtml css",
                  "Tags": "javascript jquery xhtml jquery-ajax",
                  "_deepnote_index_column": 216
                },
                {
                  "question": "libquadmath gnu gsl ode solver would like work precis decim place whilst solv ode ncould anyon tell possibl get higher precis result use gsl ode solver perhap use libquadmath look gsl odeiv document http www gnu org softwar gsl manual gsl ref html driver take doubl realli case could anyon suggest altern someth like odeint support higher doubl precis write scratch refer specif problem write rung kutta ode solver use gsl bug fix thank daniel fischer",
                  "Tags": "precision gsl floating-point-precision",
                  "_deepnote_index_column": 217
                },
                {
                  "question": "put text imag without absolut posit set imag backbround tri see possibl put text imag without use posit absolut imag background element nthe reason constraint html code go mail turn hotmail support neither ni rememb first began studi css fiddl around float ing text around imag often end text merrili go imag sad reproduc behavior full stori edit ni receiv fanci layout graphic design basic nice background pictur logo link websit basic text goe area middl nas usual case use tabl make sure everyth stay place work crossbrows crossmailcli nthe problem aris fact middl text goe area white rectangl background graphic nhave made test appear live hotmail seem like neither posit absolut background imag relat margin also good ruin rest layout current version work mail client websit cours xe cit possibl xe could perfect accept answer hope",
                  "Tags": "html css css-float absolute-positioning hotmail",
                  "_deepnote_index_column": 218
                },
                {
                  "question": "googl map setcent problem use googl map code use setcent function problem marker alway locat top left corner map area center pleas tell resolv piec code",
                  "Tags": "google google-maps",
                  "_deepnote_index_column": 219
                },
                {
                  "question": "sqlite avoid insert new record delet parent use c ef well sqllite exist possibl delet cascad know imagin two tabl tabl tabl tabl idtablea field child imagin follow situat user load record tablea load context user load child record tabl user add new record tabl child tabl user save chang delet record child load first time includ new child add user sqllite model neither realationship tabl user add new child check parent exist posibl ensur refer integr sqlite thank",
                  "Tags": "c# entity-framework sqlite",
                  "_deepnote_index_column": 220
                },
                {
                  "question": "android client socket unknowhostexcept work server applic java multithread work client consol applic tri android client howev use eclips android emul connect local server yes use server ip yes manifest file modifi internet permiss debug log window notic system err messag unknowhostexcept",
                  "Tags": "java android eclipse android-emulator",
                  "_deepnote_index_column": 221
                },
                {
                  "question": "use invalid pointer valu legal c follow code undefin behavior c although work okay almost wide use implement code legal c",
                  "Tags": "c++ c pointers",
                  "_deepnote_index_column": 222
                },
                {
                  "question": "get name drive python list valid drive letter want present choic end user like show name drive code show name drive howev output get string window show explor eg certain flash drive edit still work give error",
                  "Tags": "python windows python-ctypes",
                  "_deepnote_index_column": 223
                },
                {
                  "question": "allow certain charact string want disallow symbol string instead go disallow one thought easier allow alphanumer charact would go pars string convert one allow charact also want convert space moment thank",
                  "Tags": "php regex string",
                  "_deepnote_index_column": 224
                },
                {
                  "question": "compani christma card compani work design henc year develop need design compani christma card year much rather get someth product learn someth rather search imag googl design manag say like got logic kind brain least creativ person ever quick mock someth get way moment feel like wast time",
                  "Tags": "productivity recommendations design",
                  "_deepnote_index_column": 225
                },
                {
                  "question": "make axi valu percenatg plot time seri graph forecast need take axi valu percentag proceed pleas specifi way calcul year forecast valu forecast next year includ year data calcul percentag worri want take predict valu percentag children taken addmis pleas elabor go wrong",
                  "Tags": "r",
                  "_deepnote_index_column": 226
                },
                {
                  "question": "make carbon footprint calcul tri creat carbon footprint calcul troubl find proper equat onlin anyon know decent resourc",
                  "Tags": "calculation equation calculator",
                  "_deepnote_index_column": 227
                },
                {
                  "question": "check whether json valu present zepto tri get work find solut work way need use zepto js need get list post feed loop got work fine apart post thumbnail way pass articl leav empti img tag thumbnail present code tri method seem find one loop ul pass multipl loop one li know probabl stupid hit wall pointer much appreci",
                  "Tags": "jquery json zepto",
                  "_deepnote_index_column": 228
                },
                {
                  "question": "locat base style wpf possibl css possibl style html element base locat element tree like wpf link menu section style question one way also possibl wpf think follow separ nest statusbar piec xaml includ resourc dictionari statusbar show transpar background correct pad howev green separ unfortun display show default gray px wide bar question correct solut anyon know work thank advanc",
                  "Tags": ".net wpf xaml resources styling",
                  "_deepnote_index_column": 229
                },
                {
                  "question": "php deep object copi clone possibl duplic creat copi object php best accept way php perform deep object copi clone found exampl use serial think suffer issu",
                  "Tags": "php",
                  "_deepnote_index_column": 230
                },
                {
                  "question": "entityframework creat tabl use ef alway model first approach adventur code first land nthe thing issu automat tabl creation accord site possibl tri approach success one thing tri luck connect string perfect work add tabl manual work problem tabl creat creat said would class correct decor work dbs creat suggest featur realli work use visual studio profession entityframework although tri also sql server thank advanc",
                  "Tags": "c# entity-framework-4 ef-code-first code-first code-first-migrations",
                  "_deepnote_index_column": 231
                },
                {
                  "question": "help upgrad pgf instal mactex yesterday run texliv need upgrad instal pgf come standard mactex distribut could someon walk step mac run assum illiter come instal tex stuff like updat person librari although tell make work would great main comput librari updat avail across user tri follow instruct pgf manual said put various file various place updat instal previous version need replac everyth directori texmf tex generic pgf file new version directori pgf instal chose tds compliant instal work possibl run texhash whatev howev",
                  "Tags": "installing tikz-pgf",
                  "_deepnote_index_column": 232
                },
                {
                  "question": "find differ day two date possibl duplic find number day two date use php two date find real differ day two date must take thing like leap year number day month account mani day someth like",
                  "Tags": "php date",
                  "_deepnote_index_column": 233
                },
                {
                  "question": "screenshot uitableview know mani question theme realli read nnot found answer want make screenshot current tabl view way everyth work fine scroll tableview make screenshot nhalf imag black know make screenshot actual ntableview area",
                  "Tags": "iphone objective-c ios uitableview ios4",
                  "_deepnote_index_column": 234
                },
                {
                  "question": "git tfs clone cygwin noth instal gittf tri clone cygwin done follow extract directori gittf chmod everi file gittf ad gittf front path verifi git tfs find git tfs exe tri clone project get noth pretti sure detail correct detail work tfs plugin eclips run git tfs clone command get noth command immedi exit exit status output troubleshoot happen",
                  "Tags": "git tfs cygwin git-tfs",
                  "_deepnote_index_column": 235
                },
                {
                  "question": "dataset defin readxmlschema column datatyp chang fill process export result databas call csv file data type file format must match specif format file upload extern system process run mayb year asp net net webform sudden sometim last month work way use perhap net instal client server mayb framework updat window updat provid updat dll chang year like fix legaci process least amount hack slash possibl three data type export integ string decim problem integ column export decim csv export librari look datatyp column determin correct output format use xsd file defin dataset fill simplifi exampl xsd file data type defin column use persist data load reset data load exampl forc column remain databas call chang datatyp popul dataset code simplifi post basic db returndata call oracl store procedur process return data use popul dataset column oracl sourc tabl column defin definit output correct precis understand column type dataset sudden chang explicit defin integ unfortun csv file need upload extern govern system accept",
                  "Tags": "asp.net vb.net .net-4.0 xsd .net-2.0",
                  "_deepnote_index_column": 236
                },
                {
                  "question": "sql server express accept local connect come question sql server connect tag sql server express chris wrote sql server vs sql server express biggest differ see other miss express accept network connect local one difficulti find refer written give one network connect local one network ad insid develop machin workgroup window comput",
                  "Tags": "remote-access sql-server-2008-express connectivity",
                  "_deepnote_index_column": 237
                },
                {
                  "question": "function get function javascript mean found follow code snippet wonder syntax mean",
                  "Tags": "javascript",
                  "_deepnote_index_column": 238
                },
                {
                  "question": "java decompil code mean recent decompil bit java code part syntax understand search mani thread see say code similar compil depend java syntax check return error confus bit anyon explain bit code suppos work",
                  "Tags": "java decompiling",
                  "_deepnote_index_column": 239
                },
                {
                  "question": "unassign char ascii spectrum unassign invis charact ascii spectrum could safe use newlin marker idea build java wordprocessor edit markdown wysiwyg fashion like frame display pars markdown unlik",
                  "Tags": "java ascii word-processor",
                  "_deepnote_index_column": 240
                },
                {
                  "question": "net librari access com port librari would allow send receiv data serial com port",
                  "Tags": ".net hardware serial-port",
                  "_deepnote_index_column": 241
                },
                {
                  "question": "creat tag grit tri creat tag git repositori via grit sure librari support referenc tag easi creat tag like creat lightweight tag referenc tag need creat ref tag also implement updat ref look like mean creat head ref tag ref noth ref tag class anyth anyon idea creat refer commit via grit",
                  "Tags": "ruby git grit",
                  "_deepnote_index_column": 242
                },
                {
                  "question": "jqueri var underfin follow script run firebug say watch find element expect suggest much appreci",
                  "Tags": "jquery",
                  "_deepnote_index_column": 243
                },
                {
                  "question": "use gl half float oe type textur io tri creat float textur store intermedi result render pipelin creat fragment shader need valu fragment sign float understand oe textur float extens support new io devic begin iphon gs ipod touch ipad accord appl guid howev creat textur use start app inspect instrument tell glteximag gl textur gl rgb width height gl rgb gl half float oe null invalid enum invalid enum argument type curious thing nevertheless work iphon iphon support well error messag appear devic though iphon opengl build valid framebuff object use textur render target work perfect well suggest wrong thank",
                  "Tags": "ios opengl-es floating-point texture",
                  "_deepnote_index_column": 244
                },
                {
                  "question": "rubi static method local scope titl sound redicul biggest issu actual tri figur question ask goal abl implement code describ figur terminolog use search correct answer issu wish system class regist processor via method within class definit eg issu most understand scope refer class make interact stand abl add static method add processor call class extend aclass includ method ad class idea syntax inspir datamapp properti method even code check touch troubl follow thank much help offer",
                  "Tags": "ruby methods static module include",
                  "_deepnote_index_column": 245
                },
                {
                  "question": "take one child xml file investig problem hour end nbut find ni realli need guidanc flex mobil applic wan na use xml child exampl wan na person pictur allen partridg xml file http adobeevangelist com evangelist xml project",
                  "Tags": "xml actionscript-3 flash flex4.5 flexbuilder",
                  "_deepnote_index_column": 246
                },
                {
                  "question": "live wallpap link app new live wallpap possibl link live wallpap app engin mean avoid use typic live wallpap set choos amount item most fish xd want wallpap like app manag content live wallpap would possibl answer yes help told",
                  "Tags": "android live-wallpaper",
                  "_deepnote_index_column": 247
                },
                {
                  "question": "add column brows sharepoint content type im creat new content type sharepoint tri add new column field let user brows asset eg pictur video exist sharepoint site add column give user abil brows thank",
                  "Tags": "sharepoint",
                  "_deepnote_index_column": 248
                },
                {
                  "question": "tri call element array loop python numpi tri creat program reduc given matrix reduc row echelon form tri divid entri row lead number exampl say tri turn howev follow code see problem st entri get divid give goe second entri divid new number instead origin number want figur way around make divid origin number",
                  "Tags": "python matrix numpy",
                  "_deepnote_index_column": 249
                }
              ],
              "rows_bottom": [
                {
                  "question": "excel file keep ask save client sent excel document everi time open one close excel ask would like save chang even make happen excel file go file macro use excel",
                  "Tags": "microsoft-excel microsoft-excel-2007 microsoft-excel-2010",
                  "_deepnote_index_column": 99750
                },
                {
                  "question": "rake creat rule use multitask creat simpl rule like tell rake want auto generat task paralleliz",
                  "Tags": "ruby parallel-processing rake",
                  "_deepnote_index_column": 99751
                },
                {
                  "question": "web py defin db tabl requir alter tabl tri use legaci sqlite db web py chang schema db current use coupl app problem db tabl requir look like tablec requir tableb tableb requir tablea tablea requir tabl c cours get error tabl requir defin yet thought would tri defin portion tablec first ad column alter tabl later db py would work alter tabl db py code anyon idea might work",
                  "Tags": "web2py",
                  "_deepnote_index_column": 99752
                },
                {
                  "question": "forward htm file extens specif file given task chang htm file site show contact page appos chang file think use htaccess file forc request includ htm html contact htm page limit knowledg ht access file one forc request index php work one rewrit condit check whether file real advic tip great appreci",
                  "Tags": "apache .htaccess",
                  "_deepnote_index_column": 99753
                },
                {
                  "question": "drawstr text pictur box know postion work vb vb net migrat project vb pictur box runtim design form use graphic suppos two label lbl lbl right mousedown pictur box show textbox enter text enter text visibl lostfocus textbox vb save data reopen form save text correct posit show right label vb net happen vb written vb net need write provid posit also could one help regard",
                  "Tags": "vb.net-2010 vb6-migration",
                  "_deepnote_index_column": 99754
                },
                {
                  "question": "creat datat primefac dynam creat applic user upload excel file applic show form datat nso far written follow code use code given manag bean code getter method also includ code work fine exampl set pattern row name name role age know mani column excel file henc defin pattern row data hand way approach problem",
                  "Tags": "excel jsf primefaces",
                  "_deepnote_index_column": 99755
                },
                {
                  "question": "handl lastupd grail domain want use field grail domain implement object recent chang view howev domain mani associ someth ad caus valu updat ad new book author addtobook newbook updat question updat book remov way prevent chang book ad list let say new book count chang author domain model thank",
                  "Tags": "grails",
                  "_deepnote_index_column": 99756
                },
                {
                  "question": "get uitextfield text one view control anoth view control use setmathod want get string one view control anoth view control done like android like wise new iphon code method iphon",
                  "Tags": "iphone objective-c xcode",
                  "_deepnote_index_column": 99757
                },
                {
                  "question": "window xp print notepad ms word window xp print notepad ms word solv",
                  "Tags": "windows-xp printing notepad",
                  "_deepnote_index_column": 99758
                },
                {
                  "question": "get averag datediff result id number tabl current employe multipl order date ship date want get averag employe diff sum struggl achiev done far",
                  "Tags": "sql-server",
                  "_deepnote_index_column": 99759
                },
                {
                  "question": "javascript style assign work opera firefox ie follow javascript code work perfect opera fail miser firefox ie tri individu assign like seem work either appreci assist matter nthank nai pragma",
                  "Tags": "javascript html",
                  "_deepnote_index_column": 99760
                },
                {
                  "question": "rail filter activerecord relat item filter product like want order filter product rewrit would return better solut",
                  "Tags": "ruby-on-rails activerecord filter scope ruby-on-rails-3",
                  "_deepnote_index_column": 99761
                },
                {
                  "question": "android view inflateexcept android swipelistview hi use swipelistview librari get error xml file use actionbar sherlock librari ad necessari attr swipelistview help great appreci",
                  "Tags": "android android-listview",
                  "_deepnote_index_column": 99762
                },
                {
                  "question": "version virtual pc find version number virtual pc run exampl launch virtual pc goe folder virtual machin menu item virtual pc go program featur area show virtual pc window featur version number list know run date version window thank",
                  "Tags": "virtual-pc version-number",
                  "_deepnote_index_column": 99763
                },
                {
                  "question": "scp localhost password accept attempt copi public key remot server log local localnam key resid local also ssh remot com remotenam attempt upload key thusli see welcom messag remot com ask localus password one localus use log local machin accept verbos output anyon verifi correct usag scp offer troubleshoot tip localhost termin mac os remot ubuntu",
                  "Tags": "password scp",
                  "_deepnote_index_column": 99764
                },
                {
                  "question": "altern formul way queri arrang nas composit queri queri tri achiev give motor car nand number engin type car model nlargest number engin type avail mani thank nben",
                  "Tags": "mysql",
                  "_deepnote_index_column": 99765
                },
                {
                  "question": "configur oracl listen server client box oracl databas server configur listen tns name local server local server run extern procedur access remot one far follow non work configur wrong mani thank",
                  "Tags": "oracle configuration listener",
                  "_deepnote_index_column": 99766
                },
                {
                  "question": "gcc glibc version gcc instal instal new separ gcc version use yum cento question two gcc version use glibc version glibc differ find second better newer version glibc term perform",
                  "Tags": "c linux gcc centos glibc",
                  "_deepnote_index_column": 99767
                },
                {
                  "question": "enum entiti framework enum valu independ tabl row id custom tabl custom id name status id ni status tabl status id name code nthere relat fk custom status status id custom id status net code status enum custom class enum valu status row db want creat depend data code hard code use entiti framework order present custom class edmx edit nall solut found assum enum valu status id custom tabl even status tabl import order make constraint valu possibl status id",
                  "Tags": "c# .net entity-framework enums mapping",
                  "_deepnote_index_column": 99768
                },
                {
                  "question": "linux altern win show desktop window type win show desktop minim result similar keystrok linux specif use pclinuxo",
                  "Tags": "linux kde pclinuxos",
                  "_deepnote_index_column": 99769
                },
                {
                  "question": "android applic use file doesnt exist server anymor implement android applic download imag server set wallpap delet upload anoth one server devic get set wallpap devic get weird behavior get set wallpap exist server tri clear app cach app data neither work imag still set idea thank nnb two imag name server",
                  "Tags": "android",
                  "_deepnote_index_column": 99770
                },
                {
                  "question": "instal jenkin aka hudson slave window follow instruct nfirst need start jenkin instal server command line run java jar jenkin war connect jenkin go follow url http nonc jenkin start way look instal window servic link manag jenkin page requir net framework version ni instal window servic link manag jenkin page nanyon npleas",
                  "Tags": "hudson jenkins slave",
                  "_deepnote_index_column": 99771
                },
                {
                  "question": "differ graph base databas object orient databas differ graph base databas http neo org object orient databas http www db com",
                  "Tags": "database db4o neo4j graph-databases object-database",
                  "_deepnote_index_column": 99772
                },
                {
                  "question": "limit charact specif number html text php use ckeditor found modifi plugin count charact premium basic user nthe basic user limit charact premium unlimit basic write full text preview test etc client spec chang show charact ckeditor want save db char show text output strlen relat function count html tag char want also want strip lose format way sure limit appli also tag remain php thank",
                  "Tags": "php ckeditor character maxlength",
                  "_deepnote_index_column": 99773
                },
                {
                  "question": "convert yaw pitch roll acceler valu cartesian system read yaw pitch roll rotat matrix quaternion acceler read taken frequenc per second collect mobil devic move space one posit posit set refer plane multipli invers matrix start postion rest read taken consid first one refer one want convert read cartesian system convert anyon pleas help",
                  "Tags": "geometry 3d quaternions",
                  "_deepnote_index_column": 99774
                },
                {
                  "question": "window activ directori authent intranet user form authent internet user implement window activ directori authent intranet user form authent internet user found mani exampl onlin explain individu get find one explain implement togeth asp mvc project work form authent request add window activ directori authent intranet user exist form authent",
                  "Tags": "asp.net-mvc authentication active-directory forms-authentication windows-authentication",
                  "_deepnote_index_column": 99775
                },
                {
                  "question": "good markup format design consol output oppos html think markdown textil design monospac text consol mind main think text tabl color indent",
                  "Tags": ".net markup",
                  "_deepnote_index_column": 99776
                },
                {
                  "question": "printer deploy use group polici tri deploy three printer network ad role print document servic domain control ad printer right click printer click deploy printer two ou comput ground floor comput first floor comput ad new gpo ou call network print ground first floor select option appli gpo comput rather user comput ran gpupdat forc reboot comput twice share printer still show run test print printer server work perfect workstat howev server window server workstat window xp profession group polici prefer extens instal miss someth glare obvious",
                  "Tags": "windows-server-2008-r2 group-policy printing network-printer deploy",
                  "_deepnote_index_column": 99777
                },
                {
                  "question": "instal error ubuntu upgrad ubuntu tri instal uninstal softwar get error seem bug report anyon know workaround",
                  "Tags": "installation ubuntu-11.10",
                  "_deepnote_index_column": 99778
                },
                {
                  "question": "way view network bandwidth consumpt la top sever peopl talk monitor bandwidth per devic basi wireless set way monitor consumpt per process basi someth like top even nice",
                  "Tags": "wireless-networking display networking",
                  "_deepnote_index_column": 99779
                },
                {
                  "question": "dynam html select box need updat mysql ok one littl confus select dropdown produc php select select dropdown option valu far select box might array follow mileston mileston mileston mileston array number id mysql tabl entri need updat valu specif select dropdown think mayb use mileston id loop idea sinc might select dropdown thank",
                  "Tags": "php mysql html",
                  "_deepnote_index_column": 99780
                },
                {
                  "question": "cgi python setgid run compil python cgi script use cxfreez apach nthe script among thing call obvious uid gid legal set sticki bit user group verifi inde set nhowev everi call get error may notic setuid success setgid weird least though admit littl experi permiss linux nani thought idea welcom use apach python rhel kernel thank",
                  "Tags": "python cgi",
                  "_deepnote_index_column": 99781
                },
                {
                  "question": "make textfield edit insid list list contain textfield problem field edit code runtim give someth like make textfield edit",
                  "Tags": "lwuit lwuit-textfield lwuit-list",
                  "_deepnote_index_column": 99782
                },
                {
                  "question": "weird thomson router problem hang im applic launch recent got thomson router isp whenev googl talk launch connect internet lost router restart tri googl found report problem solut upnp enabl figur problem help idea",
                  "Tags": "router adsl-router adsl2+",
                  "_deepnote_index_column": 99783
                },
                {
                  "question": "set cooki correct site built code ignit framework two link like dislik click link correspond valu increas decreas see site http joke guluzad com joke view want user chang valu cooki exampl user click like link valu becam click dislik valu must chang user one chanc like dislik work correct click like abl click dislik want chang lie dislik valu one time check cooki set function noth set cooki chang valu cooki set like click dislik see cooki code anybodi say wrong",
                  "Tags": "php codeigniter",
                  "_deepnote_index_column": 99784
                },
                {
                  "question": "read xsd datetim format php function class extens php handl xsd datetim format nit standard xml date amp time format look like know read regular express solut given default thank ps solv look answer",
                  "Tags": "php xml datetime xsd format",
                  "_deepnote_index_column": 99785
                },
                {
                  "question": "blue coat blacklist list import way mass import domain blue coat blacklist get daili feed various sourc think whether modifi input file format meet blue coat requir",
                  "Tags": "security contentfilter",
                  "_deepnote_index_column": 99786
                },
                {
                  "question": "design thread style messag system googl app engin tri design gmail like thread messag system googl app engin use django nonrel watch build scalabl complex app app engin read follow question app engin messag system messag status design pattern databas design googl app engin like idea kevin point http stackoverflow com question app engin messag system messag status design pattern current model like listfield django nonrel http www allbuttonspress com blog django updat djangoappengin problem know achiev display count messag thread like gmail let clarifi point nwhen user sirius send messag harri ron model simplifi explan like harri repli sirius reason includ ron sirius repli harri includ ron sirius harri see inbox thread count messag ron see inbox thread count messag count number make new model keep thank advanc nyoo edit nas kevin introduc thread model realiz need relat index model requir current model look like follow might find difficulti model develop would go time",
                  "Tags": "google-app-engine django-nonrel",
                  "_deepnote_index_column": 99787
                },
                {
                  "question": "getlin specif line file c look around bit found definit answer read specif line text file c text file english word line use array obvious hold much data vector take long store everi word achiev found duplic question regard c edit comment help realiz reason load file vector take long debug plain run exe load file near instantan thank everyon help",
                  "Tags": "c++",
                  "_deepnote_index_column": 99788
                },
                {
                  "question": "activ directori authent scenario deploy intranet web applic deploy client awar user role client right abl communic activ directori develop environ vs local system abl authent particular user develop environ littl confus understand actual deploy scenario work activ directori experi sqlserver db super user add user assign role that applic work real time scenario activ directori authent work deploy visit client locat deploy intranet applic complet unawar user role group activ directori general scenario work implement activ directori scenario",
                  "Tags": "c# asp.net active-directory",
                  "_deepnote_index_column": 99789
                },
                {
                  "question": "add ifield object crystal report manual without wizard intervent need help creat crystal report yeah make crystal report use wizard via visual studio goal tri implement report applic need configur futur term databas connect wizard ask datasourc via wizard go chang databas go code updat datasourc want datasourc config file call code seem work need add ifield object manual without use heck wizard crystal report tri googl day exact answer resolv problem anyon plea help thank",
                  "Tags": "c# .net web-services crystal-reports reporting",
                  "_deepnote_index_column": 99790
                },
                {
                  "question": "get typeerror elemstextbox focus function follow code get collect input element color background set event whey get error",
                  "Tags": "jquery typeerror",
                  "_deepnote_index_column": 99791
                },
                {
                  "question": "get recent thread user join tri simpli list recent thread tabl user question join yet code work show new thread thread user alreadi join show tabl use use tabl presum easi",
                  "Tags": "mysql",
                  "_deepnote_index_column": 99792
                },
                {
                  "question": "js css cach problem reduc http request well make rollout process easier js css file setup php app concaten js css file includ file sequenti combin one larg file use letter code file ex home js code aa generat name combin code order load add underscor timestamp ex aabac js directori serv use apach direct htaccess pars file php sing sethandl control header return header chang unfortun work test crap firebug net panel livehttphead page load file everi time even cach exampl respons header one file return note omit non cach relat header like keepal server etc also note condit gzip content henc privat cach control header miss content cach expir header generat etag md filenam timestamp never chang file last modifi never chang expir never chang help suggest would great appreci edit test css file get cach javascript two file ident cach header etag expir last modifi cach control thing differ content type one text css one text javascript css get cach frustrat",
                  "Tags": "php http caching header expires",
                  "_deepnote_index_column": 99793
                },
                {
                  "question": "php sort array readfil read order tri write php function save display comment articl save php formul file use fwrite write directori index nif handl opendir articl comment fals file readdir handl file file file array file sort file foreach file comment echo lt div class messag gt readfil articl comment comment echo lt div gt closedir handl part display comment correct order reason file display order furthermor chang sort rsort chang display presum readfil follow sort array order wonder one readfil display file order newest oldest two make display correct thank edit copi directori comment live site local xampp instal comment display order local use code site result comment order",
                  "Tags": "php",
                  "_deepnote_index_column": 99794
                },
                {
                  "question": "problem regard ccfollow ccparallaxnod problem regard ccfollow use ccfollow along ccparallaxnod ad layer parallax node appli runact parallax node use sprite alway run middl screen way keep left screen also layer follow sprite thanx",
                  "Tags": "iphone cocos2d-iphone",
                  "_deepnote_index_column": 99795
                },
                {
                  "question": "navig anoth view button nstablecel got button custom tabl cell want navig view view diffrent view get simpli press tablecel anybodi solv would great nthank advantag",
                  "Tags": "objective-c uinavigationcontroller navigation uibutton nstableviewcell",
                  "_deepnote_index_column": 99796
                },
                {
                  "question": "get best result photograph christen take halfway decent photo ask famili friend photograph daughter christen canon eoe camera mm len mm kit len flash one built camera also got tripod remot releas cabl want let friend want spend afternoon take photo mere hand actual use given limit equip tip trick use make sure give best chanc possibl get good photo day eta great suggest accept correct answer rep upvot either thank though",
                  "Tags": "portrait tips event indoor",
                  "_deepnote_index_column": 99797
                },
                {
                  "question": "stop block enumer fo nsdictionari stop enumer follow think doc said set stop true insid block say unassign",
                  "Tags": "iphone objective-c ios ipad",
                  "_deepnote_index_column": 99798
                },
                {
                  "question": "javascript prompt data hide ie button javascript give word prompt internet explor display one line hide sentenc need display lengthi paragraph promopt ie help solv thank advanc",
                  "Tags": "javascript ie6-ie7-bug",
                  "_deepnote_index_column": 99799
                },
                {
                  "question": "greek letter gui python know write greek letter gui work physic program need show unit gui download extra librari modul use easiest way write letter gui read lot utf figur use use tkinter gui use python thank",
                  "Tags": "python",
                  "_deepnote_index_column": 99800
                },
                {
                  "question": "save word file particular locat want save file user select locat java swing applic generat word file dynam moreov put like file get generat c drive direct name calend doc howev pass path return valu save file locat pleas help save file code ask user desir locat save file return path want generat word file locat follow return word file",
                  "Tags": "java swing file path jfilechooser",
                  "_deepnote_index_column": 99801
                },
                {
                  "question": "learn c sdl follow generat memori leak learn bit c entir sure good grasp memori manag know java bit php python bit new work sdl well seem like interest way acceler learn process anyway tri write cleanup function free surfac pass stack use stack stl follow code abbrevi unsur cleanup method thought would better way implement sdl freesurfac function rather manual specifi surfac drew ten imag screen say ten starship blew would need proper delet would creat stack starship upon destruct could wipe make sens worri over complic thing introduc whole new way caus memori leak feedback commentari would much appreci new c feel free mock futil attempt memori manag",
                  "Tags": "c++ pointers memory-management memory-leaks sdl",
                  "_deepnote_index_column": 99802
                },
                {
                  "question": "yahtze larg straight strategi recent got play yahtze brother game first roll last round got larg straight left natur hope got quick thought instinct roll good chanc figur better one chanc got would leav good chanc last roll question calcul chanc either strategi order choos better use great calculus even electr calcul howev probabl realli give headach think got first strategi roll one die calcul happen singl die roll sum happen happen chanc yeah problem second strategi sinc first roll two dice second roll either one two di c depend outcom factor mathemat",
                  "Tags": "probability combinatorics dice",
                  "_deepnote_index_column": 99803
                },
                {
                  "question": "particl swarm optim updat particl posit implement pso local particl particl random posit need optim particl understand object function pso find locat eqn function given particl posit singl valu co ordin",
                  "Tags": "c",
                  "_deepnote_index_column": 99804
                },
                {
                  "question": "grep number colon comma want grep result contain percent usag exampl output expect view grep",
                  "Tags": "perl bash sed awk grep",
                  "_deepnote_index_column": 99805
                },
                {
                  "question": "prevent matlab round output im run simpl script estim root function everyth work great iter algorithm print current script finish set final estim output function valu return round decim place tail bit output dont know round output prevent",
                  "Tags": "matlab rounding number-formatting newtons-method",
                  "_deepnote_index_column": 99806
                },
                {
                  "question": "div float left element explor appear element underneath box side side ie underneath browser use tri editor live preview copi past code http www school com css tryit asp filenam trycss float edit want fix ie thing ff chrome safari etc thank",
                  "Tags": "css internet-explorer div css-float",
                  "_deepnote_index_column": 99807
                },
                {
                  "question": "tri authent dell powerconnect switch use freeradius openldap situat want abl use ldap credenti log switch sinc support ldap switch figur freeradius ldap modul could use freeradius sort bridg output radiusd also etc raddb modul ldap file",
                  "Tags": "linux openldap freeradius dell-powerconnect",
                  "_deepnote_index_column": 99808
                },
                {
                  "question": "membership custom tabl asp net mvc tri convert vb net web form applic c mvc applic sinc membership alreadi setup would prefer continu use membership provid instead simplemembershipprovid nhi use pluralsight learn mvc abl find refer convert membership code mvc custom tabl link userid memembership user tabl custom tabl asp customus store addit inform user account control regist action view model regist process handl role much less custom data would like know add role custom user inform databas part field registr view come membership librari part go custom tabl thank",
                  "Tags": "asp.net-mvc asp.net-membership",
                  "_deepnote_index_column": 99809
                },
                {
                  "question": "gre tunnel cisco linux traffic forward setup gre tunnel cisco router linux machin tunnel interfac linux box name pic nwell forward traffic come cisco linux box nthe rule set linux box describ follow ni see traffic come tunnel forward internet repli sent packet may miss someth like rout rule",
                  "Tags": "linux iptables cisco tunneling gre",
                  "_deepnote_index_column": 99810
                },
                {
                  "question": "autom replac sprintf function c string function larg amount demo code use sprintf cstring construct filenam like replac c string allow long filenam give cleaner syntax essenti need convert block like someth like howev use lot place like use kind automat convers sed express emac function macro visual studio etc difficulti see content sprintf statement anyth need pars sprintf statement file filenam could declar anywher could name anyth often reus output multipl file need pars c possibl feasibl bonus point avoid call c str string without chang ofstream constructor",
                  "Tags": "c++ string emacs sed text-editor",
                  "_deepnote_index_column": 99811
                },
                {
                  "question": "java make best search method design search method accord requir user want search custom xe record input custom xe famili name given name name text field click search button follow two screen shot show exampl event button click input name search lee code search work fine want make better",
                  "Tags": "java swing",
                  "_deepnote_index_column": 99812
                },
                {
                  "question": "vb net thread thread addressof pass variabl tri pass status ip call share sub label form current code use error give line lblstatus text static amp data error refer instanc member class within share method share member initi without explicit instanc class help would great david updat current after ad get error one line dim new thread thread addressof getstatus error overload resolut fail access new call argument public sub new start system thread parameterizedthreadstart refer non share member requir object refer public sub new start system thread threadstart method privat sub getstatus data object signatur compat deleg deleg sub threadstart",
                  "Tags": "vb.net parameter-passing addressof",
                  "_deepnote_index_column": 99813
                },
                {
                  "question": "fire mous event usercontrol thing usercontrol let call mouserightbuttondown mouserightbuttonup event usercontrol kinda overlap nnow right mous click mous event fire disabl mouseev usercontrol mouseev usercontrol fire get fire simultan hope explain clear",
                  "Tags": "c# silverlight",
                  "_deepnote_index_column": 99814
                },
                {
                  "question": "best practic place ssl certif use apach environ hand apach server run bunch site use ssl certif https certif place debian ubuntu relev file put etc apach ssl locat better suit secur concern address choos locat file multipl websit server",
                  "Tags": "apache2 ubuntu debian ssl",
                  "_deepnote_index_column": 99815
                },
                {
                  "question": "mani thread except face problem blackberri develop applic get imag server creat separ connect thread imag load server get toomanythreadsexcept idea regard control thread blackberri applic maximum thread run concurr display imag time",
                  "Tags": "multithreading blackberry thread-pool",
                  "_deepnote_index_column": 99816
                },
                {
                  "question": "convert write larg imag without caus oom error imag store databas form imageicon would like serv web page howev larg imag get memori except current edit expand imageutil provid non transpar bufferedimag simplifi code except thrown follow way rewrit stream output limit buffer size somehow edit ni increas heap size either imag need serv rang pixel byte array work mb think unreason heap size alloc imag convers servlet exampl imag larg",
                  "Tags": "java image-processing awt",
                  "_deepnote_index_column": 99817
                },
                {
                  "question": "adapt run real devic code display list run emul run mobil motorola mileston use android platform updat inbox code emailadapt code except output verbos inbox adapt problem java lang arrayindexoutofboundsexcept stack trace warn system err java lang arrayindexoutofboundsexcept warn system err com anubi mail inbox popul list inbox java warn system err com anubi mail inbox oncreat inbox java warn system err android app instrument callactivityoncr instrument java warn system err android app activitythread performlaunchact activitythread java warn system err android app activitythread handlelaunchact activitythread java warn system err android app activitythread access activitythread java warn system err android app activitythread handlemessag activitythread java warn system err android os handler dispatchmessag handler java warn system err android os looper loop looper java warn system err android app activitythread main activitythread java warn system err java lang reflect method invoken nativ method warn system err java lang reflect method invok method java warn system err com android intern os zygoteinit methodandargscal run zygoteinit java warn system err com android intern os zygoteinit main zygoteinit java warn system err dalvik system nativestart main nativ method",
                  "Tags": "android",
                  "_deepnote_index_column": 99818
                },
                {
                  "question": "get new record mysql use java work java mysql wrote code java row column id name address contactno status mysql tabl ni wrote code updat contactno tabl ni creat jar class work fine jar work proper command prompt run queri follow get record updat set status execut continu updat record tri run jar two command prompt get issu record get updat first command prompt record get updat second command prompt want record updat second command prompt get new record updat second command prompt",
                  "Tags": "java mysql",
                  "_deepnote_index_column": 99819
                },
                {
                  "question": "postgresql load sql script want load execut sql file anoth sql file syntax possibl detail file instal tabl sql load file tabl definit sql",
                  "Tags": "postgresql",
                  "_deepnote_index_column": 99820
                },
                {
                  "question": "uitableview resiz scroll proper code resiz tableview click textfield insid cell keyboard overlap bottom row problem resiz scroll top tabl instead cell click textfield",
                  "Tags": "iphone objective-c cocoa-touch uitableview",
                  "_deepnote_index_column": 99821
                },
                {
                  "question": "set specifi build system default file type sublim text packag sass scss instal scss provid syntax highlight sass provid build system need scss problem build set automat wont build scss file press ctrl alway go back reselect option way make build system automat one scss",
                  "Tags": "build system sass scss sublimetext2",
                  "_deepnote_index_column": 99822
                },
                {
                  "question": "int datatyp bit jvm ineffici long heard use bit system ineffici use bit system python recent basic merg basic singl datatyp right sure app run bit even conceiv potenti good idea use long everyth java",
                  "Tags": "java int 32bit-64bit long-integer types",
                  "_deepnote_index_column": 99823
                },
                {
                  "question": "chang color road googl map look way chang color road yellow mapview android thought overrid method go pixel chang method final also thought wrap mapview viewgroup tri overrid ondraw sure anyon idea thank",
                  "Tags": "android google-maps android-mapview android-canvas",
                  "_deepnote_index_column": 99824
                },
                {
                  "question": "check photo facebook wonder way check photo facebook document facebook provid coordin place messag tag paramet",
                  "Tags": "ios facebook facebook-graph-api",
                  "_deepnote_index_column": 99825
                },
                {
                  "question": "linespacingmultipli maxlin cut last line android textview would like set textview work text longer line text longer line cut part last line see imag imgshack imag thing happen use code ntri extend textview height make font smaller idea fail still cut last line though",
                  "Tags": "android textview",
                  "_deepnote_index_column": 99826
                },
                {
                  "question": "navig issu jqueri mobil develop mobil web applic use jqueri mobil aspx page use two jqueri mobil page use mobil changepag navig nbut redirect flicker happen overcom issu one use navig page one page two page one checkbox onchang event call one function checkband thank advanc",
                  "Tags": "jquery jquery-mobile",
                  "_deepnote_index_column": 99827
                },
                {
                  "question": "best way code netti framedecod decod run problem code framedecod decod tcp netti client signatur buffer suppos contain byte need frame obejct return awar return object null indic data requir buffer happen return buffer unread byte partial frame invok byte ad let say given invoc buffer byte full frame byte partial frame byte read first full frame byte return buffer byte full frame byte anoth byte partial frame caus byte overwritten next time decod invok ok read next frame byte next invoc",
                  "Tags": "java netty",
                  "_deepnote_index_column": 99828
                },
                {
                  "question": "output eras text c consol rememb see complet program could backspac delet text prompt usual text cout ed static eras screen want abl eras text output program exampl program give default name accept delet enter would imagin could fake keyboard input put eras text consol cleaner way thank",
                  "Tags": "c++",
                  "_deepnote_index_column": 99829
                },
                {
                  "question": "implement ajax keep background anim place throughout page wonder best way keep background asp file play throughout web page websit www marioplanet com use asp includ order keep certain part websit want chang link header need updat file wonder keep file load throughout entir site music function even chang page therefor music background continu throughout entir site easili without restructur entir site would complet redo site",
                  "Tags": "ajax asp-classic include",
                  "_deepnote_index_column": 99830
                },
                {
                  "question": "list directori anoth directori current tri use command within directori howev dont want see what want see someth sub directori current run window vista tri use command command shed light tri ultim tri thing like follow",
                  "Tags": "command-line batch windows-vista cmd",
                  "_deepnote_index_column": 99831
                },
                {
                  "question": "c ad two matric array easier way output self studi c chapter array loop etc bunch exercis one referenc quit simpl initialis two matric two row three column output content matric format specifi perform addit held third matric output third array addit done code work think better way output rather address matric element think anoth loop given chapter preced exercis way accept",
                  "Tags": "c++ arrays loops matrix format",
                  "_deepnote_index_column": 99832
                },
                {
                  "question": "memori consumpt c would like know measur memori consumpt graph c nwith follow code initi graph node edg graph struct repres adjac list possibl measur amount space use sizeof oper nother possibl",
                  "Tags": "c memory struct",
                  "_deepnote_index_column": 99833
                },
                {
                  "question": "oracl dataaccess publish applic use dll would like know best approach publish net applic use oracl dataaccess server window bit bit oracl client instal tri solv error last two day evail publish use file system set cpu platform target correct referenc local dll use gac path c window microsoft net assembl gac oracl dataaccess c oracl dataaccess dll publish applic get error could load file assembl oracl dataaccess one depend attempt made load program incorrect format one could load file assembl oracl dataaccess version cultur neutral publickeytoken c one depend system find file specifi depend small chang publish set also tri publish use bit platform set applic pool enabl bit applic still success want copi oracl dataaccess dll manual noth config file point dll anoth applic run server use dll want come proper way publish applicaiton avoid futur problem want play trial error game publish",
                  "Tags": ".net oracle iis deployment",
                  "_deepnote_index_column": 99834
                },
                {
                  "question": "find handwritten dataset alreadi extract featur want test cluster algorithm data handwritten text search dataset handwritten text word alreadi extract featur goal test cluster algorithm extract featur anyon inform thank",
                  "Tags": "dataset cluster-analysis handwriting",
                  "_deepnote_index_column": 99835
                },
                {
                  "question": "error referenc page direct webpag gridview control webpag use gridview control databound sql server gridview control display proper get error say expect point page direct webpag figur problem anyon got idea nhere page direct",
                  "Tags": "webpage",
                  "_deepnote_index_column": 99836
                },
                {
                  "question": "use cast sampl piec code last line understand pars object boolean what differ bool instead bool",
                  "Tags": "c# c#-4.0 casting",
                  "_deepnote_index_column": 99837
                },
                {
                  "question": "applescript proxi ok littl troubl get appl script program work basic text file name proxi rtf need applescript grab line one text file chang proxi set mac use proxi open webpag use new proxi set basic want keep reach end text file idea thank",
                  "Tags": "proxy applescript",
                  "_deepnote_index_column": 99838
                },
                {
                  "question": "problem group order possibl duplic group order let group order pick true statement abelian subgroup order subgroup order mbox subgroup order mbox",
                  "Tags": "group-theory",
                  "_deepnote_index_column": 99839
                },
                {
                  "question": "mobil bookmark bubbl add onclick appear use bookmark bubbl googl mobil site got appear twice disappear fine client also want link user click time bring bookmark bubbl came across follow function seem get work idea thank chris",
                  "Tags": "javascript iphone mobile bookmarks",
                  "_deepnote_index_column": 99840
                },
                {
                  "question": "get default ubuntu php fpm php ini default mess config file forgot make backup chang like see chang accumul comparison default get default php ini ubuntu repo",
                  "Tags": "ubuntu php package-management",
                  "_deepnote_index_column": 99841
                },
                {
                  "question": "get httpelement text extract div text div inner text div innertext return span text",
                  "Tags": "c# webbrowser",
                  "_deepnote_index_column": 99842
                },
                {
                  "question": "way group multipl line item result sql server singl line item use sql server seri product price tabl draw view provid sever line item product depend whether item markup set item level categori level depart level exampl output singl item would like help possibl group output perform addit queri three line item result combin singl line item possibl markup level one line unabl think way without requir addit expens server side process creat temp tabl appli logic combin line real issu time sinc iter product databas item perform per line step whole thing strike extrem cumbersom way anyon might abl help realli appreci",
                  "Tags": "sql-server sql-server-2005 grouping",
                  "_deepnote_index_column": 99843
                },
                {
                  "question": "css better solut mix text imag design text follow xxx replac imag height text english would like know whether better solut thank updat exampl nin one sentenc follow appl orang banana chang line appl xxx orang xxx banana xxx xxx translat differ fruit foreign languag nthe reason use imag instead text unicod want forc user choos differ charact set order see page",
                  "Tags": "css",
                  "_deepnote_index_column": 99844
                },
                {
                  "question": "cento plesk net err name resolut fail dns error problem site ni configur plesk panel dns set nameserv etc npanel work proper port use url www exampl com site get error name resolut check name config right zone bind work proper ni restart everi servic server still noth ni contact plesk support say hardwar firewal ni contact server support say problem plesk configur configur previous problem look",
                  "Tags": "dns",
                  "_deepnote_index_column": 99845
                },
                {
                  "question": "threadsaf vs entrant recent ask question titl malloc thread safe insid ask malloc entrant impress entrant thread safe assumpt wrong",
                  "Tags": "c thread-safety reentrancy",
                  "_deepnote_index_column": 99846
                },
                {
                  "question": "junit assertequ fail two object creat class overridden equal method use pass test howev fail test could someon pleas tell reason",
                  "Tags": "junit equals",
                  "_deepnote_index_column": 99847
                },
                {
                  "question": "templat mean possibl duplic put ldquo templat rdquo ldquo typenam rdquo keyword sinc yesterday see c code use someth like exampl last hour two unrel sourc saw http accu org index php journal c overload pdf list http stackoverflow com googl help seem care colon search stackoverflow search neither quit depress mysteri thing mean",
                  "Tags": "c++ templates",
                  "_deepnote_index_column": 99848
                },
                {
                  "question": "magento track shipment link order view page show unabl get link show admin end client irk miss idea file adminhtml default default templat sale order view tab info phtml follow code adminhtml default templat name templat sale order view tab info phtml xe c xe also code",
                  "Tags": "php magento magento-1.7",
                  "_deepnote_index_column": 99849
                },
                {
                  "question": "question quotient group coset determin represent choos form quotient group instanc xc let cyclic subgroup generat show isomorph book said four coset name choos specif repres would correct choos repres",
                  "Tags": "abstract-algebra",
                  "_deepnote_index_column": 99850
                },
                {
                  "question": "tool use analyz viewstat asp net apolog question ask alreadi find pleas point correct question close one suggest tool help analyz asp net viewstat thank",
                  "Tags": "asp.net viewstate",
                  "_deepnote_index_column": 99851
                },
                {
                  "question": "alloc sp devic interfac detail data variabl length structur begin field contain size follow array pointer one conveni way alloc structur desir array length",
                  "Tags": "c++ winapi struct memory-allocation",
                  "_deepnote_index_column": 99852
                },
                {
                  "question": "updat content tabchang android anyon know content tab updat bee switch nin word chang tab want content tab chang refresh recreat code tabact let say chang tab nedlastetbussrut code make nedlastet bussrut tab recreat content time bee switch easi command avail",
                  "Tags": "android content android-tabhost tabactivity tabview",
                  "_deepnote_index_column": 99853
                },
                {
                  "question": "find sql inject vulner way find sql inject vulner note ask find server control fix ask detect someon els server exploit way find everi occur without open everi page",
                  "Tags": "php security sql-injection",
                  "_deepnote_index_column": 99854
                },
                {
                  "question": "zone data bind problem ip direct alloc via arin use bind cpanel box cento",
                  "Tags": "bind",
                  "_deepnote_index_column": 99855
                },
                {
                  "question": "creat multipl broadcast red instal red get broadcast connect rtmp localhost app subscrib also connect url also connect multipl subscrib broadcast enter url question multipl broadcast use rtmp localhost app url broadcast subscrib select broadcast wan subscrib",
                  "Tags": "red5 rtmp",
                  "_deepnote_index_column": 99856
                },
                {
                  "question": "insert html tag script sql text tri work practic app wherein textbox valu insert databas happen insert textbox text valu ex text get error potenti danger request form valu detect client textbox alert xss alreadi use sql paramet valu like problem",
                  "Tags": "c# asp.net sql-server webforms",
                  "_deepnote_index_column": 99857
                },
                {
                  "question": "redirect subdomain one page tri redirect subdomain spesif html file also want visibl subdomain name chang tri one htaccess work anyon help",
                  "Tags": ".htaccess redirect subdomain",
                  "_deepnote_index_column": 99858
                },
                {
                  "question": "sftp server rhel disconnect ls follow step outlin creat chroot sftp environ everyth work great except command ls ls flag get disconnect immedi strace pid get get look better idea wit end",
                  "Tags": "rhel sftp",
                  "_deepnote_index_column": 99859
                },
                {
                  "question": "urban heat island effect us temperatur record underestim one earli climat skeptic argument consensus view world warm danger extent instrument record temperatur corrupt urban heat island uhi effect wikpedia good summari even realclim refer summari argument failur correct well known effect urbanis increas local temperatur led exagger temperatur trend measur local weather station turn led overestim averag degre warm across world climat skeptic argument wide criticis skepticalsci dismiss like link detail scientist care ensur uhi influenc temperatur trend address concern compar data remot station site nowher near human activ urban site likewis investig also look site across rural urban china experienc rapid growth urbanis past year therefor like show uhi differ ideal rural site compar urban site temperatur trend small recent paper climat skeptic anthoni watt other press releas full draft paper pdf argu proper classifi site qualiti signific differ degre warm report good bad site lead signific exagger report us temperatur trend result summaris well pictur show appar differ report warm good versus bad site paper argu reanalysi surfac station temperatur perform use recent wmo approv site classif system devis meteo franc xe michel leroy new site classif accur character qualiti locat term monitor long term spatial repres surfac temperatur trend new analysi demonstr report temperatur trend spurious doubl estim result erron noaa adjust well site station upward question new paper watt et al convinc suggest site record actual temperatur proper classifi warm trend lower site uhi less signific watt observ base argument credibl undermin previous rebutt influenc uhi temperatur record nb watt claim warm extent warm lower good qualiti temperatur record site use question qualiti instrument record whether warm happen",
                  "Tags": "statistics climate-change",
                  "_deepnote_index_column": 99860
                },
                {
                  "question": "ae cbc hmac sha ensur confidenti authent think use ae cbc hmac sha build block messag ensur confidenti authent particular consid scenario alic possess public key belong bob key exchang algorithm outsid scope question alic identifi key also share bob use identifi alic bob know key alic encrypt nonc use bob public key bob decrypt packet nonc bob use sha sha nonc yield bit bob use sha sha nonc yield bit everi packet bob wish send alic perform follow creat new random bit iv encrypt messag use iv key creat sha hmac key iv encrypt messag data final send iv hmac ciphertext alic alic also calcul follow follow procedur receiv data bob split messag iv ciphertext hmac calcul hmac use iv ciphertext compar hmac hmac sent match alic consid messag authent messag sent bob otherwis discard alic decrypt messag use protocol ensur alic decrypt messag bob assum one bob read encrypt messag alic send encrypt use public key messag construct manner ensur confidenti authent note protocol requir bob send multipl messag scheme need slight modif avoid replay attack awar ae gcm ccm scheme would work basic ae sha hmac algorithm found crypto packag solut might also slower scope question",
                  "Tags": "security cryptography hmac aes",
                  "_deepnote_index_column": 99861
                },
                {
                  "question": "import multivalu access sqlite tri import ms access file accdb contain multivalu field sqlite use navicat import went well howev notic cell multivalu cell contain data null show access fine anyon know fix thank",
                  "Tags": "microsoft-access import sqlite",
                  "_deepnote_index_column": 99862
                },
                {
                  "question": "flexunit handl custom event async asynchandl one know work use method one know help document besid http doc flexunit org defin mxml compon name hellocompo extend vbox compon defin function name hello hello dispacth custom event name helloev event type name hello anoth function name init listen event want test whether event dispatch proper test follow var hellocompo new hellocompo test alway excut handletimeout method mean helloev dispatch hellocompo hello excut realli dispacth go wrong",
                  "Tags": "flex flexunit flexunit4",
                  "_deepnote_index_column": 99863
                },
                {
                  "question": "split string access array new javascript jqueri assum pretti simpl question date want split string print array edit question split array like print html",
                  "Tags": "javascript jquery html",
                  "_deepnote_index_column": 99864
                },
                {
                  "question": "remov submenubar menubar gwt use menubar control gwt exampl ad anoth menubar main menubar exampl help function whose prototyp want remov menubar use method take menuitem argument menubar remov menubar main menubar thank nrahul",
                  "Tags": "gwt",
                  "_deepnote_index_column": 99865
                },
                {
                  "question": "merg two qt c project redefinit error problem merg two project compil separ ni creat class qt c manag two mechan stage first project one class interfac laser scanner second project nwhen import class interfac first project compil give lot redefinit error window api class second project use class winsock could someon help find error grammat error thank",
                  "Tags": "c++ qt4 redefinition",
                  "_deepnote_index_column": 99866
                },
                {
                  "question": "find bigger file dir directori want delet stuff id like see heavier file du ch bring mani inform think someth like sort size part troubl thought thank advanc",
                  "Tags": "linux bash",
                  "_deepnote_index_column": 99867
                },
                {
                  "question": "box two line insid align ask similar question today except target one particular line insid environ want enclos two line fail attempt make intent clear pkg great solut specifi mandatori paramet simpl ala work singl line box want ask wide box automat determin usual prefer predefin solut less obstrus code achiev desir effect less clutter better way manual seem suggest anolog ought draw frame around enclos content previous could get display visibl frame",
                  "Tags": "math-mode boxes align",
                  "_deepnote_index_column": 99868
                },
                {
                  "question": "django admin action photologu galleri chang photologu site set realli want add admin action look list photo django admin select mark respect checkbox via admin action chang galleri someth like implement alreadi got creat admin class without write photologu packag ad action got clue send galleri paramet",
                  "Tags": "django photologue",
                  "_deepnote_index_column": 99869
                },
                {
                  "question": "algebra varieti field extens tensor product follow homework problem algebra varieti field extens prove ni otim nii algebra close show everi close point isomorph otim hard time understand statement understand given varieti coordin ring cdot ideal cdot cdot otim cong cdot ki varieti coordin ring field correspond ideal ki polynomi ring cdot clue ii mean",
                  "Tags": "homework algebraic-geometry",
                  "_deepnote_index_column": 99870
                },
                {
                  "question": "updat applic user pay upgrad need updat applic user pay updat want alter current applic instead download new version user pay enabl certain function app would implement",
                  "Tags": "iphone app-store payment storekit feature-upgrade",
                  "_deepnote_index_column": 99871
                },
                {
                  "question": "prevent servic control manag hang start window third nas ad home system summer time start develop issu wherein start win sp becom two step process stuff seem load immedi ssd minut later coupl program plus sidebar load consist minut also access mani system level process later group program load exampl uninstal program via window uninstal revo uninstal click noth seem happen minut expir screen becom riot explod open window gotten click happi repair ago run tweak com window repair aio seem come back everi patch tuesday recent one tweak com solut resolv issu prone reboot everi three week life death issu itch like scratch window event viewer log know dcom fail earli boot process say dcom found know specif file look manual see dcom entri window policydefinit folder dcomcnfg file window system window syswow duplic seem appear winsx sub system see anyth bizarr execut line c window system svchost exe dcomlaunch time look servic say dcom start automat depend remot procedur call non window servic detect realli know avast antivirus googl updat servic gupdat googl updat servic gupdatem pick candid googl updat servic would high list dcom initi failur get warn custom dynam link librari servic control manag log take minut start minut later log hung everyth load everyth work noth log see scm succeed idea",
                  "Tags": "windows-7 freeze services dcom",
                  "_deepnote_index_column": 99872
                },
                {
                  "question": "android use format file possibl use format text document contain differ size colour text scrollview found code let use txt file plain text format mani thank nleigh",
                  "Tags": "android text formatting",
                  "_deepnote_index_column": 99873
                },
                {
                  "question": "copi part multidiment array smaller one two multi diment array declar like want copi part biggi one small let xe say want index horizont vertic written simpl statement goe like lot code proven major perform jammer array copi copi singl diment array multi diment array consid whole matrix singl array put row end xe allow cut squar middl array effici way ps consid refactor code order whatev want bigger array copi matrix xe painless point alreadi stumbl upon look answer got none",
                  "Tags": "c# .net arrays performance multidimensional-array",
                  "_deepnote_index_column": 99874
                },
                {
                  "question": "resolv lnk warn link exe tri compil open sourc project one step involv run file follow line becom execut produc follow warn tri read document warn lnk know enough link exe understand fix file contain file link page seem base reason part use first place realiz page say use msklc instead howev support featur want implement solv lnk warn safe ignor",
                  "Tags": "linker",
                  "_deepnote_index_column": 99875
                },
                {
                  "question": "call normal variabl pointer refer look answer int doubl look name use normal variabl set apart pointer refer believ name exist first one want distinguish pointer refer feel someth realli easi miss know call normal variabl addit info look name refer anyth refer pointer includ class whole stori could held follow includ well look way refer way refer way look way refer group non refer non pointer part",
                  "Tags": "c++",
                  "_deepnote_index_column": 99876
                },
                {
                  "question": "exact method notat suppos rubi doc minitest bunch method defin like defin modul avail object show doc check doc generat yard one generat type show either suppos refer show anywher suppos",
                  "Tags": "ruby minitest",
                  "_deepnote_index_column": 99877
                },
                {
                  "question": "creat temp file document instal rubi rvm rvm instal give run fedora alpha realli hope matter anyon els encount error",
                  "Tags": "ruby install rvm fedora ruby-1.9.2",
                  "_deepnote_index_column": 99878
                },
                {
                  "question": "identifi origin email user repli develop applic enabl user repli via email howev user repli email origin email also append user respons origin email text append differ way differ client gmail start tue jan pm user wrote like wise differ client way identifi origin email text user repli",
                  "Tags": "email email-integration",
                  "_deepnote_index_column": 99879
                },
                {
                  "question": "updat assemblybind section config file runtim tri chang assembl bind one version anoth dynam tri code work contain assemblybind section configur chang section runtim altern thank",
                  "Tags": "c# .net configuration",
                  "_deepnote_index_column": 99880
                },
                {
                  "question": "master volum devic wp devic possibl adjust master volum phone wp mango updat switch sound vibrat silenc would like creat applic would chang profil depend condit thank repli",
                  "Tags": "c# windows-phone-7 audio windows-phone-7.5",
                  "_deepnote_index_column": 99881
                },
                {
                  "question": "zend framework acl implement integr auth acl zf applic follow tutori http binwar org index php zend framework authent acl use eventmanag get featur acl ni use acl auth modul instead user nhow restrict access guest allow member page access chang anyth pleas check tutori anyon pleas sort problem els guid nthank",
                  "Tags": "zend-framework2 acl",
                  "_deepnote_index_column": 99882
                },
                {
                  "question": "custom minim master sharepoint onlin custom master want creat custom minim master common advic make copi minim master modifi refer custom minim master master chang site set",
                  "Tags": "master-page sharepoint-online custom-masterpage",
                  "_deepnote_index_column": 99883
                },
                {
                  "question": "like button show wrong count secur connect applic facebook like button everi page open page via insecur connect http app facebook com olinezza photo index index creator order like page like button show right count check link stat fql tabl open applic via secur connect https app facebook com olinezza photo index index creator order like page button count wrong show smaller number refresh everi singl like link debugg tool curl request one time http version one https one work https like button show right count hour mayb littl problem appear https connect like button show wrong button count exampl real count https like button show refresh show real hour moment refresh link everi day mean open link button count may right problem resolv link mean request facebook everi day hope differ way fix mayb facebook side",
                  "Tags": "facebook https facebook-like like",
                  "_deepnote_index_column": 99884
                },
                {
                  "question": "linq sql vs sql tri convert queri linq think look like look server profil see linq take data tabl probabl appli take afer pool data databas problem somet record work fast wrong",
                  "Tags": "c# linq mvc entity-framework",
                  "_deepnote_index_column": 99885
                },
                {
                  "question": "net remot client exe need server exe work distribut applic rather big blemish client exe need server exe work reason client server use marshalbyref class exist side form dll contain refer server way rearrang thing need copi server exe client",
                  "Tags": ".net dll remoting distributed",
                  "_deepnote_index_column": 99886
                },
                {
                  "question": "store valu text box extern sql databas tabl button click mvc new mvc clue go connect store valu text box view button click sql tabl pleas help",
                  "Tags": "sql asp.net-mvc",
                  "_deepnote_index_column": 99887
                },
                {
                  "question": "jqueri readi function reset page document load tri load div html text file use jqueri current call function document readi work split second page reset back origin html stay way load text file code seem someth ckeditor remov refer work fine",
                  "Tags": "jquery html",
                  "_deepnote_index_column": 99888
                },
                {
                  "question": "load imag sdcard use chang background xml layout file said titl realli sever screen xml file use applic android homescreen need updat sever file first activ read sdcard put background thank",
                  "Tags": "android xml background picture",
                  "_deepnote_index_column": 99889
                },
                {
                  "question": "fuse two map list could fuse two travers list express like reasearch perform kind fusion automat risk creat space leak one return list consum interest prevent extra travers save space edit actual look appli fusion actual memori haskel list transform might make sens depend fuse consum set know fuse see flumejava easi effici data parallel pipelin",
                  "Tags": "haskell fusion",
                  "_deepnote_index_column": 99890
                },
                {
                  "question": "argument pass ivxml setnodetre error php error encount sever user error messag argument pass ivxml setnodetre must instanc ivxmlnod filenam imagevu includ ivxml class php line number read lot post problem noth help tri delet file folder xml tri replac folderdata xml origin one noth help",
                  "Tags": "php gallery",
                  "_deepnote_index_column": 99891
                },
                {
                  "question": "memori except use ssh jar use ssh jar ssh extern jar use connect secur shell webapp webapp run weblog server open connect like insid final block close session like doubt close connect proper clear weblog stack get frequent complaint user get except due memori overflow basic mean garbag collect happen proper restart server automat solv way period clear weblog memori avoid memori overflow except",
                  "Tags": "ssh weblogic stackoverflow j2ssh",
                  "_deepnote_index_column": 99892
                },
                {
                  "question": "add function window form exit button program c net latest passion would like know add function standard window form exit button red upper right corner form found way disabl button sinc think compromis user experi would like hook function instead disabl exit button earth attach method applic exit standard exit button would like xmlserail list exit window form",
                  "Tags": "c# winforms button exit functionality",
                  "_deepnote_index_column": 99893
                },
                {
                  "question": "hebrew translat perl variabl href attribut work use command display html link perl variabl address hebrew word variabl display correct data link display word contain exampl pleas advic thank advanc",
                  "Tags": "perl href hebrew",
                  "_deepnote_index_column": 99894
                },
                {
                  "question": "flowplay playlist css issu use latest flowplay html first foremost yay play tutori video privat site provid live sampl tri use built playlist function format wonki screen captur problem note red outlin flowplay area calcul tool window taskbar firefox browser video captur flowplay control wee littl timelin strip bit video near bottom flowplay area suggest code flowplay site follow use includ skin none work let say sake argument use function css problem control element escap video player zone larg margin word timelin bar see bottom area actual meant snug video area final identifi problem height video area set howev base entir area sinc area includ playlist larger video relat playlist video instead certain absolut posit use within area posit control per point even video area resiz playlist posit get obscur video area tri calcul desir height explicit set exampl px instead control line proper proof concept though sinc suboptim want use ratio sort like render respons layout soon float element otherwis chang approach layout updat absolut everyth surpris provid css provid sampl code render look conflict site css none see layout seem strict caus way flowplay element nest move playlist outsid howev must use contain script make perfect sens order identifi attach event playlist anybodi everi come across idea end result dynam reisiz flowplay area playlist thank insight might rd parti skin might solv problem",
                  "Tags": "css flowplayer",
                  "_deepnote_index_column": 99895
                },
                {
                  "question": "get undeclar identifi error creat variabl dynam seen question notic get error declar variabl middl function thought creat variabl dynam caus error done anywher anytim run time far know howev still get code",
                  "Tags": "c compiler-errors",
                  "_deepnote_index_column": 99896
                },
                {
                  "question": "get differ two list base substr with string seper list two long list one log file contain line format like second file csv format need generat list entri file contain email address log file maintain csv format exampl nlog file contain file contain output current grab email log load anoth list compar file either howev return file thank help give edit thank recommend set made larger speed differ would thought possibl way go hash tabl definit use set often",
                  "Tags": "python list string list-manipulation",
                  "_deepnote_index_column": 99897
                },
                {
                  "question": "read input android webkit work text input field web page use collect date via jqueri tool dateinput user need abl type field dialog box appear field click problem motorola droid want soft keyboard appear field click tri input blur focus also set field disabl readon set field disabl undesir side effect set field readon work everyth android browser browser seem recogn readon attribut readon via javascript field actual becom readon click soft keyboard still appear allow chang field suppos bug android browser anyon come clever altern",
                  "Tags": "javascript android keyboard webkit readonlyattribute",
                  "_deepnote_index_column": 99898
                },
                {
                  "question": "list code style html css html javascript would like creat code style html use packag html document consist three languag css html javascript make whole thing bit complic one defin keyword field three languag orient style netbean ide screenshot ni come far nevertheless problem bug nthe keyword occur html tag variabl want html tag blue javascript variabl within block bug nbecaus make blue slash end html tag forward slash javascript text also get blue miss featur nidentifi squar box css code green anyon help solv problem want use got alreadi lot code document also creat minim work exampl know task pretti tough mayb collect html code format could use univers read command like everytim want use get error",
                  "Tags": "formatting listings html code javascript",
                  "_deepnote_index_column": 99899
                },
                {
                  "question": "bind jqueri ui option knockout observ fiddl show bind jqueri slider slide event knockout observ would need chang also bind max option slider observ creat entir new ko bindingshandl entri exist one use code fiddl refer html js",
                  "Tags": "jquery-ui knockout.js",
                  "_deepnote_index_column": 99900
                },
                {
                  "question": "javascript jqueri dtos object hold state usual c develop write most client side applic use jqueri reason straight forward list group paramet like group name list user also paramet moment tri manag use specif id lot string match involv turn back someth work feel approach stupid use ui back end state reli string pars rather work real object c would creat dto essenti enough experi javascript jqueri someon give quick tip creat custom object manag list",
                  "Tags": "javascript jquery architecture",
                  "_deepnote_index_column": 99901
                },
                {
                  "question": "best way temporarili persist result long run sp tsql store procedur run minut return million record need display data asp net grid infragist webdatagrid precis obvious want return data need setup kind page option everi time user select anoth page anoth portion data load db run sp everi time new page request would take much time would best way persist data sp user select new page new data portion would load simpl select temp data storag thank",
                  "Tags": "tsql data time",
                  "_deepnote_index_column": 99902
                },
                {
                  "question": "enabl odp net log anyon help enabl odp net log window xp machin googl found follow link work http download oracl com doc html featconfig htm set tracelevel set registri help basic want captur databas call happen c code log wish tool like sql profil oracl regard nviren",
                  "Tags": "c# oracle ado.net trace odp.net",
                  "_deepnote_index_column": 99903
                },
                {
                  "question": "differ local puppet appli puppet agent puppetmast process migrat away monolith puppet repositori contain config one repo contain thing realli everi node ever puppetmast base system seem best way appropri segreg thing problem repo work fine copi local node run instal run clean put puppet repo puppetmast get agent sign appear anyth report local catalog puppetmast abl reproduc config one self built modul throw error suggest attempt copi file local machin directori rather puppetmast like suggest may modul manifest syntax differ build repo local use via puppetmast differ main trip point convers effort file master moment file ilk symlink class defin site pp file work hostnam mention run via thing work fine wors come worst need way temporari nfs mount rather enjoy import pp file directori site pp meat also contain secret sauc excerpt match node name run via puppet appli int setup pp",
                  "Tags": "puppet puppetmaster",
                  "_deepnote_index_column": 99904
                },
                {
                  "question": "use transact busi process repositori pattern situat guess pretti standard need perform busi calcul creat bunch record databas anyth goe wrong point need roll everyth back databas obviosli need kind transact question implement transact support exampl updat databas fail need roll one back get expos connect object repositori call connect begintransact valid servic layer call one method repositori save object handl transact quit seem right seem like would forc put much busi logic data layer right approach need span repositori would bad design",
                  "Tags": ".net transactions repository-pattern",
                  "_deepnote_index_column": 99905
                },
                {
                  "question": "add filter activ admin dashboard want add search function coupl model activ admin dashboard page regular model use filter dashboard view method avail within section activeadmin dashboard build",
                  "Tags": "ruby-on-rails ruby-on-rails-3 activeadmin",
                  "_deepnote_index_column": 99906
                },
                {
                  "question": "callback via inherit vs object refer compar follow two variant thing one two variant prefer",
                  "Tags": "c++ oop inheritance callback",
                  "_deepnote_index_column": 99907
                },
                {
                  "question": "unlock exist function success complet inapppurchas process look app purchas essenti content want app purchas let user purchas item upon success complet purchas unlock exist function need unlock exist content plugin allow kind thing",
                  "Tags": "iphone ios ipad",
                  "_deepnote_index_column": 99908
                },
                {
                  "question": "proof degre irrep divid order group theorem basic represent theori degre irreduc represent mathbb c divid order usual proof fact involv algebra integ see exampl fulton amp harri represent theori serr linear represent finit group simon represent finit compact group howev find proof somewhat unsatisfi precis use algebra integ show much elsewher basic represent theori evid algebra integ use feel anoth proof theorem use techniqu group theori represent theori proof know one kopp wiltshir gordon proof seem use even complic idea machineri proof theorem",
                  "Tags": "representation-theory",
                  "_deepnote_index_column": 99909
                },
                {
                  "question": "kill child process debug end c project visual studio execut spawn anoth process due gui librari use howev exit main process either use ctrl c stop debugg spawn process henc gui remain side effect librari use natur project design embed henc never realli exit debug test window base orphan process stop abl run softwar without first kill use process explor see spawn process child process debug would like way end debug project kill child process chromium project macro grab child process order attach design associ button vs gui seem chrome specif would need differ button differ project parent process look use macro idea debugg stop could walk child process use similar idea chromium macro lt evil voic gt kill lt evil voic gt event never seem trigger thought project makefil base due code generat outsid visual studio limit option set project wise",
                  "Tags": "visual-studio visual-studio-2008 debugging macros",
                  "_deepnote_index_column": 99910
                },
                {
                  "question": "invers function big let function function logx clear sim big invers sim big correct mean function invers invers asymptot",
                  "Tags": "inverse",
                  "_deepnote_index_column": 99911
                },
                {
                  "question": "generat ascii graphic output believ generat stem leaf ascii histogram scatter plot use code matt shotwel also generat ascii base line graph like gnuplot",
                  "Tags": "r data-visualization",
                  "_deepnote_index_column": 99912
                },
                {
                  "question": "put forward solut replac type dataset project current employ time soon improv specialis product current use nwe may man week spare could replac type dataset use project current written vb net definit time replac code c net although would like question would suggest replac type dataset current suggest nhibern work hibern love linq sql discount suggest someth els better highlight advantag disadvantag regard current time constraint pleas",
                  "Tags": "vb.net nhibernate strongly-typed-dataset replacement",
                  "_deepnote_index_column": 99913
                },
                {
                  "question": "wp ecommerc usp select option zero ship total select run bug ship happen localhost live server select usp ship rate localhost updat perfect live server exact code base plugin configur click one secondari rate zero ship need second set eye run problem watch screencast http screencast com vmw pz localhost live server run wordpress wp ecommerc gold cart plugin configur happen miss",
                  "Tags": "plugin-wp-e-commerce",
                  "_deepnote_index_column": 99914
                },
                {
                  "question": "condit probabl php want draw random number php want even number drawn probabl odd number probabl implement",
                  "Tags": "php probability",
                  "_deepnote_index_column": 99915
                },
                {
                  "question": "c file encod type chang creat file encod test get encod type file return anyon explain reason figur mistak code creat file read file enc give expect",
                  "Tags": "c# encoding",
                  "_deepnote_index_column": 99916
                },
                {
                  "question": "use librari compil mingw msvc compil sever librari mingw msys generat static librari alway file nwhen tri link librari msvc project visual studio throw unresolv extern symbol mean static librari incompat ms c linker presum convert msvc compat lib file either lib ar archiv obj file way use mingw compil lib msvc project compil link everyth one compil linker msvc mingw nthe mingw compil said compat msvc read thread topic most say renam file lib work unfortun work librari im tri link written c msvc linker throw error like error refer function call app thank advic",
                  "Tags": "c++ mingw visual-c++ compatibility static-libraries",
                  "_deepnote_index_column": 99917
                },
                {
                  "question": "implement dynam plugin java like implement dynam plugin featur java applic ideal applic would defin interfac method like plugin would jar contain class implement mayb other user would put special directori set configur paramet point user necessarili includ classpath applic would find mayb via jar manifest mayb reflect add registri client could get instanc invok method like user necessarili know name plugin got sens abl peaberri make sens document invest time learn guic prefer answer would use spring dynam modul anybodi give simpl idea go use guic peaberri osgi plain java",
                  "Tags": "java plugins osgi guice peaberry",
                  "_deepnote_index_column": 99918
                },
                {
                  "question": "move mft end contigu use space want move mft end contigu use space right place middl want move begin",
                  "Tags": "windows-7 windows mft",
                  "_deepnote_index_column": 99919
                },
                {
                  "question": "write custom expandablelistadapt look write oper similar data model pretti simpl map relationship implement work work right need custom control item display icon etc main thing need method abl add group invalid list children ad remov adapt actual surpris implement sdk even abstract one help one accomplish",
                  "Tags": "android expandablelistadapter",
                  "_deepnote_index_column": 99920
                },
                {
                  "question": "use png jpg imag thumbnail take imag camera camera roll save core data use imagetodatatransform class need use save imag two differ place app imageview imageview first use png format imageview second compress imag save core data best way third save two differ imag one big imag anoth thumbnail differ view",
                  "Tags": "iphone core-data uiimage image-compression",
                  "_deepnote_index_column": 99921
                },
                {
                  "question": "explicit call system exit webstart applic recent convert swing applic webstart process pretti straightforward found close window applic jvm termin thread dump show coupl non daemon thread notabl swing edt awt coupl websart relat thread actual strategi use window increment counter creat decrement one close default close oper dispos close wen counter reach zero stop threadpool releas jni resourc launch applic bat file jar termin fine window close figur problem someth webstart question anybodi tell exact happen webstart leav zombi jvms way releas webstart resourc explicit without halt jvm alway opinion call system exit encourag sloppi practic releas resourc reli os clean lead nasti surpris reus code later miss someth see also followup question detect whether app launch webstart",
                  "Tags": "java swing webstart",
                  "_deepnote_index_column": 99922
                },
                {
                  "question": "download maven artifact command line without use depend get maven download plugin like download artifact depend command line tri mvn depend get seem requir list remot repositori want mvn use alreadi specifi set xml also tri maven download plugin seem work proper tri download xerc impl transit depend ant fail resolv neither xerc impl ant depend artifact help would appreci",
                  "Tags": "maven maven-plugin maven-3",
                  "_deepnote_index_column": 99923
                },
                {
                  "question": "ubuntu system got slow late unearth problem case question subject violat rule stackoverflow apolog run processor memori intens task past week even stop run system pathet slow simpl oper like open termin click icon take second firefox hang lot scp ed file server next room local system run sinc yesterday morn hour count diagnos take much avail resourc linux feel wors vista restart system scp oper still run check system monitor show cpu cpu usag keep fluctuat configur bit amd processor gb ram",
                  "Tags": "performance ubuntu-10.04",
                  "_deepnote_index_column": 99924
                },
                {
                  "question": "interview algorithm find two largest element array size interview question saw onlin sure correct idea problem design algorithm find two largest element sequenc number number comparison need log think might choos quick sort stop two largest element find nbut sure anyon idea pleas share",
                  "Tags": "algorithm sorting",
                  "_deepnote_index_column": 99925
                },
                {
                  "question": "anim custom properti calay tri get anim work custom properti calay abl figur get work correct key mycount never sent needsdisplayforkey step miss class test add layer elsewher anyon got custom properti anim use monotouch",
                  "Tags": "monotouch calayer",
                  "_deepnote_index_column": 99926
                },
                {
                  "question": "fire jqueri live event nativ javascript event page need fire chrome extens access modifi page javascript need trigger nativ js chrome extens like cours work function use trigger though thank",
                  "Tags": "javascript jquery events google-chrome-extension",
                  "_deepnote_index_column": 99927
                },
                {
                  "question": "split includ function improv php perform main php file main class nalso class requir func php nwhich mani use function site size func php big mani function differ action differ page includ everi page includ call main class nwhat need optim rewrit func php oop use main class someth like func func perform function wasnt call would occupi memori cpu time must rewrit func php mani file call specifi page nfor exampl php includ func php need function isnt comfort think pleas help nand sorri eng",
                  "Tags": "php performance oop",
                  "_deepnote_index_column": 99928
                },
                {
                  "question": "chang sourc code use xcach php opcod cacher would like use php opcod cach like apc xcach benefit cacher chang someth php code instal one seen api use thank",
                  "Tags": "php optimization apc xcache",
                  "_deepnote_index_column": 99929
                },
                {
                  "question": "cidetector video isight tri make basic app display video input isight face detect cidetector nto use cidetector need ciimag somehow get frame ciimag run detector display origin input plus effect want add thank",
                  "Tags": "face-detection",
                  "_deepnote_index_column": 99930
                },
                {
                  "question": "postgresql admin gui interfac support ssh tunnel postgresql admin gui interfac support ssh tunnel time access postgresql limit destin mobil develop admin lot troubl connect db server assum establish ssh connect machin use tunnel question gui tool use administ db instanc pgadmin support ssl tunnel forget specifi platform interest os window linux welcom",
                  "Tags": "postgresql",
                  "_deepnote_index_column": 99931
                },
                {
                  "question": "remov nd rest digit period column one line remov nd rest digit period column one nfor exampl would like remov np hp without remov item subsequ column expect row would code provid part solut past thank advanc guy ncheer",
                  "Tags": "python",
                  "_deepnote_index_column": 99932
                },
                {
                  "question": "limit exceptionfilterattribut one specif mvc area project differ area ad one exceptionfilterattribut handl error custom want add attribut control manual want regist attribut specif area exceptionfilterattribut work control area automat suggest",
                  "Tags": "c# asp.net-mvc asp.net-mvc-areas filterattribute",
                  "_deepnote_index_column": 99933
                },
                {
                  "question": "python django simpl site tri creat site use django framework look tutori django project site contain much inform need python script provid output need output web question simpli manag django link start script provid output web perhap provid link read thank",
                  "Tags": "python django",
                  "_deepnote_index_column": 99934
                },
                {
                  "question": "xcode forc ipad activ execut simul exact issu solut work connect iphon ipad devic still chang devic simul clean simul select xcode select ipad simul activ execut strang sinc project iphon target devic famili iphon experienc problem xcode version releas march day xcode releas somehow problem gone may connect devic day ago xcode releas found xcode updat adc imag post mar download compar imag old xcode imag mar found differ instal",
                  "Tags": "xcode",
                  "_deepnote_index_column": 99935
                },
                {
                  "question": "larg file upload web page code primarili php perl client insist seek video submiss encod public via one page rather let youtub job server question virtual machin adjust ini set max post max upload size etc need initi thought use flash base upload php back end wonder someon might use advic experi subject",
                  "Tags": "php flash perl upload file-upload",
                  "_deepnote_index_column": 99936
                },
                {
                  "question": "read file stream reader could someon point mistak unabl find exampl net match least sure sorri stupid mistak new program problem like code",
                  "Tags": "c# filestream",
                  "_deepnote_index_column": 99937
                },
                {
                  "question": "execut umbraco sourc code visual studio undoubt spent mani hour get umbraco solv success nwhat want learn work umbraco version know umbraco latest less knowledg support umbraco also seem insuffici want run umbraco use visual studio profession success first couldnt find sourc code umbraco understand download sourc code link http umbraco codeplex com releas view download im get follow folder nuget numbraco extens numbraco site numbracoproject solut file im tri open solut file via visual studio im get error nsay nselect file solut file creat new version applic couldnot understand cant open sourc code visual studio npleas help help would appreci",
                  "Tags": "umbraco opencms",
                  "_deepnote_index_column": 99938
                },
                {
                  "question": "valid secur decis protect expos rdp server restrict ip address firewal probabl know new secur flaw continu emerg rdp window googl read issu possibl fix solut surpris one mention limit ip scope window firewal possibl fix ip connect machin guess reason good solut expert question wrong solut",
                  "Tags": "rdp windows-firewall",
                  "_deepnote_index_column": 99939
                },
                {
                  "question": "find replac c file problem find replac string c file new c file tri follow code didnt get output content input txt morn kind point error logic also give effici code thank advanc",
                  "Tags": "c file find",
                  "_deepnote_index_column": 99940
                },
                {
                  "question": "tri regain access wordpress base websit dad websit base wordpress went wordpress dashboard modifi home page incorrect append extra level exit made chang result websit mess import login wordpress disappear allow chang back manual fix url display wordpress dashboard login yet even login doesnt work take back wrong page current access wordpress databas access file generat databas plan edit correct file set home page path back hope allow get wordpress dashboard nbut littl knowledg wordpress anyon help pleas",
                  "Tags": "php",
                  "_deepnote_index_column": 99941
                },
                {
                  "question": "import inform text file html javascript current work creat websit need access text store text file pars data structur would like use javascript function html tag includ call file pars howev seem find good way suggest sure specif perhap pseudocod might help current code would along line websit follow text newest last element mylist would thank edit thank quick respons tri steer away jqueri actual implement angular site tri use nativ javascript method oppos librari judg respons one thank help",
                  "Tags": "javascript html",
                  "_deepnote_index_column": 99942
                },
                {
                  "question": "absolut insid relat overflow ie follow code input field insid absolut posit div insid relat posit div suppos css trick also anoth dive overflow content scroll ie input bar float almost like fix posit element behavior firefox complex jqueri widget similar problem broken simpler form tri work test",
                  "Tags": "css internet-explorer absolute-positioning",
                  "_deepnote_index_column": 99943
                },
                {
                  "question": "tabl mydjango django admin log exist creat user blog django applic simpli show error tabl mydjango django admin log exist press save button error messag shown",
                  "Tags": "python django django-admin",
                  "_deepnote_index_column": 99944
                },
                {
                  "question": "compil issu jigsaw http server linux work jigsaw http server download zip file jigsaw offic page modifi java file src folder everi folder went princip folder termin execut command appear way compil",
                  "Tags": "java make",
                  "_deepnote_index_column": 99945
                },
                {
                  "question": "stop iptabl prerout local ip run proxmox server redirect port intern virtual machin via iptabl follow instruct http www ameir net blog archiv run proxmox behind singl ip address html tri set port host ip redirect virtual machin caus virtualmachin port also redirect way prerout ignor address",
                  "Tags": "debian iptables proxmox",
                  "_deepnote_index_column": 99946
                },
                {
                  "question": "facebook js sdk login work app nas admin everyth work nas tester user none code var fbasyncinit function nthe consol log respons tester user alway get log alert realli know set work",
                  "Tags": "facebook oauth permissions",
                  "_deepnote_index_column": 99947
                },
                {
                  "question": "except use applic object tri creat socket applic object activ code applic class code want socket destroy applic close want creat socket user click button system show androidblockguardpolici except activ call also tri call method oncreat see comment case show unabl start componentinfo except app tri creat socket applic class fix",
                  "Tags": "android",
                  "_deepnote_index_column": 99948
                },
                {
                  "question": "best way factor bit number suppos rsa modulus ie product two distinct prime bit long best method factor trial divis question pollard rho probabl well without signific parallel doubt onlin tool math librari handl number think wolfram alpha use pollard rho algorithm moduli bit factor rsa corp defunct challeng list even address number small bit must pretti easi",
                  "Tags": "math-software factoring",
                  "_deepnote_index_column": 99949
                },
                {
                  "question": "imposs use chown even log root current use debian squeez would like chang owner floder usb key nso got messag chown chang ownership media usb myfold myfil oper permit googl inde partit vfat add end file uid www data reboot got error beggin replac line etc fstab got problem reboot anyon help nthank",
                  "Tags": "debian operation chown",
                  "_deepnote_index_column": 99950
                },
                {
                  "question": "fedora core seem instal yum linux noob tri get apach php run websit leav linux server alon work complaint howev time work network solut vps utilit pre instal like yum tri instal util problem seem instruct differ distribut linux differ version fc latest instruct http www wallpaperama com forum instal yum problem instal linux redhat fedora command html lead error everyth good till got line configur appar newer version yum directori instal program complet differ everi version actual tri instal apc php cach everyth read say yum best someon point right direct updat look directori see yum repo instal crap readm say run make instal masochist exact nwhat make instal case",
                  "Tags": "linux yum",
                  "_deepnote_index_column": 99951
                },
                {
                  "question": "gnome set gset vs gconftool gnome desktop icon hidden default tri show way work tri work say valu set key list org folder",
                  "Tags": "gnome desktop icons gnome3 desktop-icons",
                  "_deepnote_index_column": 99952
                },
                {
                  "question": "php librari merg stylesheet inlin style work html document generat micrsoft word besid generat incred dirti html word also tendenc use block inlin style look php librari would merg block alreadi exist inlin style element edit nthe goal construct html block preserv origin format edit wysiwyg editor like tinymc exampl origin html becom",
                  "Tags": "php css",
                  "_deepnote_index_column": 99953
                },
                {
                  "question": "youtub player work without continu mous movement caus youtub player work play buffer fire api event continu move cursor player",
                  "Tags": "flash internet-explorer-8",
                  "_deepnote_index_column": 99954
                },
                {
                  "question": "subscrib user download featur look wordpress plugin allow subscrib feed burner download particular file could one help",
                  "Tags": "wordpress wordpress-plugin",
                  "_deepnote_index_column": 99955
                },
                {
                  "question": "freecel directx error weird error happen sometim freecel close directx error occur random time anyon think would occur life know freecel use directx",
                  "Tags": "crash directx",
                  "_deepnote_index_column": 99956
                },
                {
                  "question": "jcrop imag crop imag aspect ratio current user upload imag sent crop view page crop imag crop seem work fine imag except upload imag alreadi dimens equal length ie px imag alreadi equal length width crop perform perfect whole imag select use cropper tool resiz cropper overlay final imag crop correct wrong part imag crop use follow javascript crop html erb file believ error probabl stem advic fix issu would much appreci first time use jcrop",
                  "Tags": "javascript ruby-on-rails ruby-on-rails-3 jcrop",
                  "_deepnote_index_column": 99957
                },
                {
                  "question": "updat core data entiti updat core data entiti action need one mani relationship chang product remov one add need anyth invok method edit product leav alon save persist store user quit applic normal way",
                  "Tags": "iphone objective-c ios core-data entity",
                  "_deepnote_index_column": 99958
                },
                {
                  "question": "creat weather widget use jqueri api need creat weather widget widget mean tabl div weather detail display also need api without limit free use display weather condit api return data json format great basic understand know weather com googl yahoo api one better",
                  "Tags": "jquery api weather",
                  "_deepnote_index_column": 99959
                },
                {
                  "question": "count queri multipl join group claus work databas contain tabl list compani tabl product sell tabl price offer date queri like php generat list compani offer lowest price certain product type certain date get data need order implement pager php need know mani compani offer product day total limit mean see first tri chang select claus select count id select count distinct id neither seem give want tri remov group order count queri work either idea",
                  "Tags": "sql mysql join count",
                  "_deepnote_index_column": 99960
                },
                {
                  "question": "integr test fail linux window odd case integr test run smooth window run project linux ubuntu test fail ower run ident grail version java version architectur bit mysql databas look databas roll back test anyon experienc",
                  "Tags": "grails",
                  "_deepnote_index_column": 99961
                },
                {
                  "question": "chang page ajax use js follow problem want move user anoth page certian condit met exampl text input field user enter url want move user url without press kind submit form use ajax achiv function check pattern user enter found valid url page chang url valid url write error ajax updat error messag st load user enter anyth messag continu valid url enter valid url enter follow written div seem work put page chang code instead error messag work work valid url enter",
                  "Tags": "javascript ajax refresh",
                  "_deepnote_index_column": 99962
                },
                {
                  "question": "pass data function callback matlab new matlab gui build tri learn pass data two gui nmi question call function main gui sub gui exampl main gui get valu two text box respect callback addit third function addit third function howev access sub gui button push follow error get enough input argument line know get error anyon help",
                  "Tags": "matlab-guide",
                  "_deepnote_index_column": 99963
                },
                {
                  "question": "matlab chang plot interv writin matlab function read file plot graphic three project four graphic provid plot data decid interv data point ni woul like chang plottin interv know see figur case problem th imag zy plane would like see point interv instead viewin interv code plottin th imag four could thank lot",
                  "Tags": "matlab plot intervals subplot",
                  "_deepnote_index_column": 99964
                },
                {
                  "question": "declar initi array outsid method java confus declar construct array separ line java outsid method thus would instanc variabl get compil error yet construct initi one line fine happen",
                  "Tags": "java arrays",
                  "_deepnote_index_column": 99965
                },
                {
                  "question": "qr code metro app need program qr code reader window rt app get id specif item scan found sourc free qr code generat find code read id qr code anybodi tell find sourc qr reader way read qr code instal third parti program read qr code send result back program",
                  "Tags": "windows-8 microsoft-metro qr-code",
                  "_deepnote_index_column": 99966
                },
                {
                  "question": "find valu displaystyl sqrt cdot cot circ cdot cos circ find valu displaystyl sqrt cdot cot circ cdot cos circ manual",
                  "Tags": "trigonometry",
                  "_deepnote_index_column": 99967
                },
                {
                  "question": "loop though mulitipl text file data extract python learn python sinc octob order extract data one million text file tri tackl small discreet chunk get overwhelm lost tri get code want one go first chunk want extract address text file far manag get code work one file time sinc million go think manual work breviti sake includ first part code sinc rest basic look differ keyword tri open file top call variabl multipl time work assum loop would look similar idea make work thank",
                  "Tags": "python database-design data-manipulation",
                  "_deepnote_index_column": 99968
                },
                {
                  "question": "split string array specif number element c string consist number order term separ line shown follow exampl note string element array string want split specif number term let say discard rest term tri follow code conduct oper without use list data structur mean extract specif number term array train direct thank advanc",
                  "Tags": "c# c#-4.0",
                  "_deepnote_index_column": 99969
                },
                {
                  "question": "use creat rest client java possibl duplic rest client java want use java creat rest client use use cxf",
                  "Tags": "java rest cxf",
                  "_deepnote_index_column": 99970
                },
                {
                  "question": "finder style float group row view base nsoutlineview implement view base nsoutlineview project use float group row would like nsoutlineview look basic like finder list view cmd arrang layout kind ctrl cmd mean top group row display column titl soon next lower group row start nudg previous one view column titl fade second group row hope make sens box way achiev far success subclass nstablecellview show column titl howev get fade work seem find posit group row relat float one regard nmichael",
                  "Tags": "cocoa nsoutlineview",
                  "_deepnote_index_column": 99971
                },
                {
                  "question": "gcd mathbb time mathbb cyclic gcd mathbb time mathbb cyclic group let denot mathbb langl rangl mathbb langl rangl proof sinc mathbb time mathbb mn gcd langl rangl text lcm langl rangl langl rangl mn henc direct product cyclic proof correct",
                  "Tags": "abstract-algebra group-theory",
                  "_deepnote_index_column": 99972
                },
                {
                  "question": "matplotlib interact mode determin figur window still display use matplotlib interact mode show user plot help enter rang variabl option hit show plot prompt variabl repeat know draw plot still display superfici clunki pseudo ish code use term plt gca fig etc determin need plot status somewher check mani thank david",
                  "Tags": "python matplotlib",
                  "_deepnote_index_column": 99973
                },
                {
                  "question": "speak interfer code read review find keep quiet present code peer howev someon els present busi logic look code simpli regist head look code make code review product think particular hard code review well understood author well reader mark communiti wiki find question vagu etc pleas let know improv edit also appli hunt bug togeth spend half day look someth got somewhat familiar section code work enorm project one man woman know call someon take look usual listen say read shoe understand mind simpli thing coder see code start read automat get realli listen would shut monitor edit polici code read everi check whether kind like think code terribl realli code read everyth often check often someon familiar actual project",
                  "Tags": "performance code-review suggestions",
                  "_deepnote_index_column": 99974
                },
                {
                  "question": "possibl save voic data record iphon would good way transport voic data record iphon build sort onlin cloud system user abl record clip save onlin retriev later server format save voic data best store file etc",
                  "Tags": "iphone",
                  "_deepnote_index_column": 99975
                },
                {
                  "question": "averag calcul averag got big xml file contain data concern hotel chain per week per day per hotel keep data report use xqueri calcul averag guest spend sum roomtyp price period price formula price sum facil came xqueri produc result expect howev also would like calcul total averag sum averag divid day output someth like troubl calcul total averag java would use total variabl increment calcul averag loop obvious work would abl xqueri thank",
                  "Tags": "xquery",
                  "_deepnote_index_column": 99976
                },
                {
                  "question": "what signific wifi channel coupl devic appear unabl see router wifi signal put channel newer devic work fine without problem other see signal confirm non work devic see wireless signal use inssid look ghz channel tab show channel layout wifi channel vs neighbour channel show noth non work devic work devic show wifi signal nice strong search googl wifi channel also notic sever post channel work certain peopl anoth post ad newer version android suspicion channel ad draft devic support channel case howev surpris router would even choos channel auto select sinc set compat devic",
                  "Tags": "802.11n wireless-networking",
                  "_deepnote_index_column": 99977
                },
                {
                  "question": "load code string php possibl add function php string instead link apach dll file let say use dll compil c sourc find pointer desir function copi shellcod encod base string load php code string php function use execut shellcod pass paramet php also guess script would machin depend shellcod run os",
                  "Tags": "php apache",
                  "_deepnote_index_column": 99978
                },
                {
                  "question": "resiz tabl view uitableview control contain view resiz tabl view within navig control",
                  "Tags": "iphone ios uitableview sdk tableview",
                  "_deepnote_index_column": 99979
                },
                {
                  "question": "stuck limit lim rightarrow infti ln frac arctan frac tri appli stirl formula tild cdot sqrt xcf obtain result second term limit well first correct wolfram alpha even solv",
                  "Tags": "calculus limit",
                  "_deepnote_index_column": 99980
                },
                {
                  "question": "dolphin attack danger shark heard numer anecdota claim peopl rescu shark attack dolphin one sourc mention rescu happen surpris often cite three unreferenc incid includ one pod dolphin suppos fend foot great white shark yet site refer program navi train bottlenos dolphin incapacit larg shark program appear qualifi success dolphin would readili attack shark known attack dolphin wild refus approach bull shark known attack dolphin wild site summar wild similar size dolphin shark pretti much leav alon wild dolphin show degre shark scar xe usual see one got away pull dolphin remain stomach mani shark year particular tiger shark galeocerdo cuvier thus seem battl dolphin shark wild dolphin get worst encount seem contradictori inform make question whether dolphin realli risk confront larg aggress dolphin eat shark protect random human anecdot data asid concret inform dolphin human shark interact edit light comment chrisw answer would also interest studi confirm dolphin attack larg aggress dolphin eat shark absenc distress human",
                  "Tags": "animals ethology",
                  "_deepnote_index_column": 99981
                },
                {
                  "question": "pipe clipboard possibl pipe clipboard whether pipe devic handl use auxiliari applic find anyth exampl devic link clipboard could",
                  "Tags": "linux bash clipboard",
                  "_deepnote_index_column": 99982
                },
                {
                  "question": "chang android emul ip address virtualbox chang android emul ip address virtualbox ni get emul ip ni type code emul ip hope somoeon help thank",
                  "Tags": "android android-emulator virtualbox",
                  "_deepnote_index_column": 99983
                },
                {
                  "question": "simpl question uitableview hey everbodi im get troubl simpl thing miss detail tri set style tableview edit tabl visual seem take effect im wrong",
                  "Tags": "iphone objective-c",
                  "_deepnote_index_column": 99984
                },
                {
                  "question": "determin polygon complex convex nonconvex man page xfillpolygon xc xb shape complex path may self intersect note con xe tiguous coincid point path treat self intersect xc xb shape convex everi pair point insid polygon line segment connect intersect path known client specifi convex improv perform specifi convex path convex graphic result undefin xc xb shape nonconvex path self intersect shape wholli convex known client specifi nonconvex instead complex may improv perform specifi nonconvex self intersect path graphic result undefin perform problem fill xfillpolygon man page suggest first step want take specifi correct shape polygon current use complex safe side effeci algorithm determin polygon defin seri coordin convex non convex complex",
                  "Tags": "algorithm polygon xlib",
                  "_deepnote_index_column": 99985
                },
                {
                  "question": "mysql group get titl column smallest date valu queri like return last sid group group need titl column row lowest datestart valu tri use return row smallest datestart valu lowest datestart need titl lowest datestart relev tabl structur idea",
                  "Tags": "mysql group-by row aggregate-functions",
                  "_deepnote_index_column": 99986
                },
                {
                  "question": "simpl imagebutton want make simpl imagebutton exist html markup imag dir root webapp njava code imag display nwhat easiest way make work investig see wicket modifi src attribut would great leav src attribut unmodifi",
                  "Tags": "wicket",
                  "_deepnote_index_column": 99987
                },
                {
                  "question": "start bash script insid java live jvm exit tri run bash script insid java live jvm exit current attempt look someth like see myscript sh actual start top ps way reason separ bash shell need want corrupt origin also may redund tri without alon seem get work right idea",
                  "Tags": "java linux bash process processbuilder",
                  "_deepnote_index_column": 99988
                },
                {
                  "question": "hr display block ad scroll bar dynam chang margin creat hr tag style fiddl nit display proper occupi width screen chang margin dynam javascript consol overflow screen make auto adjust base margin",
                  "Tags": "javascript",
                  "_deepnote_index_column": 99989
                },
                {
                  "question": "mean divid standard deviat tri varianc normalis imag order subtract mean pixel valu mean divid standard deviat unit varianc right also seen divis standard deviat sinc obvious also bit confus valu get normalis valu still less thought unit varianc mean varianc",
                  "Tags": "statistics standard-deviation image-processing",
                  "_deepnote_index_column": 99990
                },
                {
                  "question": "error oper appli operand type method group doubl believ tri simpl get error noper appli operand type method group doubl want multipli number day store dayrent amount checkbox check get error say cant dayrent method nhow get valu dayrent multipl",
                  "Tags": "c# .net",
                  "_deepnote_index_column": 99991
                },
                {
                  "question": "use shade tikz rotat pictur follog problem wand draw rectangl around smooth fade background white found shade techniqu tikz quit interest problem behav suspect see follow exampl get use pdflatex two block left drawn corect clear rotat right pictur color end fade set correct see differ white background near white upper left end also middl conjunct red squar color correct tell wrong",
                  "Tags": "pdftex tikz-pgf",
                  "_deepnote_index_column": 99992
                },
                {
                  "question": "use visual studio test tool jqueri web page tri find best method test asp web applic use jqueri render web page look use qunit well vers javascript easier path go",
                  "Tags": "visual-studio-2010 unit-testing qunit",
                  "_deepnote_index_column": 99993
                },
                {
                  "question": "jqueri anim toggl tough time tri implement slidetoggl event time implement anim featur exampl user click button like button move div appear button click like button go back origin space div disappear know put anim featur return search button back origin posit",
                  "Tags": "jquery",
                  "_deepnote_index_column": 99994
                },
                {
                  "question": "script rotat png photoshop follow photoshop extendscript jsx script rotat imag canva rotat content would like rotat entir imag content includ tri also rotat document layer art layer noth work",
                  "Tags": "photoshop extendscript jsx photoshop-script",
                  "_deepnote_index_column": 99995
                },
                {
                  "question": "debug browser crash run silverlight app team three peopl develop silverlight applic two develop machin app seem random crash never crash third develop machin natur crash internet explor die internet explor stop work messag problem detail look like window display messag help protect comput data execut prevent close internet explor attach app visual studio debugg inform get line output window program iexplor exe silverlight exit code xc go debug problem realli sure start",
                  "Tags": "silverlight debugging internet-explorer crash",
                  "_deepnote_index_column": 99996
                },
                {
                  "question": "problem utf italian russian charact use rss feed import preview feed special charact xc xa xc xa throw gibberish search wp org forum came across suggest add code wp config file ad code made differ db utf format suggest pleas add new tag encod utf put nearest avail tag defin gibberish xc xa display xef xbf xbd xc xac display xef xbf xbd xc xac nand",
                  "Tags": "errors rss encoding",
                  "_deepnote_index_column": 99997
                },
                {
                  "question": "issu fb like button face issu fb like button use code add like function page use object id post href see code click like button post get like fb post facebook prompt come messag like pageid url invalid url thought issu",
                  "Tags": "facebook like",
                  "_deepnote_index_column": 99998
                },
                {
                  "question": "iquery serial web api work minor chang throw serial error ni fine solv way error solv way",
                  "Tags": "serialization asp.net-web-api iqueryable",
                  "_deepnote_index_column": 99999
                }
              ]
            },
            "text/plain": "                                                question  \\\n0      check upload file imag without mime type like ...   \n1      prevent firefox close press ctrl favorit edito...   \n2      error invalid type list variabl import matlab ...   \n3      replac special charact url probabl simpl simpl...   \n4      modifi whoi contact detail use modifi function...   \n...                                                  ...   \n99995  script rotat png photoshop follow photoshop ex...   \n99996  debug browser crash run silverlight app team t...   \n99997  problem utf italian russian charact use rss fe...   \n99998  issu fb like button face issu fb like button u...   \n99999  iquery serial web api work minor chang throw s...   \n\n                                                    Tags  \n0      php image-processing file-upload upload mime-t...  \n1                                                firefox  \n2                              r matlab machine-learning  \n3                                        c# url encoding  \n4                              php api file-get-contents  \n...                                                  ...  \n99995        photoshop extendscript jsx photoshop-script  \n99996      silverlight debugging internet-explorer crash  \n99997                                errors rss encoding  \n99998                                      facebook like  \n99999           serialization asp.net-web-api iqueryable  \n\n[100000 rows x 2 columns]",
            "text/html": "<div>\n<style scoped>\n    .dataframe tbody tr th:only-of-type {\n        vertical-align: middle;\n    }\n\n    .dataframe tbody tr th {\n        vertical-align: top;\n    }\n\n    .dataframe thead th {\n        text-align: right;\n    }\n</style>\n<table border=\"1\" class=\"dataframe\">\n  <thead>\n    <tr style=\"text-align: right;\">\n      <th></th>\n      <th>question</th>\n      <th>Tags</th>\n    </tr>\n  </thead>\n  <tbody>\n    <tr>\n      <th>0</th>\n      <td>check upload file imag without mime type like ...</td>\n      <td>php image-processing file-upload upload mime-t...</td>\n    </tr>\n    <tr>\n      <th>1</th>\n      <td>prevent firefox close press ctrl favorit edito...</td>\n      <td>firefox</td>\n    </tr>\n    <tr>\n      <th>2</th>\n      <td>error invalid type list variabl import matlab ...</td>\n      <td>r matlab machine-learning</td>\n    </tr>\n    <tr>\n      <th>3</th>\n      <td>replac special charact url probabl simpl simpl...</td>\n      <td>c# url encoding</td>\n    </tr>\n    <tr>\n      <th>4</th>\n      <td>modifi whoi contact detail use modifi function...</td>\n      <td>php api file-get-contents</td>\n    </tr>\n    <tr>\n      <th>...</th>\n      <td>...</td>\n      <td>...</td>\n    </tr>\n    <tr>\n      <th>99995</th>\n      <td>script rotat png photoshop follow photoshop ex...</td>\n      <td>photoshop extendscript jsx photoshop-script</td>\n    </tr>\n    <tr>\n      <th>99996</th>\n      <td>debug browser crash run silverlight app team t...</td>\n      <td>silverlight debugging internet-explorer crash</td>\n    </tr>\n    <tr>\n      <th>99997</th>\n      <td>problem utf italian russian charact use rss fe...</td>\n      <td>errors rss encoding</td>\n    </tr>\n    <tr>\n      <th>99998</th>\n      <td>issu fb like button face issu fb like button u...</td>\n      <td>facebook like</td>\n    </tr>\n    <tr>\n      <th>99999</th>\n      <td>iquery serial web api work minor chang throw s...</td>\n      <td>serialization asp.net-web-api iqueryable</td>\n    </tr>\n  </tbody>\n</table>\n<p>100000 rows × 2 columns</p>\n</div>"
          },
          "metadata": {}
        }
      ]
    },
    {
      "cell_type": "code",
      "metadata": {
        "tags": [],
        "cell_id": "00016-ebb81225-2f4e-4ac1-9b29-640ffab061df",
        "deepnote_to_be_reexecuted": false,
        "source_hash": "66c149c8",
        "execution_start": 1614044310377,
        "execution_millis": 321,
        "deepnote_cell_type": "code"
      },
      "source": "vectorizer = CountVectorizer(tokenizer = lambda x: x.split(), binary='true')\ny_multilabel = vectorizer.fit_transform(train_set['Tags'])",
      "execution_count": null,
      "outputs": []
    },
    {
      "cell_type": "code",
      "metadata": {
        "tags": [],
        "cell_id": "00017-12701c9b-075e-4e9e-ab6d-6e5fbc28757b",
        "deepnote_to_be_reexecuted": false,
        "source_hash": "b8fd522c",
        "execution_millis": 10,
        "execution_start": 1614044562916,
        "deepnote_cell_type": "code"
      },
      "source": "vectorizer.get_feature_names()",
      "execution_count": null,
      "outputs": [
        {
          "output_type": "execute_result",
          "execution_count": 52,
          "data": {
            "text/plain": "['.a',\n '.bash-profile',\n '.class-file',\n '.each',\n '.emf',\n '.hgtags',\n '.htaccess',\n '.htpasswd',\n '.mov',\n '.net',\n '.net-1.1',\n '.net-2.0',\n '.net-3.5',\n '.net-4.0',\n '.net-4.5',\n '.net-assembly',\n '.net-cf-3.5',\n '.net-framework',\n '.net-install',\n '.net-micro-framework',\n '.net-remoting',\n '.net-security',\n '.net2.0',\n '.net3.5',\n '.net4.0',\n '.nettiers',\n '.obj',\n '.post',\n '.rdlc',\n '.refresh',\n '.sdf',\n '.war',\n '.wav',\n '.x',\n '1080p',\n '10gbethernet',\n '10gige',\n '16bit',\n '1and1',\n '2-legged',\n '2-tier',\n '2003',\n '2007',\n '2010',\n '2013',\n '24bit',\n '24hour',\n '2d',\n '2d-array',\n '2d-games',\n '2wire',\n '3-tier',\n '3.0',\n '3.0.1',\n '3.1',\n '301',\n '301-redirect',\n '32-bit',\n '32-vs-64-bit',\n '3270',\n '32bit',\n '32bit-64bit',\n '37-signals',\n '3750',\n '3d',\n '3d-engine',\n '3d-graphics',\n '3d-model',\n '3d-modelling',\n '3d-reconstruction',\n '3des',\n '3dmark',\n '3dsmax',\n '3g',\n '3gp',\n '3nf',\n '3rd-party-library',\n '3ware',\n '401',\n '403',\n '404',\n '404-error',\n '4d',\n '5.1',\n '500-error',\n '500-internal-error',\n '503-error',\n '504',\n '64-bit',\n '64bit',\n '6502',\n '6510',\n '68000',\n '7-zip',\n '70-667',\n '7bit',\n '7zip',\n '802.11',\n '802.11n',\n '802.1q',\n '8086',\n '8bit',\n '9-bit-serial',\n '960.gs',\n '9p',\n 'a-record',\n 'a-records',\n 'a-star',\n 'aaa-syntax',\n 'aabb',\n 'aac',\n 'aapt',\n 'aasm',\n 'abaddressbook',\n 'abap',\n 'abbreviation',\n 'abbyy',\n 'abc',\n 'abcpdf',\n 'abelian-categories',\n 'abelian-groups',\n 'aberration',\n 'abi',\n 'abort',\n 'abpersonviewcontroller',\n 'abrecord',\n 'abrecordref',\n 'absolute',\n 'absolute-path',\n 'absolute-positioning',\n 'absolute-value',\n 'abstract',\n 'abstract-algebra',\n 'abstract-class',\n 'abstract-data-type',\n 'abstract-syntax-tree',\n 'abstract-type',\n 'abstraction',\n 'abstracttablemodel',\n 'abtest',\n 'ac-adapter',\n 'ac3',\n 'acc',\n 'acceleo',\n 'accelerate-framework',\n 'accelerated-c++',\n 'acceleration',\n 'accelerator',\n 'accelerometer',\n 'accented-strings',\n 'accept',\n 'acceptance-testing',\n 'access',\n 'access-2007',\n 'access-control',\n 'access-denied',\n 'access-keys',\n 'access-list',\n 'access-log',\n 'access-modifiers',\n 'access-point',\n 'access-rights',\n 'access-specifier',\n 'access-token',\n 'access-vba',\n 'access-violation',\n 'accessibility',\n 'accessor',\n 'accessories',\n 'accessory',\n 'accessoryview',\n 'accordion',\n 'accordionpane',\n 'account',\n 'account-restrictions',\n 'accounting',\n 'accountmanager',\n 'accounts',\n 'accuracy',\n 'accurev',\n 'ace',\n 'acegi',\n 'acer-aspire',\n 'acer-aspire-one',\n 'acer-revo',\n 'achartengine',\n 'achemso',\n 'achievements',\n 'acid',\n 'ack',\n 'ackermann',\n 'acl',\n 'acm',\n 'acm-icpc',\n 'acoustics',\n 'acpi',\n 'acquisition',\n 'acrobat',\n 'acronis',\n 'acronis-trueimage',\n 'acronym',\n 'acronyms',\n 'acs',\n 'action',\n 'action-filter',\n 'actionbarsherlock',\n 'actionfilterattribute',\n 'actionform',\n 'actionlink',\n 'actionlistener',\n 'actionmailer',\n 'actionmethod',\n 'actionresult',\n 'actions',\n 'actionscript',\n 'actionscript-1',\n 'actionscript-2',\n 'actionscript-3',\n 'actionview',\n 'actionviewhelper',\n 'activation',\n 'activation-codes',\n 'active',\n 'active-directory',\n 'active-directory-explorer',\n 'active-directory-group',\n 'active-relation',\n 'active-users',\n 'activeadmin',\n 'activedirectorymembership',\n 'activemerchant',\n 'activemessaging',\n 'activemodel',\n 'activemq',\n 'activeperl',\n 'activerecord',\n 'activerelation',\n 'activereports',\n 'activeresource',\n 'activescaffold',\n 'activestate',\n 'activesupport',\n 'activesync',\n 'activeview',\n 'activex',\n 'activex-exe',\n 'activexobject',\n 'activiti',\n 'activity',\n 'activity-diagram',\n 'activity-feed',\n 'activity-finish',\n 'activity-indicator',\n 'activity-lifecycle',\n 'activity-monitor',\n 'activity-stack',\n 'activity-state',\n 'activitydesigner',\n 'activitygroup',\n 'actor',\n 'acts-as-list',\n 'acts-as-taggable-on',\n 'actuarial-science',\n 'ad-certificate-services',\n 'ad-hoc',\n 'ad-hoc-distribution',\n 'ad-hoc-network',\n 'ada',\n 'adam',\n 'adaptec',\n 'adapter',\n 'adb',\n 'adblock',\n 'adc',\n 'add',\n 'add-action',\n 'add-filter',\n 'add-image-size',\n 'add-in',\n 'add-meta-box',\n 'add-on',\n 'add-rewrite-rule',\n 'add-settings-field',\n 'add-settings-section',\n 'addchild',\n 'addclass',\n 'addeventlistener',\n 'adding',\n 'addition',\n 'additive-combinatorics',\n 'addon',\n 'addon-domain',\n 'addremoveprograms',\n 'address',\n 'address-bar',\n 'address-book',\n 'address-space',\n 'addressbook',\n 'addresses',\n 'addressing',\n 'addressof',\n 'addslashes',\n 'addsubview',\n 'addthis',\n 'adf',\n 'adf-faces',\n 'adfs',\n 'adfs2.0',\n 'adhoc',\n 'adhoc-network',\n 'adium',\n 'adjacency-list',\n 'adjacency-matrix',\n 'adjoint',\n 'adjustment',\n 'adk',\n 'admin',\n 'admin-bar',\n 'admin-generator',\n 'admin-menu',\n 'adminhtml',\n 'administration',\n 'administrator',\n 'admob',\n 'ado',\n 'ado-net-dataservices',\n 'ado.net',\n 'ado.net-entity-data-model',\n 'adobe',\n 'adobe-acrobat',\n 'adobe-air',\n 'adobe-contribute',\n 'adobe-cs4',\n 'adobe-cs5',\n 'adobe-dreamweaver',\n 'adobe-edge',\n 'adobe-fireworks',\n 'adobe-flash',\n 'adobe-flash-cs3',\n 'adobe-illustrator',\n 'adobe-indesign',\n 'adobe-lightroom',\n 'adobe-photoshop',\n 'adobe-reader',\n 'adodb',\n 'adolf-hitler',\n 'adomd.net',\n 'adorner',\n 'adp',\n 'adrotator',\n 'ads',\n 'adsense',\n 'adserver',\n 'adsi',\n 'adsl',\n 'adsl-router',\n 'adsl2+',\n 'adt',\n 'advanced-custom-fields',\n 'advanced-format',\n 'advanced-search',\n 'advanced-taxonomy-queries',\n 'advanceddatagrid',\n 'advancements',\n 'advantage-database-server',\n 'adventureworks',\n 'advertisement',\n 'advertisements',\n 'advertising',\n 'advice',\n 'advice-request',\n 'adware',\n 'adwhirl',\n 'adwords',\n 'aec',\n 'aero',\n 'aero-glass',\n 'aero-snap',\n 'aerofs',\n 'aes',\n 'aether',\n 'affiliate',\n 'affiliates',\n 'affiliation',\n 'affine-geometry',\n 'affinity',\n 'afnetworking',\n 'aforge',\n 'afp',\n 'africa',\n 'after-effects',\n 'agal',\n 'agda',\n 'agent',\n 'agents',\n 'agents-jade',\n 'aggregate',\n 'aggregate-functions',\n 'aggregateroot',\n 'aggregation',\n 'agile',\n 'agile-project-management',\n 'agpl',\n 'ahah',\n 'ahci',\n 'ai.artificial-intel',\n 'aide',\n 'aidl',\n 'aif',\n 'aio-write',\n 'air',\n 'air-conditioning',\n 'air-native-extension',\n 'airbrake',\n 'aironet',\n 'airplay',\n 'airport',\n 'airport-express',\n 'airport-extreme',\n 'airprint',\n 'airshows',\n 'aix',\n 'ajax',\n 'ajax-push',\n 'ajax-request',\n 'ajax-upload',\n 'ajax.beginform',\n 'ajax.net',\n 'ajax4jsf',\n 'ajaxcontroltoolkit',\n 'ajaxform',\n 'ajaxtoolkit',\n 'ajdt',\n 'ajp',\n 'akka',\n 'alarm',\n 'alarmmanager',\n 'alarms',\n 'alasset',\n 'alassetslibrary',\n 'albert-einstein',\n 'albpm',\n 'album-art',\n 'alcohol',\n 'aleph',\n 'alert',\n 'alertdialog',\n 'alerts',\n 'alertview',\n 'alex',\n 'alexa',\n 'alfred',\n 'alfresco',\n 'algebra',\n 'algebra-precalculus',\n 'algebraic-complexity',\n 'algebraic-curves',\n 'algebraic-geometry',\n 'algebraic-groups',\n 'algebraic-number-theory',\n 'algebraic-topology',\n 'alglib',\n 'algorithm',\n 'algorithm-analysis',\n 'algorithm2e',\n 'algorithmic-trading',\n 'algorithms',\n 'alias',\n 'aliasing',\n 'aliens',\n 'alienware',\n 'align',\n 'alignment',\n 'allegro',\n 'allegro5',\n 'allegrograph',\n 'allergies',\n 'alloca',\n 'allocation',\n 'allocator',\n 'alloy-ui',\n 'almond',\n 'alpha',\n 'alpha-beta-pruning',\n 'alpha-transparency',\n 'alphabet',\n 'alphabetical',\n 'alphabetized',\n 'alphablending',\n 'alphanumeric',\n 'alsa',\n 'alt',\n 'alt-tab',\n 'alter',\n 'alter-table',\n 'alternate',\n 'alternate-access-mapping',\n 'alternate-access-mappings',\n 'alternate-data-stream',\n 'alternative',\n 'alternative-medicine',\n 'alternative-proof',\n 'alternatives-to',\n 'altivec',\n 'altova',\n 'always-on-top',\n 'amarok',\n 'amateur',\n 'amavis',\n 'amazon',\n 'amazon-ami',\n 'amazon-appstore',\n 'amazon-beanstalk',\n 'amazon-cloudformation',\n 'amazon-cloudfront',\n 'amazon-cloudsearch',\n 'amazon-dynamodb',\n 'amazon-ebs',\n 'amazon-ec2',\n 'amazon-elastic-ip',\n 'amazon-elasticache',\n 'amazon-elb',\n 'amazon-emr',\n 'amazon-product-api',\n 'amazon-rds',\n 'amazon-route53',\n 'amazon-s3',\n 'amazon-ses',\n 'amazon-simpledb',\n 'amazon-sqs',\n 'amazon-vpc',\n 'amazon-web-services',\n 'ambiguity',\n 'ambiguous',\n 'amd',\n 'amd-catalyst',\n 'amd-radeon',\n 'amember',\n 'amend',\n 'amf',\n 'amfphp',\n 'ami',\n 'amiga',\n 'amortized-analysis',\n 'ampersand',\n 'ampl',\n 'amplifyjs',\n 'amqp',\n 'amsart',\n 'amsbook',\n 'amsmath',\n 'amsrefs',\n 'amsthm',\n 'anagram',\n 'analog',\n 'analysis',\n 'analysis-services',\n 'analytic-functions',\n 'analytic-geometry',\n 'analytic-number-theory',\n 'analytical',\n 'analyticity',\n 'analytics',\n 'analyzer',\n 'anatomy',\n 'ancestry',\n 'anchor',\n 'anchor-tags',\n 'and-operator',\n 'andengine',\n 'android',\n 'android-2.0',\n 'android-2.2',\n 'android-2.3',\n 'android-3.0',\n 'android-3.1',\n 'android-4.0',\n 'android-account',\n 'android-actionbar',\n 'android-activity',\n 'android-adapter',\n 'android-adapterview',\n 'android-alarms',\n 'android-alertdialog',\n 'android-animation',\n 'android-annotations',\n 'android-anr-dialog',\n 'android-api',\n 'android-apk',\n 'android-appwidget',\n 'android-arrayadapter',\n 'android-assets',\n 'android-asynctask',\n 'android-audiorecord',\n 'android-broadcast',\n 'android-browser',\n 'android-button',\n 'android-c2dm',\n 'android-calendar',\n 'android-camera',\n 'android-camera-intent',\n 'android-canvas',\n 'android-checkbox',\n 'android-compat-lib',\n 'android-compatibility',\n 'android-contacts',\n 'android-contentprovider',\n 'android-contentresolver',\n 'android-context',\n 'android-contextmenu',\n 'android-cursor',\n 'android-cursoradapter',\n 'android-custom-view',\n 'android-date',\n 'android-datepicker',\n 'android-dialog',\n 'android-dialogfragment',\n 'android-eclair',\n 'android-edittext',\n 'android-emulator',\n 'android-event',\n 'android-expansion-files',\n 'android-file',\n 'android-fragmentactivity',\n 'android-fragments',\n 'android-framework',\n 'android-froyo',\n 'android-gallery',\n 'android-gcm',\n 'android-gesture',\n 'android-gridlayout',\n 'android-gridview',\n 'android-gui',\n 'android-handler',\n 'android-hardware',\n 'android-holo-everywhere',\n 'android-image',\n 'android-images',\n 'android-imageview',\n 'android-input-method',\n 'android-install-apk',\n 'android-intent',\n 'android-internet',\n 'android-keypad',\n 'android-ksoap2',\n 'android-launcher',\n 'android-layout',\n 'android-lazyloading',\n 'android-library',\n 'android-lifecycle',\n 'android-linearlayout',\n 'android-lint',\n 'android-listfragment',\n 'android-listview',\n 'android-loader',\n 'android-loadermanager',\n 'android-location',\n 'android-logcat',\n 'android-lru-cache',\n 'android-lvl',\n 'android-manifest',\n 'android-maps',\n 'android-maps-v2',\n 'android-mapview',\n 'android-market',\n 'android-maven-plugin',\n 'android-mediaplayer',\n 'android-mediarecorder',\n 'android-mediascanner',\n 'android-memory',\n 'android-menu',\n 'android-monkey',\n 'android-music-player',\n 'android-ndk',\n 'android-ndk-r5',\n 'android-ndk-r7',\n 'android-networking',\n 'android-notification-bar',\n 'android-notifications',\n 'android-optionsmenu',\n 'android-orientation',\n 'android-overscoll',\n 'android-package-managers',\n 'android-pageradapter',\n 'android-parser',\n 'android-pendingintent',\n 'android-performance',\n 'android-permissions',\n 'android-preferences',\n 'android-progressbar',\n 'android-query',\n 'android-resolution',\n 'android-resources',\n 'android-screen',\n 'android-scrollbar',\n 'android-scrollview',\n 'android-sdcard',\n 'android-sdk-2.1',\n 'android-sdk-2.2',\n 'android-sdk-2.3',\n 'android-sdk-tools',\n 'android-searchmanager',\n 'android-sensors',\n 'android-service',\n 'android-sliding',\n 'android-softkeyboard',\n 'android-source',\n 'android-spinner',\n 'android-sqlite',\n 'android-studio',\n 'android-stylesheeets',\n 'android-support-library',\n 'android-syncadapter',\n 'android-tabactivity',\n 'android-tabhost',\n 'android-tablelayout',\n 'android-tablet',\n 'android-tabs',\n 'android-testing',\n 'android-textview',\n 'android-theme',\n 'android-traceview',\n 'android-ui',\n 'android-version',\n 'android-video-player',\n 'android-view',\n 'android-viewbinder',\n 'android-viewpager',\n 'android-wake-lock',\n 'android-websettings',\n 'android-webview',\n 'android-widget',\n 'android-wifi',\n 'android-windowmanager',\n 'android-wireless',\n 'android-xml',\n 'android-youtube-api',\n 'androidplot',\n 'andromda',\n 'angle',\n 'angles',\n 'angstrom',\n 'angstrom-linux',\n 'angular',\n 'angular-routing',\n 'angular-ui',\n 'angularjs',\n 'angularjs-directive',\n 'angularjs-ng-include',\n 'angularjs-scope',\n 'animals',\n 'animate',\n 'animated',\n 'animated-gif',\n 'animation',\n 'animationdrawable',\n 'ankhsvn',\n 'annotate',\n 'annotatedtimeline',\n 'annotation-processing',\n 'annotations',\n 'anonymity',\n 'anonymous',\n 'anonymous-authentication',\n 'anonymous-class',\n 'anonymous-function',\n 'anonymous-inner-class',\n 'anonymous-methods',\n 'anonymous-types',\n 'anonymous-users',\n 'anorm',\n 'anova',\n 'ansi',\n 'ansi-term',\n 'ant',\n 'antec',\n 'anti-aliasing',\n 'anti-glare',\n 'anti-hacking',\n 'anti-patterns',\n 'anti-spyware',\n 'anti-theft',\n 'anti-virus',\n 'antialiasing',\n 'antispam',\n 'antivirus',\n 'antivirus-integration',\n 'antlr',\n 'antlr2',\n 'antlr3',\n 'antlr4',\n 'antlrworks',\n 'any',\n 'anycast',\n 'anyconnect',\n 'anycpu',\n 'anymote',\n 'anythingslider',\n 'anytime-upgrade',\n 'aol',\n 'aop',\n 'ap',\n 'apa-style',\n 'apa6',\n 'apache',\n 'apache-axis',\n 'apache-camel',\n 'apache-commons',\n 'apache-commons-beanutils',\n 'apache-commons-cli',\n 'apache-commons-codec',\n 'apache-commons-collection',\n 'apache-commons-dbcp',\n 'apache-commons-exec',\n 'apache-commons-fileupload',\n 'apache-commons-httpclient',\n 'apache-commons-logging',\n 'apache-commons-math',\n 'apache-commons-net',\n 'apache-commons-vfs',\n 'apache-config',\n 'apache-ds',\n 'apache-felix',\n 'apache-fop',\n 'apache-httpclient-4.x',\n 'apache-karaf',\n 'apache-license',\n 'apache-mina',\n 'apache-modules',\n 'apache-poi',\n 'apache-shindig',\n 'apache-tiles',\n 'apache-tomee',\n 'apache-tuscany',\n 'apache1',\n 'apache2',\n 'apache2.2',\n 'apachebench',\n 'apacheds',\n 'apc',\n 'aperture',\n 'aperture-blades',\n 'apex-code',\n 'api',\n 'api-design',\n 'api-key',\n 'apimemberattribute',\n 'apk',\n 'apl',\n 'apn',\n 'apns',\n 'apostrophe',\n 'app',\n 'app-certification-kit',\n 'app-code',\n 'app-config',\n 'app-engine-ndb',\n 'app-engine-patch',\n 'app-hub',\n 'app-id',\n 'app-launcher',\n 'app-secret',\n 'app-startup',\n 'app-store',\n 'app-themes',\n 'app-v',\n 'appbar',\n 'appcelerator',\n 'appcelerator-mobile',\n 'appcmd',\n 'appcode',\n 'appcompat',\n 'appdata',\n 'appdelegate',\n 'appdomain',\n 'appearance',\n 'append',\n 'appendchild',\n 'appender',\n 'appendices',\n 'appendto',\n 'appfabric',\n 'appfabric-caching',\n 'appfog',\n 'appfuse',\n 'appharbor',\n 'appkit',\n 'applaud',\n 'apple',\n 'apple-aperture',\n 'apple-expose',\n 'apple-ios',\n 'apple-mail',\n 'apple-maps',\n 'apple-push-notifications',\n 'apple-touch-icon',\n 'appledoc',\n 'applescript',\n 'applescript-objc',\n 'applet',\n 'appliance',\n 'application',\n 'application-bar',\n 'application-blocks',\n 'application-cache',\n 'application-close',\n 'application-design',\n 'application-icon',\n 'application-loader',\n 'application-name',\n 'application-packaging',\n 'application-pages',\n 'application-pool',\n 'application-pools',\n 'application-restart',\n 'application-server',\n 'application-settings',\n 'application-state',\n 'application.cfc',\n 'applicationcontext',\n 'applicationpoolidentity',\n 'applications',\n 'applicationsettings',\n 'apply',\n 'apply-visitor',\n 'appmobi',\n 'apprequests',\n 'approval',\n 'approval-process',\n 'approximation',\n 'approximation-algorithms',\n 'approximation-hardness',\n 'approximation-theory',\n 'apps',\n 'appscript',\n 'appsettings',\n 'appstats',\n 'appstore-approval',\n 'appstore-approval-process',\n 'appwidget',\n 'appwidgetprovider',\n 'apr',\n 'apt',\n 'apt-get',\n 'aptana',\n 'aptana3',\n 'aptitude',\n 'aqgridview',\n 'aquamacs',\n 'arabic',\n 'arangodb',\n 'arc',\n 'arcgis',\n 'arch-linux',\n 'archeology',\n 'archetypes',\n 'architectural-patterns',\n 'architecture',\n 'archiva',\n 'archive',\n 'archives',\n 'archiving',\n 'archlinux',\n 'arcpy',\n 'arduino',\n 'arduino-ide',\n 'area',\n 'areas',\n 'arel',\n 'arff',\n 'arg',\n 'argb',\n 'argotic',\n 'argparse',\n 'args',\n 'argument-passing',\n 'argumentexception',\n 'arguments',\n 'argv',\n 'arithmetic',\n 'arithmetic-functions',\n 'arithmetic-geometry',\n 'arity',\n 'arm',\n 'arm7',\n 'armv6',\n 'armv7',\n 'arp',\n 'arp-scan',\n 'arr',\n 'arrangeoverride',\n 'array',\n 'array-filter',\n 'array-formulas',\n 'array-initialization',\n 'array-key',\n 'array-merge',\n 'array-slice',\n 'array-sorting',\n 'arraybuffer',\n ...]"
          },
          "metadata": {}
        }
      ]
    },
    {
      "cell_type": "code",
      "metadata": {
        "tags": [],
        "cell_id": "00017-fd7880c3-1e07-414a-9a56-1155cb9f0bc5",
        "deepnote_to_be_reexecuted": false,
        "source_hash": "277d735f",
        "execution_millis": 15,
        "execution_start": 1614044500135,
        "deepnote_cell_type": "code"
      },
      "source": "train_set['Tags']",
      "execution_count": null,
      "outputs": [
        {
          "output_type": "execute_result",
          "execution_count": 49,
          "data": {
            "text/plain": "0        php image-processing file-upload upload mime-t...\n1                                                  firefox\n2                                r matlab machine-learning\n3                                          c# url encoding\n4                                php api file-get-contents\n                               ...                        \n99995          photoshop extendscript jsx photoshop-script\n99996        silverlight debugging internet-explorer crash\n99997                                  errors rss encoding\n99998                                        facebook like\n99999             serialization asp.net-web-api iqueryable\nName: Tags, Length: 100000, dtype: object"
          },
          "metadata": {}
        }
      ]
    },
    {
      "cell_type": "code",
      "metadata": {
        "tags": [],
        "cell_id": "00017-e9c813cd-926c-4f62-9ff3-bf3524255771",
        "deepnote_to_be_reexecuted": false,
        "source_hash": "651e7bed",
        "execution_millis": 20,
        "execution_start": 1614044398151,
        "deepnote_cell_type": "code"
      },
      "source": "y_multilabel.shape",
      "execution_count": null,
      "outputs": [
        {
          "output_type": "execute_result",
          "execution_count": 47,
          "data": {
            "text/plain": "(100000, 18487)"
          },
          "metadata": {}
        }
      ]
    },
    {
      "cell_type": "code",
      "metadata": {
        "tags": [],
        "cell_id": "00016-b2cc7005-1861-4025-8b76-8ff6e0f55379",
        "deepnote_to_be_reexecuted": false,
        "source_hash": "c7c17359",
        "execution_start": 1614044575425,
        "execution_millis": 1,
        "deepnote_cell_type": "code"
      },
      "source": "def tags_to_consider(n):\n    tag_i_sum = y_multilabel.sum(axis=0).tolist()[0]\n    sorted_tags_i = sorted(range(len(tag_i_sum)), key=lambda i: tag_i_sum[i], reverse=True)\n    yn_multilabel=y_multilabel[:,sorted_tags_i[:n]]\n    return yn_multilabel\n\ndef questions_covered_fn(numb):\n    yn_multilabel = tags_to_consider(numb)\n    x= yn_multilabel.sum(axis=1)\n    return (np.count_nonzero(x==0))",
      "execution_count": null,
      "outputs": []
    },
    {
      "cell_type": "code",
      "metadata": {
        "tags": [],
        "cell_id": "00018-02fb0842-7311-42ed-93ad-88b6af6d8a42",
        "deepnote_cell_type": "code"
      },
      "source": "questions_covered = []\ntotal_tags = y_multilabel.shape[1]\ntotal_qus  = preprocessed_df.shape[0]\nfor i in range(100, total_tags, 100):\n    questions_covered.append(np.round(((total_qus-questions_covered_fn(i))/total_qus)*100,3))",
      "execution_count": null,
      "outputs": []
    },
    {
      "cell_type": "markdown",
      "source": "<a style='text-decoration:none;line-height:16px;display:flex;color:#5B5B62;padding:10px;justify-content:end;' href='https://deepnote.com?utm_source=created-in-deepnote-cell&projectId=902703f2-430f-48f3-ba3f-6c2fee66cf11' target=\"_blank\">\n<img style='display:inline;max-height:16px;margin:0px;margin-right:7.5px;' src='data:image/svg+xml;base64,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' > </img>\nCreated in <span style='font-weight:600;margin-left:4px;'>Deepnote</span></a>",
      "metadata": {
        "tags": [],
        "created_in_deepnote_cell": true,
        "deepnote_cell_type": "markdown"
      }
    }
  ],
  "nbformat": 4,
  "nbformat_minor": 2,
  "metadata": {
    "orig_nbformat": 2,
    "deepnote_notebook_id": "5d174659-2e9e-4d11-a340-44bc73c30c0b",
    "deepnote": {},
    "deepnote_execution_queue": []
  }
}