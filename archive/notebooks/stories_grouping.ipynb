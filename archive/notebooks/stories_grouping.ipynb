{
  "cells": [
    {
      "cell_type": "markdown",
      "source": "",
      "metadata": {
        "tags": [],
        "cell_id": "00000-950c9aed-0790-4545-9e6a-410ee3b5928e",
        "deepnote_cell_type": "text-cell-p"
      }
    },
    {
      "cell_type": "markdown",
      "source": "An event has a set of keywords C_e\n\nFor a existing story tree S, there is a set of different C_s that is a union of all the keywords of the events inside\n\nTo know if an event is in that Story, we use compatibility between event E and story tree S with Jaccard similarity between C_s and C_e.\n\nIf we match to no stories, we create a new one\n\nWhen we find a story that match, we apply either: Merge, Extend, Insert\n\nMerge: Merge event in the story tree (merge the event with another event) (we will never have this use this)\nExtend: append the event as a child node\nInsert: appends the event to the root node of story tree\n\nWe extend or insert if there is no overlap of event, we find the parent event node, and measure the 'connection strength' between the new event and all the events in the story tree.  'Connection strength' is defined in page page 14 of paper.",
      "metadata": {
        "tags": [],
        "cell_id": "00001-10c6ed59-d0df-4134-9b30-ec9849d6dbed",
        "deepnote_cell_type": "markdown"
      }
    },
    {
      "cell_type": "code",
      "source": "!pip install nltk",
      "metadata": {
        "tags": [],
        "cell_id": "00002-c944fa9c-882a-443b-8928-c037eaefe918",
        "deepnote_to_be_reexecuted": false,
        "source_hash": "96307baf",
        "execution_millis": 3062,
        "execution_start": 1619472872570,
        "deepnote_cell_type": "code"
      },
      "outputs": [
        {
          "name": "stdout",
          "text": "Requirement already satisfied: nltk in /shared-libs/python3.7/py/lib/python3.7/site-packages (3.6.1)\nRequirement already satisfied: regex in /shared-libs/python3.7/py/lib/python3.7/site-packages (from nltk) (2021.4.4)\nRequirement already satisfied: joblib in /shared-libs/python3.7/py/lib/python3.7/site-packages (from nltk) (1.0.1)\nRequirement already satisfied: click in /shared-libs/python3.7/py/lib/python3.7/site-packages (from nltk) (7.1.2)\nRequirement already satisfied: tqdm in /shared-libs/python3.7/py/lib/python3.7/site-packages (from nltk) (4.60.0)\n\u001b[33mWARNING: You are using pip version 21.0.1; however, version 21.1 is available.\nYou should consider upgrading via the '/root/venv/bin/python -m pip install --upgrade pip' command.\u001b[0m\n",
          "output_type": "stream"
        }
      ],
      "execution_count": 1
    },
    {
      "cell_type": "code",
      "metadata": {
        "tags": [],
        "cell_id": "00002-e60b3060-c35e-4355-9146-a79e50cab1eb",
        "deepnote_to_be_reexecuted": false,
        "source_hash": "57ef8ff5",
        "execution_millis": 0,
        "execution_start": 1619472908108,
        "deepnote_cell_type": "code"
      },
      "source": "import pandas as pd\nimport pickle\nimport numpy as np\nimport nltk",
      "execution_count": 7,
      "outputs": []
    },
    {
      "cell_type": "code",
      "metadata": {
        "tags": [],
        "cell_id": "00002-fd50c143-a1f4-4736-a1d1-93764d3c576b",
        "deepnote_to_be_reexecuted": false,
        "source_hash": "bb23aed5",
        "execution_millis": 45,
        "execution_start": 1619472886980,
        "deepnote_cell_type": "code"
      },
      "source": "#news_dataset = pd.read_pickle(\"/work/IFT6010_Story_Tree/data/short_news_dataset_2_with_extractedkeyword.pickle\").drop_duplicates(subset=['TEXT']).drop_duplicates(subset=['TITLE'])\n#news_dataset = pd.read_pickle(\"/work/IFT6010_Story_Tree/data/news_with_extracted_keywords.pkl\")",
      "execution_count": 3,
      "outputs": []
    },
    {
      "cell_type": "markdown",
      "source": "#### Get the communities ",
      "metadata": {
        "tags": [],
        "cell_id": "00005-c22ff8a9-8061-4727-be37-2f91c542aee6",
        "deepnote_cell_type": "markdown"
      }
    },
    {
      "cell_type": "code",
      "metadata": {
        "tags": [],
        "cell_id": "00003-ddf232aa-12ba-4c9a-8dad-76b175746834",
        "deepnote_to_be_reexecuted": false,
        "source_hash": "e8162af2",
        "execution_millis": 3,
        "execution_start": 1619472888535,
        "deepnote_cell_type": "code"
      },
      "source": "temp_defaultdict_communities = pickle.load(open(\"../data/extracted_communities_newset.pickle\",'rb'))\ndict_communities = {}\nfor i,v in temp_defaultdict_communities.items():\n    if len(v)==1:\n        dict_communities[i] = v[0]\n\nkeywords_clusters = pd.DataFrame(dict_communities.items())\nkeywords_clusters.columns = ['keyword', 'cluster']",
      "execution_count": 4,
      "outputs": []
    },
    {
      "cell_type": "markdown",
      "source": "# Get data",
      "metadata": {
        "tags": [],
        "cell_id": "00008-79d61133-e7dd-4ba2-ba5f-0725288e2e77",
        "deepnote_cell_type": "markdown"
      }
    },
    {
      "cell_type": "code",
      "source": "import sys\nsys.path.insert(1, '/work/IFT6010_Story_Tree/src/features/')",
      "metadata": {
        "tags": [],
        "cell_id": "00009-cd8a9122-f5d5-4110-92a9-597443a13356",
        "deepnote_cell_type": "code"
      },
      "outputs": [],
      "execution_count": null
    },
    {
      "cell_type": "code",
      "source": "#from utils_cosine_tf_idf import latest_tfidf, preprocessing\n\n#news_dataset['text_and_title'] = news_dataset[['content','title']].apply(lambda x :\" \".join(x), axis=1)\n#news_dataset['preprocessed_text'] = news_dataset['text_and_title'].apply(preprocessing)\n\n\n#corpus = news_dataset['preprocessed_text']\n#corpus = corpus.to_list()\n\n#news_dataset['vector'] = news_dataset['preprocessed_text'].apply(latest_tfidf, allDocs=corpus)\n\n#news_dataset.to_pickle(\"news_with_extracted_keywords_and_vectors.pkl\")",
      "metadata": {
        "tags": [],
        "cell_id": "00010-7e7a4056-ce1a-463f-8d79-44858084854a",
        "deepnote_cell_type": "code"
      },
      "outputs": [],
      "execution_count": null
    },
    {
      "cell_type": "code",
      "source": "news_dataset = pd.read_pickle(\"../data/news_with_extracted_keywords_and_vectors.pkl\")\nnews_dataset_pt2 = pd.read_pickle(\"../data/25k_27k_news_with_extracted_keywords.pkl\")\ndsk_dataset = pd.read_pickle(\"../data/news_dsk_with_extracted_keywords_5000_25april.pkl\").drop_duplicates([\"text\"]).drop_duplicates([\"title\"]).sample(n=1000)",
      "metadata": {
        "tags": [],
        "cell_id": "00011-3364b443-cee7-4b3c-b7c4-3fff99309b72",
        "deepnote_to_be_reexecuted": false,
        "source_hash": "7ebdad8c",
        "execution_millis": 1426,
        "execution_start": 1619486439754,
        "deepnote_cell_type": "code"
      },
      "outputs": [],
      "execution_count": 116
    },
    {
      "cell_type": "code",
      "source": "dsk_dataset = dsk_dataset.rename(columns={'text': 'content'})\n\ndel news_dataset['publication']\ndel news_dataset['author']\ndel news_dataset['vector']\n\ndel dsk_dataset['summary']\n\ndel news_dataset_pt2['publication']\ndel news_dataset_pt2['author']\ndel news_dataset_pt2['year']\ndel news_dataset_pt2['month']\n\nframes = [dsk_dataset, news_dataset_pt2, news_dataset]\n\ntotal_news_dataset = pd.concat(frames)",
      "metadata": {
        "tags": [],
        "cell_id": "00013-392ad870-b5bf-43a3-b5ee-bdce0f576369",
        "deepnote_to_be_reexecuted": false,
        "source_hash": "a821ddb5",
        "execution_start": 1619486441239,
        "execution_millis": 11,
        "deepnote_cell_type": "code"
      },
      "outputs": [],
      "execution_count": 117
    },
    {
      "cell_type": "markdown",
      "source": "# Define if event in the story",
      "metadata": {
        "tags": [],
        "cell_id": "00007-687b6d81-b382-41e3-a870-463d395e55f4",
        "deepnote_cell_type": "markdown"
      }
    },
    {
      "cell_type": "code",
      "metadata": {
        "tags": [],
        "cell_id": "00007-173f979b-4154-4033-96f6-f93c3404faa6",
        "deepnote_to_be_reexecuted": false,
        "source_hash": "f5b47796",
        "execution_millis": 34,
        "execution_start": 1619472910501,
        "deepnote_cell_type": "code"
      },
      "source": "from nltk.corpus import stopwords\nnltk.download('stopwords')",
      "execution_count": 8,
      "outputs": [
        {
          "name": "stderr",
          "text": "[nltk_data] Downloading package stopwords to /root/nltk_data...\n[nltk_data]   Unzipping corpora/stopwords.zip.\n",
          "output_type": "stream"
        },
        {
          "output_type": "execute_result",
          "execution_count": 8,
          "data": {
            "text/plain": "True"
          },
          "metadata": {}
        }
      ]
    },
    {
      "cell_type": "code",
      "metadata": {
        "tags": [],
        "cell_id": "00008-b96a31af-c686-49a7-91c8-3c4f715a8aa5",
        "deepnote_to_be_reexecuted": false,
        "source_hash": "ede744ab",
        "execution_millis": 0,
        "execution_start": 1619475934407,
        "deepnote_cell_type": "code"
      },
      "source": "def jaccard_similarity(keyword_list_1, keyword_list_2):\n    list1_as_set = set(keyword_list_1)\n    \n    intersection = list1_as_set.intersection(keyword_list_2) \n\n    set_union = set(keyword_list_1 + keyword_list_2)\n\n    return len(intersection) / len(set_union)",
      "execution_count": 50,
      "outputs": []
    },
    {
      "cell_type": "code",
      "metadata": {
        "tags": [],
        "cell_id": "00008-ff37e0a5-2e15-4692-af6d-3c05b669455f",
        "deepnote_to_be_reexecuted": false,
        "source_hash": "fe1545ee",
        "execution_millis": 0,
        "execution_start": 1619476169469,
        "deepnote_cell_type": "code"
      },
      "source": "def count_similar_word_in_title(title1, title2):\n\n    title1.replace(' - The New York Times','')\n    title2.replace(' - The New York Times','')\n\n    title1_low = title1.lower()\n    title2_low = title2.lower()\n\n    title1_list = title1_low.split(\" \")\n    title2_list = title2_low.split(\" \")\n\n    stop_words = stopwords.words('english')\n\n    title1_tokens = [ token for token in title1_list if token not in stop_words]\n    title2_tokens = [ token for token in title2_list if token not in stop_words]\n    \n    return len(list(set(title1_tokens)&set(title2_tokens)))",
      "execution_count": 60,
      "outputs": []
    },
    {
      "cell_type": "code",
      "source": "# Needs to be true with at least 1 event in the story\n# event_keyword: keywords of the event\n# event_title: title of the event\n# story: Story object\ndef is_event_in_story(event_keyword, event_title, story):\n    similarity = jaccard_similarity(event_keyword, story.get_list_of_keywords())\n\n    one_event_common_title = False\n\n    for event_of_story in story.get_list_of_events():\n        common_words_title = count_similar_word_in_title(event_title, event_of_story.get_title())\n        if common_words_title >= 1 and not common_words_title>4:\n            one_event_common_title = True\n            break\n\n    if  similarity > 0.24 and one_event_common_title:\n        return True\n    \n    return False",
      "metadata": {
        "tags": [],
        "cell_id": "00012-311bd4cb-e625-4f5d-9462-2e20794aba73",
        "deepnote_to_be_reexecuted": false,
        "source_hash": "4abefb1f",
        "execution_millis": 1,
        "execution_start": 1619489546558,
        "deepnote_cell_type": "code"
      },
      "outputs": [],
      "execution_count": 127
    },
    {
      "cell_type": "markdown",
      "source": "### Extend and insert event in story",
      "metadata": {
        "tags": [],
        "cell_id": "00010-cf58bf4e-09ee-46d5-93cb-3ece7b766af4",
        "deepnote_cell_type": "markdown"
      }
    },
    {
      "cell_type": "markdown",
      "source": "Measure connection strength between our event X, and all the events X_s of a story. We look at:\n\n1) The time distance between both events\n\n2) The compatibility of the two events\n\n3) The storyline coherence if we append event X to story tree of X_s\n\nconnection_strength(X,X_s) = compatibility()+coherence()+time_penalty",
      "metadata": {
        "tags": [],
        "cell_id": "00011-cab48f6f-401f-49e2-a4e9-1a9a0c86786b",
        "deepnote_cell_type": "markdown"
      }
    },
    {
      "cell_type": "code",
      "metadata": {
        "tags": [],
        "cell_id": "00013-4a679be5-4a1b-49cd-ab7c-355df0fefe5f",
        "deepnote_to_be_reexecuted": false,
        "source_hash": "bb5fe517",
        "execution_millis": 2,
        "execution_start": 1619486501550,
        "deepnote_cell_type": "code"
      },
      "source": "def compatiblity(tf_new_event, tf_event_story):\n\n    #tf_new_event = np.array(tf_new_event)\n    #tf_event_story = np.array(tf_event_story)\n\n    if len(tf_new_event) < len(tf_event_story):\n        temp = tf_new_event\n        vector_a = tf_event_story\n        vector_b = temp\n    else:\n        vector_a = tf_new_event\n        vector_b = tf_event_story\n\n    list_1={}\n    list_2={}\n\n    for elem in vector_a:\n        if elem in vector_b:\n            list_1[elem] = vector_a[elem]\n            list_2[elem] = vector_b[elem]\n        else:\n            list_1[elem] = vector_a[elem]\n            list_2[elem] = 0\n\n    for elem in vector_b:\n        if not elem in list_1:\n            list_1[elem] = 0 \n            list_2[elem] = vector_b[elem]\n\n    # turn dictionary to numpy array\n    list_1_vector = np.fromiter(list_1.values(), dtype=float)\n    list_2_vector = np.fromiter(list_2.values(), dtype=float)\n\n    prod = np.dot(list_1_vector, list_2_vector)\n\n    \n    return prod / np.linalg.norm(list_1_vector) * np.linalg.norm(list_2_vector)",
      "execution_count": 121,
      "outputs": []
    },
    {
      "cell_type": "code",
      "metadata": {
        "tags": [],
        "cell_id": "00021-6e0e6140-c465-474e-8298-2faae86a8202",
        "deepnote_to_be_reexecuted": false,
        "source_hash": "86441a39",
        "execution_millis": 0,
        "execution_start": 1619473038295,
        "deepnote_cell_type": "code"
      },
      "source": "def conherence():\n    event1 = news_dataset['VECTOR'].iloc[2]\n\n    sum_ = 0\n    \n    for event in stories:\n        event2 = news_dataset['VECTOR'].iloc[3]\n\n        sum_ += compatiblity(event1, event2)\n\n    return sum_/len(stories)",
      "execution_count": 17,
      "outputs": []
    },
    {
      "cell_type": "code",
      "metadata": {
        "tags": [],
        "cell_id": "00019-acd8e8a5-3f1c-4ad3-b5ba-4424042a1244",
        "deepnote_to_be_reexecuted": false,
        "source_hash": "136e14f8",
        "execution_millis": 2,
        "execution_start": 1619473041131,
        "deepnote_cell_type": "code"
      },
      "source": "def time_penalty(delta, time1, time2):\n    if time1 < time2:\n        return math.exp(delta)\n    \n    return 0",
      "execution_count": 18,
      "outputs": []
    },
    {
      "cell_type": "markdown",
      "source": "# Create stories",
      "metadata": {
        "tags": [],
        "cell_id": "00018-e6cbeb75-ef52-444b-b13c-ef205a424a8c",
        "deepnote_cell_type": "markdown"
      }
    },
    {
      "cell_type": "markdown",
      "source": "### Update the related story tree",
      "metadata": {
        "tags": [],
        "cell_id": "00023-f344cf62-5d12-49b4-ab55-d26a588d6dea",
        "deepnote_cell_type": "markdown"
      }
    },
    {
      "cell_type": "markdown",
      "source": "We calculate the connection strength between the new event E and each existing event Ej ∈ S based on the following three factors: \n\n(1) the time distance between E and Ej\n\n(2) the compatibility of the two events\n\n(3) the storyline coherence if E is appended to Ej in the tree",
      "metadata": {
        "tags": [],
        "cell_id": "00024-5f57ace8-e703-41b5-b194-0e08d38c8ae4",
        "deepnote_cell_type": "markdown"
      }
    },
    {
      "cell_type": "code",
      "metadata": {
        "tags": [],
        "cell_id": "00024-709b7079-05eb-4691-b774-0a839674c789",
        "deepnote_to_be_reexecuted": false,
        "source_hash": "6772c86f",
        "execution_millis": 1,
        "execution_start": 1619486504559,
        "deepnote_cell_type": "code"
      },
      "source": "class Event:\n    def __init__(self, title, content, keywords, date, vector):\n        self.title = title\n        self.content = content\n        self.keywords = keywords\n        self.date = date\n        self.vector = vector\n\n    def get_title(self):\n        return self.title\n    \n    def get_content(self):\n        return self.content\n\n    def get_keywords(self):\n        return self.keywords\n\n    def get_vector(self):\n        return self.vector\n\nclass Story:\n    def __init__(self, event):\n        self.list_of_events = [event]\n        self.list_keywords = event.get_keywords()\n\n    def add_event(self, new_event):\n        self.list_of_events.append(new_event)\n        # A story keywords, is the union of all keywords\n        self.list_keywords.extend(new_event.get_keywords())\n\n    def get_list_of_keywords(self):\n        return self.list_keywords\n\n    def get_list_of_events(self):\n        return self.list_of_events",
      "execution_count": 122,
      "outputs": []
    },
    {
      "cell_type": "code",
      "metadata": {
        "tags": [],
        "cell_id": "00027-3f5c67bf-cdbe-4903-a453-89fee8faa892",
        "deepnote_to_be_reexecuted": false,
        "source_hash": "efd22832",
        "execution_millis": 1411481,
        "execution_start": 1619486539661,
        "deepnote_cell_type": "code"
      },
      "source": "news_dataset = total_news_dataset\n\nlist_of_stories = []\n\n# Go through events to add to stories \nfor i in range(len(news_dataset)):\n    \n    if i%100 == 0:\n        print(i)\n\n    row = news_dataset.iloc[i]\n    title    = row[\"title\"]\n    content  = row[\"content\"]\n    keywords = row[\"extracted_keywords\"]\n    date     = row[\"date\"]\n    #vector   = row[\"vector\"]\n    vector   = [0,0,0]\n\n    new_event = Event(title, content, keywords, date, vector)\n\n    # We create the first story\n    if i==0:\n        list_of_stories.append(Story(new_event))\n\n    # Do we add the event to an existing story, or create a new one ?\n    else:\n\n        found_a_story_for_event = False\n\n        # Iterate through the story to associate an event to a story\n        for story in list_of_stories:\n            # if the event is the story, we append it to the story\n            if is_event_in_story(keywords, title, story):\n                found_a_story_for_event = True\n                story.add_event(new_event)\n\n        # If we found no story to associate the event, we create a new story\n        if not found_a_story_for_event:\n            list_of_stories.append(Story(new_event))",
      "execution_count": 124,
      "outputs": [
        {
          "name": "stdout",
          "text": "0\n100\n200\n300\n400\n500\n600\n700\n800\n900\n1000\n1100\n1200\n1300\n1400\n1500\n1600\n1700\n1800\n1900\n2000\n2100\n2200\n2300\n2400\n2500\n2600\n2700\n2800\n2900\n3000\n3100\n3200\n3300\n3400\n3500\n3600\n3700\n3800\n3900\n",
          "output_type": "stream"
        }
      ]
    },
    {
      "cell_type": "code",
      "source": "len(list_of_stories)",
      "metadata": {
        "tags": [],
        "cell_id": "00030-abd1ddf6-d4d8-42d3-a6fb-5167474ec38c",
        "deepnote_to_be_reexecuted": false,
        "source_hash": "5d725104",
        "execution_millis": 13,
        "execution_start": 1619488085353,
        "deepnote_cell_type": "code"
      },
      "outputs": [
        {
          "output_type": "execute_result",
          "execution_count": 125,
          "data": {
            "text/plain": "3782"
          },
          "metadata": {}
        }
      ],
      "execution_count": 125
    },
    {
      "cell_type": "code",
      "source": "for story in list_of_stories:\n    events = story.get_list_of_events()\n    if(len(events) > 2)\n        for event in events:\n            print(event.get_title())\n        print(\"=======================================\")",
      "metadata": {
        "tags": [],
        "cell_id": "00031-1ed59b43-9cb2-4ff9-8e2c-eadd5e4be8fe",
        "deepnote_to_be_reexecuted": false,
        "source_hash": "599a58df",
        "execution_millis": 27,
        "execution_start": 1619488088731,
        "deepnote_cell_type": "code"
      },
      "outputs": [
        {
          "name": "stdout",
          "text": "DSK Granted Bail But Indicted, Subjected To House Arrest\nJudge grants Strauss-Kahn bail\nEx-IMF leader to be released on $1m bail\nEx-IMF chief gets NZ$1.26m bail in sex assault case\nEx-IMF chief gets $1m bail, house arrest in sex assault\nFormer IMF chief gets bail set at $1 million but remains under house arrest\nStrauss-Kahn puts up $1M, released on bail\nStrauss-Kahn gets bail in sex assault case\n=======================================\nRobinson: Powerful with privileges belong in an age of dinosaurs\nEugene Robinson: IMF chief from dinosaur age\nRobinson: IMF's Mr. Big takes a N.Y. 'perp walk'\nROBINSON: Perp walk not the way to persuade French voters\nThere's no coming back from the perp walk\n=======================================\nStrauss-Kahn house arrest draws media, tourists Posted: 22 May 2011 0158 hrs\nStrauss-Kahn plots defense in house arrest\nStrauss-Kahn house arrest draws media, tourists\n=======================================\nStrauss-Kahn is released from NYC jail - Forbes.com\nStrauss-Kahn's NYC apartment new tourist hot spot - Forbes.com\nStrauss-Kahn apartment is new tourist attraction\nEx-IMF chief Strauss-Kahn's NYC apartment becomes new tourist hot spot\nIMF ex-leader released on bail in N.Y.C.\nDominique Strauss-Kahn's NYC apartment New Tourist Hot Spot\nStrauss-Kahn's NYC apartment new tourist hot spot\n=======================================\nKTRV Fox 12 Dervis' withdrawal raises Lagarde's IMF prospects\nDervis' withdrawal raises Lagarde's IMF prospects\nDervis’ withdrawal raises Lagarde’s IMF prospects\n=======================================\nStrauss-Kahn: Carpet Removed From Room May Show That Maid Spit After Alleged Forced Oral Sex\nNew Theory: Dominique Strauss-Kahn Thought The Maid Was A Call Girl\nStrauss-Kahn Can't Find An Apartment So His Security Guard Is Putting Him Up\nFRENCH TV REPORT: Dominique Strauss Kahn On Suicide Watch\n=======================================\nMugshot of the world's top banker: New image of IMF boss taken after he was dragged off Air France flight to face hotel rape charge\nAlleged attack by IMF chief ‘destroyed her life,’ maid’s lawyer says\nNYC maid's lawyer: Assault complaint vs. IMF chief wasn't a setup, attack ruined her life\nIMF head on suicide watch in New York City jail - Forbes.com\n=======================================\nDNA links ex-IMF leader to maid\nDNA found on hotel maid's shirt matches ex-IMF leader: sources\nEx-IMF chief under house arrest at $50,000-a-month townhouse\nDNA evidence said to link ex-IMF leader to NY maid\nAP sources: DNA found on NYC hotel maid's shirt from alleged sex attack matches ex-IMF leader\n=======================================\nEurope defends traditional claim to IMF&#39;s top job\nEurope moves to protect claim to IMF top job\nEurope Moves to Protect Claim to IMF Top Job\n=======================================\nNY Police Look for DNA in Hotel Carpet in IMF Case\nFormer IMF chief Strauss-Kahn granted bail on home detention\nIMF chief resigns, will make new bid for bail - Forbes.com\nNYPD Look for DNA Evidence in IMF Case\nIMF leader at NYC court to make new bid for bail - Forbes.com\nBeleaguered former IMF chief to make new bid for bail\nNY police look for DNA in hotel carpet in IMF case - Forbes.com\n=======================================\nIMF job should be open to non-Europeans: OECD head\nMexico to propose central banker Carstens to head IMF\nText - IMF statement on Dominique Strauss-Kahn's resignation\nLagarde good for IMF but many rivals: minister\nEmerging nations should have say on IMF head: China adviser\nIndia finmin: in touch with other finmins to select IMF chief\nIMF says Strauss-Kahn resigns as managing director\n=======================================\nEx-IMF Leader Remains In Pricey, Temporary NY Digs\nDominique Strauss-Kahn Remains In Pricey, Temporary NY Apartment\nEx-IMF Leader Remains in Pricey, Temporary NY Digs\nFormer IMF leader remains in pricey, temporary high rise\n=======================================\nStrauss-Kahn faces costly house arrest\nLatest pictures of former IMF Chief Strauss-Kahn in prison [PHOTOS]\nFormer IMF chief Strauss-Kahn granted bail on home detention\nIMF chief resigns, will make new bid for bail - Forbes.com\nIMF leader at NYC court to make new bid for bail - Forbes.com\nBeleaguered former IMF chief to make new bid for bail\nNY police look for DNA in hotel carpet in IMF case - Forbes.com\n=======================================\nStrauss-Kahn's IMF future hinges on bail hearing - Forbes.com\nStrauss-Kahn's IMF future hinges on bail hearing\n<em>Strauss-Kahn&#39;s</em> IMF future hinges on bail hearing\nEurope demands next IMF chief comes from EU\nEurope moves to protect claim to IMF top job\nFight to succeed IMF head Strauss-Kahn may pit Europe against developing nations\nEurope Moves to Protect Claim to IMF Top Job\n=======================================\nReuters World News Highlights at 1045 GMT, May 17\nReuters World News Highlights at 1800 GMT, May 17\nReuters World News Highlights at 1330 GMT, May 17\n=======================================\nJailed IMF chief faces pressure to quit\nPressure grows for IMF head to quit\nEmerging economies flex muscle in IMF battle\n=======================================\nEx-IMF chief's sperm found on maid's shirt\nIMF chief's sperm 'found'\nStrauss Kahn DNA found on maid's clothes\nStrauss-Kahn DNA on maid's clothes\n=======================================\nBangkok Post : IMF chief faces growing pressure over sex charges\nIMF chief faces growing pressure over sex charges\nIMF ex-leader is released on bail in NYC\nIMF ex-leader released on bail in N.Y.C.\n=======================================\nBail issues with ex-IMF chief still to be resolved\nEx-IMF chief gets bail, to be released Friday\nNY judge orders ex-IMF chief be released from jail\n=======================================\nJudge grants bail to Strauss-Kahn - Arizona News from USA Today\nStrauss-Kahn released on $1M bail\nEx-IMF Chief Released From Rikers Island Jail\n=======================================\nFormer IMF chief Strauss-Kahn gets bail in sex assault case\nFormer IMF Chief Strauss-Kahn Gets Bail In Sex Assault Case\nEuropeans race to nominate Strauss-Kahn successor\nEurope races to claim IMF job\n=======================================\nEx-IMF chief granted bail\nBangkok Post : Strauss-Kahn wins sex case bail\nIMF chief set for release on bail in sex case\n=======================================\nKXXV-TV News Channel 25 - Central Texas News and Weather for Waco, Temple, Killeen | More legal talks on release of former IMF leader\nMore legal talks on release of former IMF leader - Forbes.com\nIMF ex-leader released on bail in N.Y.C.\n=======================================\nFormer IMF boss granted bail as he's indicted in U.S. rape case\nBangkok Post : Strauss-Kahn wins sex case bail\nStrauss-Kahn freed on $6-million bail\nIMF chief set for release on bail in sex case\n=======================================\nEx-IMF chief released from jail; plan for stay in luxury hotel nixed\nIMF chief now under house arrest\nEx-IMF Chief Gets Out Of Jail, Dons Ankle Bracelet\nIMF chief released from jail under house arrest - Forbes.com\n=======================================\nG8 leaders gather in France, eyes on Arabs, IMF head\nArab revolts, nuclear aftermath to dominate G8 summit\nG-8 leaders eye Arab world with hope and worry\n=======================================\nStrauss-Kahn believed 'Russia plotted to stop him from running for French presidency'\nStrauss-Kahn believed ‘Russia plotted to stop him from running for French presidency’\nFrench media reveals identity and rates attractiveness of ex-IMF chief’s ‘raped’ maid\n=======================================\nProsecutor: Former IMF leader Dominique Strauss-Kahn indicted\nEx-IMF chief Strauss-Kahn indicted\nProsecutor: Former IMF leader indicted\n=======================================\nIMF ex-boss Strauss-Kahn indicted in maid sex attack\nBangkok Post : Strauss-Kahn wins sex case bail\nBeleaguered former IMF chief to make new bid for bail\nNY police look for DNA in hotel carpet in IMF case - Forbes.com\nIMF chief set for release on bail in sex case\n=======================================\n'Too early' to mull new IMF chief: Japan\nIMF ex-leader is released on bail in NYC\nIMF ex-leader released on bail in N.Y.C.\n=======================================\nPRESS DIGEST - New York Times business news - May 20\nEurope may keep IMF job, developing world later-Merkel\nGermany: Europe to decide soon on IMF candidate\nPRESS DIGEST - Canada - May 18\n=======================================\nIMF chief resigns, says to fight sex charges\n<em>Strauss-Kahn</em> resigns as IMF chief\nWRAPUP 2-Strauss-Kahn resigns as IMF chief, says to prove innocence\n=======================================\nFormer IMF Chief To Get $250,000 From IMF\nEx-IMF Chief Released From Rikers Island Jail\nEx-IMF chief gets $1 mil. bail\n=======================================\nGlobal stocks recoup some ground lost over past week as Dell earnings improve sentiment\nKUSI News Weather Sports San Diego Stocks recover some lost ground on Dell earnings\nStocks recover some lost ground on Dell earnings\n=======================================\nStrauss-Kahn's New York City apartment new tourist hot spot\nStrauss-Kahn boosts New York tourism\nDominique Strauss-Kahn's NYC apartment New Tourist Hot Spot\nStrauss-Kahn's NYC apartment new tourist hot spot\n=======================================\nPoll: Hillary Clinton Leads Donald Trump by Two In Florida - Breitbart\nReuters/Ipsos Poll: Donald Trump Overtakes Hillary Clinton — Despite Altered Methodology - Breitbart\nReuters/Ipsos: Clinton’s Lead over Trump Narrows to 9 Points - Breitbart\n=======================================\nTrump Holds +20 Lead In FL Fares Best Against Hillary - Breitbart\nRubio on Trump’s Hillary ‘Bigot’ Charge: Dems Have Been Calling GOP ‘Bigoted’ for a Long Time - Breitbart\nTrump Expands Big Lead In Florida, Up In Ohio - Breitbart\n=======================================\nBreitbart News Daily: Bill’s Farewell Address to His Scandal-Plagued Foundation - Breitbart\nBreitbart News Daily: Make America Great Again - Breitbart\nBreitbart News Daily: James O’Keefe on ‘Bird-Dogging’ and ‘The Pony Express’ - Breitbart\n=======================================\nKim Jong-un Says North Korea Is Preparing to Test Long-Range Missile - The New York Times\nNorth Korea, Rebuking Trump, Says It Can Test Long-Range Missile ‘Anytime’ - The New York Times\nTrump Tells South Korea That Alliance With U.S. Is ‘Ironclad’ - The New York Times\n=======================================\nSenate Republicans Open Fight Over Obama Health Law - The New York Times\nRepublicans’ 4-Step Plan to Repeal the Affordable Care Act - The New York Times\nHouse Clears Path for Repeal of Health Law - The New York Times\n=======================================\nThe Parliamentary Tactic That Could Obliterate Obamacare - The New York Times\nRepublicans’ 4-Step Plan to Repeal the Affordable Care Act - The New York Times\nSenators Propose Giving States Option to Keep Affordable Care Act - The New York Times\n=======================================\nSenate Confirmation Hearings to Begin Without All Background Checks - The New York Times\nG.O.P. Senators Hope to Speed Trump Cabinet Confirmations - The New York Times\nMike Pompeo Is Confirmed to Lead C.I.A., as Rex Tillerson Advances - The New York Times\n=======================================\nWhat We Know and Don’t Know About the Trump-Russia Dossier - The New York Times\nTrump Received Unsubstantiated Report That Russia Had Damaging Information About Him - The New York Times\nHow a Sensational, Unverified Dossier Became a Crisis for Donald Trump - The New York Times\n=======================================\nTrump Orders Mexican Border Wall to Be Built and Plans to Block Syrian Refugees - The New York Times\nDonations to A.C.L.U. and Other Organizations Surge After Trump’s Order - The New York Times\nTrump Clashes Early With Courts, Portending Years of Legal Battles - The New York Times\n=======================================\n‘The Daily’: Making Sense of the Gorsuch Pick - The New York Times\n‘The Daily’: President Trump’s Foreign Policy Muse - The New York Times\n‘The Daily’: Trump Trumps the Super Bowl - The New York Times\n=======================================\nWhat to Watch in Congress: Confirmation Votes, Regulation Rollbacks - The New York Times\nJeff Sessions Confirmed as Attorney General, Capping Bitter Battle - The New York Times\nShutting Down Speech by Elizabeth Warren, G.O.P. Amplifies Her Message - The New York Times\n=======================================\n",
          "output_type": "stream"
        }
      ],
      "execution_count": 126
    },
    {
      "cell_type": "markdown",
      "source": "<a style='text-decoration:none;line-height:16px;display:flex;color:#5B5B62;padding:10px;justify-content:end;' href='https://deepnote.com?utm_source=created-in-deepnote-cell&projectId=902703f2-430f-48f3-ba3f-6c2fee66cf11' target=\"_blank\">\n<img alt='Created in deepnote.com' style='display:inline;max-height:16px;margin:0px;margin-right:7.5px;' src='data:image/svg+xml;base64,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' > </img>\nCreated in <span style='font-weight:600;margin-left:4px;'>Deepnote</span></a>",
      "metadata": {
        "tags": [],
        "created_in_deepnote_cell": true,
        "deepnote_cell_type": "markdown"
      }
    }
  ],
  "nbformat": 4,
  "nbformat_minor": 2,
  "metadata": {
    "orig_nbformat": 2,
    "deepnote": {
      "is_reactive": false
    },
    "deepnote_notebook_id": "b9a1643a-91a0-4f2d-a668-df2379bdd8b2",
    "deepnote_execution_queue": []
  }
}